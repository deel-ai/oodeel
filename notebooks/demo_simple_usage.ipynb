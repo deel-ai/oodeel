{
 "cells": [
  {
   "cell_type": "code",
   "execution_count": 1,
   "metadata": {},
   "outputs": [
    {
     "name": "stdout",
     "output_type": "stream",
     "text": [
      "env: TFDS_DATA_DIR=/Users/paul/scratch/tensorflow_datasets\n"
     ]
    },
    {
     "name": "stderr",
     "output_type": "stream",
     "text": [
      "2022-11-15 15:25:18.073825: I tensorflow/core/platform/cpu_feature_guard.cc:193] This TensorFlow binary is optimized with oneAPI Deep Neural Network Library (oneDNN) to use the following CPU instructions in performance-critical operations:  AVX2 FMA\n",
      "To enable them in other operations, rebuild TensorFlow with the appropriate compiler flags.\n",
      "/Users/paul/.virtualenvs/tfmetal/lib/python3.9/site-packages/tqdm/auto.py:22: TqdmWarning: IProgress not found. Please update jupyter and ipywidgets. See https://ipywidgets.readthedocs.io/en/stable/user_install.html\n",
      "  from .autonotebook import tqdm as notebook_tqdm\n"
     ]
    }
   ],
   "source": [
    "%load_ext autoreload\n",
    "%env TFDS_DATA_DIR=/Users/paul/scratch/tensorflow_datasets\n",
    "\n",
    "import sys\n",
    "sys.path.append(\"../\")\n",
    "\n",
    "import numpy as np\n",
    "from tensorflow import keras\n",
    "from oodeel.methods import MLS\n",
    "from oodeel.methods import DKNN\n",
    "import tensorflow as tf\n",
    "import matplotlib.pyplot as plt\n",
    "\n",
    "from oodeel.eval.metrics import bench_metrics, get_curve\n",
    "from oodeel.datasets import DataHandler\n",
    "\n"
   ]
  },
  {
   "cell_type": "markdown",
   "metadata": {},
   "source": [
    "## Data and model loading\n",
    "ID data: MNIST, OOD data: Fashion MNIST"
   ]
  },
  {
   "cell_type": "code",
   "execution_count": 2,
   "metadata": {},
   "outputs": [
    {
     "name": "stdout",
     "output_type": "stream",
     "text": [
      "Metal device set to: AMD Radeon Pro 5500M\n",
      "\n",
      "systemMemory: 64.00 GB\n",
      "maxCacheSize: 3.99 GB\n",
      "\n"
     ]
    }
   ],
   "source": [
    "\n",
    "model = tf.keras.models.load_model(\"../saved_models/mnist_model\")"
   ]
  },
  {
   "cell_type": "code",
   "execution_count": 3,
   "metadata": {},
   "outputs": [
    {
     "name": "stderr",
     "output_type": "stream",
     "text": [
      "2022-11-15 15:25:58.113374: W tensorflow/core/platform/cloud/google_auth_provider.cc:184] All attempts to get a Google authentication bearer token failed, returning an empty token. Retrieving token from files failed with \"NOT_FOUND: Could not locate the credentials file.\". Retrieving token from GCE failed with \"FAILED_PRECONDITION: Error executing an HTTP request: libcurl code 6 meaning 'Couldn't resolve host name', error details: Could not resolve host: metadata\".\n"
     ]
    },
    {
     "name": "stdout",
     "output_type": "stream",
     "text": [
      "\u001b[1mDownloading and preparing dataset 11.06 MiB (download: 11.06 MiB, generated: 21.00 MiB, total: 32.06 MiB) to /Users/paul/scratch/tensorflow_datasets/mnist/3.0.1...\u001b[0m\n"
     ]
    },
    {
     "name": "stderr",
     "output_type": "stream",
     "text": [
      "Dl Completed...: 100%|██████████| 4/4 [00:01<00:00,  2.73 file/s]\n"
     ]
    },
    {
     "name": "stdout",
     "output_type": "stream",
     "text": [
      "\u001b[1mDataset mnist downloaded and prepared to /Users/paul/scratch/tensorflow_datasets/mnist/3.0.1. Subsequent calls will reuse this data.\u001b[0m\n",
      "\u001b[1mDownloading and preparing dataset 29.45 MiB (download: 29.45 MiB, generated: 36.42 MiB, total: 65.87 MiB) to /Users/paul/scratch/tensorflow_datasets/fashion_mnist/3.0.1...\u001b[0m\n"
     ]
    },
    {
     "name": "stderr",
     "output_type": "stream",
     "text": [
      "Dl Completed...: 0 url [00:00, ? url/s]\n",
      "Dl Completed...:   0%|          | 0/1 [00:00<?, ? url/s]\n",
      "Dl Completed...:   0%|          | 0/2 [00:00<?, ? url/s]\n",
      "Dl Completed...:   0%|          | 0/3 [00:00<?, ? url/s]\n",
      "Dl Completed...:   0%|          | 0/4 [00:00<?, ? url/s]\n",
      "Dl Completed...:   0%|          | 0/4 [00:00<?, ? url/s]\n",
      "Dl Completed...:   0%|          | 0/4 [00:00<?, ? url/s]\n",
      "Dl Completed...:   0%|          | 0/4 [00:00<?, ? url/s]\n",
      "Dl Completed...:   0%|          | 0/4 [00:00<?, ? url/s]\n",
      "Dl Completed...:  25%|██▌       | 1/4 [00:00<00:00,  6.08 url/s]\n",
      "Dl Completed...:  25%|██▌       | 1/4 [00:00<00:00,  6.08 url/s]\n",
      "Dl Completed...:  50%|█████     | 2/4 [00:00<00:00,  6.08 url/s]\n",
      "\u001b[A\n",
      "Dl Completed...:  50%|█████     | 2/4 [00:00<00:00,  6.08 url/s]\n",
      "Dl Completed...:  50%|█████     | 2/4 [00:00<00:00,  6.08 url/s]\n",
      "Dl Completed...:  50%|█████     | 2/4 [00:00<00:00,  6.08 url/s]\n",
      "Dl Completed...:  50%|█████     | 2/4 [00:00<00:00,  6.08 url/s]\n",
      "Dl Completed...:  50%|█████     | 2/4 [00:00<00:00,  6.08 url/s]\n",
      "Dl Completed...:  50%|█████     | 2/4 [00:00<00:00,  6.08 url/s]\n",
      "Dl Completed...:  50%|█████     | 2/4 [00:00<00:00,  6.08 url/s]\n",
      "Dl Completed...:  50%|█████     | 2/4 [00:00<00:00,  6.08 url/s]\n",
      "Dl Completed...:  50%|█████     | 2/4 [00:00<00:00,  6.08 url/s]\n",
      "Dl Completed...:  50%|█████     | 2/4 [00:00<00:00,  6.08 url/s]\n",
      "Dl Completed...:  50%|█████     | 2/4 [00:00<00:00,  6.08 url/s]\n",
      "Dl Completed...:  50%|█████     | 2/4 [00:00<00:00,  6.08 url/s]\n",
      "Dl Completed...:  75%|███████▌  | 3/4 [00:00<00:00,  5.72 url/s]\n",
      "Dl Completed...:  75%|███████▌  | 3/4 [00:00<00:00,  5.72 url/s]\n",
      "Dl Completed...:  75%|███████▌  | 3/4 [00:00<00:00,  5.72 url/s]\n",
      "Dl Completed...:  75%|███████▌  | 3/4 [00:00<00:00,  5.72 url/s]\n",
      "Dl Completed...:  75%|███████▌  | 3/4 [00:00<00:00,  5.72 url/s]\n",
      "Dl Completed...:  75%|███████▌  | 3/4 [00:00<00:00,  5.72 url/s]\n",
      "Dl Completed...:  75%|███████▌  | 3/4 [00:00<00:00,  5.72 url/s]\n",
      "Dl Completed...:  75%|███████▌  | 3/4 [00:00<00:00,  5.72 url/s]\n",
      "\u001b[A\n",
      "Dl Completed...:  75%|███████▌  | 3/4 [00:00<00:00,  5.72 url/s]\n",
      "Dl Completed...:  75%|███████▌  | 3/4 [00:00<00:00,  5.72 url/s]\n",
      "Dl Completed...:  75%|███████▌  | 3/4 [00:00<00:00,  5.72 url/s]\n",
      "Dl Completed...:  75%|███████▌  | 3/4 [00:00<00:00,  5.72 url/s]\n",
      "Dl Completed...:  75%|███████▌  | 3/4 [00:00<00:00,  5.72 url/s]\n",
      "Dl Completed...:  75%|███████▌  | 3/4 [00:00<00:00,  5.72 url/s]\n",
      "Dl Completed...:  75%|███████▌  | 3/4 [00:00<00:00,  5.72 url/s]\n",
      "Dl Completed...:  75%|███████▌  | 3/4 [00:00<00:00,  5.72 url/s]\n",
      "Dl Completed...:  75%|███████▌  | 3/4 [00:00<00:00,  5.72 url/s]\n",
      "Dl Completed...:  75%|███████▌  | 3/4 [00:00<00:00,  5.72 url/s]\n",
      "Dl Completed...:  75%|███████▌  | 3/4 [00:00<00:00,  5.72 url/s]\n",
      "Dl Completed...:  75%|███████▌  | 3/4 [00:00<00:00,  5.72 url/s]\n",
      "Dl Completed...:  75%|███████▌  | 3/4 [00:00<00:00,  5.72 url/s]\n",
      "Dl Completed...:  75%|███████▌  | 3/4 [00:00<00:00,  5.72 url/s]\n",
      "Dl Completed...:  75%|███████▌  | 3/4 [00:00<00:00,  5.72 url/s]\n",
      "Dl Completed...: 100%|██████████| 4/4 [00:01<00:00,  3.55 url/s]\n",
      "Dl Completed...: 100%|██████████| 4/4 [00:01<00:00,  3.55 url/s]\n",
      "\u001b[A\n",
      "Dl Completed...: 100%|██████████| 4/4 [00:01<00:00,  3.55 url/s]\n",
      "Extraction completed...: 100%|██████████| 4/4 [00:01<00:00,  2.73 file/s]\n",
      "Dl Size...: 100%|██████████| 29/29 [00:01<00:00, 19.75 MiB/s]\n",
      "Dl Completed...: 100%|██████████| 4/4 [00:01<00:00,  2.72 url/s]\n",
      "                                                                        \r"
     ]
    },
    {
     "name": "stdout",
     "output_type": "stream",
     "text": [
      "\u001b[1mDataset fashion_mnist downloaded and prepared to /Users/paul/scratch/tensorflow_datasets/fashion_mnist/3.0.1. Subsequent calls will reuse this data.\u001b[0m\n"
     ]
    }
   ],
   "source": [
    "def normalize(x):\n",
    "    return x/255\n",
    "\n",
    "data_handler = DataHandler()\n",
    "ds1 = data_handler.load_tfds('mnist', preprocess=True, preprocessing_fun=normalize)\n",
    "ds2 = data_handler.load_tfds('fashion_mnist', preprocess=True, preprocessing_fun=normalize)\n",
    "x_id = ds1[\"test\"]\n",
    "x_ood = ds2[\"test\"]"
   ]
  },
  {
   "cell_type": "markdown",
   "metadata": {},
   "source": [
    "## Maximum Logit Score\n",
    "(A good classifier is all you need ?)\n",
    "\n",
    "Example of method that does not need ID data to compute statistics to compare against"
   ]
  },
  {
   "cell_type": "code",
   "execution_count": 4,
   "metadata": {},
   "outputs": [
    {
     "name": "stderr",
     "output_type": "stream",
     "text": [
      "2022-11-15 15:27:12.150102: W tensorflow/core/kernels/data/cache_dataset_ops.cc:856] The calling iterator did not fully read the dataset being cached. In order to avoid unexpected truncation of the dataset, the partially cached contents of the dataset  will be discarded. This can happen if you have an input pipeline similar to `dataset.cache().take(k).repeat()`. You should use `dataset.take(k).cache().repeat()` instead.\n"
     ]
    }
   ],
   "source": [
    "%autoreload 2\n",
    "\n",
    "data_handler = DataHandler()\n",
    "ds1 = data_handler.load_tfds('mnist', preprocess=True, preprocessing_fun=normalize)\n",
    "ds2 = data_handler.load_tfds('fashion_mnist', preprocess=True, preprocessing_fun=normalize)\n",
    "x_id = ds1[\"test\"]\n",
    "x_ood = ds2[\"test\"]\n",
    "\n",
    "\n",
    "x_test = data_handler.merge_tfds(x_id, x_ood, shuffle=True)"
   ]
  },
  {
   "cell_type": "code",
   "execution_count": 5,
   "metadata": {},
   "outputs": [
    {
     "name": "stdout",
     "output_type": "stream",
     "text": [
      "79/79 [==============================] - 3s 6ms/step\n"
     ]
    }
   ],
   "source": [
    "\n",
    "%autoreload 2\n",
    "\n",
    "oodmodel = MLS()\n",
    "oodmodel.fit(model)\n",
    "scores = oodmodel.score(x_test)"
   ]
  },
  {
   "cell_type": "markdown",
   "metadata": {},
   "source": [
    "Score visualization"
   ]
  },
  {
   "cell_type": "code",
   "execution_count": 6,
   "metadata": {},
   "outputs": [
    {
     "name": "stdout",
     "output_type": "stream",
     "text": [
      "40/40 [==============================] - 0s 9ms/step\n",
      "40/40 [==============================] - 0s 6ms/step\n"
     ]
    },
    {
     "data": {
      "image/png": "[encoded data removed]",
      "text/plain": [
       "<Figure size 700x500 with 1 Axes>"
      ]
     },
     "metadata": {},
     "output_type": "display_data"
    }
   ],
   "source": [
    "%autoreload 2\n",
    "\n",
    "plt.figure(figsize=(7,5))\n",
    "\n",
    "scores_id, scores_ood = oodmodel.score([x_id, x_ood])\n",
    "plt.hist((scores_ood, scores_id), bins=10, color=(\"blue\", \"orange\"), label=(\"ood\", \"id\"), density=True)\n",
    "plt.legend()\n",
    "plt.show()"
   ]
  },
  {
   "cell_type": "markdown",
   "metadata": {},
   "source": [
    "## Deep KNN\n",
    "Example of method that needs ID data to compute statistics to compare against"
   ]
  },
  {
   "cell_type": "code",
   "execution_count": 7,
   "metadata": {},
   "outputs": [
    {
     "name": "stderr",
     "output_type": "stream",
     "text": [
      "2022-11-15 15:27:17.426319: W tensorflow/core/kernels/data/cache_dataset_ops.cc:856] The calling iterator did not fully read the dataset being cached. In order to avoid unexpected truncation of the dataset, the partially cached contents of the dataset  will be discarded. This can happen if you have an input pipeline similar to `dataset.cache().take(k).repeat()`. You should use `dataset.take(k).cache().repeat()` instead.\n"
     ]
    }
   ],
   "source": [
    "data_handler = DataHandler()\n",
    "ds1 = data_handler.load_tfds('mnist', preprocess=True, preprocessing_fun=normalize)\n",
    "ds2 = data_handler.load_tfds('fashion_mnist', preprocess=True, preprocessing_fun=normalize)\n",
    "x_id = ds1[\"test\"]\n",
    "x_ood = ds2[\"test\"]\n",
    "x_train = ds1[\"train\"]\n",
    "\n",
    "\n",
    "x_test = data_handler.merge_tfds(x_id.take(1000), x_ood.take(1000), shuffle='True')"
   ]
  },
  {
   "cell_type": "code",
   "execution_count": 8,
   "metadata": {},
   "outputs": [
    {
     "name": "stderr",
     "output_type": "stream",
     "text": [
      "2022-11-15 15:27:17.602096: W tensorflow/core/kernels/data/cache_dataset_ops.cc:856] The calling iterator did not fully read the dataset being cached. In order to avoid unexpected truncation of the dataset, the partially cached contents of the dataset  will be discarded. This can happen if you have an input pipeline similar to `dataset.cache().take(k).repeat()`. You should use `dataset.take(k).cache().repeat()` instead.\n"
     ]
    },
    {
     "name": "stdout",
     "output_type": "stream",
     "text": [
      "40/40 [==============================] - 1s 10ms/step\n"
     ]
    },
    {
     "name": "stderr",
     "output_type": "stream",
     "text": [
      "2022-11-15 15:27:18.107662: W tensorflow/core/kernels/data/cache_dataset_ops.cc:856] The calling iterator did not fully read the dataset being cached. In order to avoid unexpected truncation of the dataset, the partially cached contents of the dataset  will be discarded. This can happen if you have an input pipeline similar to `dataset.cache().take(k).repeat()`. You should use `dataset.take(k).cache().repeat()` instead.\n",
      "2022-11-15 15:27:18.331420: W tensorflow/core/kernels/data/cache_dataset_ops.cc:856] The calling iterator did not fully read the dataset being cached. In order to avoid unexpected truncation of the dataset, the partially cached contents of the dataset  will be discarded. This can happen if you have an input pipeline similar to `dataset.cache().take(k).repeat()`. You should use `dataset.take(k).cache().repeat()` instead.\n",
      "2022-11-15 15:27:18.385824: W tensorflow/core/kernels/data/cache_dataset_ops.cc:856] The calling iterator did not fully read the dataset being cached. In order to avoid unexpected truncation of the dataset, the partially cached contents of the dataset  will be discarded. This can happen if you have an input pipeline similar to `dataset.cache().take(k).repeat()`. You should use `dataset.take(k).cache().repeat()` instead.\n",
      "2022-11-15 15:27:18.493216: W tensorflow/core/kernels/data/cache_dataset_ops.cc:856] The calling iterator did not fully read the dataset being cached. In order to avoid unexpected truncation of the dataset, the partially cached contents of the dataset  will be discarded. This can happen if you have an input pipeline similar to `dataset.cache().take(k).repeat()`. You should use `dataset.take(k).cache().repeat()` instead.\n"
     ]
    },
    {
     "name": "stdout",
     "output_type": "stream",
     "text": [
      "1/8 [==>...........................] - ETA: 1s"
     ]
    },
    {
     "name": "stderr",
     "output_type": "stream",
     "text": [
      "2022-11-15 15:27:18.553500: W tensorflow/core/kernels/data/cache_dataset_ops.cc:856] The calling iterator did not fully read the dataset being cached. In order to avoid unexpected truncation of the dataset, the partially cached contents of the dataset  will be discarded. This can happen if you have an input pipeline similar to `dataset.cache().take(k).repeat()`. You should use `dataset.take(k).cache().repeat()` instead.\n"
     ]
    },
    {
     "name": "stdout",
     "output_type": "stream",
     "text": [
      "8/8 [==============================] - 0s 39ms/step\n"
     ]
    }
   ],
   "source": [
    "%autoreload 2\n",
    "oodmodel = DKNN()\n",
    "oodmodel.fit(model, x_train.take(10000))\n",
    "scores = oodmodel.score(x_test)"
   ]
  },
  {
   "cell_type": "markdown",
   "metadata": {},
   "source": [
    "Score visualization"
   ]
  },
  {
   "cell_type": "code",
   "execution_count": 21,
   "metadata": {},
   "outputs": [
    {
     "ename": "AssertionError",
     "evalue": "Inputs must be tf.data.Dataset, or a tuple of np.ndarray/tf.Tensor",
     "output_type": "error",
     "traceback": [
      "\u001b[0;31m---------------------------------------------------------------------------\u001b[0m",
      "\u001b[0;31mAssertionError\u001b[0m                            Traceback (most recent call last)",
      "Cell \u001b[0;32mIn [21], line 7\u001b[0m\n\u001b[1;32m      2\u001b[0m plt\u001b[39m.\u001b[39mfigure(figsize\u001b[39m=\u001b[39m(\u001b[39m8\u001b[39m,\u001b[39m5\u001b[39m))\n\u001b[1;32m      5\u001b[0m \u001b[39m#x_id, y_id = data_handler.convert_to_numpy(x_id)\u001b[39;00m\n\u001b[1;32m      6\u001b[0m \u001b[39m#x_ood, y_ood = data_handler.convert_to_numpy(x_ood)\u001b[39;00m\n\u001b[0;32m----> 7\u001b[0m scores_id, scores_ood \u001b[39m=\u001b[39m oodmodel\u001b[39m.\u001b[39mscore([x_id[:\u001b[39m1000\u001b[39m], x_ood[:\u001b[39m1000\u001b[39m]])\n\u001b[1;32m      8\u001b[0m plt\u001b[39m.\u001b[39mhist((scores_ood, scores_id), bins\u001b[39m=\u001b[39m\u001b[39m30\u001b[39m, color\u001b[39m=\u001b[39m(\u001b[39m\"\u001b[39m\u001b[39mblue\u001b[39m\u001b[39m\"\u001b[39m, \u001b[39m\"\u001b[39m\u001b[39morange\u001b[39m\u001b[39m\"\u001b[39m), label\u001b[39m=\u001b[39m(\u001b[39m\"\u001b[39m\u001b[39mood\u001b[39m\u001b[39m\"\u001b[39m, \u001b[39m\"\u001b[39m\u001b[39mid\u001b[39m\u001b[39m\"\u001b[39m), density\u001b[39m=\u001b[39m\u001b[39mTrue\u001b[39;00m)\n\u001b[1;32m      9\u001b[0m plt\u001b[39m.\u001b[39mlegend()\n",
      "File \u001b[0;32m~/workspace/oodeel/notebooks/../oodeel/methods/base.py:161\u001b[0m, in \u001b[0;36mOODModel.score\u001b[0;34m(self, inputs, outputs)\u001b[0m\n\u001b[1;32m    158\u001b[0m scores_list \u001b[39m=\u001b[39m []\n\u001b[1;32m    159\u001b[0m \u001b[39mfor\u001b[39;00m \u001b[39minput\u001b[39m \u001b[39min\u001b[39;00m inputs:\n\u001b[1;32m    160\u001b[0m     scores \u001b[39m=\u001b[39m (\n\u001b[0;32m--> 161\u001b[0m         \u001b[39mself\u001b[39;49m\u001b[39m.\u001b[39;49m_score_tensor(\u001b[39minput\u001b[39;49m)\n\u001b[1;32m    162\u001b[0m         \u001b[39mif\u001b[39;00m outputs \u001b[39mis\u001b[39;00m \u001b[39mNone\u001b[39;00m\n\u001b[1;32m    163\u001b[0m         \u001b[39melse\u001b[39;00m \u001b[39mself\u001b[39m\u001b[39m.\u001b[39m_score_tensor(\u001b[39minput\u001b[39m, outputs)\n\u001b[1;32m    164\u001b[0m     )\n\u001b[1;32m    165\u001b[0m     scores_list\u001b[39m.\u001b[39mappend(scores)\n\u001b[1;32m    166\u001b[0m \u001b[39mreturn\u001b[39;00m scores_list\n",
      "File \u001b[0;32m~/workspace/oodeel/notebooks/../oodeel/methods/odin.py:55\u001b[0m, in \u001b[0;36mODIN._score_tensor\u001b[0;34m(self, inputs)\u001b[0m\n\u001b[1;32m     44\u001b[0m \u001b[39m\"\"\"\u001b[39;00m\n\u001b[1;32m     45\u001b[0m \u001b[39mComputes an OOD score for input samples \"inputs\" based on\u001b[39;00m\n\u001b[1;32m     46\u001b[0m \u001b[39mthe distance to nearest neighbors in the feature space of self.model\u001b[39;00m\n\u001b[0;32m   (...)\u001b[0m\n\u001b[1;32m     52\u001b[0m \u001b[39m    scores\u001b[39;00m\n\u001b[1;32m     53\u001b[0m \u001b[39m\"\"\"\u001b[39;00m\n\u001b[1;32m     54\u001b[0m \u001b[39massert\u001b[39;00m \u001b[39mself\u001b[39m\u001b[39m.\u001b[39mfeature_extractor \u001b[39mis\u001b[39;00m \u001b[39mnot\u001b[39;00m \u001b[39mNone\u001b[39;00m, \u001b[39m\"\u001b[39m\u001b[39mCall .fit() before .score()\u001b[39m\u001b[39m\"\u001b[39m\n\u001b[0;32m---> 55\u001b[0m grads \u001b[39m=\u001b[39m \u001b[39mself\u001b[39;49m\u001b[39m.\u001b[39;49mfeature_extractor\u001b[39m.\u001b[39;49mgradient_max(inputs)\n\u001b[1;32m     56\u001b[0m inputs \u001b[39m=\u001b[39m inputs[\u001b[39m0\u001b[39m] \u001b[39m-\u001b[39m \u001b[39mself\u001b[39m\u001b[39m.\u001b[39mnoise \u001b[39m*\u001b[39m np\u001b[39m.\u001b[39msign(\u001b[39m-\u001b[39mgrads)\n\u001b[1;32m     57\u001b[0m pred \u001b[39m=\u001b[39m \u001b[39mself\u001b[39m\u001b[39m.\u001b[39mfeature_extractor(inputs)\n",
      "File \u001b[0;32m~/workspace/oodeel/notebooks/../oodeel/models/feature_extractor.py:143\u001b[0m, in \u001b[0;36mKerasFeatureExtractor.gradient_max\u001b[0;34m(self, inputs)\u001b[0m\n\u001b[1;32m    130\u001b[0m \u001b[39mdef\u001b[39;00m \u001b[39mgradient_max\u001b[39m(\n\u001b[1;32m    131\u001b[0m     \u001b[39mself\u001b[39m, inputs: Union[tf\u001b[39m.\u001b[39mdata\u001b[39m.\u001b[39mDataset, Tuple[tf\u001b[39m.\u001b[39mTensor], Tuple[np\u001b[39m.\u001b[39mndarray]]\n\u001b[1;32m    132\u001b[0m ) \u001b[39m-\u001b[39m\u001b[39m>\u001b[39m tf\u001b[39m.\u001b[39mTensor:\n\u001b[1;32m    133\u001b[0m     \u001b[39m\"\"\"\u001b[39;00m\n\u001b[1;32m    134\u001b[0m \u001b[39m    Returns the gradient wrt the dimension corresponding to the prediction. Applies after a softmax or on logits.\u001b[39;00m\n\u001b[1;32m    135\u001b[0m \u001b[39m    TODO make this method more general: gradients wrt an arbitrary neuron\u001b[39;00m\n\u001b[0;32m   (...)\u001b[0m\n\u001b[1;32m    141\u001b[0m \u001b[39m        _description_\u001b[39;00m\n\u001b[1;32m    142\u001b[0m \u001b[39m    \"\"\"\u001b[39;00m\n\u001b[0;32m--> 143\u001b[0m     \u001b[39massert\u001b[39;00m \u001b[39misinstance\u001b[39m(inputs, \u001b[39mtuple\u001b[39m) \u001b[39mor\u001b[39;00m \u001b[39misinstance\u001b[39m(\n\u001b[1;32m    144\u001b[0m         inputs, tf\u001b[39m.\u001b[39mdata\u001b[39m.\u001b[39mDataset\n\u001b[1;32m    145\u001b[0m     ), \u001b[39m\"\u001b[39m\u001b[39mInputs must be tf.data.Dataset, or a tuple of np.ndarray/tf.Tensor\u001b[39m\u001b[39m\"\u001b[39m\n\u001b[1;32m    147\u001b[0m     gradients \u001b[39m=\u001b[39m \u001b[39mNone\u001b[39;00m\n\u001b[1;32m    148\u001b[0m     batch_dataset \u001b[39m=\u001b[39m batch_tensor(inputs, \u001b[39mself\u001b[39m\u001b[39m.\u001b[39mbatch_size, one_hot_encode\u001b[39m=\u001b[39m\u001b[39mTrue\u001b[39;00m)\n",
      "\u001b[0;31mAssertionError\u001b[0m: Inputs must be tf.data.Dataset, or a tuple of np.ndarray/tf.Tensor"
     ]
    },
    {
     "data": {
      "text/plain": [
       "<Figure size 800x500 with 0 Axes>"
      ]
     },
     "metadata": {},
     "output_type": "display_data"
    }
   ],
   "source": [
    "%autoreload 2\n",
    "plt.figure(figsize=(8,5))\n",
    "\n",
    "\n",
    "#x_id, y_id = data_handler.convert_to_numpy(x_id)\n",
    "#x_ood, y_ood = data_handler.convert_to_numpy(x_ood)\n",
    "scores_id, scores_ood = oodmodel.score([x_id[:1000], x_ood[:1000]])\n",
    "plt.hist((scores_ood, scores_id), bins=30, color=(\"blue\", \"orange\"), label=(\"ood\", \"id\"), density=True)\n",
    "plt.legend()\n",
    "plt.show()"
   ]
  },
  {
   "cell_type": "code",
   "execution_count": 30,
   "metadata": {},
   "outputs": [
    {
     "data": {
      "image/png": "[encoded data removed]",
      "text/plain": [
       "<Figure size 800x500 with 1 Axes>"
      ]
     },
     "metadata": {},
     "output_type": "display_data"
    }
   ],
   "source": [
    "%autoreload 2\n",
    "from oodeel.methods import ODIN\n",
    "\n",
    "oodmodel = ODIN()\n",
    "oodmodel.fit(model)\n",
    "\n",
    "\n",
    "\n",
    "plt.figure(figsize=(8,5))\n",
    "\n",
    "\n",
    "#x_id, y_id = data_handler.convert_to_numpy(x_id)\n",
    "#x_ood, y_ood = data_handler.convert_to_numpy(x_ood)\n",
    "scores_id = oodmodel.score((x_id[:1000], y_id[:1000]))\n",
    "scores_ood = oodmodel.score((x_ood[:1000], y_ood[:1000]))\n",
    "plt.hist((scores_ood, scores_id), bins=30, color=(\"blue\", \"orange\"), label=(\"ood\", \"id\"), density=True)\n",
    "plt.legend()\n",
    "plt.show()"
   ]
  },
  {
   "cell_type": "code",
   "execution_count": 31,
   "metadata": {},
   "outputs": [
    {
     "data": {
      "text/plain": [
       "(1000,)"
      ]
     },
     "execution_count": 31,
     "metadata": {},
     "output_type": "execute_result"
    }
   ],
   "source": [
    "scores_ood.shape"
   ]
  },
  {
   "cell_type": "code",
   "execution_count": null,
   "metadata": {},
   "outputs": [],
   "source": []
  }
 ],
 "metadata": {
  "kernelspec": {
   "display_name": "Python 3.9.2 ('tfmetal')",
   "language": "python",
   "name": "python3"
  },
  "language_info": {
   "codemirror_mode": {
    "name": "ipython",
    "version": 3
   },
   "file_extension": ".py",
   "mimetype": "text/x-python",
   "name": "python",
   "nbconvert_exporter": "python",
   "pygments_lexer": "ipython3",
   "version": "3.9.15"
  },
  "orig_nbformat": 4,
  "vscode": {
   "interpreter": {
    "hash": "dada21ee7726b34311237058025d0293bf4743ff9612a3722201b24280433f0a"
   }
  }
 },
 "nbformat": 4,
 "nbformat_minor": 2
}
