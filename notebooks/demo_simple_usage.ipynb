{
 "cells": [
  {
   "cell_type": "code",
   "execution_count": null,
   "metadata": {},
   "outputs": [],
   "source": [
    "%load_ext autoreload\n",
    "%env TFDS_DATA_DIR=/Users/paul/scratch/tensorflow_datasets\n",
    "\n",
    "import sys\n",
    "sys.path.append(\"../\")\n",
    "\n",
    "import numpy as np\n",
    "from tensorflow import keras\n",
    "from oodeel.methods import MLS\n",
    "from oodeel.methods import DKNN\n",
    "import tensorflow as tf\n",
    "import matplotlib.pyplot as plt\n",
    "\n",
    "from oodeel.eval.metrics import bench_metrics, get_curve\n",
    "from oodeel.datasets import DataHandler\n",
    "\n",
    "def normalize(x):\n",
    "    return x/255\n"
   ]
  },
  {
   "cell_type": "markdown",
   "metadata": {},
   "source": [
    "## Data and model loading\n",
    "ID data: MNIST, OOD data: Fashion MNIST"
   ]
  },
  {
   "cell_type": "code",
   "execution_count": null,
   "metadata": {},
   "outputs": [],
   "source": [
    "\n",
    "model = tf.keras.models.load_model(\"../saved_models/mnist_model\")"
   ]
  },
  {
   "cell_type": "code",
   "execution_count": null,
   "metadata": {},
   "outputs": [],
   "source": [
    "\n",
    "\n",
    "data_handler = DataHandler()\n",
    "ds1 = data_handler.load_tfds('mnist', preprocess=True, preprocessing_fun=normalize)\n",
    "ds2 = data_handler.load_tfds('fashion_mnist', preprocess=True, preprocessing_fun=normalize)\n",
    "x_id = ds1[\"test\"]\n",
    "x_ood = ds2[\"test\"]"
   ]
  },
  {
   "cell_type": "markdown",
   "metadata": {},
   "source": [
    "## Maximum Logit Score\n",
    "(A good classifier is all you need ?)\n",
    "\n",
    "Example of method that does not need ID data to compute statistics to compare against"
   ]
  },
  {
   "cell_type": "code",
   "execution_count": null,
   "metadata": {},
   "outputs": [],
   "source": [
    "%autoreload 2\n",
    "\n",
    "data_handler = DataHandler()\n",
    "ds1 = data_handler.load_tfds('mnist', preprocess=True, preprocessing_fun=normalize)\n",
    "ds2 = data_handler.load_tfds('fashion_mnist', preprocess=True, preprocessing_fun=normalize)\n",
    "x_id = ds1[\"test\"]\n",
    "x_ood = ds2[\"test\"]\n",
    "\n",
    "\n",
    "x_test = data_handler.merge_tfds(x_id, x_ood, shuffle=True).batch(100)"
   ]
  },
  {
   "cell_type": "code",
   "execution_count": null,
   "metadata": {},
   "outputs": [],
   "source": [
    "\n",
    "%autoreload 2\n",
    "\n",
    "oodmodel = MLS()\n",
    "oodmodel.fit(model)\n",
    "scores = oodmodel.score(x_test)"
   ]
  },
  {
   "cell_type": "markdown",
   "metadata": {},
   "source": [
    "Score visualization"
   ]
  },
  {
   "cell_type": "code",
   "execution_count": null,
   "metadata": {},
   "outputs": [],
   "source": [
    "%autoreload 2\n",
    "\n",
    "plt.figure(figsize=(7,5))\n",
    "\n",
    "scores_id = oodmodel.score(x_id.batch(100))\n",
    "scores_ood = oodmodel.score(x_ood.batch(100))\n",
    "plt.hist((scores_ood, scores_id), bins=10, color=(\"blue\", \"orange\"), label=(\"ood\", \"id\"), density=True)\n",
    "plt.legend()\n",
    "plt.show()"
   ]
  },
  {
   "cell_type": "markdown",
   "metadata": {},
   "source": [
    "## Deep KNN\n",
    "Example of method that needs ID data to compute statistics to compare against"
   ]
  },
  {
   "cell_type": "code",
   "execution_count": null,
   "metadata": {},
   "outputs": [],
   "source": [
    "data_handler = DataHandler()\n",
    "ds1 = data_handler.load_tfds('mnist', preprocess=True, preprocessing_fun=normalize)\n",
    "ds2 = data_handler.load_tfds('fashion_mnist', preprocess=True, preprocessing_fun=normalize)\n",
    "x_id = ds1[\"test\"]\n",
    "x_ood = ds2[\"test\"]\n",
    "x_train = ds1[\"train\"]\n",
    "\n",
    "\n",
    "x_test = data_handler.merge_tfds(x_id.take(1000), x_ood.take(1000), shuffle='True').batch(100)\n"
   ]
  },
  {
   "cell_type": "code",
   "execution_count": null,
   "metadata": {},
   "outputs": [],
   "source": [
    "%autoreload 2\n",
    "oodmodel = DKNN()\n",
    "oodmodel.fit(model, x_train.take(10000).batch(100))\n",
    "scores = oodmodel.score(x_test)"
   ]
  },
  {
   "cell_type": "markdown",
   "metadata": {},
   "source": [
    "Score visualization"
   ]
  },
  {
   "cell_type": "code",
   "execution_count": null,
   "metadata": {},
   "outputs": [],
   "source": [
    "%autoreload 2\n",
    "plt.figure(figsize=(8,5))\n",
    "\n",
    "\n",
    "#x_id, y_id = data_handler.convert_to_numpy(x_id)\n",
    "#x_ood, y_ood = data_handler.convert_to_numpy(x_ood)\n",
    "scores_id = oodmodel.score(x_id.take(1000).batch(100))\n",
    "scores_ood = oodmodel.score(x_ood.take(1000).batch(100))\n",
    "plt.hist((scores_ood, scores_id), bins=30, color=(\"blue\", \"orange\"), label=(\"ood\", \"id\"), density=True)\n",
    "plt.legend()\n",
    "plt.show()"
   ]
  },
  {
   "cell_type": "code",
   "execution_count": null,
   "metadata": {},
   "outputs": [],
   "source": [
    "%autoreload 2\n",
    "from oodeel.methods import ODIN\n",
    "\n",
    "data_handler = DataHandler()\n",
    "ds1 = data_handler.load_tfds('mnist', preprocess=True, preprocessing_fun=normalize)\n",
    "ds2 = data_handler.load_tfds('fashion_mnist', preprocess=True, preprocessing_fun=normalize)\n",
    "x_id = ds1[\"test\"]\n",
    "x_ood = ds2[\"test\"]\n",
    "x_train = ds1[\"train\"]\n",
    "\n",
    "\n",
    "oodmodel = ODIN()\n",
    "oodmodel.fit(model)\n",
    "\n",
    "\n",
    "\n",
    "plt.figure(figsize=(8,5))\n",
    "#x_idn, y_id = data_handler.convert_to_numpy(x_id)\n",
    "#x_oodn, y_ood = data_handler.convert_to_numpy(x_ood)\n",
    "scores_id = oodmodel.score(x_id.batch(100))\n",
    "scores_ood = oodmodel.score(x_ood.batch(100))\n",
    "plt.hist((scores_ood, scores_id), bins=30, color=(\"blue\", \"orange\"), label=(\"ood\", \"id\"), density=True)\n",
    "plt.legend()\n",
    "plt.show()"
   ]
  },
  {
   "cell_type": "code",
   "execution_count": null,
   "metadata": {},
   "outputs": [],
   "source": []
  }
 ],
 "metadata": {
  "kernelspec": {
   "display_name": "Python 3.9.2 ('tfmetal')",
   "language": "python",
   "name": "python3"
  },
  "language_info": {
   "codemirror_mode": {
    "name": "ipython",
    "version": 3
   },
   "file_extension": ".py",
   "mimetype": "text/x-python",
   "name": "python",
   "nbconvert_exporter": "python",
   "pygments_lexer": "ipython3",
   "version": "3.9.16 (main, Dec  7 2022, 10:16:11) \n[Clang 14.0.0 (clang-1400.0.29.202)]"
  },
  "orig_nbformat": 4,
  "vscode": {
   "interpreter": {
    "hash": "dada21ee7726b34311237058025d0293bf4743ff9612a3722201b24280433f0a"
   }
  }
 },
 "nbformat": 4,
 "nbformat_minor": 2
}
