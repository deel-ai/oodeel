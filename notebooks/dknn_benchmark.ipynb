{
 "cells": [
  {
   "attachments": {},
   "cell_type": "markdown",
   "metadata": {},
   "source": [
    "## Imports"
   ]
  },
  {
   "cell_type": "code",
   "execution_count": 23,
   "metadata": {},
   "outputs": [
    {
     "name": "stdout",
     "output_type": "stream",
     "text": [
      "The autoreload extension is already loaded. To reload it, use:\n",
      "  %reload_ext autoreload\n",
      "env: TFDS_DATA_DIR=/datasets/tensorflow_datasets\n",
      "Using CUDA 11.2 at /usr/local/cuda-11.2.\n",
      "Using CUDNN 8.1.0 at /usr/local/cudnn/11.2-v8.1.0\n"
     ]
    }
   ],
   "source": [
    "%load_ext autoreload\n",
    "%autoreload 2\n",
    "\n",
    "%env TFDS_DATA_DIR=/datasets/tensorflow_datasets\n",
    "!set_cuda_version 11.2 8.1.0\n",
    "\n",
    "import warnings\n",
    "warnings.filterwarnings(\"ignore\")\n",
    "\n",
    "import sys\n",
    "sys.path.append(\"../\")\n",
    "\n",
    "import numpy as np\n",
    "from tensorflow import keras\n",
    "from tensorflow.keras import layers\n",
    "from oodeel.methods import DKNN\n",
    "import tensorflow as tf\n",
    "import matplotlib.pyplot as plt\n",
    "import pandas as pd\n",
    "from sklearn.metrics import *\n",
    "\n",
    "from oodeel.eval.metrics import bench_metrics, get_curve\n",
    "from oodeel.datasets import DataHandler\n"
   ]
  },
  {
   "attachments": {},
   "cell_type": "markdown",
   "metadata": {},
   "source": [
    "> **Note**: In `oodeel.methods.odin`, the import `from keras.utils.generic_utils import get_custom_objects` should be replaced with `from keras.utils import get_custom_objects`\n"
   ]
  },
  {
   "attachments": {},
   "cell_type": "markdown",
   "metadata": {},
   "source": [
    "## MNIST (0-4) vs MNIST (5-9)"
   ]
  },
  {
   "attachments": {},
   "cell_type": "markdown",
   "metadata": {},
   "source": [
    "### Data and model loading\n",
    "ID data: MNIST (0-4), OOD data: MNIST (5-9)"
   ]
  },
  {
   "cell_type": "code",
   "execution_count": 24,
   "metadata": {},
   "outputs": [],
   "source": [
    "data_handler = DataHandler()\n",
    "normalize = lambda x: x / 255\n",
    "mnist_ds = data_handler.load_tfds('mnist', preprocess=True, preprocessing_fun=normalize)\n",
    "\n",
    "# train / test set\n",
    "x_train, _ = data_handler.filter_tfds(mnist_ds['train'], inc_labels=list(range(5)))\n",
    "x_test, x_ood = data_handler.filter_tfds(mnist_ds['test'], inc_labels=list(range(5)))\n",
    "\n",
    "# id / ood set\n",
    "x_id = x_test"
   ]
  },
  {
   "cell_type": "code",
   "execution_count": 25,
   "metadata": {},
   "outputs": [],
   "source": [
    "load = True\n",
    "checkpoint_path = '../saved_models/mnist_5'\n",
    "\n",
    "if load:\n",
    "    model = tf.keras.models.load_model(checkpoint_path)\n",
    "else:\n",
    "    # define model\n",
    "    num_classes = 5\n",
    "    input_shape = (28, 28, 1)\n",
    "\n",
    "    model = keras.Sequential(\n",
    "        [\n",
    "            keras.Input(shape=input_shape),\n",
    "            layers.Conv2D(32, kernel_size=(3, 3), activation=\"relu\"),\n",
    "            layers.MaxPooling2D(pool_size=(2, 2)),\n",
    "            layers.Conv2D(64, kernel_size=(3, 3), activation=\"relu\"),\n",
    "            layers.MaxPooling2D(pool_size=(2, 2)),\n",
    "            layers.Flatten(),\n",
    "            layers.Dropout(0.5),\n",
    "            layers.Dense(num_classes, activation=\"softmax\"),\n",
    "        ]\n",
    "    )\n",
    "    model.summary()\n",
    "\n",
    "    # train model\n",
    "    batch_size = 128\n",
    "    epochs = 15\n",
    "\n",
    "    model.compile(loss=\"sparse_categorical_crossentropy\", optimizer=\"adam\", metrics=[\"accuracy\"])\n",
    "    model.fit(x_train.batch(batch_size), validation_data=x_test.batch(batch_size), epochs=epochs)\n",
    "    model.save(checkpoint_path)"
   ]
  },
  {
   "attachments": {},
   "cell_type": "markdown",
   "metadata": {},
   "source": [
    "### DKNN score"
   ]
  },
  {
   "cell_type": "code",
   "execution_count": 26,
   "metadata": {},
   "outputs": [
    {
     "name": "stdout",
     "output_type": "stream",
     "text": [
      "auroc            0.974103\n",
      "fpr95tpr         0.118000\n",
      "roc_auc_score    0.974092\n",
      "Name: mnist-0-4-vs-5-10, dtype: float64\n"
     ]
    },
    {
     "data": {
      "image/png": "[encoded data removed]",
      "text/plain": [
       "<Figure size 900x300 with 2 Axes>"
      ]
     },
     "metadata": {},
     "output_type": "display_data"
    }
   ],
   "source": [
    "oodmodel = DKNN(nearest=50)\n",
    "oodmodel.fit(model, x_train.take(10000))\n",
    "scores_id, scores_ood = oodmodel.score([x_id.take(1000), x_ood.take(1000)])\n",
    "\n",
    "# auroc / fpr95\n",
    "scores = np.concatenate([scores_id, scores_ood])\n",
    "labels= np.array([0] * len(scores_id) + [1] * len(scores_ood))\n",
    "fpr, tpr = get_curve(scores, labels)\n",
    "metrics = bench_metrics(\n",
    "    scores, labels,\n",
    "    metrics=[\"auroc\", \"fpr95tpr\", roc_auc_score],\n",
    ")\n",
    "metrics_first_vs_last = pd.Series(metrics, name='mnist-0-4-vs-5-10')\n",
    "print(metrics_first_vs_last)\n",
    "\n",
    "# plot hists / roc\n",
    "plt.figure(figsize=(9,3))\n",
    "plt.subplot(121)\n",
    "plt.hist((scores_ood, scores_id), bins=30, color=(\"blue\", \"orange\"), label=(\"ood\", \"id\"), density=True)\n",
    "plt.legend()\n",
    "plt.subplot(122)\n",
    "plt.plot(fpr, tpr)\n",
    "plt.show()"
   ]
  },
  {
   "attachments": {},
   "cell_type": "markdown",
   "metadata": {},
   "source": [
    "## MNIST vs Fashion MNIST"
   ]
  },
  {
   "attachments": {},
   "cell_type": "markdown",
   "metadata": {},
   "source": [
    "\n",
    "### Data and model loading\n",
    "ID data: MNIST, OOD data: Fashion MNIST"
   ]
  },
  {
   "cell_type": "code",
   "execution_count": 27,
   "metadata": {},
   "outputs": [
    {
     "name": "stderr",
     "output_type": "stream",
     "text": [
      "2023-02-03 21:33:08.993784: W tensorflow/core/kernels/data/cache_dataset_ops.cc:856] The calling iterator did not fully read the dataset being cached. In order to avoid unexpected truncation of the dataset, the partially cached contents of the dataset  will be discarded. This can happen if you have an input pipeline similar to `dataset.cache().take(k).repeat()`. You should use `dataset.take(k).cache().repeat()` instead.\n"
     ]
    }
   ],
   "source": [
    "data_handler = DataHandler()\n",
    "normalize = lambda x: x / 255\n",
    "ds1 = data_handler.load_tfds('mnist', preprocess=True, preprocessing_fun=normalize)\n",
    "ds2 = data_handler.load_tfds('fashion_mnist', preprocess=True, preprocessing_fun=normalize)\n",
    "\n",
    "# train / test set\n",
    "x_train, x_test = ds1['train'], ds1['test']\n",
    "# id / ood set\n",
    "x_id, x_ood = ds1[\"test\"], ds2[\"test\"]\n",
    "x_test_ood = data_handler.merge_tfds(x_id.take(1000), x_ood.take(1000), shuffle='True')"
   ]
  },
  {
   "cell_type": "code",
   "execution_count": 28,
   "metadata": {},
   "outputs": [],
   "source": [
    "load = True\n",
    "checkpoint_path = '../saved_models/mnist_10'\n",
    "\n",
    "if load:\n",
    "    model = tf.keras.models.load_model(checkpoint_path)\n",
    "else:\n",
    "    # define model\n",
    "    num_classes = 10\n",
    "    input_shape = (28, 28, 1)\n",
    "\n",
    "    model = keras.Sequential(\n",
    "        [\n",
    "            keras.Input(shape=input_shape),\n",
    "            layers.Conv2D(32, kernel_size=(3, 3), activation=\"relu\"),\n",
    "            layers.MaxPooling2D(pool_size=(2, 2)),\n",
    "            layers.Conv2D(64, kernel_size=(3, 3), activation=\"relu\"),\n",
    "            layers.MaxPooling2D(pool_size=(2, 2)),\n",
    "            layers.Flatten(),\n",
    "            layers.Dropout(0.5),\n",
    "            layers.Dense(num_classes, activation=\"softmax\"),\n",
    "        ]\n",
    "    )\n",
    "    model.summary()\n",
    "\n",
    "    # train model\n",
    "    batch_size = 128\n",
    "    epochs = 15\n",
    "\n",
    "    model.compile(loss=\"sparse_categorical_crossentropy\", optimizer=\"adam\", metrics=[\"accuracy\"])\n",
    "    model.fit(x_train.batch(batch_size), validation_data=x_test.batch(batch_size), epochs=epochs)\n",
    "    model.save(checkpoint_path)"
   ]
  },
  {
   "attachments": {},
   "cell_type": "markdown",
   "metadata": {},
   "source": [
    "### DKNN score"
   ]
  },
  {
   "cell_type": "code",
   "execution_count": 29,
   "metadata": {},
   "outputs": [
    {
     "name": "stderr",
     "output_type": "stream",
     "text": [
      "2023-02-03 21:33:09.699849: W tensorflow/core/kernels/data/cache_dataset_ops.cc:856] The calling iterator did not fully read the dataset being cached. In order to avoid unexpected truncation of the dataset, the partially cached contents of the dataset  will be discarded. This can happen if you have an input pipeline similar to `dataset.cache().take(k).repeat()`. You should use `dataset.take(k).cache().repeat()` instead.\n",
      "2023-02-03 21:33:09.950539: W tensorflow/core/kernels/data/cache_dataset_ops.cc:856] The calling iterator did not fully read the dataset being cached. In order to avoid unexpected truncation of the dataset, the partially cached contents of the dataset  will be discarded. This can happen if you have an input pipeline similar to `dataset.cache().take(k).repeat()`. You should use `dataset.take(k).cache().repeat()` instead.\n",
      "2023-02-03 21:33:10.310392: W tensorflow/core/kernels/data/cache_dataset_ops.cc:856] The calling iterator did not fully read the dataset being cached. In order to avoid unexpected truncation of the dataset, the partially cached contents of the dataset  will be discarded. This can happen if you have an input pipeline similar to `dataset.cache().take(k).repeat()`. You should use `dataset.take(k).cache().repeat()` instead.\n"
     ]
    },
    {
     "name": "stdout",
     "output_type": "stream",
     "text": [
      "auroc            0.996903\n",
      "fpr95tpr         0.010000\n",
      "roc_auc_score    0.996913\n",
      "Name: mnist-10-vs-fashion, dtype: float64\n"
     ]
    },
    {
     "data": {
      "image/png": "[encoded data removed]",
      "text/plain": [
       "<Figure size 900x300 with 2 Axes>"
      ]
     },
     "metadata": {},
     "output_type": "display_data"
    }
   ],
   "source": [
    "oodmodel = DKNN(nearest=50)\n",
    "oodmodel.fit(model, x_train.take(10000))\n",
    "scores_id, scores_ood = oodmodel.score([x_id.take(1000), x_ood.take(1000)])\n",
    "\n",
    "# auroc / fpr95\n",
    "scores = np.concatenate([scores_id, scores_ood])\n",
    "labels= np.array([0] * len(scores_id) + [1] * len(scores_ood))\n",
    "fpr, tpr = get_curve(scores, labels)\n",
    "metrics = bench_metrics(\n",
    "    scores, labels,\n",
    "    metrics=[\"auroc\", \"fpr95tpr\", roc_auc_score]\n",
    ")\n",
    "metrics_fashion = pd.Series(metrics, name='mnist-10-vs-fashion')\n",
    "print(metrics_fashion)\n",
    "\n",
    "# plot hists / roc\n",
    "plt.figure(figsize=(9,3))\n",
    "plt.subplot(121)\n",
    "plt.hist((scores_ood, scores_id), bins=30, color=(\"blue\", \"orange\"), label=(\"ood\", \"id\"), density=True)\n",
    "plt.legend()\n",
    "plt.subplot(122)\n",
    "plt.plot(fpr, tpr)\n",
    "plt.show()"
   ]
  },
  {
   "attachments": {},
   "cell_type": "markdown",
   "metadata": {},
   "source": [
    "## CIFAR-10 vs SVHN"
   ]
  },
  {
   "attachments": {},
   "cell_type": "markdown",
   "metadata": {},
   "source": [
    "### Data and model loading\n",
    "ID data: CIFAR-10, OOD data: SVHN"
   ]
  },
  {
   "cell_type": "code",
   "execution_count": 30,
   "metadata": {},
   "outputs": [
    {
     "name": "stderr",
     "output_type": "stream",
     "text": [
      "2023-02-03 21:33:11.422200: W tensorflow/core/kernels/data/cache_dataset_ops.cc:856] The calling iterator did not fully read the dataset being cached. In order to avoid unexpected truncation of the dataset, the partially cached contents of the dataset  will be discarded. This can happen if you have an input pipeline similar to `dataset.cache().take(k).repeat()`. You should use `dataset.take(k).cache().repeat()` instead.\n"
     ]
    }
   ],
   "source": [
    "data_handler = DataHandler()\n",
    "normalize = lambda x: x / 255\n",
    "ds1 = data_handler.load_tfds('cifar10', preprocess=True, preprocessing_fun=normalize)\n",
    "ds2 = data_handler.load_tfds('svhn_cropped', preprocess=True, preprocessing_fun=normalize)\n",
    "\n",
    "# train / test set\n",
    "x_train, x_test = ds1['train'], ds1['test']\n",
    "# id / ood set\n",
    "x_id, x_ood = ds1[\"test\"], ds2[\"test\"]\n",
    "x_test_ood = data_handler.merge_tfds(x_id.take(1000), x_ood.take(1000), shuffle='True')\n",
    "\n",
    "# load model\n",
    "# (to train the model, run: python -m notebooks.train_cifar10)\n",
    "model = tf.keras.models.load_model(\"../saved_models/cifar10/\")"
   ]
  },
  {
   "attachments": {},
   "cell_type": "markdown",
   "metadata": {},
   "source": [
    "### DKNN score"
   ]
  },
  {
   "cell_type": "code",
   "execution_count": 31,
   "metadata": {},
   "outputs": [
    {
     "name": "stderr",
     "output_type": "stream",
     "text": [
      "2023-02-03 21:33:14.510442: W tensorflow/core/kernels/data/cache_dataset_ops.cc:856] The calling iterator did not fully read the dataset being cached. In order to avoid unexpected truncation of the dataset, the partially cached contents of the dataset  will be discarded. This can happen if you have an input pipeline similar to `dataset.cache().take(k).repeat()`. You should use `dataset.take(k).cache().repeat()` instead.\n",
      "2023-02-03 21:33:14.674526: W tensorflow/core/kernels/data/cache_dataset_ops.cc:856] The calling iterator did not fully read the dataset being cached. In order to avoid unexpected truncation of the dataset, the partially cached contents of the dataset  will be discarded. This can happen if you have an input pipeline similar to `dataset.cache().take(k).repeat()`. You should use `dataset.take(k).cache().repeat()` instead.\n"
     ]
    },
    {
     "name": "stdout",
     "output_type": "stream",
     "text": [
      "auroc            0.896639\n",
      "fpr95tpr         0.351000\n",
      "roc_auc_score    0.896644\n",
      "Name: cifar-vs-svhn, dtype: float64\n"
     ]
    },
    {
     "data": {
      "image/png": "[encoded data removed]",
      "text/plain": [
       "<Figure size 900x300 with 2 Axes>"
      ]
     },
     "metadata": {},
     "output_type": "display_data"
    }
   ],
   "source": [
    "oodmodel = DKNN(nearest=50, output_layers_id=['pool1'])\n",
    "oodmodel.fit(model, x_train.take(10000))\n",
    "scores_id, scores_ood = oodmodel.score([x_id.take(1000), x_ood.take(1000)])\n",
    "\n",
    "# auroc / fpr95\n",
    "scores = np.concatenate([scores_id, scores_ood])\n",
    "labels= np.array([0] * len(scores_id) + [1] * len(scores_ood))\n",
    "fpr, tpr = get_curve(scores, labels)\n",
    "metrics = bench_metrics(\n",
    "    scores, labels,\n",
    "    metrics=[\"auroc\", \"fpr95tpr\", roc_auc_score]\n",
    ")\n",
    "metrics_cifar = pd.Series(metrics, name='cifar-vs-svhn')\n",
    "print(metrics_cifar)\n",
    "\n",
    "# plot hists / roc\n",
    "plt.figure(figsize=(9,3))\n",
    "plt.subplot(121)\n",
    "plt.hist((scores_ood, scores_id), bins=30, color=(\"blue\", \"orange\"), label=(\"ood\", \"id\"), density=True)\n",
    "plt.legend()\n",
    "plt.subplot(122)\n",
    "plt.plot(fpr, tpr)\n",
    "plt.show()"
   ]
  },
  {
   "attachments": {},
   "cell_type": "markdown",
   "metadata": {},
   "source": [
    "## Results"
   ]
  },
  {
   "cell_type": "code",
   "execution_count": 32,
   "metadata": {},
   "outputs": [
    {
     "data": {
      "text/html": [
       "<div>\n",
       "<style scoped>\n",
       "    .dataframe tbody tr th:only-of-type {\n",
       "        vertical-align: middle;\n",
       "    }\n",
       "\n",
       "    .dataframe tbody tr th {\n",
       "        vertical-align: top;\n",
       "    }\n",
       "\n",
       "    .dataframe thead th {\n",
       "        text-align: right;\n",
       "    }\n",
       "</style>\n",
       "<table border=\"1\" class=\"dataframe\">\n",
       "  <thead>\n",
       "    <tr style=\"text-align: right;\">\n",
       "      <th></th>\n",
       "      <th>auroc</th>\n",
       "      <th>fpr95tpr</th>\n",
       "      <th>roc_auc_score</th>\n",
       "    </tr>\n",
       "  </thead>\n",
       "  <tbody>\n",
       "    <tr>\n",
       "      <th>mnist-0-4-vs-5-10</th>\n",
       "      <td>0.974103</td>\n",
       "      <td>0.118</td>\n",
       "      <td>0.974092</td>\n",
       "    </tr>\n",
       "    <tr>\n",
       "      <th>mnist-10-vs-fashion</th>\n",
       "      <td>0.996903</td>\n",
       "      <td>0.010</td>\n",
       "      <td>0.996913</td>\n",
       "    </tr>\n",
       "    <tr>\n",
       "      <th>cifar-vs-svhn</th>\n",
       "      <td>0.896639</td>\n",
       "      <td>0.351</td>\n",
       "      <td>0.896644</td>\n",
       "    </tr>\n",
       "  </tbody>\n",
       "</table>\n",
       "</div>"
      ],
      "text/plain": [
       "                        auroc  fpr95tpr  roc_auc_score\n",
       "mnist-0-4-vs-5-10    0.974103     0.118       0.974092\n",
       "mnist-10-vs-fashion  0.996903     0.010       0.996913\n",
       "cifar-vs-svhn        0.896639     0.351       0.896644"
      ]
     },
     "execution_count": 32,
     "metadata": {},
     "output_type": "execute_result"
    }
   ],
   "source": [
    "pd.concat([metrics_first_vs_last, metrics_fashion, metrics_cifar], axis=1).T"
   ]
  }
 ],
 "metadata": {
  "kernelspec": {
   "display_name": "oodeel",
   "language": "python",
   "name": "python3"
  },
  "language_info": {
   "codemirror_mode": {
    "name": "ipython",
    "version": 3
   },
   "file_extension": ".py",
   "mimetype": "text/x-python",
   "name": "python",
   "nbconvert_exporter": "python",
   "pygments_lexer": "ipython3",
   "version": "3.7.9"
  },
  "orig_nbformat": 4,
  "vscode": {
   "interpreter": {
    "hash": "710e170a4596a946dfe6b80cd4dced119c8d9cc3af7a8b844323dafffc3ad66f"
   }
  }
 },
 "nbformat": 4,
 "nbformat_minor": 2
}
