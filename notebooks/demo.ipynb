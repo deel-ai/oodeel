{
 "cells": [
  {
   "cell_type": "code",
   "execution_count": 2,
   "metadata": {},
   "outputs": [
    {
     "name": "stdout",
     "output_type": "stream",
     "text": [
      "The autoreload extension is already loaded. To reload it, use:\n",
      "  %reload_ext autoreload\n"
     ]
    }
   ],
   "source": [
    "%load_ext autoreload\n",
    "import sys\n",
    "sys.path.append(\"../\")\n",
    "\n",
    "import numpy as np\n",
    "from tensorflow import keras\n",
    "from oodeel.models.load_utils import get_model\n",
    "from oodeel.methods.mls import MLS\n",
    "from oodeel.methods.dknn import DKNN\n",
    "import tensorflow as tf\n",
    "import matplotlib.pyplot as plt\n",
    "\n"
   ]
  },
  {
   "cell_type": "markdown",
   "metadata": {},
   "source": [
    "## Data and model loading\n",
    "ID data: MNIST, OOD data: Fashion MNIST"
   ]
  },
  {
   "cell_type": "code",
   "execution_count": 3,
   "metadata": {},
   "outputs": [],
   "source": [
    "\n",
    "from oodeel.datasets.load import load_dataset\n",
    "\n",
    "num_classes = 10\n",
    "input_shape = (28, 28, 1)\n",
    "\n",
    "#### MNIST\n",
    "\n",
    "# Load the data and split it between train and test sets\n",
    "(x_train, y_train), (x_test, y_test) = load_dataset(\"mnist\")\n",
    "\n",
    "# Scale images to the [0, 1] range\n",
    "x_train = x_train.astype(\"float32\") / 255\n",
    "x_test = x_test.astype(\"float32\") / 255\n",
    "# Make sure images have shape (28, 28, 1)\n",
    "x_train = np.expand_dims(x_train, -1)\n",
    "x_test = np.expand_dims(x_test, -1)\n",
    "\n",
    "\n",
    "# convert class vectors to binary class matrices\n",
    "y_train = keras.utils.to_categorical(y_train, num_classes)\n",
    "y_test = keras.utils.to_categorical(y_test, num_classes)\n",
    "\n",
    "#### Fashion MNIST\n",
    "\n",
    "# Load the data and split it between train and test sets\n",
    "_ , (x_ood, y_ood) = load_dataset(\"fashion_mnist\")\n",
    "\n",
    "# Scale images to the [0, 1] range\n",
    "x_ood = x_ood.astype(\"float32\") / 255\n",
    "# Make sure images have shape (28, 28, 1)\n",
    "x_ood = np.expand_dims(x_ood, -1)\n"
   ]
  },
  {
   "cell_type": "code",
   "execution_count": 5,
   "metadata": {},
   "outputs": [],
   "source": [
    "model = get_model(\"../saved_models/mnist_model\")\n"
   ]
  },
  {
   "cell_type": "markdown",
   "metadata": {},
   "source": [
    "## Maximum Logit Score\n",
    "(A good classifier is all you need ?)\n",
    "\n",
    "Example of method that does not need ID data to compute statistics to compare against"
   ]
  },
  {
   "cell_type": "code",
   "execution_count": 7,
   "metadata": {},
   "outputs": [
    {
     "name": "stdout",
     "output_type": "stream",
     "text": [
      "313/313 [==============================] - 2s 6ms/step\n",
      "313/313 [==============================] - 2s 6ms/step\n"
     ]
    }
   ],
   "source": [
    "\n",
    "oodmodel = MLS(model)\n",
    "scores_id = oodmodel.score(x_test)\n",
    "scores_ood = oodmodel.score(x_ood)"
   ]
  },
  {
   "cell_type": "code",
   "execution_count": 8,
   "metadata": {},
   "outputs": [
    {
     "data": {
      "image/png": "[encoded data removed]",
      "text/plain": [
       "<Figure size 504x360 with 1 Axes>"
      ]
     },
     "metadata": {
      "needs_background": "light"
     },
     "output_type": "display_data"
    }
   ],
   "source": [
    "plt.figure(figsize=(7,5))\n",
    "\n",
    "plt.hist((scores_ood, scores_id), bins=10, color=(\"blue\", \"orange\"), label=(\"ood\", \"id\"), density=True)\n",
    "plt.legend()\n",
    "plt.show()"
   ]
  },
  {
   "cell_type": "code",
   "execution_count": 39,
   "metadata": {},
   "outputs": [
    {
     "name": "stdout",
     "output_type": "stream",
     "text": [
      "[1.     0.9999 0.9995 ... 0.     0.     0.    ] [1.e+00 1.e+00 1.e+00 ... 7.e-04 3.e-04 0.e+00]\n",
      "0.9947957849999999\n"
     ]
    },
    {
     "data": {
      "image/png": "[encoded data removed]",
      "text/plain": [
       "<Figure size 432x288 with 1 Axes>"
      ]
     },
     "metadata": {
      "needs_background": "light"
     },
     "output_type": "display_data"
    }
   ],
   "source": [
    "%autoreload 2\n",
    "from oodeel.eval.metrics import bench_metrics, curve\n",
    "\n",
    "scores = - np.concatenate([scores_id, scores_ood]) #ood has to be higher\n",
    "labels = np.concatenate([np.zeros(scores_id.shape), np.ones(scores_ood.shape)])\n",
    "\n",
    "tpc, fpc, tnc, fnc = curve(scores, labels, step=4)\n",
    "tpr = np.concatenate([[1.], tpc/(tpc + fnc), [0.]])\n",
    "fpr = np.concatenate([[1.], fpc/(fpc + tnc), [0.]])\n",
    "auroc = bench_metrics(scores, labels)\n",
    "\n",
    "print(fpr, tpr)\n",
    "print(auroc)\n",
    "plt.plot(fpr, tpr)\n",
    "plt.show()"
   ]
  },
  {
   "cell_type": "markdown",
   "metadata": {},
   "source": [
    "## Deep KNN\n",
    "Example of method that needs ID data to compute statistics to compare against"
   ]
  },
  {
   "cell_type": "code",
   "execution_count": 9,
   "metadata": {},
   "outputs": [
    {
     "name": "stdout",
     "output_type": "stream",
     "text": [
      "625/625 [==============================] - 4s 6ms/step\n"
     ]
    }
   ],
   "source": [
    "%autoreload 2\n",
    "oodmodel = DKNN(model)\n",
    "oodmodel.fit(x_train[:20000])"
   ]
  },
  {
   "cell_type": "code",
   "execution_count": 10,
   "metadata": {},
   "outputs": [
    {
     "name": "stdout",
     "output_type": "stream",
     "text": [
      "32/32 [==============================] - 0s 6ms/step\n",
      "32/32 [==============================] - 0s 6ms/step\n"
     ]
    }
   ],
   "source": [
    "scores_id = oodmodel.score(x_test[:1000], 30)\n",
    "scores_ood = oodmodel.score(x_ood[:1000], 30)"
   ]
  },
  {
   "cell_type": "code",
   "execution_count": 11,
   "metadata": {},
   "outputs": [
    {
     "data": {
      "image/png": "[encoded data removed]",
      "text/plain": [
       "<Figure size 576x360 with 1 Axes>"
      ]
     },
     "metadata": {
      "needs_background": "light"
     },
     "output_type": "display_data"
    }
   ],
   "source": [
    "plt.figure(figsize=(8,5))\n",
    "\n",
    "plt.hist((scores_ood, scores_id), bins=10, color=(\"blue\", \"orange\"), label=(\"ood\", \"idd\"), density=True)\n",
    "plt.legend()\n",
    "plt.show()"
   ]
  }
 ],
 "metadata": {
  "kernelspec": {
   "display_name": "Python 3.8.10 ('full')",
   "language": "python",
   "name": "python3"
  },
  "language_info": {
   "codemirror_mode": {
    "name": "ipython",
    "version": 3
   },
   "file_extension": ".py",
   "mimetype": "text/x-python",
   "name": "python",
   "nbconvert_exporter": "python",
   "pygments_lexer": "ipython3",
   "version": "3.8.10"
  },
  "orig_nbformat": 4,
  "vscode": {
   "interpreter": {
    "hash": "637dace9d8dde2e6ff8e06a4f5409e85c7b1c4f3cbdfb1d699dedf835551a47d"
   }
  }
 },
 "nbformat": 4,
 "nbformat_minor": 2
}
