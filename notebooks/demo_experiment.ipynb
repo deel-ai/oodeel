{
 "cells": [
  {
   "cell_type": "code",
   "execution_count": 1,
   "metadata": {},
   "outputs": [
    {
     "name": "stderr",
     "output_type": "stream",
     "text": [
      "2022-08-16 18:04:32.438053: I tensorflow/core/util/util.cc:169] oneDNN custom operations are on. You may see slightly different numerical results due to floating-point round-off errors from different computation orders. To turn them off, set the environment variable `TF_ENABLE_ONEDNN_OPTS=0`.\n",
      "2022-08-16 18:04:32.445710: W tensorflow/stream_executor/platform/default/dso_loader.cc:64] Could not load dynamic library 'libcudart.so.11.0'; dlerror: libcudart.so.11.0: cannot open shared object file: No such file or directory\n",
      "2022-08-16 18:04:32.445787: I tensorflow/stream_executor/cuda/cudart_stub.cc:29] Ignore above cudart dlerror if you do not have a GPU set up on your machine.\n"
     ]
    }
   ],
   "source": [
    "%load_ext autoreload\n",
    "%autoreload 2\n",
    "\n",
    "import sys\n",
    "sys.path.append(\"../\")\n",
    "\n",
    "import numpy as np\n",
    "from tensorflow import keras\n",
    "from oodeel.models.load_utils import get_model\n",
    "from oodeel.methods.mls import MLS\n",
    "from oodeel.methods.dknn import DKNN\n",
    "import tensorflow as tf\n",
    "import matplotlib.pyplot as plt\n",
    "\n",
    "\n",
    "from oodeel.eval.experiment import TwoDSExperiment\n",
    "from oodeel.datasets.load import dataset_load\n",
    "from oodeel.eval.experiment import SingleDSExperiment\n"
   ]
  },
  {
   "cell_type": "markdown",
   "metadata": {},
   "source": [
    "## Two datasets experiment"
   ]
  },
  {
   "cell_type": "code",
   "execution_count": 2,
   "metadata": {},
   "outputs": [
    {
     "name": "stderr",
     "output_type": "stream",
     "text": [
      "2022-08-16 17:45:15.098131: W tensorflow/stream_executor/platform/default/dso_loader.cc:64] Could not load dynamic library 'libcuda.so.1'; dlerror: libcuda.so.1: cannot open shared object file: No such file or directory\n",
      "2022-08-16 17:45:15.098188: W tensorflow/stream_executor/cuda/cuda_driver.cc:269] failed call to cuInit: UNKNOWN ERROR (303)\n",
      "2022-08-16 17:45:15.098206: I tensorflow/stream_executor/cuda/cuda_diagnostics.cc:156] kernel driver does not appear to be running on this host (B20212474): /proc/driver/nvidia/version does not exist\n",
      "2022-08-16 17:45:15.098466: I tensorflow/core/platform/cpu_feature_guard.cc:193] This TensorFlow binary is optimized with oneAPI Deep Neural Network Library (oneDNN) to use the following CPU instructions in performance-critical operations:  AVX2 AVX512F AVX512_VNNI FMA\n",
      "To enable them in other operations, rebuild TensorFlow with the appropriate compiler flags.\n"
     ]
    }
   ],
   "source": [
    "model = get_model(\"../saved_models/mnist_model\")"
   ]
  },
  {
   "cell_type": "markdown",
   "metadata": {},
   "source": [
    "### MLS"
   ]
  },
  {
   "cell_type": "code",
   "execution_count": 3,
   "metadata": {},
   "outputs": [
    {
     "name": "stdout",
     "output_type": "stream",
     "text": [
      "313/313 [==============================] - 2s 6ms/step\n",
      "313/313 [==============================] - 2s 5ms/step\n",
      "0.9947957849999999\n"
     ]
    },
    {
     "data": {
      "image/png": "[encoded data removed]",
      "text/plain": [
       "<Figure size 432x288 with 1 Axes>"
      ]
     },
     "metadata": {
      "needs_background": "light"
     },
     "output_type": "display_data"
    }
   ],
   "source": [
    "\n",
    "oodmodel = MLS\n",
    "expe = TwoDSExperiment(id_dataset_name=\"mnist\", ood_dataset_name=\"fashion_mnist\")\n",
    "(auroc), (tpc, fpc, tnc, fnc) = expe.run(model, oodmodel)\n",
    "\n",
    "tpr = np.concatenate([[1.], tpc/(tpc + fnc), [0.]])\n",
    "fpr = np.concatenate([[1.], fpc/(fpc + tnc), [0.]])\n",
    "\n",
    "print(auroc)\n",
    "plt.plot(fpr, tpr)\n",
    "plt.show()\n"
   ]
  },
  {
   "cell_type": "markdown",
   "metadata": {},
   "source": [
    "### DKNN"
   ]
  },
  {
   "cell_type": "code",
   "execution_count": 4,
   "metadata": {},
   "outputs": [
    {
     "name": "stdout",
     "output_type": "stream",
     "text": [
      "625/625 [==============================] - 4s 7ms/step\n",
      "313/313 [==============================] - 2s 6ms/step\n",
      "313/313 [==============================] - 2s 6ms/step\n",
      "0.6690731950000001\n"
     ]
    },
    {
     "data": {
      "image/png": "[encoded data removed]",
      "text/plain": [
       "<Figure size 432x288 with 1 Axes>"
      ]
     },
     "metadata": {
      "needs_background": "light"
     },
     "output_type": "display_data"
    }
   ],
   "source": [
    "%autoreload 2\n",
    "\n",
    "## This time need a dataset to fit KNN score\n",
    "(x_train, y_train), (x_test, y_test) = dataset_load(\"mnist\")\n",
    "\n",
    "oodmodel = DKNN\n",
    "expe = TwoDSExperiment(id_dataset_name=\"mnist\", ood_dataset_name=\"fashion_mnist\")\n",
    "(auroc), (tpc, fpc, tnc, fnc) = expe.run(model, oodmodel, fit_dataset=x_train[:20000])\n",
    "\n",
    "tpr = np.concatenate([[1.], tpc/(tpc + fnc), [0.]])\n",
    "fpr = np.concatenate([[1.], fpc/(fpc + tnc), [0.]])\n",
    "\n",
    "print(auroc)\n",
    "plt.plot(fpr, tpr)\n",
    "plt.show()"
   ]
  },
  {
   "cell_type": "markdown",
   "metadata": {},
   "source": [
    "## Single dataset experiment\n",
    "\n",
    "(Leave-$k$-classes-out training).\n",
    "First, we need to define a training function"
   ]
  },
  {
   "cell_type": "code",
   "execution_count": 2,
   "metadata": {},
   "outputs": [],
   "source": [
    "from tensorflow import keras\n",
    "from tensorflow.keras import layers\n",
    "\n",
    "def training_mnist(x_train, y_train, config=None):\n",
    "    input_shape = (28, 28, 1)\n",
    "    model = keras.Sequential(\n",
    "        [\n",
    "            keras.Input(shape=input_shape),\n",
    "            layers.Conv2D(32, kernel_size=(3, 3), activation=\"relu\"),\n",
    "            layers.MaxPooling2D(pool_size=(2, 2)),\n",
    "            layers.Conv2D(64, kernel_size=(3, 3), activation=\"relu\"),\n",
    "            layers.MaxPooling2D(pool_size=(2, 2)),\n",
    "            layers.Flatten(),\n",
    "            layers.Dropout(0.5),\n",
    "            layers.Dense(config[\"num_classes\"], activation=\"softmax\"),\n",
    "        ]\n",
    "    )\n",
    "\n",
    "    batch_size = 128\n",
    "    epochs = 5\n",
    "\n",
    "    # compile and fit\n",
    "    model.compile(loss=\"categorical_crossentropy\", optimizer=\"adam\", metrics=[\"accuracy\"])\n",
    "    model.fit(x_train, y_train, batch_size=batch_size, epochs=epochs, validation_split=0.1)    \n",
    "\n",
    "    return model\n"
   ]
  },
  {
   "cell_type": "markdown",
   "metadata": {},
   "source": [
    "## MLS"
   ]
  },
  {
   "cell_type": "code",
   "execution_count": 6,
   "metadata": {},
   "outputs": [
    {
     "name": "stdout",
     "output_type": "stream",
     "text": [
      "Epoch 1/5\n",
      "212/212 [==============================] - 9s 40ms/step - loss: 0.2944 - accuracy: 0.9063 - val_loss: 0.0632 - val_accuracy: 0.9827\n",
      "Epoch 2/5\n",
      "212/212 [==============================] - 9s 43ms/step - loss: 0.0746 - accuracy: 0.9770 - val_loss: 0.0440 - val_accuracy: 0.9890\n",
      "Epoch 3/5\n",
      "212/212 [==============================] - 10s 46ms/step - loss: 0.0505 - accuracy: 0.9843 - val_loss: 0.0351 - val_accuracy: 0.9907\n",
      "Epoch 4/5\n",
      "212/212 [==============================] - 11s 50ms/step - loss: 0.0410 - accuracy: 0.9878 - val_loss: 0.0364 - val_accuracy: 0.9910\n",
      "Epoch 5/5\n",
      "212/212 [==============================] - 13s 61ms/step - loss: 0.0337 - accuracy: 0.9886 - val_loss: 0.0267 - val_accuracy: 0.9934\n",
      "158/158 [==============================] - 1s 8ms/step\n",
      "155/155 [==============================] - 1s 8ms/step\n",
      "0.9522135082934028\n"
     ]
    },
    {
     "data": {
      "image/png": "[encoded data removed]",
      "text/plain": [
       "<Figure size 432x288 with 1 Axes>"
      ]
     },
     "metadata": {
      "needs_background": "light"
     },
     "output_type": "display_data"
    }
   ],
   "source": [
    "%autoreload 2\n",
    "\n",
    "splits=[[1, 2, 3, 4, 5]]\n",
    "\n",
    "#model = expe.model #for reinit\n",
    "oodmodel = MLS \n",
    "expe = SingleDSExperiment(dataset_name=\"mnist\", splits=splits)\n",
    "#expe.model = model #for reinit\n",
    "results = expe.run(oodmodel,\n",
    "                   training_func=training_mnist, config={\"num_classes\": 5})\n",
    "\n",
    "(auroc), (tpc, fpc, tnc, fnc) = results[str(splits[0])]\n",
    "\n",
    "tpr = np.concatenate([[1.], tpc/(tpc + fnc), [0.]])\n",
    "fpr = np.concatenate([[1.], fpc/(fpc + tnc), [0.]])\n",
    "\n",
    "print(auroc)\n",
    "plt.plot(fpr, tpr)\n",
    "plt.show()"
   ]
  },
  {
   "cell_type": "markdown",
   "metadata": {},
   "source": [
    "### DKNN"
   ]
  },
  {
   "cell_type": "code",
   "execution_count": 4,
   "metadata": {},
   "outputs": [
    {
     "name": "stderr",
     "output_type": "stream",
     "text": [
      "2022-08-16 17:55:02.406523: W tensorflow/stream_executor/platform/default/dso_loader.cc:64] Could not load dynamic library 'libcuda.so.1'; dlerror: libcuda.so.1: cannot open shared object file: No such file or directory\n",
      "2022-08-16 17:55:02.406617: W tensorflow/stream_executor/cuda/cuda_driver.cc:269] failed call to cuInit: UNKNOWN ERROR (303)\n",
      "2022-08-16 17:55:02.406646: I tensorflow/stream_executor/cuda/cuda_diagnostics.cc:156] kernel driver does not appear to be running on this host (B20212474): /proc/driver/nvidia/version does not exist\n",
      "2022-08-16 17:55:02.407111: I tensorflow/core/platform/cpu_feature_guard.cc:193] This TensorFlow binary is optimized with oneAPI Deep Neural Network Library (oneDNN) to use the following CPU instructions in performance-critical operations:  AVX2 AVX512F AVX512_VNNI FMA\n",
      "To enable them in other operations, rebuild TensorFlow with the appropriate compiler flags.\n"
     ]
    },
    {
     "name": "stdout",
     "output_type": "stream",
     "text": [
      "Epoch 1/5\n",
      "216/216 [==============================] - 10s 41ms/step - loss: 0.2355 - accuracy: 0.9295 - val_loss: 0.0396 - val_accuracy: 0.9886\n",
      "Epoch 2/5\n",
      "216/216 [==============================] - 9s 40ms/step - loss: 0.0576 - accuracy: 0.9817 - val_loss: 0.0286 - val_accuracy: 0.9931\n",
      "Epoch 3/5\n",
      "216/216 [==============================] - 8s 38ms/step - loss: 0.0427 - accuracy: 0.9867 - val_loss: 0.0271 - val_accuracy: 0.9938\n",
      "Epoch 4/5\n",
      "216/216 [==============================] - 9s 42ms/step - loss: 0.0332 - accuracy: 0.9899 - val_loss: 0.0263 - val_accuracy: 0.9931\n",
      "Epoch 5/5\n",
      "216/216 [==============================] - 8s 39ms/step - loss: 0.0288 - accuracy: 0.9912 - val_loss: 0.0192 - val_accuracy: 0.9961\n",
      "625/625 [==============================] - 4s 6ms/step\n",
      "161/161 [==============================] - 1s 7ms/step\n",
      "152/152 [==============================] - 1s 8ms/step\n",
      "0.4706196336776915\n"
     ]
    },
    {
     "data": {
      "image/png": "[encoded data removed]",
      "text/plain": [
       "<Figure size 432x288 with 1 Axes>"
      ]
     },
     "metadata": {
      "needs_background": "light"
     },
     "output_type": "display_data"
    }
   ],
   "source": [
    "%autoreload 2\n",
    "\n",
    "(x_train, y_train), (x_test, y_test) = dataset_load(\"mnist\")\n",
    "\n",
    "splits=[[0, 1, 2, 3, 4]]\n",
    "\n",
    "\n",
    "oodmodel = DKNN \n",
    "expe = SingleDSExperiment(dataset_name=\"mnist\", splits=splits)\n",
    "#expe.model=model #for reinit\n",
    "results = expe.run(oodmodel, \n",
    "                   training_func=training_mnist, config={\"num_classes\": 5},\n",
    "                   fit_dataset=x_train[:20000])\n",
    "\n",
    "(auroc), (tpc, fpc, tnc, fnc) = expe.results[str(splits[0])]\n",
    "tpr = np.concatenate([[1.], tpc/(tpc + fnc), [0.]])\n",
    "fpr = np.concatenate([[1.], fpc/(fpc + tnc), [0.]])\n",
    "\n",
    "print(auroc)\n",
    "plt.plot(fpr, tpr)\n",
    "plt.show()"
   ]
  }
 ],
 "metadata": {
  "kernelspec": {
   "display_name": "Python 3.8.10 ('full')",
   "language": "python",
   "name": "python3"
  },
  "language_info": {
   "codemirror_mode": {
    "name": "ipython",
    "version": 3
   },
   "file_extension": ".py",
   "mimetype": "text/x-python",
   "name": "python",
   "nbconvert_exporter": "python",
   "pygments_lexer": "ipython3",
   "version": "3.8.10"
  },
  "orig_nbformat": 4,
  "vscode": {
   "interpreter": {
    "hash": "637dace9d8dde2e6ff8e06a4f5409e85c7b1c4f3cbdfb1d699dedf835551a47d"
   }
  }
 },
 "nbformat": 4,
 "nbformat_minor": 2
}
