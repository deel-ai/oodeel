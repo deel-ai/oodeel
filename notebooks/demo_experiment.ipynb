{
 "cells": [
  {
   "cell_type": "code",
   "execution_count": 19,
   "metadata": {},
   "outputs": [
    {
     "name": "stdout",
     "output_type": "stream",
     "text": [
      "The autoreload extension is already loaded. To reload it, use:\n",
      "  %reload_ext autoreload\n"
     ]
    }
   ],
   "source": [
    "%load_ext autoreload\n",
    "%autoreload 2\n",
    "\n",
    "import sys\n",
    "sys.path.append(\"../\")\n",
    "\n",
    "import numpy as np\n",
    "from tensorflow import keras\n",
    "from oodeel.models.load_utils import get_model\n",
    "from oodeel.methods.mls import MLS\n",
    "from oodeel.methods.dknn import DKNN\n",
    "import tensorflow as tf\n",
    "import matplotlib.pyplot as plt\n",
    "\n",
    "from oodeel.eval.metrics import bench_metrics, get_curve\n",
    "from oodeel.datasets.data_handler import DataHandler\n"
   ]
  },
  {
   "cell_type": "markdown",
   "metadata": {},
   "source": [
    "## Two datasets experiment"
   ]
  },
  {
   "cell_type": "code",
   "execution_count": 20,
   "metadata": {},
   "outputs": [],
   "source": [
    "data_handler = DataHandler()\n",
    "\n",
    "#### MNIST\n",
    "# Load the data and split it between train and test sets\n",
    "(x_train, y_train), (x_id, y_ood) = data_handler.load(\"mnist\")\n",
    "#### Fashion MNIST\n",
    "\n",
    "# Load the data and split it between train and test sets\n",
    "_ , (x_ood, y_ood) = data_handler.load(\"fashion_mnist\")\n",
    "\n",
    "x, labels = data_handler.merge(x_id, x_ood)\n"
   ]
  },
  {
   "cell_type": "code",
   "execution_count": 21,
   "metadata": {},
   "outputs": [],
   "source": [
    "\n",
    "model = get_model(\"../saved_models/mnist_model\")"
   ]
  },
  {
   "cell_type": "markdown",
   "metadata": {},
   "source": [
    "### MLS"
   ]
  },
  {
   "cell_type": "code",
   "execution_count": 22,
   "metadata": {},
   "outputs": [
    {
     "name": "stdout",
     "output_type": "stream",
     "text": [
      "{'auroc': 0.9947957849999999}\n"
     ]
    },
    {
     "data": {
      "image/png": "[encoded data removed]",
      "text/plain": [
       "<Figure size 432x288 with 1 Axes>"
      ]
     },
     "metadata": {
      "needs_background": "light"
     },
     "output_type": "display_data"
    }
   ],
   "source": [
    "\n",
    "%autoreload 2\n",
    "\n",
    "oodmodel = MLS(output_activations=[\"linear\"])\n",
    "oodmodel.fit(model)\n",
    "scores = oodmodel.score(x)\n",
    "\n",
    "fpr, tpr = get_curve(scores, labels)\n",
    "auroc = bench_metrics(scores, labels)\n",
    "\n",
    "print(auroc)\n",
    "plt.plot(fpr, tpr)\n",
    "plt.show()"
   ]
  },
  {
   "cell_type": "markdown",
   "metadata": {},
   "source": [
    "### DKNN"
   ]
  },
  {
   "cell_type": "code",
   "execution_count": 23,
   "metadata": {},
   "outputs": [
    {
     "name": "stdout",
     "output_type": "stream",
     "text": [
      "{'auroc': 0.791859}\n"
     ]
    },
    {
     "data": {
      "image/png": "[encoded data removed]",
      "text/plain": [
       "<Figure size 432x288 with 1 Axes>"
      ]
     },
     "metadata": {
      "needs_background": "light"
     },
     "output_type": "display_data"
    }
   ],
   "source": [
    "%autoreload 2\n",
    "\n",
    "## This time need a dataset to fit KNN score\n",
    "x, labels = data_handler.merge(x_id[:1000], x_ood[:1000])\n",
    "\n",
    "oodmodel = DKNN()\n",
    "oodmodel.fit(model, x_train[:10000])\n",
    "scores = oodmodel.score(x)\n",
    "\n",
    "fpr, tpr = get_curve(scores, labels)\n",
    "auroc = bench_metrics(scores, labels)\n",
    "\n",
    "print(auroc)\n",
    "plt.plot(fpr, tpr)\n",
    "plt.show()"
   ]
  },
  {
   "cell_type": "markdown",
   "metadata": {},
   "source": [
    "## Single dataset experiment\n",
    "\n",
    "(Leave-$k$-classes-out training).\n",
    "First, we need to define a training function"
   ]
  },
  {
   "cell_type": "code",
   "execution_count": 24,
   "metadata": {},
   "outputs": [],
   "source": [
    "from tensorflow import keras\n",
    "from tensorflow.keras import layers\n",
    "\n",
    "def training_mnist(train_data, config=None):\n",
    "    x_train, y_train = train_data\n",
    "    input_shape = (28, 28, 1)\n",
    "    num_classes=np.unique(y_train).shape[0]\n",
    "\n",
    "    y_train = keras.utils.to_categorical(y_train, num_classes)\n",
    "\n",
    "    model = keras.Sequential(\n",
    "        [\n",
    "            keras.Input(shape=input_shape),\n",
    "            layers.Conv2D(32, kernel_size=(3, 3), activation=\"relu\"),\n",
    "            layers.MaxPooling2D(pool_size=(2, 2)),\n",
    "            layers.Conv2D(64, kernel_size=(3, 3), activation=\"relu\"),\n",
    "            layers.MaxPooling2D(pool_size=(2, 2)),\n",
    "            layers.Flatten(),\n",
    "            layers.Dropout(0.5),\n",
    "            layers.Dense(num_classes, activation=\"softmax\"),\n",
    "        ]\n",
    "    )\n",
    "\n",
    "    batch_size = 128\n",
    "    epochs = 5\n",
    "\n",
    "    # compile and fit\n",
    "    model.compile(loss=\"categorical_crossentropy\", optimizer=\"adam\", metrics=[\"accuracy\"])\n",
    "    model.fit(x_train, y_train, batch_size=batch_size, epochs=epochs, validation_split=0.1)    \n",
    "\n",
    "    return model\n"
   ]
  },
  {
   "cell_type": "code",
   "execution_count": 25,
   "metadata": {},
   "outputs": [],
   "source": [
    "data_handler = DataHandler()\n",
    "\n",
    "(x_train, y_train), (x_test, y_test) = data_handler.load(\"mnist\")\n",
    "\n",
    "inc_labels = [0, 1, 2, 3, 4]\n",
    "\n",
    "# Here we have to filter x_test to obtain x_id and x_ood\n",
    "(x_train_id, y_train_id), _ = data_handler.filter(x_train, y_train, inc_labels=inc_labels) \n",
    "(x_id, y_id), (x_ood, y_ood) = data_handler.filter(x_test, y_test, inc_labels=inc_labels) \n"
   ]
  },
  {
   "cell_type": "code",
   "execution_count": 26,
   "metadata": {},
   "outputs": [
    {
     "name": "stdout",
     "output_type": "stream",
     "text": [
      "Epoch 1/5\n",
      "216/216 [==============================] - 10s 41ms/step - loss: 0.2354 - accuracy: 0.9285 - val_loss: 0.0425 - val_accuracy: 0.9879\n",
      "Epoch 2/5\n",
      "216/216 [==============================] - 9s 40ms/step - loss: 0.0572 - accuracy: 0.9818 - val_loss: 0.0313 - val_accuracy: 0.9912\n",
      "Epoch 3/5\n",
      "216/216 [==============================] - 8s 38ms/step - loss: 0.0425 - accuracy: 0.9870 - val_loss: 0.0264 - val_accuracy: 0.9954\n",
      "Epoch 4/5\n",
      "216/216 [==============================] - 8s 39ms/step - loss: 0.0347 - accuracy: 0.9896 - val_loss: 0.0205 - val_accuracy: 0.9951\n",
      "Epoch 5/5\n",
      "216/216 [==============================] - 9s 40ms/step - loss: 0.0280 - accuracy: 0.9908 - val_loss: 0.0198 - val_accuracy: 0.9958\n"
     ]
    }
   ],
   "source": [
    "\n",
    "model = training_mnist(train_data=(x_train_id, y_train_id))"
   ]
  },
  {
   "cell_type": "markdown",
   "metadata": {},
   "source": [
    "## MLS"
   ]
  },
  {
   "cell_type": "code",
   "execution_count": 27,
   "metadata": {},
   "outputs": [
    {
     "name": "stdout",
     "output_type": "stream",
     "text": [
      "{'auroc': 0.9370651814548355}\n"
     ]
    },
    {
     "data": {
      "image/png": "[encoded data removed]",
      "text/plain": [
       "<Figure size 432x288 with 1 Axes>"
      ]
     },
     "metadata": {
      "needs_background": "light"
     },
     "output_type": "display_data"
    }
   ],
   "source": [
    "%autoreload 2\n",
    "\n",
    "\n",
    "x, labels = data_handler.merge(x_id, x_ood)\n",
    "\n",
    "oodmodel = MLS(output_activations=[\"linear\"])\n",
    "oodmodel.fit(model)\n",
    "scores = oodmodel.score(x)\n",
    "\n",
    "fpr, tpr = get_curve(scores, labels)\n",
    "auroc = bench_metrics(scores, labels)\n",
    "\n",
    "print(auroc)\n",
    "plt.plot(fpr, tpr)\n",
    "plt.show()"
   ]
  },
  {
   "cell_type": "markdown",
   "metadata": {},
   "source": [
    "### DKNN"
   ]
  },
  {
   "cell_type": "code",
   "execution_count": 28,
   "metadata": {},
   "outputs": [
    {
     "name": "stdout",
     "output_type": "stream",
     "text": [
      "{'auroc': 0.9269745}\n"
     ]
    },
    {
     "data": {
      "image/png": "[encoded data removed]",
      "text/plain": [
       "<Figure size 432x288 with 1 Axes>"
      ]
     },
     "metadata": {
      "needs_background": "light"
     },
     "output_type": "display_data"
    }
   ],
   "source": [
    "%autoreload 2\n",
    "\n",
    "x, labels = data_handler.merge(x_id[:1000], x_ood[:1000])\n",
    "\n",
    "oodmodel = DKNN()\n",
    "oodmodel.fit(model, x_train_id[:10000])\n",
    "scores = oodmodel.score(x)\n",
    "\n",
    "fpr, tpr = get_curve(scores, labels)\n",
    "auroc = bench_metrics(scores, labels)\n",
    "\n",
    "print(auroc)\n",
    "plt.plot(fpr, tpr)\n",
    "plt.show()"
   ]
  }
 ],
 "metadata": {
  "kernelspec": {
   "display_name": "Python 3.8.10 ('full')",
   "language": "python",
   "name": "python3"
  },
  "language_info": {
   "codemirror_mode": {
    "name": "ipython",
    "version": 3
   },
   "file_extension": ".py",
   "mimetype": "text/x-python",
   "name": "python",
   "nbconvert_exporter": "python",
   "pygments_lexer": "ipython3",
   "version": "3.8.10"
  },
  "orig_nbformat": 4,
  "vscode": {
   "interpreter": {
    "hash": "637dace9d8dde2e6ff8e06a4f5409e85c7b1c4f3cbdfb1d699dedf835551a47d"
   }
  }
 },
 "nbformat": 4,
 "nbformat_minor": 2
}
