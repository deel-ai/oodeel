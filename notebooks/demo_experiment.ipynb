{
 "cells": [
  {
   "cell_type": "code",
   "execution_count": 14,
   "metadata": {},
   "outputs": [
    {
     "name": "stdout",
     "output_type": "stream",
     "text": [
      "The autoreload extension is already loaded. To reload it, use:\n",
      "  %reload_ext autoreload\n"
     ]
    }
   ],
   "source": [
    "%load_ext autoreload\n",
    "%autoreload 2\n",
    "\n",
    "import sys\n",
    "sys.path.append(\"../\")\n",
    "\n",
    "import numpy as np\n",
    "from tensorflow import keras\n",
    "from oodeel.models.load_utils import get_model\n",
    "from oodeel.methods.mls import MLS\n",
    "from oodeel.methods.dknn import DKNN\n",
    "import tensorflow as tf\n",
    "import matplotlib.pyplot as plt\n",
    "\n",
    "from oodeel.datasets.load_utils import keras_dataset_load\n",
    "from oodeel.eval.metrics import bench_metrics, get_curve\n",
    "from oodeel.datasets.data_handler import DataHandler\n"
   ]
  },
  {
   "cell_type": "markdown",
   "metadata": {},
   "source": [
    "## Two datasets experiment"
   ]
  },
  {
   "cell_type": "code",
   "execution_count": 2,
   "metadata": {},
   "outputs": [
    {
     "name": "stderr",
     "output_type": "stream",
     "text": [
      "2022-09-20 17:06:24.316043: W tensorflow/stream_executor/platform/default/dso_loader.cc:64] Could not load dynamic library 'libcuda.so.1'; dlerror: libcuda.so.1: cannot open shared object file: No such file or directory\n",
      "2022-09-20 17:06:24.316997: W tensorflow/stream_executor/cuda/cuda_driver.cc:269] failed call to cuInit: UNKNOWN ERROR (303)\n",
      "2022-09-20 17:06:24.317765: I tensorflow/stream_executor/cuda/cuda_diagnostics.cc:156] kernel driver does not appear to be running on this host (B20212474): /proc/driver/nvidia/version does not exist\n",
      "2022-09-20 17:06:24.328770: I tensorflow/core/platform/cpu_feature_guard.cc:193] This TensorFlow binary is optimized with oneAPI Deep Neural Network Library (oneDNN) to use the following CPU instructions in performance-critical operations:  AVX2 AVX512F AVX512_VNNI FMA\n",
      "To enable them in other operations, rebuild TensorFlow with the appropriate compiler flags.\n"
     ]
    }
   ],
   "source": [
    "#### MNIST\n",
    "# Load the data and split it between train and test sets\n",
    "(x_train, y_train), (x_test, y_test) = keras_dataset_load(\"mnist\")\n",
    "#### Fashion MNIST\n",
    "\n",
    "# Load the data and split it between train and test sets\n",
    "_ , (x_ood, y_ood) = keras_dataset_load(\"fashion_mnist\")\n",
    "\n",
    "model = get_model(\"../saved_models/mnist_model\")"
   ]
  },
  {
   "cell_type": "markdown",
   "metadata": {},
   "source": [
    "### MLS"
   ]
  },
  {
   "cell_type": "code",
   "execution_count": 8,
   "metadata": {},
   "outputs": [
    {
     "name": "stdout",
     "output_type": "stream",
     "text": [
      "0.9947957849999999\n"
     ]
    },
    {
     "data": {
      "image/png": "[encoded data removed]",
      "text/plain": [
       "<Figure size 432x288 with 1 Axes>"
      ]
     },
     "metadata": {
      "needs_background": "light"
     },
     "output_type": "display_data"
    }
   ],
   "source": [
    "\n",
    "%autoreload 2\n",
    "\n",
    "oodmodel = MLS(output_activations=[\"linear\"])\n",
    "oodmodel.fit(model)\n",
    "scores_id, scores_ood = oodmodel.score([x_test, x_ood])\n",
    "\n",
    "#TODO dataset handler to obtain labels\n",
    "scores = np.concatenate([scores_id, scores_ood]) #ood has to be higher\n",
    "labels = np.concatenate([np.zeros(scores_id.shape), np.ones(scores_ood.shape)])\n",
    "\n",
    "fpr, tpr = get_curve(scores, labels)\n",
    "(auroc) = bench_metrics(scores, labels)\n",
    "\n",
    "print(auroc)\n",
    "plt.plot(fpr, tpr)\n",
    "plt.show()"
   ]
  },
  {
   "cell_type": "markdown",
   "metadata": {},
   "source": [
    "### DKNN"
   ]
  },
  {
   "cell_type": "code",
   "execution_count": 11,
   "metadata": {},
   "outputs": [
    {
     "name": "stdout",
     "output_type": "stream",
     "text": [
      "0.791859\n"
     ]
    },
    {
     "data": {
      "image/png": "[encoded data removed]",
      "text/plain": [
       "<Figure size 432x288 with 1 Axes>"
      ]
     },
     "metadata": {
      "needs_background": "light"
     },
     "output_type": "display_data"
    }
   ],
   "source": [
    "%autoreload 2\n",
    "\n",
    "## This time need a dataset to fit KNN score\n",
    "(x_train, y_train), (x_test, y_test) = keras_dataset_load(\"mnist\")\n",
    "\n",
    "oodmodel = DKNN()\n",
    "oodmodel.fit(model, x_train[:10000])\n",
    "scores_id, scores_ood = oodmodel.score([x_test[:1000], x_ood[:1000]])\n",
    "\n",
    "scores = np.concatenate([scores_id, scores_ood]) #ood has to be higher\n",
    "labels = np.concatenate([np.zeros(scores_id.shape), np.ones(scores_ood.shape)])\n",
    "\n",
    "fpr, tpr = get_curve(scores, labels)\n",
    "(auroc) = bench_metrics(scores, labels)\n",
    "\n",
    "print(auroc)\n",
    "plt.plot(fpr, tpr)\n",
    "plt.show()"
   ]
  },
  {
   "cell_type": "markdown",
   "metadata": {},
   "source": [
    "## Single dataset experiment\n",
    "\n",
    "(Leave-$k$-classes-out training).\n",
    "First, we need to define a training function"
   ]
  },
  {
   "cell_type": "code",
   "execution_count": 12,
   "metadata": {},
   "outputs": [],
   "source": [
    "from tensorflow import keras\n",
    "from tensorflow.keras import layers\n",
    "\n",
    "#### ATTENTION A NUM CLASSES QUE CE SOIT BIEN len(split) ET QUE ONE HOT ENC SOIT BIEN\n",
    "def training_mnist(train_data, config=None):\n",
    "    x_train, y_train = train_data\n",
    "    input_shape = (28, 28, 1)\n",
    "    num_classes=np.unique(y_train).shape[0]\n",
    "\n",
    "    y_train = keras.utils.to_categorical(y_train, num_classes)\n",
    "\n",
    "    model = keras.Sequential(\n",
    "        [\n",
    "            keras.Input(shape=input_shape),\n",
    "            layers.Conv2D(32, kernel_size=(3, 3), activation=\"relu\"),\n",
    "            layers.MaxPooling2D(pool_size=(2, 2)),\n",
    "            layers.Conv2D(64, kernel_size=(3, 3), activation=\"relu\"),\n",
    "            layers.MaxPooling2D(pool_size=(2, 2)),\n",
    "            layers.Flatten(),\n",
    "            layers.Dropout(0.5),\n",
    "            layers.Dense(num_classes, activation=\"softmax\"),\n",
    "        ]\n",
    "    )\n",
    "\n",
    "    batch_size = 128\n",
    "    epochs = 5\n",
    "\n",
    "    # compile and fit\n",
    "    model.compile(loss=\"categorical_crossentropy\", optimizer=\"adam\", metrics=[\"accuracy\"])\n",
    "    model.fit(x_train, y_train, batch_size=batch_size, epochs=epochs, validation_split=0.1)    \n",
    "\n",
    "    return model\n"
   ]
  },
  {
   "cell_type": "code",
   "execution_count": 15,
   "metadata": {},
   "outputs": [
    {
     "name": "stdout",
     "output_type": "stream",
     "text": [
      "Epoch 1/5\n",
      "216/216 [==============================] - 10s 38ms/step - loss: 0.2595 - accuracy: 0.9192 - val_loss: 0.0462 - val_accuracy: 0.9863\n",
      "Epoch 2/5\n",
      "216/216 [==============================] - 7s 35ms/step - loss: 0.0601 - accuracy: 0.9814 - val_loss: 0.0306 - val_accuracy: 0.9918\n",
      "Epoch 3/5\n",
      "216/216 [==============================] - 8s 35ms/step - loss: 0.0433 - accuracy: 0.9864 - val_loss: 0.0282 - val_accuracy: 0.9928\n",
      "Epoch 4/5\n",
      "216/216 [==============================] - 8s 36ms/step - loss: 0.0333 - accuracy: 0.9890 - val_loss: 0.0194 - val_accuracy: 0.9954\n",
      "Epoch 5/5\n",
      "216/216 [==============================] - 7s 35ms/step - loss: 0.0299 - accuracy: 0.9906 - val_loss: 0.0206 - val_accuracy: 0.9958\n"
     ]
    }
   ],
   "source": [
    "(x_train, y_train), (x_test, y_test) = keras_dataset_load(\"mnist\")\n",
    "\n",
    "inc_labels = [0, 1, 2, 3, 4]\n",
    "\n",
    "mnist_train = DataHandler(x_train, y_train)\n",
    "mnist_test = DataHandler(x_test, y_test)\n",
    "\n",
    "x_id_train, y_id_train = mnist_train.filter(inc_labels=inc_labels) \n",
    "\n",
    "x_id_test, _ = mnist_test.filter(inc_labels=inc_labels) \n",
    "x_ood_test, _ = mnist_test.filter(excl_labels=inc_labels) \n",
    "\n",
    "train_data = (x_id_train, y_id_train)\n",
    "model = training_mnist(train_data)"
   ]
  },
  {
   "cell_type": "markdown",
   "metadata": {},
   "source": [
    "## MLS"
   ]
  },
  {
   "cell_type": "code",
   "execution_count": 17,
   "metadata": {},
   "outputs": [
    {
     "name": "stdout",
     "output_type": "stream",
     "text": [
      "0.9260736667726286\n"
     ]
    },
    {
     "data": {
      "image/png": "[encoded data removed]",
      "text/plain": [
       "<Figure size 432x288 with 1 Axes>"
      ]
     },
     "metadata": {
      "needs_background": "light"
     },
     "output_type": "display_data"
    }
   ],
   "source": [
    "%autoreload 2\n",
    "\n",
    "oodmodel = MLS(output_activations=[\"linear\"])\n",
    "oodmodel.fit(model)\n",
    "scores_id, scores_ood = oodmodel.score([x_id_test, x_ood_test])\n",
    "\n",
    "#TODO dataset handler to obtain labels\n",
    "scores = np.concatenate([scores_id, scores_ood]) #ood has to be higher\n",
    "labels = np.concatenate([np.zeros(scores_id.shape), np.ones(scores_ood.shape)])\n",
    "\n",
    "fpr, tpr = get_curve(scores, labels)\n",
    "(auroc) = bench_metrics(scores, labels)\n",
    "\n",
    "print(auroc)\n",
    "plt.plot(fpr, tpr)\n",
    "plt.show()"
   ]
  },
  {
   "cell_type": "markdown",
   "metadata": {},
   "source": [
    "### DKNN"
   ]
  },
  {
   "cell_type": "code",
   "execution_count": 19,
   "metadata": {},
   "outputs": [
    {
     "name": "stdout",
     "output_type": "stream",
     "text": [
      "0.9308345000000001\n"
     ]
    },
    {
     "data": {
      "image/png": "[encoded data removed]",
      "text/plain": [
       "<Figure size 432x288 with 1 Axes>"
      ]
     },
     "metadata": {
      "needs_background": "light"
     },
     "output_type": "display_data"
    }
   ],
   "source": [
    "%autoreload 2\n",
    "\n",
    "oodmodel = DKNN()\n",
    "oodmodel.fit(model, x_id_train[:10000])\n",
    "scores_id, scores_ood = oodmodel.score([x_id_test[:1000], x_ood_test[:1000]])\n",
    "\n",
    "scores = np.concatenate([scores_id, scores_ood]) #ood has to be higher\n",
    "labels = np.concatenate([np.zeros(scores_id.shape), np.ones(scores_ood.shape)])\n",
    "\n",
    "fpr, tpr = get_curve(scores, labels)\n",
    "(auroc) = bench_metrics(scores, labels)\n",
    "\n",
    "print(auroc)\n",
    "plt.plot(fpr, tpr)\n",
    "plt.show()"
   ]
  }
 ],
 "metadata": {
  "kernelspec": {
   "display_name": "Python 3.8.10 ('full')",
   "language": "python",
   "name": "python3"
  },
  "language_info": {
   "codemirror_mode": {
    "name": "ipython",
    "version": 3
   },
   "file_extension": ".py",
   "mimetype": "text/x-python",
   "name": "python",
   "nbconvert_exporter": "python",
   "pygments_lexer": "ipython3",
   "version": "3.8.10"
  },
  "orig_nbformat": 4,
  "vscode": {
   "interpreter": {
    "hash": "637dace9d8dde2e6ff8e06a4f5409e85c7b1c4f3cbdfb1d699dedf835551a47d"
   }
  }
 },
 "nbformat": 4,
 "nbformat_minor": 2
}
