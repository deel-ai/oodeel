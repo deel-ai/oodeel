{
    "cells": [
        {
            "attachments": {},
            "cell_type": "markdown",
            "metadata": {},
            "source": [
                "## Imports"
            ]
        },
        {
            "cell_type": "code",
            "execution_count": 7,
            "metadata": {},
            "outputs": [
                {
                    "name": "stdout",
                    "output_type": "stream",
                    "text": [
                        "The autoreload extension is already loaded. To reload it, use:\n",
                        "  %reload_ext autoreload\n",
                        "env: TFDS_DATA_DIR=/Users/paul/scratch/tensorflow_datasets\n"
                    ]
                }
            ],
            "source": [
                "%load_ext autoreload\n",
                "%autoreload 2\n",
                "\n",
                "%env TFDS_DATA_DIR=/Users/paul/scratch/tensorflow_datasets\n",
                "\n",
                "import warnings\n",
                "warnings.filterwarnings(\"ignore\")\n",
                "\n",
                "import sys\n",
                "sys.path.append(\"../\")\n",
                "\n",
                "import numpy as np\n",
                "from tensorflow import keras\n",
                "from tensorflow.keras import layers\n",
                "from oodeel.methods import DKNN\n",
                "import tensorflow as tf\n",
                "import matplotlib.pyplot as plt\n",
                "import pandas as pd\n",
                "from sklearn.metrics import *\n",
                "\n",
                "from oodeel.eval.metrics import bench_metrics, get_curve\n",
                "from oodeel.datasets import DataHandler\n"
            ]
        },
        {
            "attachments": {},
            "cell_type": "markdown",
            "metadata": {},
            "source": [
                "> **Note**: In `oodeel.methods.odin`, the import `from tensorflow.python.keras.utils.generic_utils import get_custom_objects` should be replaced with `from tensorflow.python.keras.utils import get_custom_objects`\n"
            ]
        },
        {
            "attachments": {},
            "cell_type": "markdown",
            "metadata": {},
            "source": [
                "## MNIST (0-4) vs MNIST (5-9)"
            ]
        },
        {
            "attachments": {},
            "cell_type": "markdown",
            "metadata": {},
            "source": [
                "### Data and model loading\n",
                "ID data: MNIST (0-4), OOD data: MNIST (5-9)"
            ]
        },
        {
            "cell_type": "code",
            "execution_count": 8,
            "metadata": {},
            "outputs": [],
            "source": [
                "data_handler = DataHandler()\n",
                "normalize = lambda x: x / 255\n",
                "mnist_ds = data_handler.load_tfds('mnist', preprocess=True, preprocessing_fun=normalize)\n",
                "\n",
                "# train / test set\n",
                "x_train, _ = data_handler.filter_tfds(mnist_ds['train'], inc_labels=list(range(5)))\n",
                "x_test, x_ood = data_handler.filter_tfds(mnist_ds['test'], inc_labels=list(range(5)))\n",
                "\n",
                "# id / ood set\n",
                "x_id = x_test"
            ]
        },
        {
            "cell_type": "code",
            "execution_count": 9,
            "metadata": {},
            "outputs": [],
            "source": [
                "load = True\n",
                "checkpoint_path = '../saved_models/mnist_5'\n",
                "\n",
                "if load:\n",
                "    model = tf.keras.models.load_model(checkpoint_path)\n",
                "else:\n",
                "    # define model\n",
                "    num_classes = 5\n",
                "    input_shape = (28, 28, 1)\n",
                "\n",
                "    model = keras.Sequential(\n",
                "        [\n",
                "            keras.Input(shape=input_shape),\n",
                "            layers.Conv2D(32, kernel_size=(3, 3), activation=\"relu\"),\n",
                "            layers.MaxPooling2D(pool_size=(2, 2)),\n",
                "            layers.Conv2D(64, kernel_size=(3, 3), activation=\"relu\"),\n",
                "            layers.MaxPooling2D(pool_size=(2, 2)),\n",
                "            layers.Flatten(),\n",
                "            layers.Dropout(0.5),\n",
                "            layers.Dense(num_classes, activation=\"softmax\"),\n",
                "        ]\n",
                "    )\n",
                "    model.summary()\n",
                "\n",
                "    # train model\n",
                "    batch_size = 128\n",
                "    epochs = 15\n",
                "\n",
                "    model.compile(loss=\"sparse_categorical_crossentropy\", optimizer=\"adam\", metrics=[\"accuracy\"])\n",
                "    model.fit(x_train.batch(batch_size), validation_data=x_test.batch(batch_size), epochs=epochs)\n",
                "    model.save(checkpoint_path)"
            ]
        },
        {
            "attachments": {},
            "cell_type": "markdown",
            "metadata": {},
            "source": [
                "### DKNN score"
            ]
        },
        {
            "cell_type": "code",
            "execution_count": 14,
            "metadata": {},
            "outputs": [
                {
                    "name": "stdout",
                    "output_type": "stream",
                    "text": [
                        "auroc       0.974568\n",
                        "fpr95tpr    0.115587\n",
                        "Name: mnist-0-4-vs-5-10, dtype: float64\n"
                    ]
                },
                {
                    "data": {
                        "image/png": "[encoded data removed]",
                        "text/plain": [
                            "<Figure size 900x300 with 2 Axes>"
                        ]
                    },
                    "metadata": {},
                    "output_type": "display_data"
                }
            ],
            "source": [
                "batch_size = 128\n",
                "\n",
                "oodmodel = DKNN(nearest=50)\n",
                "oodmodel.fit(model, x_train.take(10000).batch(batch_size))\n",
                "scores_id = oodmodel.score(x_id.take(10000).batch(batch_size))\n",
                "scores_ood = oodmodel.score(x_ood.take(10000).batch(batch_size))\n",
                "\n",
                "# auroc / fpr95\n",
                "scores = np.concatenate([scores_id, scores_ood])\n",
                "labels= np.array([0] * len(scores_id) + [1] * len(scores_ood))\n",
                "fpr, tpr = get_curve(scores, labels)\n",
                "metrics = bench_metrics(\n",
                "    scores, labels,\n",
                "    metrics=[\"auroc\", \"fpr95tpr\"],\n",
                ")\n",
                "metrics_first_vs_last = pd.Series(metrics, name='mnist-0-4-vs-5-10')\n",
                "print(metrics_first_vs_last)\n",
                "\n",
                "# plot hists / roc\n",
                "plt.figure(figsize=(9,3))\n",
                "plt.subplot(121)\n",
                "plt.hist((scores_ood, scores_id), bins=30, color=(\"blue\", \"orange\"), label=(\"ood\", \"id\"), density=True)\n",
                "plt.legend()\n",
                "plt.subplot(122)\n",
                "plt.plot(fpr, tpr)\n",
                "plt.show()"
            ]
        },
        {
            "cell_type": "code",
            "execution_count": null,
            "metadata": {},
            "outputs": [],
            "source": []
        },
        {
            "attachments": {},
            "cell_type": "markdown",
            "metadata": {},
            "source": [
                "## MNIST vs Fashion MNIST"
            ]
        },
        {
            "attachments": {},
            "cell_type": "markdown",
            "metadata": {},
            "source": [
                "\n",
                "### Data and model loading\n",
                "ID data: MNIST, OOD data: Fashion MNIST"
            ]
        },
        {
            "cell_type": "code",
            "execution_count": 15,
            "metadata": {},
            "outputs": [
                {
                    "name": "stderr",
                    "output_type": "stream",
                    "text": [
                        "2023-02-10 15:52:51.708648: W tensorflow/core/kernels/data/cache_dataset_ops.cc:856] The calling iterator did not fully read the dataset being cached. In order to avoid unexpected truncation of the dataset, the partially cached contents of the dataset  will be discarded. This can happen if you have an input pipeline similar to `dataset.cache().take(k).repeat()`. You should use `dataset.take(k).cache().repeat()` instead.\n"
                    ]
                }
            ],
            "source": [
                "data_handler = DataHandler()\n",
                "normalize = lambda x: x / 255\n",
                "ds1 = data_handler.load_tfds('mnist', preprocess=True, preprocessing_fun=normalize)\n",
                "ds2 = data_handler.load_tfds('fashion_mnist', preprocess=True, preprocessing_fun=normalize)\n",
                "\n",
                "# train / test set\n",
                "x_train, x_test = ds1['train'], ds1['test']\n",
                "# id / ood set\n",
                "x_id, x_ood = ds1[\"test\"], ds2[\"test\"]\n",
                "x_test_ood = data_handler.merge_tfds(x_id.take(1000), x_ood.take(1000), shuffle='True')"
            ]
        },
        {
            "cell_type": "code",
            "execution_count": 16,
            "metadata": {},
            "outputs": [],
            "source": [
                "load = True\n",
                "checkpoint_path = '../saved_models/mnist_10'\n",
                "\n",
                "if load:\n",
                "    model = tf.keras.models.load_model(checkpoint_path)\n",
                "else:\n",
                "    # define model\n",
                "    num_classes = 10\n",
                "    input_shape = (28, 28, 1)\n",
                "\n",
                "    model = keras.Sequential(\n",
                "        [\n",
                "            keras.Input(shape=input_shape),\n",
                "            layers.Conv2D(32, kernel_size=(3, 3), activation=\"relu\"),\n",
                "            layers.MaxPooling2D(pool_size=(2, 2)),\n",
                "            layers.Conv2D(64, kernel_size=(3, 3), activation=\"relu\"),\n",
                "            layers.MaxPooling2D(pool_size=(2, 2)),\n",
                "            layers.Flatten(),\n",
                "            layers.Dropout(0.5),\n",
                "            layers.Dense(num_classes, activation=\"softmax\"),\n",
                "        ]\n",
                "    )\n",
                "    model.summary()\n",
                "\n",
                "    # train model\n",
                "    batch_size = 128\n",
                "    epochs = 15\n",
                "\n",
                "    model.compile(loss=\"sparse_categorical_crossentropy\", optimizer=\"adam\", metrics=[\"accuracy\"])\n",
                "    model.fit(x_train.batch(batch_size), validation_data=x_test.batch(batch_size), epochs=epochs)\n",
                "    model.save(checkpoint_path)"
            ]
        },
        {
            "attachments": {},
            "cell_type": "markdown",
            "metadata": {},
            "source": [
                "### DKNN score"
            ]
        },
        {
            "cell_type": "code",
            "execution_count": 18,
            "metadata": {},
            "outputs": [
                {
                    "name": "stderr",
                    "output_type": "stream",
                    "text": [
                        "2023-02-10 16:04:45.311473: W tensorflow/core/kernels/data/cache_dataset_ops.cc:856] The calling iterator did not fully read the dataset being cached. In order to avoid unexpected truncation of the dataset, the partially cached contents of the dataset  will be discarded. This can happen if you have an input pipeline similar to `dataset.cache().take(k).repeat()`. You should use `dataset.take(k).cache().repeat()` instead.\n"
                    ]
                },
                {
                    "name": "stdout",
                    "output_type": "stream",
                    "text": [
                        "auroc       0.997319\n",
                        "fpr95tpr    0.009200\n",
                        "Name: mnist-10-vs-fashion, dtype: float64\n"
                    ]
                },
                {
                    "data": {
                        "image/png": "[encoded data removed]",
                        "text/plain": [
                            "<Figure size 900x300 with 2 Axes>"
                        ]
                    },
                    "metadata": {},
                    "output_type": "display_data"
                }
            ],
            "source": [
                "oodmodel = DKNN(nearest=50)\n",
                "oodmodel.fit(model, x_train.take(10000).batch(batch_size))\n",
                "scores_id = oodmodel.score(x_id.take(10000).batch(batch_size)) \n",
                "scores_ood = oodmodel.score(x_ood.take(10000).batch(batch_size))\n",
                "\n",
                "# auroc / fpr95\n",
                "scores = np.concatenate([scores_id, scores_ood])\n",
                "labels= np.array([0] * len(scores_id) + [1] * len(scores_ood))\n",
                "fpr, tpr = get_curve(scores, labels)\n",
                "metrics = bench_metrics(\n",
                "    scores, labels,\n",
                "    metrics=[\"auroc\", \"fpr95tpr\"]\n",
                ")\n",
                "metrics_fashion = pd.Series(metrics, name='mnist-10-vs-fashion')\n",
                "print(metrics_fashion)\n",
                "\n",
                "# plot hists / roc\n",
                "plt.figure(figsize=(9,3))\n",
                "plt.subplot(121)\n",
                "plt.hist((scores_ood, scores_id), bins=30, color=(\"blue\", \"orange\"), label=(\"ood\", \"id\"), density=True)\n",
                "plt.legend()\n",
                "plt.subplot(122)\n",
                "plt.plot(fpr, tpr)\n",
                "plt.show()"
            ]
        },
        {
            "attachments": {},
            "cell_type": "markdown",
            "metadata": {},
            "source": [
                "## CIFAR-10 vs [SVHN, LSUN, iSUN, Texture]"
            ]
        },
        {
            "attachments": {},
            "cell_type": "markdown",
            "metadata": {},
            "source": [
                "### ID Data and model loading"
            ]
        },
        {
            "cell_type": "code",
            "execution_count": 19,
            "metadata": {},
            "outputs": [
                {
                    "name": "stdout",
                    "output_type": "stream",
                    "text": [
                        "\u001b[1mDownloading and preparing dataset 162.17 MiB (download: 162.17 MiB, generated: 132.40 MiB, total: 294.58 MiB) to /Users/paul/scratch/tensorflow_datasets/cifar10/3.0.2...\u001b[0m\n"
                    ]
                },
                {
                    "name": "stderr",
                    "output_type": "stream",
                    "text": [
                        "Dl Completed...: 0 url [00:00, ? url/s]\n",
                        "Dl Completed...:   0%|          | 0/1 [00:00<?, ? url/s]\n",
                        "Dl Completed...:   0%|          | 0/1 [00:00<?, ? url/s]\n",
                        "Dl Completed...:   0%|          | 0/1 [00:01<?, ? url/s]\n",
                        "Dl Completed...:   0%|          | 0/1 [00:02<?, ? url/s]\n",
                        "Dl Completed...:   0%|          | 0/1 [00:02<?, ? url/s]\n",
                        "Dl Completed...:   0%|          | 0/1 [00:02<?, ? url/s]\n",
                        "Dl Completed...:   0%|          | 0/1 [00:02<?, ? url/s]\n",
                        "Dl Completed...:   0%|          | 0/1 [00:03<?, ? url/s]\n",
                        "Dl Completed...:   0%|          | 0/1 [00:03<?, ? url/s]\n",
                        "Dl Completed...:   0%|          | 0/1 [00:03<?, ? url/s]\n",
                        "Dl Completed...:   0%|          | 0/1 [00:03<?, ? url/s]\n",
                        "Dl Completed...:   0%|          | 0/1 [00:04<?, ? url/s]\n",
                        "Dl Completed...:   0%|          | 0/1 [00:04<?, ? url/s]\n",
                        "Dl Completed...:   0%|          | 0/1 [00:05<?, ? url/s]\n",
                        "Dl Completed...:   0%|          | 0/1 [00:05<?, ? url/s]\n",
                        "Dl Completed...:   0%|          | 0/1 [00:05<?, ? url/s]\n",
                        "Dl Completed...:   0%|          | 0/1 [00:06<?, ? url/s]\n",
                        "Dl Completed...:   0%|          | 0/1 [00:07<?, ? url/s]\n",
                        "Dl Completed...:   0%|          | 0/1 [00:07<?, ? url/s]\n",
                        "Dl Completed...:   0%|          | 0/1 [00:07<?, ? url/s]\n",
                        "Dl Completed...:   0%|          | 0/1 [00:08<?, ? url/s]\n",
                        "Dl Completed...:   0%|          | 0/1 [00:08<?, ? url/s]\n",
                        "Dl Completed...:   0%|          | 0/1 [00:08<?, ? url/s]\n",
                        "Dl Completed...:   0%|          | 0/1 [00:09<?, ? url/s]\n",
                        "Dl Completed...:   0%|          | 0/1 [00:09<?, ? url/s]\n",
                        "Dl Completed...:   0%|          | 0/1 [00:09<?, ? url/s]\n",
                        "Dl Completed...:   0%|          | 0/1 [00:10<?, ? url/s]\n",
                        "Dl Completed...:   0%|          | 0/1 [00:10<?, ? url/s]\n",
                        "Dl Completed...:   0%|          | 0/1 [00:10<?, ? url/s]\n",
                        "Dl Completed...:   0%|          | 0/1 [00:11<?, ? url/s]\n",
                        "Dl Completed...:   0%|          | 0/1 [00:11<?, ? url/s]\n",
                        "Dl Completed...:   0%|          | 0/1 [00:12<?, ? url/s]\n",
                        "Dl Completed...:   0%|          | 0/1 [00:12<?, ? url/s]\n",
                        "Dl Completed...:   0%|          | 0/1 [00:12<?, ? url/s]\n",
                        "Dl Completed...:   0%|          | 0/1 [00:12<?, ? url/s]\n",
                        "Dl Completed...:   0%|          | 0/1 [00:13<?, ? url/s]\n",
                        "Dl Completed...:   0%|          | 0/1 [00:13<?, ? url/s]\n",
                        "Dl Completed...:   0%|          | 0/1 [00:13<?, ? url/s]\n",
                        "Dl Completed...:   0%|          | 0/1 [00:14<?, ? url/s]\n",
                        "Dl Completed...:   0%|          | 0/1 [00:14<?, ? url/s]\n",
                        "Dl Completed...:   0%|          | 0/1 [00:15<?, ? url/s]\n",
                        "Dl Completed...:   0%|          | 0/1 [00:15<?, ? url/s]\n",
                        "Dl Completed...:   0%|          | 0/1 [00:15<?, ? url/s]\n",
                        "Dl Completed...:   0%|          | 0/1 [00:16<?, ? url/s]\n",
                        "Dl Completed...:   0%|          | 0/1 [00:16<?, ? url/s]\n",
                        "Dl Completed...:   0%|          | 0/1 [00:16<?, ? url/s]\n",
                        "Dl Completed...:   0%|          | 0/1 [00:17<?, ? url/s]\n",
                        "Dl Completed...:   0%|          | 0/1 [00:17<?, ? url/s]\n",
                        "Dl Completed...:   0%|          | 0/1 [00:17<?, ? url/s]\n",
                        "Dl Completed...:   0%|          | 0/1 [00:18<?, ? url/s]\n",
                        "Dl Completed...:   0%|          | 0/1 [00:18<?, ? url/s]\n",
                        "Dl Completed...:   0%|          | 0/1 [00:18<?, ? url/s]\n",
                        "Dl Completed...:   0%|          | 0/1 [00:19<?, ? url/s]\n",
                        "Dl Completed...:   0%|          | 0/1 [00:19<?, ? url/s]\n",
                        "Dl Completed...:   0%|          | 0/1 [00:19<?, ? url/s]\n",
                        "Dl Completed...:   0%|          | 0/1 [00:19<?, ? url/s]\n",
                        "Dl Completed...:   0%|          | 0/1 [00:20<?, ? url/s]\n",
                        "Dl Completed...:   0%|          | 0/1 [00:20<?, ? url/s]\n",
                        "Dl Completed...:   0%|          | 0/1 [00:21<?, ? url/s]\n",
                        "Dl Completed...:   0%|          | 0/1 [00:21<?, ? url/s]\n",
                        "Dl Completed...:   0%|          | 0/1 [00:22<?, ? url/s]\n",
                        "Dl Completed...:   0%|          | 0/1 [00:22<?, ? url/s]\n",
                        "Dl Completed...:   0%|          | 0/1 [00:23<?, ? url/s]\n",
                        "Dl Completed...:   0%|          | 0/1 [00:23<?, ? url/s]\n",
                        "Dl Completed...:   0%|          | 0/1 [00:24<?, ? url/s]\n",
                        "Dl Completed...:   0%|          | 0/1 [00:25<?, ? url/s]\n",
                        "Dl Completed...:   0%|          | 0/1 [00:25<?, ? url/s]\n",
                        "Dl Completed...:   0%|          | 0/1 [00:26<?, ? url/s]\n",
                        "Dl Completed...:   0%|          | 0/1 [00:26<?, ? url/s]\n",
                        "Dl Completed...:   0%|          | 0/1 [00:27<?, ? url/s]\n",
                        "Dl Completed...:   0%|          | 0/1 [00:28<?, ? url/s]\n",
                        "Dl Completed...:   0%|          | 0/1 [00:28<?, ? url/s]\n",
                        "Dl Completed...:   0%|          | 0/1 [00:29<?, ? url/s]\n",
                        "Dl Completed...:   0%|          | 0/1 [00:29<?, ? url/s]\n",
                        "Dl Completed...:   0%|          | 0/1 [00:30<?, ? url/s]\n",
                        "Dl Completed...:   0%|          | 0/1 [00:30<?, ? url/s]\n",
                        "Dl Completed...:   0%|          | 0/1 [00:31<?, ? url/s]\n",
                        "Dl Completed...:   0%|          | 0/1 [00:31<?, ? url/s]\n",
                        "Dl Completed...:   0%|          | 0/1 [00:32<?, ? url/s]\n",
                        "Dl Completed...:   0%|          | 0/1 [00:32<?, ? url/s]\n",
                        "Dl Completed...:   0%|          | 0/1 [00:33<?, ? url/s]\n",
                        "Dl Completed...:   0%|          | 0/1 [00:34<?, ? url/s]\n",
                        "Dl Completed...:   0%|          | 0/1 [00:34<?, ? url/s]\n",
                        "Dl Completed...:   0%|          | 0/1 [00:34<?, ? url/s]\n",
                        "Dl Completed...:   0%|          | 0/1 [00:35<?, ? url/s]\n",
                        "Dl Completed...:   0%|          | 0/1 [00:35<?, ? url/s]\n",
                        "Dl Completed...:   0%|          | 0/1 [00:35<?, ? url/s]\n",
                        "Dl Completed...:   0%|          | 0/1 [00:36<?, ? url/s]\n",
                        "Dl Completed...:   0%|          | 0/1 [00:36<?, ? url/s]\n",
                        "Dl Completed...:   0%|          | 0/1 [00:36<?, ? url/s]\n",
                        "Dl Completed...:   0%|          | 0/1 [00:37<?, ? url/s]\n",
                        "Dl Completed...:   0%|          | 0/1 [00:37<?, ? url/s]\n",
                        "Dl Completed...:   0%|          | 0/1 [00:37<?, ? url/s]\n",
                        "Dl Completed...:   0%|          | 0/1 [00:38<?, ? url/s]\n",
                        "Dl Completed...:   0%|          | 0/1 [00:39<?, ? url/s]\n",
                        "Dl Completed...:   0%|          | 0/1 [00:39<?, ? url/s]\n",
                        "Dl Completed...:   0%|          | 0/1 [00:40<?, ? url/s]\n",
                        "Dl Completed...:   0%|          | 0/1 [00:40<?, ? url/s]\n",
                        "Dl Completed...:   0%|          | 0/1 [00:41<?, ? url/s]\n",
                        "Dl Completed...:   0%|          | 0/1 [00:42<?, ? url/s]\n",
                        "Dl Completed...:   0%|          | 0/1 [00:42<?, ? url/s]\n",
                        "Dl Completed...:   0%|          | 0/1 [00:42<?, ? url/s]\n",
                        "Dl Completed...:   0%|          | 0/1 [00:43<?, ? url/s]\n",
                        "Dl Completed...:   0%|          | 0/1 [00:43<?, ? url/s]\n",
                        "Dl Completed...:   0%|          | 0/1 [00:43<?, ? url/s]\n",
                        "Dl Completed...:   0%|          | 0/1 [00:44<?, ? url/s]\n",
                        "Dl Completed...:   0%|          | 0/1 [00:44<?, ? url/s]\n",
                        "Dl Completed...:   0%|          | 0/1 [00:44<?, ? url/s]\n",
                        "Dl Completed...:   0%|          | 0/1 [00:45<?, ? url/s]\n",
                        "Dl Completed...:   0%|          | 0/1 [00:45<?, ? url/s]\n",
                        "Dl Completed...:   0%|          | 0/1 [00:46<?, ? url/s]\n",
                        "Dl Completed...:   0%|          | 0/1 [00:46<?, ? url/s]\n",
                        "Dl Completed...:   0%|          | 0/1 [00:46<?, ? url/s]\n",
                        "Dl Completed...:   0%|          | 0/1 [00:47<?, ? url/s]\n",
                        "Dl Completed...:   0%|          | 0/1 [00:47<?, ? url/s]\n",
                        "Dl Completed...:   0%|          | 0/1 [00:48<?, ? url/s]\n",
                        "Dl Completed...:   0%|          | 0/1 [00:49<?, ? url/s]\n",
                        "Dl Completed...:   0%|          | 0/1 [00:49<?, ? url/s]\n",
                        "Dl Completed...:   0%|          | 0/1 [00:49<?, ? url/s]\n",
                        "Dl Completed...:   0%|          | 0/1 [00:50<?, ? url/s]\n",
                        "Dl Completed...:   0%|          | 0/1 [00:50<?, ? url/s]\n",
                        "Dl Completed...:   0%|          | 0/1 [00:50<?, ? url/s]\n",
                        "Dl Completed...:   0%|          | 0/1 [00:51<?, ? url/s]\n",
                        "Dl Completed...:   0%|          | 0/1 [00:51<?, ? url/s]\n",
                        "Dl Completed...:   0%|          | 0/1 [00:52<?, ? url/s]\n",
                        "Dl Completed...:   0%|          | 0/1 [00:52<?, ? url/s]\n",
                        "Dl Completed...:   0%|          | 0/1 [00:52<?, ? url/s]\n",
                        "Dl Completed...:   0%|          | 0/1 [00:53<?, ? url/s]\n",
                        "Dl Completed...:   0%|          | 0/1 [00:53<?, ? url/s]\n",
                        "Dl Completed...:   0%|          | 0/1 [00:54<?, ? url/s]\n",
                        "Dl Completed...:   0%|          | 0/1 [00:54<?, ? url/s]\n",
                        "Dl Completed...:   0%|          | 0/1 [00:55<?, ? url/s]\n",
                        "Dl Completed...:   0%|          | 0/1 [00:55<?, ? url/s]\n",
                        "Dl Completed...:   0%|          | 0/1 [00:56<?, ? url/s]\n",
                        "Dl Completed...:   0%|          | 0/1 [00:56<?, ? url/s]\n",
                        "Dl Completed...:   0%|          | 0/1 [00:57<?, ? url/s]\n",
                        "Dl Completed...:   0%|          | 0/1 [00:57<?, ? url/s]\n",
                        "Dl Completed...:   0%|          | 0/1 [00:58<?, ? url/s]\n",
                        "Dl Completed...:   0%|          | 0/1 [00:58<?, ? url/s]\n",
                        "Dl Completed...:   0%|          | 0/1 [00:59<?, ? url/s]\n",
                        "Dl Completed...:   0%|          | 0/1 [00:59<?, ? url/s]\n",
                        "Dl Completed...:   0%|          | 0/1 [00:59<?, ? url/s]\n",
                        "Dl Completed...:   0%|          | 0/1 [01:00<?, ? url/s]\n",
                        "Dl Completed...:   0%|          | 0/1 [01:00<?, ? url/s]\n",
                        "Dl Completed...:   0%|          | 0/1 [01:01<?, ? url/s]\n",
                        "Dl Completed...:   0%|          | 0/1 [01:01<?, ? url/s]\n",
                        "Dl Completed...:   0%|          | 0/1 [01:02<?, ? url/s]\n",
                        "Dl Completed...:   0%|          | 0/1 [01:02<?, ? url/s]\n",
                        "Dl Completed...:   0%|          | 0/1 [01:02<?, ? url/s]\n",
                        "Dl Completed...:   0%|          | 0/1 [01:03<?, ? url/s]\n",
                        "Dl Completed...:   0%|          | 0/1 [01:03<?, ? url/s]\n",
                        "Dl Completed...:   0%|          | 0/1 [01:04<?, ? url/s]\n",
                        "Dl Completed...:   0%|          | 0/1 [01:04<?, ? url/s]\n",
                        "Dl Completed...:   0%|          | 0/1 [01:04<?, ? url/s]\n",
                        "Dl Completed...:   0%|          | 0/1 [01:05<?, ? url/s]\n",
                        "Dl Completed...:   0%|          | 0/1 [01:05<?, ? url/s]\n",
                        "Dl Completed...:   0%|          | 0/1 [01:06<?, ? url/s]\n",
                        "Dl Completed...:   0%|          | 0/1 [01:06<?, ? url/s]\n",
                        "Dl Completed...:   0%|          | 0/1 [01:06<?, ? url/s]\n",
                        "Dl Completed...:   0%|          | 0/1 [01:07<?, ? url/s]\n",
                        "Dl Completed...:   0%|          | 0/1 [01:07<?, ? url/s]\n",
                        "Dl Completed...:   0%|          | 0/1 [01:07<?, ? url/s]\n",
                        "Dl Completed...:   0%|          | 0/1 [01:08<?, ? url/s]\n",
                        "Dl Completed...:   0%|          | 0/1 [01:08<?, ? url/s]\n",
                        "Dl Completed...: 100%|██████████| 1/1 [01:08<00:00, 68.20s/ url]\n",
                        "Dl Completed...: 100%|██████████| 1/1 [01:08<00:00, 68.20s/ url]\n",
                        "\u001b[A\n",
                        "Dl Completed...: 100%|██████████| 1/1 [01:09<00:00, 68.20s/ url]\n",
                        "Extraction completed...: 100%|██████████| 1/1 [01:09<00:00, 69.98s/ file]\n",
                        "Dl Size...: 100%|██████████| 162/162 [01:09<00:00,  2.31 MiB/s]\n",
                        "Dl Completed...: 100%|██████████| 1/1 [01:09<00:00, 69.98s/ url]\n",
                        "                                                                        \r"
                    ]
                },
                {
                    "name": "stdout",
                    "output_type": "stream",
                    "text": [
                        "\u001b[1mDataset cifar10 downloaded and prepared to /Users/paul/scratch/tensorflow_datasets/cifar10/3.0.2. Subsequent calls will reuse this data.\u001b[0m\n",
                        "\u001b[1mDownloading and preparing dataset 1.47 GiB (download: 1.47 GiB, generated: Unknown size, total: 1.47 GiB) to /Users/paul/scratch/tensorflow_datasets/svhn_cropped/3.0.0...\u001b[0m\n"
                    ]
                },
                {
                    "name": "stderr",
                    "output_type": "stream",
                    "text": [
                        "Dl Completed...:   0%|          | 0/3 [03:22<?, ? url/s]"
                    ]
                }
            ],
            "source": [
                "data_handler = DataHandler()\n",
                "normalize = lambda x: x / 255\n",
                "ds1 = data_handler.load_tfds('cifar10', preprocess=True, preprocessing_fun=normalize)\n",
                "ds2 = data_handler.load_tfds('svhn_cropped', preprocess=True, preprocessing_fun=normalize)\n",
                "\n",
                "# train / test set\n",
                "x_train, x_test = ds1['train'], ds1['test']\n",
                "# id set\n",
                "x_id= ds1[\"test\"]\n",
                "\n",
                "# load model\n",
                "# (to train the model, run: python -m notebooks.train_cifar10)\n",
                "model = tf.keras.models.load_model(\"../saved_models/cifar10_dknn/\")\n",
                "\n",
                "# model = tf.keras.models.load_model(\"../saved_models/cifar10/\")\n",
                "# best: cifar10 => 200 epochs, cosine scheduler, [0, 1]"
            ]
        },
        {
            "attachments": {},
            "cell_type": "markdown",
            "metadata": {},
            "source": [
                "### OOD data: SVHN\n",
                "ID data: CIFAR-10, OOD data: SVHN"
            ]
        },
        {
            "cell_type": "code",
            "execution_count": null,
            "metadata": {},
            "outputs": [
                {
                    "name": "stderr",
                    "output_type": "stream",
                    "text": [
                        "2023-02-04 01:04:37.096322: W tensorflow/core/kernels/data/cache_dataset_ops.cc:856] The calling iterator did not fully read the dataset being cached. In order to avoid unexpected truncation of the dataset, the partially cached contents of the dataset  will be discarded. This can happen if you have an input pipeline similar to `dataset.cache().take(k).repeat()`. You should use `dataset.take(k).cache().repeat()` instead.\n"
                    ]
                },
                {
                    "name": "stdout",
                    "output_type": "stream",
                    "text": [
                        "auroc       0.865995\n",
                        "fpr95tpr    0.370100\n",
                        "Name: cifar-vs-svhn, dtype: float64\n"
                    ]
                },
                {
                    "data": {
                        "image/png": "[encoded data removed]",
                        "text/plain": [
                            "<Figure size 900x300 with 2 Axes>"
                        ]
                    },
                    "metadata": {},
                    "output_type": "display_data"
                }
            ],
            "source": [
                "# ood dataset\n",
                "ds2 = data_handler.load_tfds('svhn_cropped', preprocess=True, preprocessing_fun=normalize)\n",
                "x_ood = ds2['test']\n",
                "\n",
                "oodmodel = DKNN(nearest=50, output_layers_id=['pool1'])\n",
                "oodmodel.fit(model, x_train.take(10000).batch(batch_size))\n",
                "scores_id = oodmodel.score(x_id.take(10000).batch(batch_size))\n",
                "scores_ood = oodmodel.score(x_ood.take(10000).batch(batch_size))\n",
                "\n",
                "# auroc / fpr95\n",
                "scores = np.concatenate([scores_id, scores_ood])\n",
                "labels= np.array([0] * len(scores_id) + [1] * len(scores_ood))\n",
                "fpr, tpr = get_curve(scores, labels)\n",
                "metrics = bench_metrics(\n",
                "    scores, labels,\n",
                "    metrics=[\"auroc\", \"fpr95tpr\"]\n",
                ")\n",
                "metrics_cifar_svhn = pd.Series(metrics, name='cifar-vs-svhn')\n",
                "print(metrics_cifar_svhn)\n",
                "\n",
                "# plot hists / roc\n",
                "plt.figure(figsize=(9,3))\n",
                "plt.subplot(121)\n",
                "plt.hist((scores_ood, scores_id), bins=30, color=(\"blue\", \"orange\"), label=(\"ood\", \"id\"), density=True)\n",
                "plt.legend()\n",
                "plt.subplot(122)\n",
                "plt.plot(fpr, tpr)\n",
                "plt.show()"
            ]
        },
        {
            "attachments": {},
            "cell_type": "markdown",
            "metadata": {},
            "source": [
                "### OOD data: LSUN\n",
                "ID data: CIFAR-10, OOD data: LSUN"
            ]
        },
        {
            "cell_type": "code",
            "execution_count": null,
            "metadata": {},
            "outputs": [
                {
                    "name": "stdout",
                    "output_type": "stream",
                    "text": [
                        "Found 10000 files belonging to 1 classes.\n"
                    ]
                },
                {
                    "name": "stderr",
                    "output_type": "stream",
                    "text": [
                        "2023-02-04 01:04:43.879091: W tensorflow/core/kernels/data/cache_dataset_ops.cc:856] The calling iterator did not fully read the dataset being cached. In order to avoid unexpected truncation of the dataset, the partially cached contents of the dataset  will be discarded. This can happen if you have an input pipeline similar to `dataset.cache().take(k).repeat()`. You should use `dataset.take(k).cache().repeat()` instead.\n"
                    ]
                },
                {
                    "name": "stdout",
                    "output_type": "stream",
                    "text": [
                        "auroc       0.998942\n",
                        "fpr95tpr    0.002600\n",
                        "Name: cifar-vs-lsun, dtype: float64\n"
                    ]
                },
                {
                    "data": {
                        "image/png": "[encoded data removed]",
                        "text/plain": [
                            "<Figure size 900x300 with 2 Axes>"
                        ]
                    },
                    "metadata": {},
                    "output_type": "display_data"
                }
            ],
            "source": [
                "import tensorflow as tf\n",
                "LSUN_root = '/data/home/yannick.prudent/ood_dataset/LSUN'\n",
                "lsun_ds = tf.keras.utils.image_dataset_from_directory(\n",
                "    LSUN_root,\n",
                "    image_size=(32, 32),\n",
                "    shuffle=False,\n",
                "    batch_size=None\n",
                ")\n",
                "# ood dataset\n",
                "x_ood = lsun_ds\n",
                "\n",
                "oodmodel = DKNN(nearest=50, output_layers_id=['pool1'])\n",
                "oodmodel.fit(model, x_train.take(10000))\n",
                "scores_id, scores_ood = oodmodel.score([x_id.take(10000), x_ood.take(10000)])\n",
                "\n",
                "# auroc / fpr95\n",
                "scores = np.concatenate([scores_id, scores_ood])\n",
                "labels= np.array([0] * len(scores_id) + [1] * len(scores_ood))\n",
                "fpr, tpr = get_curve(scores, labels)\n",
                "metrics = bench_metrics(\n",
                "    scores, labels,\n",
                "    metrics=[\"auroc\", \"fpr95tpr\"]\n",
                ")\n",
                "metrics_cifar_lsun = pd.Series(metrics, name='cifar-vs-lsun')\n",
                "print(metrics_cifar_lsun)\n",
                "\n",
                "# plot hists / roc\n",
                "plt.figure(figsize=(9,3))\n",
                "plt.subplot(121)\n",
                "plt.hist((scores_ood, scores_id), bins=30, color=(\"blue\", \"orange\"), label=(\"ood\", \"id\"), density=True)\n",
                "plt.legend()\n",
                "plt.subplot(122)\n",
                "plt.plot(fpr, tpr)\n",
                "plt.show()"
            ]
        },
        {
            "attachments": {},
            "cell_type": "markdown",
            "metadata": {},
            "source": [
                "### OOD data: iSUN\n",
                "ID data: CIFAR-10, OOD data: iSUN"
            ]
        },
        {
            "cell_type": "code",
            "execution_count": null,
            "metadata": {},
            "outputs": [
                {
                    "name": "stdout",
                    "output_type": "stream",
                    "text": [
                        "Found 8925 files belonging to 1 classes.\n"
                    ]
                },
                {
                    "name": "stderr",
                    "output_type": "stream",
                    "text": [
                        "2023-02-04 01:21:25.941738: W tensorflow/core/kernels/data/cache_dataset_ops.cc:856] The calling iterator did not fully read the dataset being cached. In order to avoid unexpected truncation of the dataset, the partially cached contents of the dataset  will be discarded. This can happen if you have an input pipeline similar to `dataset.cache().take(k).repeat()`. You should use `dataset.take(k).cache().repeat()` instead.\n"
                    ]
                },
                {
                    "name": "stdout",
                    "output_type": "stream",
                    "text": [
                        "auroc       0.997885\n",
                        "fpr95tpr    0.004600\n",
                        "Name: cifar-vs-isun, dtype: float64\n"
                    ]
                },
                {
                    "data": {
                        "image/png": "[encoded data removed]",
                        "text/plain": [
                            "<Figure size 900x300 with 2 Axes>"
                        ]
                    },
                    "metadata": {},
                    "output_type": "display_data"
                }
            ],
            "source": [
                "import tensorflow as tf\n",
                "iSUN_root = '/data/home/yannick.prudent/ood_dataset/iSUN'\n",
                "isun_ds = tf.keras.utils.image_dataset_from_directory(\n",
                "    iSUN_root,\n",
                "    image_size=(32, 32),\n",
                "    shuffle=False,\n",
                "    batch_size=None\n",
                ")\n",
                "# ood dataset\n",
                "x_ood = isun_ds\n",
                "\n",
                "oodmodel = DKNN(nearest=50, output_layers_id=['pool1'])\n",
                "oodmodel.fit(model, x_train.take(10000))\n",
                "scores_id, scores_ood = oodmodel.score([x_id.take(10000), x_ood.take(10000)])\n",
                "\n",
                "# auroc / fpr95\n",
                "scores = np.concatenate([scores_id, scores_ood])\n",
                "labels= np.array([0] * len(scores_id) + [1] * len(scores_ood))\n",
                "fpr, tpr = get_curve(scores, labels)\n",
                "metrics = bench_metrics(\n",
                "    scores, labels,\n",
                "    metrics=[\"auroc\", \"fpr95tpr\"]\n",
                ")\n",
                "metrics_cifar_isun = pd.Series(metrics, name='cifar-vs-isun')\n",
                "print(metrics_cifar_isun)\n",
                "\n",
                "# plot hists / roc\n",
                "plt.figure(figsize=(9,3))\n",
                "plt.subplot(121)\n",
                "plt.hist((scores_ood, scores_id), bins=30, color=(\"blue\", \"orange\"), label=(\"ood\", \"id\"), density=True)\n",
                "plt.legend()\n",
                "plt.subplot(122)\n",
                "plt.plot(fpr, tpr)\n",
                "plt.show()"
            ]
        },
        {
            "attachments": {},
            "cell_type": "markdown",
            "metadata": {},
            "source": [
                "### OOD data: Texture\n",
                "ID data: CIFAR-10, OOD data: Texture"
            ]
        },
        {
            "cell_type": "code",
            "execution_count": null,
            "metadata": {},
            "outputs": [
                {
                    "name": "stdout",
                    "output_type": "stream",
                    "text": [
                        "Found 5640 files belonging to 47 classes.\n"
                    ]
                },
                {
                    "name": "stderr",
                    "output_type": "stream",
                    "text": [
                        "2023-02-04 01:29:33.423863: W tensorflow/core/kernels/data/cache_dataset_ops.cc:856] The calling iterator did not fully read the dataset being cached. In order to avoid unexpected truncation of the dataset, the partially cached contents of the dataset  will be discarded. This can happen if you have an input pipeline similar to `dataset.cache().take(k).repeat()`. You should use `dataset.take(k).cache().repeat()` instead.\n"
                    ]
                },
                {
                    "name": "stdout",
                    "output_type": "stream",
                    "text": [
                        "auroc       0.997419\n",
                        "fpr95tpr    0.006700\n",
                        "Name: cifar-vs-texture, dtype: float64\n"
                    ]
                },
                {
                    "data": {
                        "image/png": "[encoded data removed]",
                        "text/plain": [
                            "<Figure size 900x300 with 2 Axes>"
                        ]
                    },
                    "metadata": {},
                    "output_type": "display_data"
                }
            ],
            "source": [
                "import tensorflow as tf\n",
                "texture_root = '/data/home/yannick.prudent/ood_dataset/dtd/images'\n",
                "texture_ds = tf.keras.utils.image_dataset_from_directory(\n",
                "    texture_root,\n",
                "    image_size=(32, 32),\n",
                "    shuffle=False,\n",
                "    batch_size=None,\n",
                ")\n",
                "# ood dataset\n",
                "x_ood = texture_ds\n",
                "\n",
                "oodmodel = DKNN(nearest=50, output_layers_id=['pool1'])\n",
                "oodmodel.fit(model, x_train.take(10000))\n",
                "scores_id, scores_ood = oodmodel.score([x_id.take(10000), x_ood.take(10000)])\n",
                "\n",
                "# auroc / fpr95\n",
                "scores = np.concatenate([scores_id, scores_ood])\n",
                "labels= np.array([0] * len(scores_id) + [1] * len(scores_ood))\n",
                "fpr, tpr = get_curve(scores, labels)\n",
                "metrics = bench_metrics(\n",
                "    scores, labels,\n",
                "    metrics=[\"auroc\", \"fpr95tpr\"]\n",
                ")\n",
                "metrics_cifar_texture = pd.Series(metrics, name='cifar-vs-texture')\n",
                "print(metrics_cifar_texture)\n",
                "\n",
                "# plot hists / roc\n",
                "plt.figure(figsize=(9,3))\n",
                "plt.subplot(121)\n",
                "plt.hist((scores_ood, scores_id), bins=30, color=(\"blue\", \"orange\"), label=(\"ood\", \"id\"), density=True)\n",
                "plt.legend()\n",
                "plt.subplot(122)\n",
                "plt.plot(fpr, tpr)\n",
                "plt.show()"
            ]
        },
        {
            "attachments": {},
            "cell_type": "markdown",
            "metadata": {},
            "source": [
                "## Results"
            ]
        },
        {
            "cell_type": "code",
            "execution_count": null,
            "metadata": {},
            "outputs": [
                {
                    "data": {
                        "text/html": [
                            "<div>\n",
                            "<style scoped>\n",
                            "    .dataframe tbody tr th:only-of-type {\n",
                            "        vertical-align: middle;\n",
                            "    }\n",
                            "\n",
                            "    .dataframe tbody tr th {\n",
                            "        vertical-align: top;\n",
                            "    }\n",
                            "\n",
                            "    .dataframe thead th {\n",
                            "        text-align: right;\n",
                            "    }\n",
                            "</style>\n",
                            "<table border=\"1\" class=\"dataframe\">\n",
                            "  <thead>\n",
                            "    <tr style=\"text-align: right;\">\n",
                            "      <th></th>\n",
                            "      <th>auroc</th>\n",
                            "      <th>fpr95tpr</th>\n",
                            "    </tr>\n",
                            "  </thead>\n",
                            "  <tbody>\n",
                            "    <tr>\n",
                            "      <th>mnist-0-4-vs-5-10</th>\n",
                            "      <td>0.975215</td>\n",
                            "      <td>0.107803</td>\n",
                            "    </tr>\n",
                            "    <tr>\n",
                            "      <th>mnist-10-vs-fashion</th>\n",
                            "      <td>0.997144</td>\n",
                            "      <td>0.010400</td>\n",
                            "    </tr>\n",
                            "    <tr>\n",
                            "      <th>cifar-vs-svhn</th>\n",
                            "      <td>0.865995</td>\n",
                            "      <td>0.370100</td>\n",
                            "    </tr>\n",
                            "    <tr>\n",
                            "      <th>cifar-vs-lsun</th>\n",
                            "      <td>0.998942</td>\n",
                            "      <td>0.002600</td>\n",
                            "    </tr>\n",
                            "    <tr>\n",
                            "      <th>cifar-vs-isun</th>\n",
                            "      <td>0.997885</td>\n",
                            "      <td>0.004600</td>\n",
                            "    </tr>\n",
                            "    <tr>\n",
                            "      <th>cifar-vs-texture</th>\n",
                            "      <td>0.997419</td>\n",
                            "      <td>0.006700</td>\n",
                            "    </tr>\n",
                            "  </tbody>\n",
                            "</table>\n",
                            "</div>"
                        ],
                        "text/plain": [
                            "                        auroc  fpr95tpr\n",
                            "mnist-0-4-vs-5-10    0.975215  0.107803\n",
                            "mnist-10-vs-fashion  0.997144  0.010400\n",
                            "cifar-vs-svhn        0.865995  0.370100\n",
                            "cifar-vs-lsun        0.998942  0.002600\n",
                            "cifar-vs-isun        0.997885  0.004600\n",
                            "cifar-vs-texture     0.997419  0.006700"
                        ]
                    },
                    "execution_count": 49,
                    "metadata": {},
                    "output_type": "execute_result"
                }
            ],
            "source": [
                "pd.concat([metrics_first_vs_last, metrics_fashion, metrics_cifar_svhn, metrics_cifar_lsun, metrics_cifar_isun, metrics_cifar_texture], axis=1).T"
            ]
        }
    ],
    "metadata": {
        "kernelspec": {
            "display_name": "tfmetal",
            "language": "python",
            "name": "python3"
        },
        "language_info": {
            "codemirror_mode": {
                "name": "ipython",
                "version": 3
            },
            "file_extension": ".py",
            "mimetype": "text/x-python",
            "name": "python",
            "nbconvert_exporter": "python",
            "pygments_lexer": "ipython3",
            "version": "3.9.16"
        },
        "orig_nbformat": 4,
        "vscode": {
            "interpreter": {
                "hash": "dada21ee7726b34311237058025d0293bf4743ff9612a3722201b24280433f0a"
            }
        }
    },
    "nbformat": 4,
    "nbformat_minor": 2
}
