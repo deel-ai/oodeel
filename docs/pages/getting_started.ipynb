{
 "cells": [
  {
   "attachments": {},
   "cell_type": "markdown",
   "metadata": {},
   "source": [
    "# Getting started: Maximum Logit Score on MNIST\n",
    "\n",
    "This notebook aims at introducing the core features of `oodeel`, including :\n",
    "* Instantiation of `OODDataset` to load a dataset from `tensorflow_datasets` or `torchvision.datasets` catalog and to organize in-distribution and out-of-distribution data.\n",
    "* Preparation of a `tf.data.Dataset` or a `torch.DataLoader` ready for scoring and/or training.\n",
    "* A simple utils to train neural nets (adapted when in-distribution is not a standard dataset, such as a subset of class from a dataset)\n",
    "* Instantiation of `OODBaseDetector` based on an already trained model, that is used for scoring data.\n",
    "* Some evaluation metrics to assess the quality of OOD detection.\n",
    "\n",
    "First, some required imports."
   ]
  },
  {
   "cell_type": "code",
   "execution_count": 10,
   "metadata": {},
   "outputs": [],
   "source": [
    "import os\n",
    "os.environ[\"TF_CPP_MIN_LOG_LEVEL\"] = \"2\" \n",
    "import tensorflow as tf\n",
    "tf.compat.v1.logging.set_verbosity(tf.compat.v1.logging.ERROR)\n",
    "import pandas as pd\n",
    "import numpy as np\n",
    "import matplotlib.pyplot as plt\n",
    "import torch \n",
    "from IPython.display import clear_output\n",
    "\n",
    "from oodeel.methods import MLS\n",
    "from oodeel.eval.metrics import bench_metrics\n",
    "from oodeel.datasets import OODDataset\n",
    "from oodeel.utils.tf_training_tools import train_tf_model\n",
    "from oodeel.utils.torch_training_tools import train_torch_model\n",
    "\n",
    "from sklearn.metrics import accuracy_score, roc_auc_score\n",
    "\n",
    "import warnings\n",
    "warnings.filterwarnings(\"ignore\")\n",
    "\n",
    "cuda_idx = 0 if torch.cuda.is_available() else None\n",
    "\n",
    "def plot_hist(scores_in, scores_out, bins, log=False):\n",
    "    if log:\n",
    "        minim = np.min([np.min(scores_in), np.min(scores_out)])\n",
    "        scores_in_ = scores_in - 2 * minim + np.min(scores_in[np.where(scores_in != minim)])\n",
    "        scores_out_ = scores_out - 2 * minim + np.min(scores_in[np.where(scores_in != minim)])\n",
    "        _, bins = np.histogram(np.concatenate([scores_in_, scores_out_]), bins=bins)\n",
    "        logbins = np.logspace(np.log10(bins[0]),np.log10(bins[-1]),len(bins))\n",
    "        plt.xscale('log')\n",
    "        plt.xlabel(\"score (normalized log axis)\")\n",
    "    else:\n",
    "        logbins=bins\n",
    "        scores_in_ = scores_in \n",
    "        scores_out_ = scores_out\n",
    "        plt.xlabel(\"score\")\n",
    "    plt.hist((scores_out_, scores_in_), bins=logbins, color=(\"blue\", \"orange\"), label=(\"ood\", \"id\"))\n",
    "    plt.legend()\n",
    "    plt.show()"
   ]
  },
  {
   "attachments": {},
   "cell_type": "markdown",
   "metadata": {},
   "source": [
    "Models are saved at *~/.oodeel/saved_models* and data is supposed to be found\n",
    "at *~/.oodeel/datasets* by default. Change the following cell for a custom path."
   ]
  },
  {
   "cell_type": "code",
   "execution_count": 2,
   "metadata": {},
   "outputs": [],
   "source": [
    "\n",
    "model_path = os.path.expanduser(\"~/\") + \".oodeel/saved_models\"\n",
    "data_path = os.path.expanduser(\"~/\") + \".oodeel/datasets\"\n",
    "os.makedirs(model_path, exist_ok=True)\n",
    "os.makedirs(data_path, exist_ok=True)"
   ]
  },
  {
   "attachments": {},
   "cell_type": "markdown",
   "metadata": {},
   "source": [
    "## MNIST vs Fashion MNIST\n",
    "\n",
    "* In-distribution data: MNIST \n",
    "* Out-of-distribution data: Fashion MNIST\n",
    "\n",
    "### Load and prepare the datasets\n",
    "\n",
    "This is performed using the class `OODDataset`. First, load the datasets.\n",
    "\n",
    "Before loading, choose your backend (tensorflow or torch). You only have to give it as input to `OODDataset` and that's it. The rest of the code will be exactly the same regardless of the library (except for model loading).\n",
    "\n",
    "When a `str` is given as argument, `OODDataset` will automatically search in the `tensorflow_datasets` or `torchision.datasets` catalogs. Be careful with the `str` you give as input, it has to exactly match the name of the dataset in `tensorflow_datasets` or `torchision.datasets` (and it is case-sensitive). \n",
    "\n",
    "<div class=\"admonition tip\">\n",
    "  <p class=\"admonition-title\">Loading from existing data objects</p>\n",
    "  <p>\n",
    "    In this notebook, the datasets are loaded from platforms, but you can also instanciate OODDataset with your own tf.data.Dataset, tf.Tensor, torch.Dataset or np.arrays\n",
    "  </p>\n",
    "</div>\n",
    "\n",
    "> **Warning**\n",
    ">\n",
    ">*  We denote In-Distribution (ID) data with `_in` and Out-Of-Distribution (OOD) data with `_out` to avoid confusion with OOD detection which is the name of the task, and is therefore used to denote core classes such as `OODDataset` and `OODBaseDetector`.\n",
    ">*  When loading from `tensorflow_datasets` or `torchision.datasets`, do not forget to check which `load_kwargs` to add. It can change for different datasets, even withing a same platform. \n",
    "\n",
    "In tensorflow from `tensorflow_datasets` catalog:\n"
   ]
  },
  {
   "cell_type": "code",
   "execution_count": 3,
   "metadata": {},
   "outputs": [],
   "source": [
    "backend = \"tensorflow\"\n",
    "\n",
    "oods_in = OODDataset(\n",
    "    'mnist', \n",
    "    load_kwargs = {\"split\": \"test\"}, \n",
    "    backend=backend,\n",
    ")\n",
    "oods_out = OODDataset(\n",
    "    'fashion_mnist', \n",
    "    load_kwargs = {\"split\": \"test\"}, \n",
    "    backend=backend,\n",
    ")\n",
    "oods_train = OODDataset(\n",
    "    'mnist', \n",
    "    load_kwargs = {\"split\": \"train\"}, \n",
    "    backend=backend,\n",
    ")\n",
    "\n",
    "clear_output()"
   ]
  },
  {
   "attachments": {},
   "cell_type": "markdown",
   "metadata": {},
   "source": [
    "In pytorch from `torchision.datasets` catalog::"
   ]
  },
  {
   "cell_type": "code",
   "execution_count": 3,
   "metadata": {},
   "outputs": [],
   "source": [
    "backend = \"torch\"\n",
    "\n",
    "oods_in = OODDataset(\n",
    "    'MNIST', \n",
    "    load_kwargs = {\"train\": False, \"root\": data_path, \"download\": True}, \n",
    "    backend=backend,\n",
    ")\n",
    "oods_out = OODDataset(\n",
    "    'FashionMNIST', \n",
    "    load_kwargs = {\"train\": False, \"root\": data_path, \"download\": True}, \n",
    "    backend=backend,\n",
    ")\n",
    "oods_train = OODDataset(\n",
    "    'MNIST', \n",
    "    load_kwargs = {\"train\": True, \"root\": data_path, \"download\": True}, \n",
    "    backend=backend,\n",
    ")"
   ]
  },
  {
   "attachments": {},
   "cell_type": "markdown",
   "metadata": {},
   "source": [
    "> **Note**\n",
    ">\n",
    "> When backend is \"torch\", the datasets can still be loaded from `tensorflow_datasets`, and are converted on the fly and loaded on VRAM as torch tensors. This feature can be useful because tensorflow_datasets's catalog is way larger than torchvision dataset's. In that case, however, the loaded dataset cannot be used for training with `train_torch_model`.\n",
    "\n",
    "Then, prepare the dataset for scoring and/or training using `.prepare` method."
   ]
  },
  {
   "cell_type": "code",
   "execution_count": 4,
   "metadata": {},
   "outputs": [],
   "source": [
    "def preprocess_fn(*inputs):\n",
    "    x = inputs[0] / 255\n",
    "    return tuple([x] + list(inputs[1:]))\n",
    "\n",
    "batch_size = 128\n",
    "\n",
    "ds_in = oods_in.prepare(batch_size=batch_size, preprocess_fn=preprocess_fn)\n",
    "ds_out = oods_out.prepare(batch_size=batch_size, preprocess_fn=preprocess_fn)\n",
    "ds_train = oods_train.prepare(batch_size=batch_size, preprocess_fn=preprocess_fn, shuffle=True)"
   ]
  },
  {
   "attachments": {},
   "cell_type": "markdown",
   "metadata": {},
   "source": [
    "`ds_in`, `ds_out` and `ds_train` are regular `tf.data.Dataset`or `torch.DataLoader` that you can use like usual!  \n",
    "\n",
    "Train or load a model on in-distribution data (MNIST).\n",
    "\n",
    "... a keras model ..."
   ]
  },
  {
   "cell_type": "code",
   "execution_count": 6,
   "metadata": {},
   "outputs": [
    {
     "name": "stdout",
     "output_type": "stream",
     "text": [
      "Epoch 1/5\n",
      "469/469 [==============================] - 14s 21ms/step - loss: 0.3258 - accuracy: 0.9042 - val_loss: 0.0810 - val_accuracy: 0.9754\n",
      "Epoch 2/5\n",
      "469/469 [==============================] - 9s 19ms/step - loss: 0.1007 - accuracy: 0.9696 - val_loss: 0.0602 - val_accuracy: 0.9806\n",
      "Epoch 3/5\n",
      "469/469 [==============================] - 9s 19ms/step - loss: 0.0782 - accuracy: 0.9758 - val_loss: 0.0436 - val_accuracy: 0.9855\n",
      "Epoch 4/5\n",
      "469/469 [==============================] - 9s 19ms/step - loss: 0.0641 - accuracy: 0.9805 - val_loss: 0.0386 - val_accuracy: 0.9876\n",
      "Epoch 5/5\n",
      "469/469 [==============================] - 9s 19ms/step - loss: 0.0571 - accuracy: 0.9822 - val_loss: 0.0379 - val_accuracy: 0.9872\n"
     ]
    }
   ],
   "source": [
    "model_path_mnist = os.path.join(model_path, \"mnist_model_tensorflow.h5\")\n",
    "\n",
    "try:\n",
    "    model_tf = tf.keras.models.load_model(model_path_mnist)\n",
    "except OSError:\n",
    "    train_config = {\n",
    "        \"model\": \"toy_convnet\",\n",
    "        \"input_shape\": (28, 28, 1),\n",
    "        \"num_classes\": 10,\n",
    "        \"epochs\": 5,\n",
    "        \"save_dir\": model_path_mnist,\n",
    "        \"validation_data\": ds_in #ds_in is actually the test set of MNIST\n",
    "    }\n",
    "\n",
    "    model_tf = train_tf_model(ds_train, **train_config) "
   ]
  },
  {
   "attachments": {},
   "cell_type": "markdown",
   "metadata": {},
   "source": [
    "... or a pytorch one, if `backend=\"torch\"`"
   ]
  },
  {
   "cell_type": "code",
   "execution_count": 5,
   "metadata": {},
   "outputs": [
    {
     "name": "stderr",
     "output_type": "stream",
     "text": [
      "Epoch 1/5 [Train]: 100%|██████████| 469/469 [00:20<00:00, 23.37it/s, Loss=0.311, Acc=0.908]\n",
      "Epoch 1/5 [Val]: 100%|██████████| 79/79 [00:02<00:00, 37.33it/s, Loss=0.087, Acc=0.974]\n",
      "Epoch 2/5 [Train]: 100%|██████████| 469/469 [00:20<00:00, 22.72it/s, Loss=0.103, Acc=0.969]\n",
      "Epoch 2/5 [Val]: 100%|██████████| 79/79 [00:02<00:00, 32.44it/s, Loss=0.057, Acc=0.982]\n",
      "Epoch 3/5 [Train]: 100%|██████████| 469/469 [00:21<00:00, 22.20it/s, Loss=0.079, Acc=0.976]\n",
      "Epoch 3/5 [Val]: 100%|██████████| 79/79 [00:02<00:00, 34.99it/s, Loss=0.043, Acc=0.986]\n",
      "Epoch 4/5 [Train]: 100%|██████████| 469/469 [00:21<00:00, 21.59it/s, Loss=0.067, Acc=0.980]\n",
      "Epoch 4/5 [Val]: 100%|██████████| 79/79 [00:02<00:00, 31.57it/s, Loss=0.037, Acc=0.988]\n",
      "Epoch 5/5 [Train]: 100%|██████████| 469/469 [00:20<00:00, 22.65it/s, Loss=0.059, Acc=0.982]\n",
      "Epoch 5/5 [Val]: 100%|██████████| 79/79 [00:02<00:00, 34.80it/s, Loss=0.034, Acc=0.989]\n"
     ]
    }
   ],
   "source": [
    "model_path_mnist = os.path.join(model_path, \"mnist_model_torch\")\n",
    "try:\n",
    "    model_torch = torch.load(os.path.join(model_path_mnist, \"best.pt\"))\n",
    "except OSError:\n",
    "    train_config = {\n",
    "        \"model\": \"toy_convnet\",\n",
    "        \"num_classes\": 10,\n",
    "        \"epochs\": 5,\n",
    "        \"save_dir\": model_path_mnist,\n",
    "        \"validation_data\": ds_in, #ds_in is actually the test set of MNIST\n",
    "        \"cuda_idx\": cuda_idx\n",
    "    }\n",
    "    model_torch = train_torch_model(ds_train,  **train_config)"
   ]
  },
  {
   "attachments": {},
   "cell_type": "markdown",
   "metadata": {},
   "source": [
    "### Maximum Logit Score (MLS)\n",
    "\n",
    "Return an OOD score based on the maximum value of the output logits. Introduced in [Open-Set Recognition: a Good Closed-Set Classifier is All You Need?](http://arxiv.org/abs/2110.06207), ICLR 2022.\n",
    "\n",
    "In this section, we use `model_tf` because `backend=\"tensorflow\"`"
   ]
  },
  {
   "cell_type": "code",
   "execution_count": 6,
   "metadata": {},
   "outputs": [],
   "source": [
    "if backend == \"tensorflow\":\n",
    "    model = model_tf\n",
    "elif backend == \"torch\":\n",
    "    model = model_torch"
   ]
  },
  {
   "attachments": {},
   "cell_type": "markdown",
   "metadata": {},
   "source": [
    "Simply fit the `OODBaseDetector` to the model and then score the dataset."
   ]
  },
  {
   "cell_type": "code",
   "execution_count": 7,
   "metadata": {},
   "outputs": [],
   "source": [
    "mls = MLS()\n",
    "\n",
    "mls.fit(model)\n",
    "scores_in = mls.score(ds_in)\n",
    "scores_out = mls.score(ds_out)"
   ]
  },
  {
   "attachments": {},
   "cell_type": "markdown",
   "metadata": {},
   "source": [
    "Compute the evaluation metrics based on the scores of the test data, and visualize the scores histogram."
   ]
  },
  {
   "cell_type": "code",
   "execution_count": 8,
   "metadata": {},
   "outputs": [
    {
     "data": {
      "image/png": "[encoded data removed]",
      "text/plain": [
       "<Figure size 1300x500 with 1 Axes>"
      ]
     },
     "metadata": {},
     "output_type": "display_data"
    },
    {
     "name": "stdout",
     "output_type": "stream",
     "text": [
      "auroc             0.985419\n",
      "fpr95tpr          0.048100\n",
      "accuracy_score    0.870900\n",
      "dtype: float64\n"
     ]
    }
   ],
   "source": [
    "metrics = bench_metrics(\n",
    "    (scores_in, scores_out),  \n",
    "    metrics = [\"auroc\", \"fpr95tpr\", accuracy_score], \n",
    "    threshold = -7.5 # visually chosen based on the plot\n",
    "    )\n",
    "\n",
    "plt.figure(figsize=(13, 5))\n",
    "plot_hist(scores_in, scores_out, 30)\n",
    "metrics = pd.Series(metrics)\n",
    "print(metrics)\n"
   ]
  },
  {
   "attachments": {},
   "cell_type": "markdown",
   "metadata": {},
   "source": [
    "### Maximum Softmax Probability (MSP)\n",
    "\n",
    "It is possible to do the same after the softmax activation. Introduced in [A Baseline for Detecting Misclassified and Out-of-Distribution Examples in Neural Networks](http://arxiv.org/abs/1610.02136), ICLR 2017."
   ]
  },
  {
   "cell_type": "code",
   "execution_count": 9,
   "metadata": {},
   "outputs": [
    {
     "data": {
      "image/png": "[encoded data removed]",
      "text/plain": [
       "<Figure size 1300x500 with 1 Axes>"
      ]
     },
     "metadata": {},
     "output_type": "display_data"
    },
    {
     "name": "stdout",
     "output_type": "stream",
     "text": [
      "auroc             0.979865\n",
      "fpr95tpr          0.081700\n",
      "accuracy_score    0.930650\n",
      "roc_auc_score     0.979865\n",
      "dtype: float64\n"
     ]
    }
   ],
   "source": [
    "msp = MLS(output_activation=\"softmax\")\n",
    "msp.fit(model)\n",
    "scores_in = msp.score(ds_in)\n",
    "scores_out = msp.score(ds_out)\n",
    "\n",
    "metrics = bench_metrics(\n",
    "    (scores_in, scores_out),  \n",
    "    metrics = [\"auroc\", \"fpr95tpr\", accuracy_score, roc_auc_score], \n",
    "    threshold = -0.95 # visually chosen based on the plot\n",
    "    )\n",
    "\n",
    "plt.figure(figsize=(13, 5))\n",
    "plot_hist(scores_in, scores_out, 30, log=True)\n",
    "metrics = pd.Series(metrics)\n",
    "print(metrics)"
   ]
  },
  {
   "attachments": {},
   "cell_type": "markdown",
   "metadata": {},
   "source": [
    "## MNIST (0-4) vs MNIST (5-9)\n",
    "\n",
    "* In-distribution data: MNIST (0-4)\n",
    "* Out-of-distribution data: MNIST (5-9)\n",
    "\n",
    "We can repeat the procedure in an open-set-recognition or semantic OOD setting by considering a subset of MNIST classes as in-distribution and another subset as out-of-distribution. The datasets are constructed using the `OODDataset` method `.assign_ood_labels_by_class`. First load and split the dataset.\n",
    "\n",
    "In Tensorflow:"
   ]
  },
  {
   "cell_type": "code",
   "execution_count": 5,
   "metadata": {},
   "outputs": [],
   "source": [
    "backend = \"tensorflow\"\n",
    "\n",
    "oods_test = OODDataset(\n",
    "    'mnist', \n",
    "    load_kwargs = {\"split\": \"test\"}, \n",
    "    backend=backend,\n",
    ")\n",
    "oods_train = OODDataset(\n",
    "    'mnist', \n",
    "    load_kwargs = {\"split\": \"train\"}, \n",
    "    backend=backend,\n",
    ")\n",
    "\n",
    "clear_output()"
   ]
  },
  {
   "attachments": {},
   "cell_type": "markdown",
   "metadata": {},
   "source": [
    "or in Pytorch"
   ]
  },
  {
   "cell_type": "code",
   "execution_count": null,
   "metadata": {},
   "outputs": [],
   "source": [
    "backend = \"torch\"\n",
    "\n",
    "oods_test = OODDataset(\n",
    "    'MNIST', \n",
    "    load_kwargs = {\"train\": False, \"root\": data_path, \"download\": True}, \n",
    "    backend=backend,\n",
    ")\n",
    "oods_train = OODDataset(\n",
    "    'MNIST', \n",
    "    load_kwargs = {\"train\": True, \"root\": data_path, \"download\": True}, \n",
    "    backend=backend,\n",
    ")"
   ]
  },
  {
   "attachments": {},
   "cell_type": "markdown",
   "metadata": {},
   "source": [
    "Then prepare the datasets for scoring and/or training."
   ]
  },
  {
   "cell_type": "code",
   "execution_count": 6,
   "metadata": {},
   "outputs": [],
   "source": [
    "batch_size = 128\n",
    "inc_labels = [0, 1, 2, 3, 4]\n",
    "oods_train, _ = oods_train.assign_ood_labels_by_class(in_labels=inc_labels)\n",
    "oods_in, oods_out = oods_test.assign_ood_labels_by_class(in_labels=inc_labels)\n",
    "\n",
    "def preprocess_fn(*inputs):\n",
    "    x = inputs[0] / 255\n",
    "    return tuple([x] + list(inputs[1:]))\n",
    "\n",
    "ds_train = oods_train.prepare(batch_size=batch_size, preprocess_fn=preprocess_fn, shuffle=True)\n",
    "ds_in = oods_in.prepare(batch_size=batch_size, with_ood_labels=False, preprocess_fn=preprocess_fn)\n",
    "ds_out = oods_out.prepare(batch_size=batch_size, with_ood_labels=False, preprocess_fn=preprocess_fn)\n"
   ]
  },
  {
   "attachments": {},
   "cell_type": "markdown",
   "metadata": {},
   "source": [
    "Train or load the model.\n",
    "\n",
    "In Tensorflow:"
   ]
  },
  {
   "cell_type": "code",
   "execution_count": 7,
   "metadata": {},
   "outputs": [
    {
     "name": "stdout",
     "output_type": "stream",
     "text": [
      "Epoch 1/5\n",
      "240/240 [==============================] - 8s 23ms/step - loss: 0.2218 - accuracy: 0.9347 - val_loss: 0.0338 - val_accuracy: 0.9899\n",
      "Epoch 2/5\n",
      "240/240 [==============================] - 4s 18ms/step - loss: 0.0533 - accuracy: 0.9838 - val_loss: 0.0188 - val_accuracy: 0.9947\n",
      "Epoch 3/5\n",
      "240/240 [==============================] - 5s 19ms/step - loss: 0.0384 - accuracy: 0.9879 - val_loss: 0.0189 - val_accuracy: 0.9949\n",
      "Epoch 4/5\n",
      "240/240 [==============================] - 5s 19ms/step - loss: 0.0312 - accuracy: 0.9899 - val_loss: 0.0147 - val_accuracy: 0.9946\n",
      "Epoch 5/5\n",
      "240/240 [==============================] - 5s 19ms/step - loss: 0.0307 - accuracy: 0.9909 - val_loss: 0.0135 - val_accuracy: 0.9955\n"
     ]
    }
   ],
   "source": [
    "model_path_mnist_04 = os.path.join(model_path, \"mnist_model_0-4.h5\")\n",
    "\n",
    "try:\n",
    "    model_tf = tf.keras.models.load_model(model_path_mnist_04)\n",
    "except OSError:\n",
    "    train_config = {\n",
    "        \"model\": \"toy_convnet\",\n",
    "        \"input_shape\": (28, 28, 1),\n",
    "        \"num_classes\": 5,\n",
    "        \"epochs\": 5,\n",
    "        \"save_dir\": model_path_mnist_04,\n",
    "        \"validation_data\": ds_in #ds_in is actually the test set of MNIST\n",
    "    }\n",
    "\n",
    "    model_tf = train_tf_model(ds_train, **train_config) "
   ]
  },
  {
   "attachments": {},
   "cell_type": "markdown",
   "metadata": {},
   "source": [
    "In Pytorch:"
   ]
  },
  {
   "cell_type": "code",
   "execution_count": 10,
   "metadata": {},
   "outputs": [
    {
     "name": "stderr",
     "output_type": "stream",
     "text": [
      "Epoch 1/5 [Train]: 100%|██████████| 469/469 [00:01<00:00, 259.31it/s, Loss=0.343, Acc=0.901]\n",
      "Epoch 1/5 [Val]: 100%|██████████| 79/79 [00:00<00:00, 637.56it/s, Loss=0.100, Acc=0.969]\n",
      "Epoch 2/5 [Train]: 100%|██████████| 469/469 [00:01<00:00, 430.10it/s, Loss=0.098, Acc=0.970]\n",
      "Epoch 2/5 [Val]: 100%|██████████| 79/79 [00:00<00:00, 876.03it/s, Loss=0.064, Acc=0.980]\n",
      "Epoch 3/5 [Train]: 100%|██████████| 469/469 [00:01<00:00, 430.72it/s, Loss=0.072, Acc=0.978]\n",
      "Epoch 3/5 [Val]: 100%|██████████| 79/79 [00:00<00:00, 888.01it/s, Loss=0.057, Acc=0.982]\n",
      "Epoch 4/5 [Train]: 100%|██████████| 469/469 [00:01<00:00, 450.30it/s, Loss=0.060, Acc=0.982]\n",
      "Epoch 4/5 [Val]: 100%|██████████| 79/79 [00:00<00:00, 897.44it/s, Loss=0.052, Acc=0.982]\n",
      "Epoch 5/5 [Train]: 100%|██████████| 469/469 [00:01<00:00, 442.38it/s, Loss=0.050, Acc=0.984]\n",
      "Epoch 5/5 [Val]: 100%|██████████| 79/79 [00:00<00:00, 878.71it/s, Loss=0.048, Acc=0.984]\n"
     ]
    }
   ],
   "source": [
    "model_path_mnist = os.path.join(model_path, \"mnist_model_torch_0-4\")\n",
    "try:\n",
    "    model_torch = torch.load(os.path.join(model_path_mnist, \"best.pt\"))\n",
    "except OSError:\n",
    "    train_config = {\n",
    "        \"model\": \"toy_convnet\",\n",
    "        \"num_classes\": 5,\n",
    "        \"epochs\": 5,\n",
    "        \"save_dir\": model_path_mnist,\n",
    "        \"validation_data\": ds_in, #ds_in is actually the test set of MNIST\n",
    "        \"cuda_idx\": cuda_idx\n",
    "    }\n",
    "    model_torch = train_torch_model(ds_train,  **train_config)"
   ]
  },
  {
   "attachments": {},
   "cell_type": "markdown",
   "metadata": {},
   "source": [
    "### Maximum Logit Score (MLS)"
   ]
  },
  {
   "cell_type": "code",
   "execution_count": 11,
   "metadata": {},
   "outputs": [
    {
     "data": {
      "image/png": "[encoded data removed]",
      "text/plain": [
       "<Figure size 1300x500 with 1 Axes>"
      ]
     },
     "metadata": {},
     "output_type": "display_data"
    },
    {
     "name": "stdout",
     "output_type": "stream",
     "text": [
      "auroc             0.916672\n",
      "fpr95tpr          0.479082\n",
      "accuracy_score    0.766200\n",
      "roc_auc_score     0.916672\n",
      "dtype: float64\n"
     ]
    }
   ],
   "source": [
    "if backend == \"tensorflow\":\n",
    "    model = model_tf\n",
    "elif backend == \"torch\":\n",
    "    model = model_torch\n",
    "    \n",
    "mls = MLS()\n",
    "mls.fit(model)\n",
    "scores_in = mls.score(ds_in)\n",
    "scores_out = mls.score(ds_out)\n",
    "\n",
    "\n",
    "metrics = bench_metrics(\n",
    "    (scores_in, scores_out),  \n",
    "    metrics = [\"auroc\", \"fpr95tpr\", accuracy_score, roc_auc_score], \n",
    "    threshold = -7.5 # visually chosen based on the plot\n",
    "    )\n",
    "\n",
    "plt.figure(figsize=(13, 5))\n",
    "plot_hist(scores_in, scores_out, 30)\n",
    "metrics = pd.Series(metrics)\n",
    "print(metrics)"
   ]
  },
  {
   "attachments": {},
   "cell_type": "markdown",
   "metadata": {},
   "source": [
    "### Maximum Softmax Probability (MSP)"
   ]
  },
  {
   "cell_type": "code",
   "execution_count": 12,
   "metadata": {},
   "outputs": [
    {
     "data": {
      "image/png": "[encoded data removed]",
      "text/plain": [
       "<Figure size 1300x500 with 1 Axes>"
      ]
     },
     "metadata": {},
     "output_type": "display_data"
    },
    {
     "name": "stdout",
     "output_type": "stream",
     "text": [
      "auroc             0.908921\n",
      "fpr95tpr          0.606927\n",
      "accuracy_score    0.821500\n",
      "roc_auc_score     0.908921\n",
      "dtype: float64\n"
     ]
    }
   ],
   "source": [
    "msp = MLS(output_activation=\"softmax\")\n",
    "msp.fit(model)\n",
    "scores_in = msp.score(ds_in)\n",
    "scores_out = msp.score(ds_out)\n",
    "\n",
    "\n",
    "metrics = bench_metrics(\n",
    "    (scores_in, scores_out),  \n",
    "    metrics = [\"auroc\", \"fpr95tpr\", accuracy_score, roc_auc_score], \n",
    "    threshold = -0.95 # visually chosen based on the plot\n",
    "    )\n",
    "\n",
    "plt.figure(figsize=(13, 5))\n",
    "plot_hist(scores_in, scores_out, 30, log=True)\n",
    "metrics = pd.Series(metrics)\n",
    "print(metrics)"
   ]
  }
 ],
 "metadata": {
  "kernelspec": {
   "display_name": "oodeel_dev_env",
   "language": "python",
   "name": "python3"
  },
  "language_info": {
   "codemirror_mode": {
    "name": "ipython",
    "version": 3
   },
   "file_extension": ".py",
   "mimetype": "text/x-python",
   "name": "python",
   "nbconvert_exporter": "python",
   "pygments_lexer": "ipython3",
   "version": "3.10.10"
  },
  "orig_nbformat": 4,
  "vscode": {
   "interpreter": {
    "hash": "40d80a18d61e6ad16acc6e8a5ef082fbd0a65400a097e8fba89bb5761bc6bbc9"
   }
  }
 },
 "nbformat": 4,
 "nbformat_minor": 2
}
