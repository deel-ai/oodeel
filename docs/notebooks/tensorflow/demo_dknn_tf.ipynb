{
    "cells": [
        {
            "attachments": {},
            "cell_type": "markdown",
            "metadata": {},
            "source": [
                "# Deep KNN method\n",
                "\n",
                "This notebook aims at evaluating the **DKNN method**.\n",
                "\n",
                "The method consists in performing K-Nearest-Neighbors in the feature space of a neural\n",
                "network trained on the in-distribution dataset.\n",
                "\n",
                "Here, we focus on a toy convolutional network trained on MNIST[0-4] and a ResNet model\n",
                "trained on CIFAR-10, respectively challenged on MNIST[5-9] and SVHN OOD datasets.\n",
                "\n",
                "**Reference**\n",
                "[Out-of-Distribution Detection with Deep Nearest Neighbors](http://arxiv.org/abs/2204.06507),\n",
                "ICML 2022.\n"
            ]
        },
        {
            "attachments": {},
            "cell_type": "markdown",
            "metadata": {},
            "source": [
                "### Imports\n"
            ]
        },
        {
            "cell_type": "code",
            "execution_count": 1,
            "metadata": {},
            "outputs": [],
            "source": [
                "%load_ext autoreload\n",
                "\n",
                "import os\n",
                "os.environ[\"TF_CPP_MIN_LOG_LEVEL\"] = \"2\" \n",
                "import numpy as np\n",
                "import tensorflow as tf\n",
                "import matplotlib.pyplot as plt\n",
                "\n",
                "from oodeel.methods import DKNN\n",
                "from oodeel.eval.metrics import bench_metrics, get_curve\n",
                "from oodeel.datasets import OODDataset\n",
                "from oodeel.models.training_funs_tf import train_keras_app"
            ]
        },
        {
            "attachments": {},
            "cell_type": "markdown",
            "metadata": {},
            "source": [
                "Note that models are saved at _~/.oodeel/saved_models_ and data is supposed to be found\n",
                "at _~/.oodeel/datasets_ by default. Change the following cell for a custom path.\n"
            ]
        },
        {
            "cell_type": "code",
            "execution_count": 2,
            "metadata": {},
            "outputs": [],
            "source": [
                "model_path = os.path.expanduser(\"~/\") + \".oodeel/saved_models\"\n",
                "data_path = os.path.expanduser(\"~/\") + \".oodeel/datasets\"\n",
                "os.makedirs(model_path, exist_ok=True)\n",
                "os.makedirs(data_path, exist_ok=True)"
            ]
        },
        {
            "attachments": {},
            "cell_type": "markdown",
            "metadata": {},
            "source": [
                "## First experiment: MNIST[0-4] vs MNIST[5-9]\n",
                "\n",
                "For this first experiment, we train a toy convolutional network on the MNIST dataset\n",
                "restricted to digits 0 to 4. After fitting the train subset of this dataset to the DKNN\n",
                "method, we will compare the scores returned for MNIST[0-4] (in-distribution) and\n",
                "MNIST[5-9] (out-of-distribution) test subsets.\n"
            ]
        },
        {
            "attachments": {},
            "cell_type": "markdown",
            "metadata": {},
            "source": [
                "### Data loading\n",
                "\n",
                "- In-distribution data: MNIST[0-4]\n",
                "- Out-of-distribution data: MNIST[5-9]\n",
                "\n",
                "> **Note:** We denote In-Distribution (ID) data with `_in` and Out-Of-Distribution (OOD)\n",
                "> data with `_out` to avoid confusion with OOD detection which is the name of the task,\n",
                "> and is therefore used to denote core classes such as `OODDataset` and `OODModel`.\n"
            ]
        },
        {
            "cell_type": "code",
            "execution_count": 3,
            "metadata": {},
            "outputs": [
                {
                    "name": "stdout",
                    "output_type": "stream",
                    "text": [
                        "WARNING:tensorflow:From /home/corentin.friedrich/envs/env_deel07/lib/python3.9/site-packages/tensorflow/python/autograph/pyct/static_analysis/liveness.py:83: Analyzer.lamba_check (from tensorflow.python.autograph.pyct.static_analysis.liveness) is deprecated and will be removed after 2023-09-23.\n",
                        "Instructions for updating:\n",
                        "Lambda fuctions will be no more assumed to be used in the statement where they are used, or at least in the same block. https://github.com/tensorflow/tensorflow/issues/56089\n"
                    ]
                },
                {
                    "name": "stderr",
                    "output_type": "stream",
                    "text": [
                        "WARNING:tensorflow:From /home/corentin.friedrich/envs/env_deel07/lib/python3.9/site-packages/tensorflow/python/autograph/pyct/static_analysis/liveness.py:83: Analyzer.lamba_check (from tensorflow.python.autograph.pyct.static_analysis.liveness) is deprecated and will be removed after 2023-09-23.\n",
                        "Instructions for updating:\n",
                        "Lambda fuctions will be no more assumed to be used in the statement where they are used, or at least in the same block. https://github.com/tensorflow/tensorflow/issues/56089\n"
                    ]
                }
            ],
            "source": [
                "# === Load ID and OOD data ===\n",
                "batch_size = 128\n",
                "in_labels = [0, 1, 2, 3, 4]\n",
                "\n",
                "# 1- Load train/test MNIST dataset\n",
                "ds_train = OODDataset(\"mnist\", load_kwargs=dict(split=\"train\"))\n",
                "data_test = OODDataset(\"mnist\", load_kwargs=dict(split=\"test\"))\n",
                "\n",
                "# 2- Split ID / OOD data depending on label value:\n",
                "# in-distribution: MNIST[0-4] / out-of-distribution: MNIST[5-9]\n",
                "ds_train, _ = ds_train.assign_ood_labels_by_class(in_labels)\n",
                "oods_in, oods_out = data_test.assign_ood_labels_by_class(in_labels)\n",
                "\n",
                "\n",
                "# 3- Prepare data (preprocess, shuffle, batch)\n",
                "def preprocess_fn(*inputs):\n",
                "    x = inputs[0] / 255\n",
                "    return tuple([x] + list(inputs[1:]))\n",
                "\n",
                "\n",
                "ds_train = ds_train.prepare(batch_size, preprocess_fn, shuffle=True)\n",
                "ds_in = oods_in.prepare(batch_size, preprocess_fn, with_ood_labels=False)\n",
                "ds_out = oods_out.prepare(batch_size, preprocess_fn, with_ood_labels=False)"
            ]
        },
        {
            "attachments": {},
            "cell_type": "markdown",
            "metadata": {},
            "source": [
                "### Model training\n",
                "\n",
                "Now let's train a simple model on MNIST[0-4] using `train_keras_app` function.\n"
            ]
        },
        {
            "cell_type": "code",
            "execution_count": 4,
            "metadata": {},
            "outputs": [
                {
                    "name": "stdout",
                    "output_type": "stream",
                    "text": [
                        "Epoch 1/5\n",
                        "240/240 [==============================] - 3s 6ms/step - loss: 0.2634 - accuracy: 0.9169 - val_loss: 0.0361 - val_accuracy: 0.9899\n",
                        "Epoch 2/5\n",
                        "240/240 [==============================] - 0s 2ms/step - loss: 0.0595 - accuracy: 0.9813 - val_loss: 0.0201 - val_accuracy: 0.9944\n",
                        "Epoch 3/5\n",
                        "240/240 [==============================] - 0s 2ms/step - loss: 0.0463 - accuracy: 0.9867 - val_loss: 0.0172 - val_accuracy: 0.9955\n",
                        "Epoch 4/5\n",
                        "240/240 [==============================] - 0s 2ms/step - loss: 0.0358 - accuracy: 0.9890 - val_loss: 0.0123 - val_accuracy: 0.9967\n",
                        "Epoch 5/5\n",
                        "240/240 [==============================] - 0s 2ms/step - loss: 0.0313 - accuracy: 0.9898 - val_loss: 0.0120 - val_accuracy: 0.9969\n",
                        "41/41 [==============================] - 0s 1ms/step - loss: 0.0120 - accuracy: 0.9969\n",
                        "Test accuracy:\t0.9969\n"
                    ]
                }
            ],
            "source": [
                "# === Train / Load model ===\n",
                "model_path_mnist_04 = os.path.join(model_path, \"mnist_model_0-4.h5\")\n",
                "\n",
                "try:\n",
                "    # if the model exists, load it\n",
                "    model = tf.keras.models.load_model(model_path_mnist_04)\n",
                "except OSError:\n",
                "    # else, train a new model\n",
                "    train_config = {\n",
                "        \"model_name\": \"toy_convnet\",\n",
                "        \"input_shape\": (28, 28, 1),\n",
                "        \"num_classes\": 10,\n",
                "        \"batch_size\": 128,\n",
                "        \"is_prepared\": True,\n",
                "        \"epochs\": 5,\n",
                "        \"save_dir\": model_path_mnist_04,\n",
                "        \"validation_data\": ds_in,\n",
                "    }\n",
                "\n",
                "    model = train_keras_app(ds_train, **train_config)\n",
                "\n",
                "_, accuracy = model.evaluate(ds_in)\n",
                "print(f\"Test accuracy:\\t{accuracy:.4f}\")"
            ]
        },
        {
            "attachments": {},
            "cell_type": "markdown",
            "metadata": {},
            "source": [
                "### DKNN score\n",
                "\n",
                "We now fit a DKNN detector with MNIST[0-4] train dataset, and compare OOD scores\n",
                "returned for MNIST[0-4] (ID) and MNIST[5-9] (OOD) test datasets.\n"
            ]
        },
        {
            "cell_type": "code",
            "execution_count": 5,
            "metadata": {},
            "outputs": [
                {
                    "name": "stdout",
                    "output_type": "stream",
                    "text": [
                        "auroc      0.971370\n",
                        "fpr95tpr   0.120451\n"
                    ]
                },
                {
                    "data": {
                        "image/png": "[encoded data removed]",
                        "text/plain": [
                            "<Figure size 1000x350 with 2 Axes>"
                        ]
                    },
                    "metadata": {},
                    "output_type": "display_data"
                }
            ],
            "source": [
                "# === DKNN scores ===\n",
                "oodmodel = DKNN(nearest=50)\n",
                "oodmodel.fit(model, ds_train)\n",
                "scores_in = oodmodel.score(ds_in)\n",
                "scores_out = oodmodel.score(ds_out)\n",
                "\n",
                "# === Metrics===\n",
                "# auroc / fpr95\n",
                "metrics = bench_metrics(\n",
                "    (scores_in, scores_out),\n",
                "    metrics=[\"auroc\", \"fpr95tpr\"],\n",
                ")\n",
                "for k, v in metrics.items():\n",
                "    print(f\"{k:<10} {v:.6f}\")\n",
                "\n",
                "# ROC\n",
                "fpr, tpr, _, _ = get_curve(\n",
                "    scores=np.concatenate([scores_in, scores_out]),\n",
                "    labels=np.concatenate([scores_in * 0 + 0, scores_out * 0 + 1]),\n",
                ")\n",
                "\n",
                "# Plot histograms of OOD scores and ROC\n",
                "# plot hists / roc\n",
                "plt.figure(figsize=(10, 3.5))\n",
                "plt.subplot(121)\n",
                "plt.hist(\n",
                "    x=(scores_out, scores_in),\n",
                "    bins=30,\n",
                "    color=(\"blue\", \"orange\"),\n",
                "    label=(\"OOD\", \"ID\"),\n",
                "    density=True,\n",
                ")\n",
                "plt.xlabel(\"score\")\n",
                "plt.legend()\n",
                "plt.subplot(122)\n",
                "plt.plot(fpr, tpr)\n",
                "plt.xlabel(\"fpr\")\n",
                "plt.ylabel(\"tpr\")\n",
                "plt.show()"
            ]
        },
        {
            "attachments": {},
            "cell_type": "markdown",
            "metadata": {},
            "source": [
                "## Second experiment: CIFAR-10 vs SVHN\n",
                "\n",
                "For this second experiment, we oppose **CIFAR-10** (in-distribution dataset) to **SVHN**\n",
                "(out-of-distribution dataset).\n"
            ]
        },
        {
            "attachments": {},
            "cell_type": "markdown",
            "metadata": {},
            "source": [
                "### Data loading\n",
                "\n",
                "- In-distribution data: CIFAR-10\n",
                "- Out-of-distribution data: SVHN\n"
            ]
        },
        {
            "cell_type": "code",
            "execution_count": 6,
            "metadata": {},
            "outputs": [],
            "source": [
                "# === Load ID and OOD data ===\n",
                "batch_size = 128\n",
                "\n",
                "# 1a- Load in-distribution dataset: CIFAR-10\n",
                "ds_fit = OODDataset(\"cifar10\", load_kwargs={\"split\": \"train\"}, input_key=\"image\")\n",
                "ds_in = OODDataset(\"cifar10\", load_kwargs={\"split\": \"test\"}, input_key=\"image\")\n",
                "\n",
                "# 1b- Load out-of-distribution dataset: SVHN\n",
                "ds_out = OODDataset(\"svhn_cropped\", load_kwargs={\"split\": \"test\"})\n",
                "\n",
                "\n",
                "# 2- prepare data (preprocess, shuffle, batch)\n",
                "def preprocess_fn(*inputs):\n",
                "    x = inputs[0] / 255\n",
                "    return tuple([x] + list(inputs[1:]))\n",
                "\n",
                "\n",
                "ds_fit = ds_fit.prepare(batch_size, preprocess_fn)\n",
                "ds_in = ds_in.prepare(batch_size, preprocess_fn)\n",
                "ds_out = ds_out.prepare(batch_size, preprocess_fn)"
            ]
        },
        {
            "attachments": {},
            "cell_type": "markdown",
            "metadata": {},
            "source": [
                "### Model loading\n",
                "\n",
                "The model is a **ResNet** pretrained on CIFAR-10 and getting an accuracy score of\n",
                "92.75%.\n"
            ]
        },
        {
            "cell_type": "code",
            "execution_count": 9,
            "metadata": {},
            "outputs": [
                {
                    "name": "stdout",
                    "output_type": "stream",
                    "text": [
                        "Downloading data from https://share.deel.ai/s/kram9kLpx6JwRX4/download/cifar10_resnet256.h5\n",
                        "21088832/21088832 [==============================] - 4s 0us/step\n",
                        "79/79 [==============================] - 2s 13ms/step - loss: 0.1268 - accuracy: 0.9275\n",
                        "Test accuracy:\t0.9275\n"
                    ]
                }
            ],
            "source": [
                "# === Load model ===\n",
                "# ResNet pretrained on CIFAR-10\n",
                "model_path_resnet_cifar10 = tf.keras.utils.get_file(\n",
                "    \"cifar10_resnet256.h5\",\n",
                "    origin=\"https://share.deel.ai/s/kram9kLpx6JwRX4/download/cifar10_resnet256.h5\",\n",
                "    cache_dir=model_path,\n",
                "    cache_subdir=\"\",\n",
                ")\n",
                "model = tf.keras.models.load_model(model_path_resnet_cifar10)\n",
                "\n",
                "# Evaluate model\n",
                "model.compile(metrics=[\"accuracy\"])\n",
                "_, accuracy = model.evaluate(ds_in)\n",
                "print(f\"Test accuracy:\\t{accuracy:.4f}\")"
            ]
        },
        {
            "attachments": {},
            "cell_type": "markdown",
            "metadata": {},
            "source": [
                "### DKNN score\n",
                "\n",
                "We now fit a DKNN detector with CIFAR-10 train dataset, and compare OOD scores returned\n",
                "for CIFAR-10 (ID) and SVHN (OOD) test datasets.\n"
            ]
        },
        {
            "cell_type": "code",
            "execution_count": 10,
            "metadata": {},
            "outputs": [
                {
                    "name": "stdout",
                    "output_type": "stream",
                    "text": [
                        "auroc      0.993147\n",
                        "fpr95tpr   0.034300\n"
                    ]
                },
                {
                    "data": {
                        "image/png": "[encoded data removed]",
                        "text/plain": [
                            "<Figure size 1000x350 with 2 Axes>"
                        ]
                    },
                    "metadata": {},
                    "output_type": "display_data"
                },
                {
                    "ename": "",
                    "evalue": "",
                    "output_type": "error",
                    "traceback": [
                        "\u001b[1;31mThe Kernel crashed while executing code in the the current cell or a previous cell. Please review the code in the cell(s) to identify a possible cause of the failure. Click <a href='https://aka.ms/vscodeJupyterKernelCrash'>here</a> for more info. View Jupyter <a href='command:jupyter.viewOutput'>log</a> for further details."
                    ]
                }
            ],
            "source": [
                "# === DKNN scores ===\n",
                "oodmodel = DKNN(nearest=50)\n",
                "oodmodel.fit(model, ds_fit)\n",
                "scores_in = oodmodel.score(ds_in)\n",
                "scores_out = oodmodel.score(ds_out)\n",
                "\n",
                "# === Metrics ===\n",
                "# auroc / fpr95\n",
                "metrics = bench_metrics(\n",
                "    (scores_in, scores_out),\n",
                "    metrics=[\"auroc\", \"fpr95tpr\"],\n",
                ")\n",
                "for k, v in metrics.items():\n",
                "    print(f\"{k:<10} {v:.6f}\")\n",
                "\n",
                "# ROC\n",
                "fpr, tpr, _, _ = get_curve(\n",
                "    scores=np.concatenate([scores_in, scores_out]),\n",
                "    labels=np.concatenate([scores_in * 0 + 0, scores_out * 0 + 1]),\n",
                ")\n",
                "\n",
                "# Plot histograms of OOD scores and ROC\n",
                "plt.figure(figsize=(10, 3.5))\n",
                "plt.subplot(121)\n",
                "plt.hist(\n",
                "    x=(scores_out, scores_in),\n",
                "    bins=30,\n",
                "    color=(\"blue\", \"orange\"),\n",
                "    label=(\"OOD\", \"ID\"),\n",
                "    density=True,\n",
                ")\n",
                "plt.xlabel(\"score\")\n",
                "plt.legend()\n",
                "plt.subplot(122)\n",
                "plt.plot(fpr, tpr)\n",
                "plt.xlabel(\"fpr\")\n",
                "plt.ylabel(\"tpr\")\n",
                "plt.show()"
            ]
        }
    ],
    "metadata": {
        "kernelspec": {
            "display_name": "tfmetal",
            "language": "python",
            "name": "python3"
        },
        "language_info": {
            "codemirror_mode": {
                "name": "ipython",
                "version": 3
            },
            "file_extension": ".py",
            "mimetype": "text/x-python",
            "name": "python",
            "nbconvert_exporter": "python",
            "pygments_lexer": "ipython3",
            "version": "3.9.12"
        },
        "orig_nbformat": 4,
        "vscode": {
            "interpreter": {
                "hash": "dada21ee7726b34311237058025d0293bf4743ff9612a3722201b24280433f0a"
            }
        }
    },
    "nbformat": 4,
    "nbformat_minor": 2
}
