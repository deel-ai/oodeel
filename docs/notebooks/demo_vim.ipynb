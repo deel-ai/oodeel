{
 "cells": [
  {
   "attachments": {},
   "cell_type": "markdown",
   "metadata": {},
   "source": [
    "# Virtual Logit Matching (VIM) method\n",
    "\n",
    "This notebook aims at evaluating the **VIM method**.\n",
    "\n",
    "The method consists in analysing the projection of an input image in a feature subspace that contains the least information about in-distribution data. It is achieved by performing a PCA on the in-distribution dataset in the feature space. The norm of the projection of a new input data's feature representation onto the principal vectors explaining the least variance is then used for scoring.\n",
    "\n",
    "This notebook quickly showcase VIM on MNIST vs Fashion MNIST.\n",
    "\n",
    "**Reference**\n",
    "[ViM: Out-Of-Distribution with Virtual-logit Matching](http://arxiv.org/abs/2203.10807), CVPR 2022."
   ]
  },
  {
   "cell_type": "code",
   "execution_count": null,
   "metadata": {},
   "outputs": [],
   "source": [
    "import os\n",
    "os.environ[\"TF_CPP_MIN_LOG_LEVEL\"] = \"2\" \n",
    "import tensorflow as tf\n",
    "tf.compat.v1.logging.set_verbosity(tf.compat.v1.logging.ERROR)\n",
    "\n",
    "import pandas as pd\n",
    "import matplotlib.pyplot as plt\n",
    "\n",
    "from oodeel.methods import VIM\n",
    "from oodeel.eval.metrics import bench_metrics\n",
    "from oodeel.datasets import OODDataset\n",
    "from oodeel.models.training_funs import train_convnet_classifier\n",
    "\n",
    "from sklearn.metrics import *\n",
    "\n",
    "import warnings\n",
    "warnings.filterwarnings(\"ignore\")\n"
   ]
  },
  {
   "attachments": {},
   "cell_type": "markdown",
   "metadata": {},
   "source": [
    "Note that models are saved at *~/.oodeel/saved_models* by default. Change the following cell for a custom path."
   ]
  },
  {
   "cell_type": "code",
   "execution_count": null,
   "metadata": {},
   "outputs": [],
   "source": [
    "model_path = os.path.expanduser(\"~/\") + \".oodeel/saved_models\"\n",
    "os.makedirs(model_path, exist_ok=True)"
   ]
  },
  {
   "attachments": {},
   "cell_type": "markdown",
   "metadata": {},
   "source": [
    "/!\\ We denote In-Distribution (ID) data with `_in` and Out-Of-Distribution (OOD) data with `_out` to avoid confusion with OOD detection which is the name of the task, and is therefore used to denote core classes such as `OODDataset` and `OODModel`."
   ]
  },
  {
   "cell_type": "code",
   "execution_count": null,
   "metadata": {},
   "outputs": [],
   "source": [
    "oods_in = OODDataset('mnist', split=\"test\")\n",
    "oods_out = OODDataset('fashion_mnist', split=\"test\")\n",
    "oods_train = OODDataset('mnist', split=\"train\")\n",
    "\n",
    "def preprocess_fn(*inputs):\n",
    "    x = inputs[0] / 255\n",
    "    return tuple([x] + list(inputs[1:]))\n",
    "\n",
    "\n",
    "batch_size = 128\n",
    "ds_in = oods_in.prepare(batch_size=batch_size, preprocess_fn=preprocess_fn)\n",
    "ds_out = oods_out.prepare(batch_size=batch_size, preprocess_fn=preprocess_fn)\n",
    "ds_train = oods_train.prepare(batch_size=batch_size, preprocess_fn=preprocess_fn, shuffle=True)"
   ]
  },
  {
   "cell_type": "code",
   "execution_count": null,
   "metadata": {},
   "outputs": [],
   "source": [
    "model_path_mnist = os.path.join(model_path, \"mnist_model.h5\")\n",
    "\n",
    "try:\n",
    "    model = tf.keras.models.load_model(model_path_mnist)\n",
    "    \n",
    "except OSError:\n",
    "    train_config = {\n",
    "        \"input_shape\": (28, 28, 1),\n",
    "        \"num_classes\": 10,\n",
    "        \"batch_size\": 128,\n",
    "        \"is_prepared\": True,\n",
    "        \"epochs\": 5,\n",
    "        \"save_dir\": model_path_mnist,\n",
    "        \"validation_data\": ds_in#.get_dataset() #ds_in is actually the test set of MNIST\n",
    "    }\n",
    "\n",
    "    model = train_convnet_classifier(ds_train, **train_config) #ds_train is actually the train set of MNIST"
   ]
  },
  {
   "attachments": {},
   "cell_type": "markdown",
   "metadata": {},
   "source": [
    "## Using VIM by specifying the number of principal dimensions in the feature space \n",
    "\n",
    "In this variant, we explicitely select the number of principal vectors to exclude from our projection basis, computed using a PCA on 1000 samples from the training set. There will be `features_dim - princ_dims` vectors in the basis.\n",
    "\n",
    "First, fit VIM to the model at hand."
   ]
  },
  {
   "cell_type": "code",
   "execution_count": null,
   "metadata": {},
   "outputs": [],
   "source": [
    "princ_dims = 500\n",
    "oodmodel = VIM(princ_dims=princ_dims)\n",
    "oodmodel.fit(model, ds_train)\n",
    "\n",
    "print(f\"Number of princpal dimensions: {oodmodel._princ_dim}\")\n",
    "\n",
    "features_dim = oodmodel.feature_extractor.get_weights(-1)[0].shape[0]\n",
    "print(f\"Dimension of feature space:  {features_dim}\")"
   ]
  },
  {
   "attachments": {},
   "cell_type": "markdown",
   "metadata": {},
   "source": [
    "Then compute the scores for in-distribution and out-of-distribution data. Also display some visualizations."
   ]
  },
  {
   "cell_type": "code",
   "execution_count": null,
   "metadata": {},
   "outputs": [],
   "source": [
    "scores_in = oodmodel.score(ds_in)\n",
    "scores_out = oodmodel.score(ds_out)\n",
    "\n",
    "\n",
    "metrics = bench_metrics(\n",
    "    (scores_in, scores_out),  \n",
    "    metrics = [\"auroc\", \"fpr95tpr\",], \n",
    "    )\n",
    "metrics_fashion = pd.Series(metrics, name='mnist-10-vs-fashion')\n",
    "print(metrics_fashion)\n",
    "\n",
    "# plot hists / roc\n",
    "plt.figure(figsize=(13, 5))\n",
    "plt.subplot(121)\n",
    "plt.hist((scores_out, scores_in), bins=30, color=(\"blue\", \"orange\"), label=(\"ood\", \"id\"), density=True)\n",
    "plt.xlabel(\"score\")\n",
    "plt.legend()\n",
    "plt.subplot(122)\n",
    "oodmodel.plot_spectrum()\n",
    "plt.show()"
   ]
  },
  {
   "attachments": {},
   "cell_type": "markdown",
   "metadata": {},
   "source": [
    "## Using VIM by choosing the number of principal dims such that it explains the specified percentage of the variance. \n",
    "\n",
    "In this variant, we automatically select the number of principal vectors to exclude from our projection basis, computed using a PCA on 1000 samples from the training set. This number is computed based on the percentage of variance that we want to be explained by the excluded vectors. \n",
    "\n",
    "First, fit VIM to the model at hand."
   ]
  },
  {
   "cell_type": "code",
   "execution_count": null,
   "metadata": {},
   "outputs": [],
   "source": [
    "princ_dims = 0.99\n",
    "oodmodel = VIM(princ_dims=princ_dims)\n",
    "oodmodel.fit(model, ds_train)"
   ]
  },
  {
   "attachments": {},
   "cell_type": "markdown",
   "metadata": {},
   "source": [
    "Then compute the scores for in-distribution and out-of-distribution data. Also display some visualizations."
   ]
  },
  {
   "cell_type": "code",
   "execution_count": null,
   "metadata": {},
   "outputs": [],
   "source": [
    "scores_in = oodmodel.score(ds_in)\n",
    "scores_out = oodmodel.score(ds_out)\n",
    "\n",
    "\n",
    "metrics = bench_metrics(\n",
    "    (scores_in, scores_out),  \n",
    "    metrics = [\"auroc\", \"fpr95tpr\",], \n",
    "    )\n",
    "metrics_fashion = pd.Series(metrics, name='mnist-10-vs-fashion')\n",
    "print(metrics_fashion)\n",
    "\n",
    "# plot hists / roc\n",
    "plt.figure(figsize=(13, 5))\n",
    "plt.subplot(121)\n",
    "plt.hist((scores_out, scores_in), bins=30, color=(\"blue\", \"orange\"), label=(\"ood\", \"id\"), density=True)\n",
    "plt.xlabel(\"score\")\n",
    "plt.legend()\n",
    "plt.subplot(122)\n",
    "oodmodel.plot_spectrum()\n",
    "plt.show()"
   ]
  }
 ],
 "metadata": {
  "kernelspec": {
   "display_name": "oodeel_dev_env",
   "language": "python",
   "name": "python3"
  },
  "language_info": {
   "codemirror_mode": {
    "name": "ipython",
    "version": 3
   },
   "file_extension": ".py",
   "mimetype": "text/x-python",
   "name": "python",
   "nbconvert_exporter": "python",
   "pygments_lexer": "ipython3",
   "version": "3.9.12"
  },
  "orig_nbformat": 4
 },
 "nbformat": 4,
 "nbformat_minor": 2
}
