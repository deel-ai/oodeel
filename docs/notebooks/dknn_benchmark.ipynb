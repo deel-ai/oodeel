{
    "cells": [
        {
            "attachments": {},
            "cell_type": "markdown",
            "metadata": {},
            "source": [
                "## Imports"
            ]
        },
        {
            "cell_type": "code",
            "execution_count": 1,
            "metadata": {},
            "outputs": [],
            "source": [
                "%load_ext autoreload\n",
                "%autoreload 2\n",
                "\n",
                "import warnings\n",
                "warnings.filterwarnings(\"ignore\")\n",
                "\n",
                "import sys\n",
                "import os\n",
                "os.environ[\"TF_CPP_MIN_LOG_LEVEL\"] = \"2\" \n",
                "\n",
                "import numpy as np\n",
                "from oodeel.methods import DKNN\n",
                "import tensorflow as tf\n",
                "import matplotlib.pyplot as plt\n",
                "import pandas as pd\n",
                "from sklearn.metrics import *\n",
                "\n",
                "from oodeel.eval.metrics import bench_metrics, get_curve\n",
                "from oodeel.datasets import OODDataset\n",
                "from oodeel.models.training_funs import train_convnet_classifier\n"
            ]
        },
        {
            "attachments": {},
            "cell_type": "markdown",
            "metadata": {},
            "source": [
                "## MNIST (0-4) vs MNIST (5-9)"
            ]
        },
        {
            "attachments": {},
            "cell_type": "markdown",
            "metadata": {},
            "source": [
                "### Data and model loading\n",
                "ID data: MNIST (0-4), OOD data: MNIST (5-9)"
            ]
        },
        {
            "cell_type": "code",
            "execution_count": 2,
            "metadata": {},
            "outputs": [
                {
                    "name": "stdout",
                    "output_type": "stream",
                    "text": [
                        "Metal device set to: AMD Radeon Pro 5500M\n",
                        "\n",
                        "systemMemory: 64.00 GB\n",
                        "maxCacheSize: 3.99 GB\n",
                        "\n",
                        "WARNING:tensorflow:From /Users/paul/workspace/oodeel/oodeel_dev_env/lib/python3.10/site-packages/tensorflow/python/autograph/pyct/static_analysis/liveness.py:83: Analyzer.lamba_check (from tensorflow.python.autograph.pyct.static_analysis.liveness) is deprecated and will be removed after 2023-09-23.\n",
                        "Instructions for updating:\n",
                        "Lambda fuctions will be no more assumed to be used in the statement where they are used, or at least in the same block. https://github.com/tensorflow/tensorflow/issues/56089\n"
                    ]
                },
                {
                    "name": "stderr",
                    "output_type": "stream",
                    "text": [
                        "WARNING:tensorflow:From /Users/paul/workspace/oodeel/oodeel_dev_env/lib/python3.10/site-packages/tensorflow/python/autograph/pyct/static_analysis/liveness.py:83: Analyzer.lamba_check (from tensorflow.python.autograph.pyct.static_analysis.liveness) is deprecated and will be removed after 2023-09-23.\n",
                        "Instructions for updating:\n",
                        "Lambda fuctions will be no more assumed to be used in the statement where they are used, or at least in the same block. https://github.com/tensorflow/tensorflow/issues/56089\n"
                    ]
                }
            ],
            "source": [
                "oods_test = OODDataset('mnist', split=\"test\")\n",
                "oods_train = OODDataset('mnist', split=\"train\")\n",
                "\n",
                "batch_size = 128\n",
                "inc_labels = [0, 1, 2, 3, 4]\n",
                "oods_train, _ = oods_train.assign_ood_labels_by_class(in_labels=inc_labels)\n",
                "oods_in, oods_out = oods_test.assign_ood_labels_by_class(in_labels=inc_labels)\n",
                "\n",
                "\n",
                "def preprocess_fn(*inputs):\n",
                "    x = inputs[0] / 255\n",
                "    return tuple([x] + list(inputs[1:]))\n",
                "\n",
                "ds_train = oods_train.prepare(batch_size=batch_size, preprocess_fn=preprocess_fn, shuffle=True)\n",
                "ds_in = oods_in.prepare(batch_size=batch_size, with_ood_labels=False, preprocess_fn=preprocess_fn)\n",
                "ds_out = oods_out.prepare(batch_size=batch_size, with_ood_labels=False, preprocess_fn=preprocess_fn)"
            ]
        },
        {
            "cell_type": "code",
            "execution_count": 3,
            "metadata": {},
            "outputs": [
                {
                    "name": "stdout",
                    "output_type": "stream",
                    "text": [
                        "Epoch 1/5\n",
                        "    240/Unknown - 8s 19ms/step - loss: 0.7341 - accuracy: 0.7167"
                    ]
                },
                {
                    "name": "stderr",
                    "output_type": "stream",
                    "text": [
                        "WARNING:absl:Found untraced functions such as conv2d_layer_call_and_return_conditional_losses, conv2d_layer_call_fn, conv2d_1_layer_call_and_return_conditional_losses, conv2d_1_layer_call_fn, flatten_layer_call_and_return_conditional_losses while saving (showing 5 of 10). These functions will not be directly callable after loading.\n"
                    ]
                },
                {
                    "name": "stdout",
                    "output_type": "stream",
                    "text": [
                        "INFO:tensorflow:Assets written to: ./saved_models/mnist_model_0-4/assets\n"
                    ]
                },
                {
                    "name": "stderr",
                    "output_type": "stream",
                    "text": [
                        "INFO:tensorflow:Assets written to: ./saved_models/mnist_model_0-4/assets\n"
                    ]
                },
                {
                    "name": "stdout",
                    "output_type": "stream",
                    "text": [
                        "240/240 [==============================] - 12s 35ms/step - loss: 0.7341 - accuracy: 0.7167 - val_loss: 0.1605 - val_accuracy: 0.9564\n",
                        "Epoch 2/5\n",
                        "239/240 [============================>.] - ETA: 0s - loss: 0.3275 - accuracy: 0.8844"
                    ]
                },
                {
                    "name": "stderr",
                    "output_type": "stream",
                    "text": [
                        "WARNING:absl:Found untraced functions such as conv2d_layer_call_and_return_conditional_losses, conv2d_layer_call_fn, conv2d_1_layer_call_and_return_conditional_losses, conv2d_1_layer_call_fn, flatten_layer_call_and_return_conditional_losses while saving (showing 5 of 10). These functions will not be directly callable after loading.\n"
                    ]
                },
                {
                    "name": "stdout",
                    "output_type": "stream",
                    "text": [
                        "INFO:tensorflow:Assets written to: ./saved_models/mnist_model_0-4/assets\n"
                    ]
                },
                {
                    "name": "stderr",
                    "output_type": "stream",
                    "text": [
                        "INFO:tensorflow:Assets written to: ./saved_models/mnist_model_0-4/assets\n"
                    ]
                },
                {
                    "name": "stdout",
                    "output_type": "stream",
                    "text": [
                        "240/240 [==============================] - 7s 28ms/step - loss: 0.3275 - accuracy: 0.8844 - val_loss: 0.1211 - val_accuracy: 0.9656\n",
                        "Epoch 3/5\n",
                        "240/240 [==============================] - ETA: 0s - loss: 0.2675 - accuracy: 0.9083"
                    ]
                },
                {
                    "name": "stderr",
                    "output_type": "stream",
                    "text": [
                        "WARNING:absl:Found untraced functions such as conv2d_layer_call_and_return_conditional_losses, conv2d_layer_call_fn, conv2d_1_layer_call_and_return_conditional_losses, conv2d_1_layer_call_fn, flatten_layer_call_and_return_conditional_losses while saving (showing 5 of 10). These functions will not be directly callable after loading.\n"
                    ]
                },
                {
                    "name": "stdout",
                    "output_type": "stream",
                    "text": [
                        "INFO:tensorflow:Assets written to: ./saved_models/mnist_model_0-4/assets\n"
                    ]
                },
                {
                    "name": "stderr",
                    "output_type": "stream",
                    "text": [
                        "INFO:tensorflow:Assets written to: ./saved_models/mnist_model_0-4/assets\n"
                    ]
                },
                {
                    "name": "stdout",
                    "output_type": "stream",
                    "text": [
                        "240/240 [==============================] - 7s 29ms/step - loss: 0.2675 - accuracy: 0.9083 - val_loss: 0.1110 - val_accuracy: 0.9704\n",
                        "Epoch 4/5\n",
                        "240/240 [==============================] - 5s 21ms/step - loss: 0.2391 - accuracy: 0.9178 - val_loss: 0.1049 - val_accuracy: 0.9691\n",
                        "Epoch 5/5\n",
                        "238/240 [============================>.] - ETA: 0s - loss: 0.2226 - accuracy: 0.9244"
                    ]
                },
                {
                    "name": "stderr",
                    "output_type": "stream",
                    "text": [
                        "WARNING:absl:Found untraced functions such as conv2d_layer_call_and_return_conditional_losses, conv2d_layer_call_fn, conv2d_1_layer_call_and_return_conditional_losses, conv2d_1_layer_call_fn, flatten_layer_call_and_return_conditional_losses while saving (showing 5 of 10). These functions will not be directly callable after loading.\n"
                    ]
                },
                {
                    "name": "stdout",
                    "output_type": "stream",
                    "text": [
                        "INFO:tensorflow:Assets written to: ./saved_models/mnist_model_0-4/assets\n"
                    ]
                },
                {
                    "name": "stderr",
                    "output_type": "stream",
                    "text": [
                        "INFO:tensorflow:Assets written to: ./saved_models/mnist_model_0-4/assets\n"
                    ]
                },
                {
                    "name": "stdout",
                    "output_type": "stream",
                    "text": [
                        "240/240 [==============================] - 7s 30ms/step - loss: 0.2223 - accuracy: 0.9245 - val_loss: 0.0834 - val_accuracy: 0.9788\n"
                    ]
                }
            ],
            "source": [
                "\n",
                "model_path = os.path.expanduser(\"~/\") + \"saved_models/mnist_model_0-4/\"\n",
                "\n",
                "try:\n",
                "    model = tf.keras.models.load_model(model_path)\n",
                "    \n",
                "except OSError:\n",
                "    train_config = {\n",
                "        \"input_shape\": (28, 28, 1),\n",
                "        \"num_classes\": 10,\n",
                "        \"batch_size\": 128,\n",
                "        \"epochs\": 5,\n",
                "        \"optimizer\": \"adam\",\n",
                "        \"save_dir\": model_path,\n",
                "        \"validation_data\": oods_in.get_dataset() #ds_in is actually the test set of MNIST\n",
                "    }\n",
                "\n",
                "    model = train_convnet_classifier(oods_train.get_dataset(), **train_config) #ds_fit is actually the train set of MNIST"
            ]
        },
        {
            "attachments": {},
            "cell_type": "markdown",
            "metadata": {},
            "source": [
                "### DKNN score"
            ]
        },
        {
            "cell_type": "code",
            "execution_count": 4,
            "metadata": {},
            "outputs": [
                {
                    "name": "stdout",
                    "output_type": "stream",
                    "text": [
                        "auroc       0.968776\n",
                        "fpr95tpr    0.133489\n",
                        "Name: mnist-0-4-vs-5-10, dtype: float64\n"
                    ]
                },
                {
                    "data": {
                        "image/png": "[encoded data removed]",
                        "text/plain": [
                            "<Figure size 900x300 with 1 Axes>"
                        ]
                    },
                    "metadata": {},
                    "output_type": "display_data"
                }
            ],
            "source": [
                "batch_size = 128\n",
                "\n",
                "oodmodel = DKNN(nearest=50)\n",
                "oodmodel.fit(model, ds_train.take(10000))\n",
                "scores_in = oodmodel.score(ds_in.take(1000))\n",
                "scores_out = oodmodel.score(ds_out.take(1000))\n",
                "\n",
                "# auroc / fpr95\n",
                "metrics = bench_metrics(\n",
                "    (scores_in, scores_out),  \n",
                "    metrics = [\"auroc\", \"fpr95tpr\"], \n",
                "    )\n",
                "\n",
                "metrics_first_vs_last = pd.Series(metrics, name='mnist-0-4-vs-5-10')\n",
                "print(metrics_first_vs_last)\n",
                "\n",
                "# plot hists / roc\n",
                "plt.figure(figsize=(9,3))\n",
                "plt.hist((scores_out, scores_in), bins=30, color=(\"blue\", \"orange\"), label=(\"OOD\", \"ID\"), density=True)\n",
                "plt.legend()\n",
                "plt.show()"
            ]
        },
        {
            "attachments": {},
            "cell_type": "markdown",
            "metadata": {},
            "source": [
                "## MNIST vs Fashion MNIST"
            ]
        },
        {
            "attachments": {},
            "cell_type": "markdown",
            "metadata": {},
            "source": [
                "\n",
                "### Data and model loading\n",
                "ID data: MNIST, OOD data: Fashion MNIST"
            ]
        },
        {
            "cell_type": "code",
            "execution_count": 5,
            "metadata": {},
            "outputs": [],
            "source": [
                "oods_in = OODDataset('mnist', split=\"test\")\n",
                "oods_out = OODDataset('fashion_mnist', split=\"test\")\n",
                "oods_fit = OODDataset('mnist', split=\"train\")\n",
                "\n",
                "def preprocess_fn(*inputs):\n",
                "    x = inputs[0] / 255\n",
                "    return tuple([x] + list(inputs[1:]))\n",
                "\n",
                "\n",
                "batch_size = 128\n",
                "ds_in = oods_in.prepare(batch_size=batch_size, preprocess_fn=preprocess_fn)\n",
                "ds_out = oods_out.prepare(batch_size=batch_size, preprocess_fn=preprocess_fn)\n",
                "ds_fit = oods_fit.prepare(batch_size=batch_size, preprocess_fn=preprocess_fn, shuffle=True)"
            ]
        },
        {
            "cell_type": "code",
            "execution_count": 6,
            "metadata": {},
            "outputs": [
                {
                    "name": "stdout",
                    "output_type": "stream",
                    "text": [
                        "Epoch 1/5\n",
                        "469/469 [==============================] - ETA: 0s - loss: 1.1297 - accuracy: 0.6107"
                    ]
                },
                {
                    "name": "stderr",
                    "output_type": "stream",
                    "text": [
                        "WARNING:absl:Found untraced functions such as conv2d_2_layer_call_and_return_conditional_losses, conv2d_2_layer_call_fn, conv2d_3_layer_call_and_return_conditional_losses, conv2d_3_layer_call_fn, flatten_1_layer_call_and_return_conditional_losses while saving (showing 5 of 10). These functions will not be directly callable after loading.\n"
                    ]
                },
                {
                    "name": "stdout",
                    "output_type": "stream",
                    "text": [
                        "INFO:tensorflow:Assets written to: ./saved_models/mnist_model/assets\n"
                    ]
                },
                {
                    "name": "stderr",
                    "output_type": "stream",
                    "text": [
                        "INFO:tensorflow:Assets written to: ./saved_models/mnist_model/assets\n"
                    ]
                },
                {
                    "name": "stdout",
                    "output_type": "stream",
                    "text": [
                        "469/469 [==============================] - 15s 27ms/step - loss: 1.1297 - accuracy: 0.6107 - val_loss: 0.4238 - val_accuracy: 0.8715\n",
                        "Epoch 2/5\n",
                        "469/469 [==============================] - ETA: 0s - loss: 0.6596 - accuracy: 0.7813"
                    ]
                },
                {
                    "name": "stderr",
                    "output_type": "stream",
                    "text": [
                        "WARNING:absl:Found untraced functions such as conv2d_2_layer_call_and_return_conditional_losses, conv2d_2_layer_call_fn, conv2d_3_layer_call_and_return_conditional_losses, conv2d_3_layer_call_fn, flatten_1_layer_call_and_return_conditional_losses while saving (showing 5 of 10). These functions will not be directly callable after loading.\n"
                    ]
                },
                {
                    "name": "stdout",
                    "output_type": "stream",
                    "text": [
                        "INFO:tensorflow:Assets written to: ./saved_models/mnist_model/assets\n"
                    ]
                },
                {
                    "name": "stderr",
                    "output_type": "stream",
                    "text": [
                        "INFO:tensorflow:Assets written to: ./saved_models/mnist_model/assets\n"
                    ]
                },
                {
                    "name": "stdout",
                    "output_type": "stream",
                    "text": [
                        "469/469 [==============================] - 12s 25ms/step - loss: 0.6596 - accuracy: 0.7813 - val_loss: 0.3099 - val_accuracy: 0.9107\n",
                        "Epoch 3/5\n",
                        "468/469 [============================>.] - ETA: 0s - loss: 0.5475 - accuracy: 0.8218"
                    ]
                },
                {
                    "name": "stderr",
                    "output_type": "stream",
                    "text": [
                        "WARNING:absl:Found untraced functions such as conv2d_2_layer_call_and_return_conditional_losses, conv2d_2_layer_call_fn, conv2d_3_layer_call_and_return_conditional_losses, conv2d_3_layer_call_fn, flatten_1_layer_call_and_return_conditional_losses while saving (showing 5 of 10). These functions will not be directly callable after loading.\n"
                    ]
                },
                {
                    "name": "stdout",
                    "output_type": "stream",
                    "text": [
                        "INFO:tensorflow:Assets written to: ./saved_models/mnist_model/assets\n"
                    ]
                },
                {
                    "name": "stderr",
                    "output_type": "stream",
                    "text": [
                        "INFO:tensorflow:Assets written to: ./saved_models/mnist_model/assets\n"
                    ]
                },
                {
                    "name": "stdout",
                    "output_type": "stream",
                    "text": [
                        "469/469 [==============================] - 12s 26ms/step - loss: 0.5475 - accuracy: 0.8218 - val_loss: 0.2660 - val_accuracy: 0.9211\n",
                        "Epoch 4/5\n",
                        "469/469 [==============================] - ETA: 0s - loss: 0.4784 - accuracy: 0.8453"
                    ]
                },
                {
                    "name": "stderr",
                    "output_type": "stream",
                    "text": [
                        "WARNING:absl:Found untraced functions such as conv2d_2_layer_call_and_return_conditional_losses, conv2d_2_layer_call_fn, conv2d_3_layer_call_and_return_conditional_losses, conv2d_3_layer_call_fn, flatten_1_layer_call_and_return_conditional_losses while saving (showing 5 of 10). These functions will not be directly callable after loading.\n"
                    ]
                },
                {
                    "name": "stdout",
                    "output_type": "stream",
                    "text": [
                        "INFO:tensorflow:Assets written to: ./saved_models/mnist_model/assets\n"
                    ]
                },
                {
                    "name": "stderr",
                    "output_type": "stream",
                    "text": [
                        "INFO:tensorflow:Assets written to: ./saved_models/mnist_model/assets\n"
                    ]
                },
                {
                    "name": "stdout",
                    "output_type": "stream",
                    "text": [
                        "469/469 [==============================] - 12s 25ms/step - loss: 0.4784 - accuracy: 0.8453 - val_loss: 0.2287 - val_accuracy: 0.9325\n",
                        "Epoch 5/5\n",
                        "468/469 [============================>.] - ETA: 0s - loss: 0.4311 - accuracy: 0.8611"
                    ]
                },
                {
                    "name": "stderr",
                    "output_type": "stream",
                    "text": [
                        "WARNING:absl:Found untraced functions such as conv2d_2_layer_call_and_return_conditional_losses, conv2d_2_layer_call_fn, conv2d_3_layer_call_and_return_conditional_losses, conv2d_3_layer_call_fn, flatten_1_layer_call_and_return_conditional_losses while saving (showing 5 of 10). These functions will not be directly callable after loading.\n"
                    ]
                },
                {
                    "name": "stdout",
                    "output_type": "stream",
                    "text": [
                        "INFO:tensorflow:Assets written to: ./saved_models/mnist_model/assets\n"
                    ]
                },
                {
                    "name": "stderr",
                    "output_type": "stream",
                    "text": [
                        "INFO:tensorflow:Assets written to: ./saved_models/mnist_model/assets\n"
                    ]
                },
                {
                    "name": "stdout",
                    "output_type": "stream",
                    "text": [
                        "469/469 [==============================] - 13s 27ms/step - loss: 0.4309 - accuracy: 0.8612 - val_loss: 0.2075 - val_accuracy: 0.9379\n"
                    ]
                }
            ],
            "source": [
                "try:\n",
                "    model = tf.keras.models.load_model(\"./saved_models/mnist_model\")\n",
                "    \n",
                "except OSError:\n",
                "    train_config = {\n",
                "        \"input_shape\": (28, 28, 1),\n",
                "        \"num_classes\": 10,\n",
                "        \"batch_size\": 128,\n",
                "        \"optimizer\": \"adam\",\n",
                "        \"epochs\": 5,\n",
                "        \"save_dir\": \"./saved_models/mnist_model\",\n",
                "        \"validation_data\": oods_in.get_dataset() #ds_in is actually the test set of MNIST\n",
                "    }\n",
                "\n",
                "    model = train_convnet_classifier(oods_fit.get_dataset(), **train_config) #"
            ]
        },
        {
            "attachments": {},
            "cell_type": "markdown",
            "metadata": {},
            "source": [
                "### DKNN score"
            ]
        },
        {
            "cell_type": "code",
            "execution_count": 7,
            "metadata": {},
            "outputs": [
                {
                    "name": "stdout",
                    "output_type": "stream",
                    "text": [
                        "auroc       0.993552\n",
                        "fpr95tpr    0.027500\n",
                        "Name: mnist-10-vs-fashion, dtype: float64\n"
                    ]
                },
                {
                    "data": {
                        "image/png": "[encoded data removed]",
                        "text/plain": [
                            "<Figure size 900x300 with 1 Axes>"
                        ]
                    },
                    "metadata": {},
                    "output_type": "display_data"
                }
            ],
            "source": [
                "oodmodel = DKNN(nearest=50)\n",
                "oodmodel.fit(model, ds_fit.take(10000))\n",
                "scores_in = oodmodel.score(ds_in.take(1000))\n",
                "scores_out = oodmodel.score(ds_out.take(1000))\n",
                "\n",
                "\n",
                "metrics = bench_metrics(\n",
                "    (scores_in, scores_out),  \n",
                "    metrics = [\"auroc\", \"fpr95tpr\",], \n",
                "    )\n",
                "metrics_fashion = pd.Series(metrics, name='mnist-10-vs-fashion')\n",
                "print(metrics_fashion)\n",
                "\n",
                "# plot hists / roc\n",
                "plt.figure(figsize=(9,3))\n",
                "plt.hist((scores_out, scores_in), bins=30, color=(\"blue\", \"orange\"), label=(\"ood\", \"id\"), density=True)\n",
                "plt.legend()\n",
                "plt.show()"
            ]
        },
        {
            "attachments": {},
            "cell_type": "markdown",
            "metadata": {},
            "source": [
                "## CIFAR-10 vs [SVHN, LSUN, iSUN, Texture]"
            ]
        },
        {
            "attachments": {},
            "cell_type": "markdown",
            "metadata": {},
            "source": [
                "### ID Data and model loading"
            ]
        },
        {
            "cell_type": "code",
            "execution_count": 3,
            "metadata": {},
            "outputs": [
                {
                    "name": "stdout",
                    "output_type": "stream",
                    "text": [
                        "WARNING:tensorflow:From /Users/paul/workspace/oodeel/oodeel_dev_env/lib/python3.10/site-packages/tensorflow/python/autograph/pyct/static_analysis/liveness.py:83: Analyzer.lamba_check (from tensorflow.python.autograph.pyct.static_analysis.liveness) is deprecated and will be removed after 2023-09-23.\n",
                        "Instructions for updating:\n",
                        "Lambda fuctions will be no more assumed to be used in the statement where they are used, or at least in the same block. https://github.com/tensorflow/tensorflow/issues/56089\n"
                    ]
                },
                {
                    "name": "stderr",
                    "output_type": "stream",
                    "text": [
                        "WARNING:tensorflow:From /Users/paul/workspace/oodeel/oodeel_dev_env/lib/python3.10/site-packages/tensorflow/python/autograph/pyct/static_analysis/liveness.py:83: Analyzer.lamba_check (from tensorflow.python.autograph.pyct.static_analysis.liveness) is deprecated and will be removed after 2023-09-23.\n",
                        "Instructions for updating:\n",
                        "Lambda fuctions will be no more assumed to be used in the statement where they are used, or at least in the same block. https://github.com/tensorflow/tensorflow/issues/56089\n"
                    ]
                }
            ],
            "source": [
                "%autoreload 2\n",
                "\n",
                "oods_in = OODDataset('cifar10', split=\"test\", input_key=\"image\")\n",
                "oods_fit = OODDataset('cifar10', split=\"train\", input_key=\"image\")\n",
                "\n",
                "def preprocess_fn(*inputs):\n",
                "    x = inputs[0] / 255\n",
                "    return tuple([x] + list(inputs[1:]))\n",
                "\n",
                "batch_size = 128\n",
                "ds_in = oods_in.prepare(batch_size=batch_size, preprocess_fn=preprocess_fn)\n",
                "ds_fit = oods_fit.prepare(batch_size=batch_size, preprocess_fn=preprocess_fn, shuffle=True)\n"
            ]
        },
        {
            "cell_type": "code",
            "execution_count": 9,
            "metadata": {},
            "outputs": [
                {
                    "ename": "KeyboardInterrupt",
                    "evalue": "",
                    "output_type": "error",
                    "traceback": [
                        "\u001b[0;31m---------------------------------------------------------------------------\u001b[0m",
                        "\u001b[0;31mKeyboardInterrupt\u001b[0m                         Traceback (most recent call last)",
                        "Cell \u001b[0;32mIn[9], line 4\u001b[0m\n\u001b[1;32m      1\u001b[0m \u001b[39mfrom\u001b[39;00m \u001b[39moodeel\u001b[39;00m\u001b[39m.\u001b[39;00m\u001b[39mmodels\u001b[39;00m\u001b[39m.\u001b[39;00m\u001b[39mtraining_funs\u001b[39;00m \u001b[39mimport\u001b[39;00m train_keras_app\n\u001b[1;32m      3\u001b[0m \u001b[39mtry\u001b[39;00m:\n\u001b[0;32m----> 4\u001b[0m     model \u001b[39m=\u001b[39m tf\u001b[39m.\u001b[39;49mkeras\u001b[39m.\u001b[39;49mmodels\u001b[39m.\u001b[39;49mload_model(\u001b[39m\"\u001b[39;49m\u001b[39m./saved_models/cifar10/\u001b[39;49m\u001b[39m\"\u001b[39;49m)\n\u001b[1;32m      6\u001b[0m \u001b[39mexcept\u001b[39;00m \u001b[39mOSError\u001b[39;00m:\n\u001b[1;32m      7\u001b[0m     train_config \u001b[39m=\u001b[39m {\n\u001b[1;32m      8\u001b[0m         \u001b[39m\"\u001b[39m\u001b[39minput_shape\u001b[39m\u001b[39m\"\u001b[39m: (\u001b[39m32\u001b[39m, \u001b[39m32\u001b[39m, \u001b[39m3\u001b[39m),\n\u001b[1;32m      9\u001b[0m         \u001b[39m\"\u001b[39m\u001b[39mnum_classes\u001b[39m\u001b[39m\"\u001b[39m: \u001b[39m10\u001b[39m,\n\u001b[0;32m   (...)\u001b[0m\n\u001b[1;32m     14\u001b[0m         \u001b[39m\"\u001b[39m\u001b[39mvalidation_data\u001b[39m\u001b[39m\"\u001b[39m: oods_in\u001b[39m.\u001b[39mget_dataset() \u001b[39m#ds_in is actually the test set of MNIST\u001b[39;00m\n\u001b[1;32m     15\u001b[0m     }\n",
                        "File \u001b[0;32m~/workspace/oodeel/oodeel_dev_env/lib/python3.10/site-packages/keras/utils/traceback_utils.py:65\u001b[0m, in \u001b[0;36mfilter_traceback.<locals>.error_handler\u001b[0;34m(*args, **kwargs)\u001b[0m\n\u001b[1;32m     63\u001b[0m filtered_tb \u001b[39m=\u001b[39m \u001b[39mNone\u001b[39;00m\n\u001b[1;32m     64\u001b[0m \u001b[39mtry\u001b[39;00m:\n\u001b[0;32m---> 65\u001b[0m     \u001b[39mreturn\u001b[39;00m fn(\u001b[39m*\u001b[39;49margs, \u001b[39m*\u001b[39;49m\u001b[39m*\u001b[39;49mkwargs)\n\u001b[1;32m     66\u001b[0m \u001b[39mexcept\u001b[39;00m \u001b[39mException\u001b[39;00m \u001b[39mas\u001b[39;00m e:\n\u001b[1;32m     67\u001b[0m     filtered_tb \u001b[39m=\u001b[39m _process_traceback_frames(e\u001b[39m.\u001b[39m__traceback__)\n",
                        "File \u001b[0;32m~/workspace/oodeel/oodeel_dev_env/lib/python3.10/site-packages/keras/saving/legacy/save.py:232\u001b[0m, in \u001b[0;36mload_model\u001b[0;34m(filepath, custom_objects, compile, options)\u001b[0m\n\u001b[1;32m    227\u001b[0m     \u001b[39mraise\u001b[39;00m \u001b[39mIOError\u001b[39;00m(\n\u001b[1;32m    228\u001b[0m         \u001b[39mf\u001b[39m\u001b[39m\"\u001b[39m\u001b[39mNo file or directory found at \u001b[39m\u001b[39m{\u001b[39;00mfilepath_str\u001b[39m}\u001b[39;00m\u001b[39m\"\u001b[39m\n\u001b[1;32m    229\u001b[0m     )\n\u001b[1;32m    231\u001b[0m \u001b[39mif\u001b[39;00m tf\u001b[39m.\u001b[39mio\u001b[39m.\u001b[39mgfile\u001b[39m.\u001b[39misdir(filepath_str):\n\u001b[0;32m--> 232\u001b[0m     \u001b[39mreturn\u001b[39;00m saved_model_load\u001b[39m.\u001b[39;49mload(\n\u001b[1;32m    233\u001b[0m         filepath_str, \u001b[39mcompile\u001b[39;49m, options\n\u001b[1;32m    234\u001b[0m     )\n\u001b[1;32m    235\u001b[0m \u001b[39melse\u001b[39;00m:\n\u001b[1;32m    236\u001b[0m     \u001b[39mif\u001b[39;00m h5py \u001b[39mis\u001b[39;00m \u001b[39mNone\u001b[39;00m:\n",
                        "File \u001b[0;32m~/workspace/oodeel/oodeel_dev_env/lib/python3.10/site-packages/keras/saving/legacy/saved_model/load.py:144\u001b[0m, in \u001b[0;36mload\u001b[0;34m(path, compile, options)\u001b[0m\n\u001b[1;32m    140\u001b[0m \u001b[39mwith\u001b[39;00m warnings\u001b[39m.\u001b[39mcatch_warnings():\n\u001b[1;32m    141\u001b[0m     warnings\u001b[39m.\u001b[39mfilterwarnings(\n\u001b[1;32m    142\u001b[0m         \u001b[39m\"\u001b[39m\u001b[39mignore\u001b[39m\u001b[39m\"\u001b[39m, message\u001b[39m=\u001b[39m\u001b[39m\"\u001b[39m\u001b[39mTrying to load ShardedVariables\u001b[39m\u001b[39m\"\u001b[39m\n\u001b[1;32m    143\u001b[0m     )\n\u001b[0;32m--> 144\u001b[0m     loaded \u001b[39m=\u001b[39m tf\u001b[39m.\u001b[39;49m__internal__\u001b[39m.\u001b[39;49msaved_model\u001b[39m.\u001b[39;49mload_partial(\n\u001b[1;32m    145\u001b[0m         path, nodes_to_load, options\u001b[39m=\u001b[39;49moptions\n\u001b[1;32m    146\u001b[0m     )\n\u001b[1;32m    148\u001b[0m \u001b[39m# Finalize the loaded layers and remove the extra tracked dependencies.\u001b[39;00m\n\u001b[1;32m    149\u001b[0m keras_loader\u001b[39m.\u001b[39mfinalize_objects()\n",
                        "File \u001b[0;32m~/workspace/oodeel/oodeel_dev_env/lib/python3.10/site-packages/tensorflow/python/saved_model/load.py:958\u001b[0m, in \u001b[0;36mload_partial\u001b[0;34m(export_dir, filters, tags, options)\u001b[0m\n\u001b[1;32m    956\u001b[0m \u001b[39mwith\u001b[39;00m ops\u001b[39m.\u001b[39minit_scope():\n\u001b[1;32m    957\u001b[0m   \u001b[39mtry\u001b[39;00m:\n\u001b[0;32m--> 958\u001b[0m     loader \u001b[39m=\u001b[39m Loader(object_graph_proto, saved_model_proto, export_dir,\n\u001b[1;32m    959\u001b[0m                     ckpt_options, options, filters)\n\u001b[1;32m    960\u001b[0m   \u001b[39mexcept\u001b[39;00m errors\u001b[39m.\u001b[39mNotFoundError \u001b[39mas\u001b[39;00m err:\n\u001b[1;32m    961\u001b[0m     \u001b[39mraise\u001b[39;00m \u001b[39mFileNotFoundError\u001b[39;00m(\n\u001b[1;32m    962\u001b[0m         \u001b[39mstr\u001b[39m(err) \u001b[39m+\u001b[39m \u001b[39m\"\u001b[39m\u001b[39m\\n\u001b[39;00m\u001b[39m You may be trying to load on a different device \u001b[39m\u001b[39m\"\u001b[39m\n\u001b[1;32m    963\u001b[0m         \u001b[39m\"\u001b[39m\u001b[39mfrom the computational device. Consider setting the \u001b[39m\u001b[39m\"\u001b[39m\n\u001b[1;32m    964\u001b[0m         \u001b[39m\"\u001b[39m\u001b[39m`experimental_io_device` option in `tf.saved_model.LoadOptions` \u001b[39m\u001b[39m\"\u001b[39m\n\u001b[1;32m    965\u001b[0m         \u001b[39m\"\u001b[39m\u001b[39mto the io_device such as \u001b[39m\u001b[39m'\u001b[39m\u001b[39m/job:localhost\u001b[39m\u001b[39m'\u001b[39m\u001b[39m.\u001b[39m\u001b[39m\"\u001b[39m)\n",
                        "File \u001b[0;32m~/workspace/oodeel/oodeel_dev_env/lib/python3.10/site-packages/tensorflow/python/saved_model/load.py:192\u001b[0m, in \u001b[0;36mLoader.__init__\u001b[0;34m(self, object_graph_proto, saved_model_proto, export_dir, ckpt_options, save_options, filters)\u001b[0m\n\u001b[1;32m    189\u001b[0m \u001b[39mself\u001b[39m\u001b[39m.\u001b[39m_load_all()\n\u001b[1;32m    191\u001b[0m \u001b[39mif\u001b[39;00m \u001b[39mnot\u001b[39;00m save_options\u001b[39m.\u001b[39mexperimental_skip_checkpoint:\n\u001b[0;32m--> 192\u001b[0m   \u001b[39mself\u001b[39;49m\u001b[39m.\u001b[39;49m_restore_checkpoint()\n\u001b[1;32m    193\u001b[0m \u001b[39mfor\u001b[39;00m node \u001b[39min\u001b[39;00m \u001b[39mself\u001b[39m\u001b[39m.\u001b[39m_nodes:\n\u001b[1;32m    194\u001b[0m   \u001b[39mif\u001b[39;00m \u001b[39misinstance\u001b[39m(node, resource\u001b[39m.\u001b[39mCapturableResource):\n",
                        "File \u001b[0;32m~/workspace/oodeel/oodeel_dev_env/lib/python3.10/site-packages/tensorflow/python/saved_model/load.py:527\u001b[0m, in \u001b[0;36mLoader._restore_checkpoint\u001b[0;34m(self)\u001b[0m\n\u001b[1;32m    525\u001b[0m   load_status\u001b[39m.\u001b[39massert_nontrivial_match()\n\u001b[1;32m    526\u001b[0m \u001b[39melse\u001b[39;00m:\n\u001b[0;32m--> 527\u001b[0m   load_status \u001b[39m=\u001b[39m saver\u001b[39m.\u001b[39;49mrestore(variables_path, \u001b[39mself\u001b[39;49m\u001b[39m.\u001b[39;49m_checkpoint_options)\n\u001b[1;32m    528\u001b[0m   load_status\u001b[39m.\u001b[39massert_existing_objects_matched()\n\u001b[1;32m    529\u001b[0m ckpt \u001b[39m=\u001b[39m load_status\u001b[39m.\u001b[39m_checkpoint\n",
                        "File \u001b[0;32m~/workspace/oodeel/oodeel_dev_env/lib/python3.10/site-packages/tensorflow/python/checkpoint/checkpoint.py:1499\u001b[0m, in \u001b[0;36mTrackableSaver.restore\u001b[0;34m(self, save_path, options)\u001b[0m\n\u001b[1;32m   1488\u001b[0m object_graph_proto\u001b[39m.\u001b[39mParseFromString(object_graph_string)\n\u001b[1;32m   1489\u001b[0m checkpoint \u001b[39m=\u001b[39m _CheckpointRestoreCoordinator(\n\u001b[1;32m   1490\u001b[0m     object_graph_proto\u001b[39m=\u001b[39mobject_graph_proto,\n\u001b[1;32m   1491\u001b[0m     save_path\u001b[39m=\u001b[39msave_path,\n\u001b[0;32m   (...)\u001b[0m\n\u001b[1;32m   1496\u001b[0m     options\u001b[39m=\u001b[39moptions,\n\u001b[1;32m   1497\u001b[0m     saveables_cache\u001b[39m=\u001b[39m\u001b[39mself\u001b[39m\u001b[39m.\u001b[39m_saveables_cache)\n\u001b[1;32m   1498\u001b[0m restore_lib\u001b[39m.\u001b[39;49mCheckpointPosition(\n\u001b[0;32m-> 1499\u001b[0m     checkpoint\u001b[39m=\u001b[39;49mcheckpoint, proto_id\u001b[39m=\u001b[39;49m\u001b[39m0\u001b[39;49m)\u001b[39m.\u001b[39;49mrestore(\u001b[39mself\u001b[39;49m\u001b[39m.\u001b[39;49m_graph_view\u001b[39m.\u001b[39;49mroot)\n\u001b[1;32m   1501\u001b[0m \u001b[39m# Attached dependencies are not attached to the root, so should be restored\u001b[39;00m\n\u001b[1;32m   1502\u001b[0m \u001b[39m# separately.\u001b[39;00m\n\u001b[1;32m   1503\u001b[0m \u001b[39mif\u001b[39;00m \u001b[39mself\u001b[39m\u001b[39m.\u001b[39m_graph_view\u001b[39m.\u001b[39mattached_dependencies:\n",
                        "File \u001b[0;32m~/workspace/oodeel/oodeel_dev_env/lib/python3.10/site-packages/tensorflow/python/checkpoint/restore.py:61\u001b[0m, in \u001b[0;36mCheckpointPosition.restore\u001b[0;34m(self, trackable)\u001b[0m\n\u001b[1;32m     57\u001b[0m \u001b[39mwith\u001b[39;00m ops\u001b[39m.\u001b[39minit_scope():\n\u001b[1;32m     58\u001b[0m   \u001b[39mif\u001b[39;00m \u001b[39mself\u001b[39m\u001b[39m.\u001b[39mbind_object(trackable):\n\u001b[1;32m     59\u001b[0m     \u001b[39m# This object's correspondence with a checkpointed object is new, so\u001b[39;00m\n\u001b[1;32m     60\u001b[0m     \u001b[39m# process deferred restorations for it and its dependencies.\u001b[39;00m\n\u001b[0;32m---> 61\u001b[0m     restore_ops \u001b[39m=\u001b[39m \u001b[39mself\u001b[39;49m\u001b[39m.\u001b[39;49m_restore_descendants()\n\u001b[1;32m     62\u001b[0m     \u001b[39mif\u001b[39;00m restore_ops:\n\u001b[1;32m     63\u001b[0m       \u001b[39mself\u001b[39m\u001b[39m.\u001b[39m_checkpoint\u001b[39m.\u001b[39mnew_restore_ops(restore_ops)\n",
                        "File \u001b[0;32m~/workspace/oodeel/oodeel_dev_env/lib/python3.10/site-packages/tensorflow/python/checkpoint/restore.py:464\u001b[0m, in \u001b[0;36mCheckpointPosition._restore_descendants\u001b[0;34m(self)\u001b[0m\n\u001b[1;32m    460\u001b[0m   _queue_children_for_restoration(current_position, visit_queue)\n\u001b[1;32m    461\u001b[0m   _queue_slot_variables(current_position, visit_queue)\n\u001b[1;32m    463\u001b[0m restore_ops\u001b[39m.\u001b[39mextend(\n\u001b[0;32m--> 464\u001b[0m     current_position\u001b[39m.\u001b[39;49mcheckpoint\u001b[39m.\u001b[39;49mrestore_saveables(tensor_saveables,\n\u001b[1;32m    465\u001b[0m                                                   python_positions,\n\u001b[1;32m    466\u001b[0m                                                   registered_savers))\n\u001b[1;32m    467\u001b[0m \u001b[39mreturn\u001b[39;00m restore_ops\n",
                        "File \u001b[0;32m~/workspace/oodeel/oodeel_dev_env/lib/python3.10/site-packages/tensorflow/python/checkpoint/checkpoint.py:355\u001b[0m, in \u001b[0;36m_CheckpointRestoreCoordinator.restore_saveables\u001b[0;34m(self, tensor_saveables, python_positions, registered_savers)\u001b[0m\n\u001b[1;32m    350\u001b[0m \u001b[39mif\u001b[39;00m tensor_saveables \u001b[39mor\u001b[39;00m registered_savers:\n\u001b[1;32m    351\u001b[0m   flat_saveables \u001b[39m=\u001b[39m saveable_object_util\u001b[39m.\u001b[39mvalidate_and_slice_inputs(\n\u001b[1;32m    352\u001b[0m       tensor_saveables)\n\u001b[1;32m    353\u001b[0m   new_restore_ops \u001b[39m=\u001b[39m functional_saver\u001b[39m.\u001b[39;49mMultiDeviceSaver\u001b[39m.\u001b[39;49mfrom_saveables(\n\u001b[1;32m    354\u001b[0m       flat_saveables,\n\u001b[0;32m--> 355\u001b[0m       registered_savers)\u001b[39m.\u001b[39;49mrestore(\u001b[39mself\u001b[39;49m\u001b[39m.\u001b[39;49msave_path_tensor, \u001b[39mself\u001b[39;49m\u001b[39m.\u001b[39;49moptions)\n\u001b[1;32m    356\u001b[0m   \u001b[39mif\u001b[39;00m \u001b[39mnot\u001b[39;00m context\u001b[39m.\u001b[39mexecuting_eagerly():\n\u001b[1;32m    357\u001b[0m     \u001b[39mfor\u001b[39;00m name, restore_op \u001b[39min\u001b[39;00m \u001b[39msorted\u001b[39m(new_restore_ops\u001b[39m.\u001b[39mitems()):\n",
                        "File \u001b[0;32m~/workspace/oodeel/oodeel_dev_env/lib/python3.10/site-packages/tensorflow/python/checkpoint/functional_saver.py:499\u001b[0m, in \u001b[0;36mMultiDeviceSaver.restore\u001b[0;34m(self, file_prefix, options)\u001b[0m\n\u001b[1;32m    497\u001b[0m   restore_ops \u001b[39m=\u001b[39m tf_function_restore()\n\u001b[1;32m    498\u001b[0m \u001b[39melse\u001b[39;00m:\n\u001b[0;32m--> 499\u001b[0m   restore_ops \u001b[39m=\u001b[39m restore_fn()\n\u001b[1;32m    501\u001b[0m \u001b[39mreturn\u001b[39;00m restore_ops\n",
                        "File \u001b[0;32m~/workspace/oodeel/oodeel_dev_env/lib/python3.10/site-packages/tensorflow/python/checkpoint/functional_saver.py:435\u001b[0m, in \u001b[0;36mMultiDeviceSaver.restore.<locals>.restore_fn\u001b[0;34m()\u001b[0m\n\u001b[1;32m    432\u001b[0m \u001b[39mfor\u001b[39;00m device, saver \u001b[39min\u001b[39;00m \u001b[39msorted\u001b[39m(\u001b[39mself\u001b[39m\u001b[39m.\u001b[39m_single_device_savers\u001b[39m.\u001b[39mitems()):\n\u001b[1;32m    433\u001b[0m   \u001b[39mwith\u001b[39;00m ops\u001b[39m.\u001b[39mdevice(device):\n\u001b[1;32m    434\u001b[0m     \u001b[39m# Load values from checkpoint\u001b[39;00m\n\u001b[0;32m--> 435\u001b[0m     restored_tensor_dict \u001b[39m=\u001b[39m saver\u001b[39m.\u001b[39;49mrestore(file_prefix, options)\n\u001b[1;32m    437\u001b[0m     \u001b[39m# Map restored tensors to the corresponding restore_fn, and see if all\u001b[39;00m\n\u001b[1;32m    438\u001b[0m     \u001b[39m# inputs have all been loaded. Call `restore_fn` if that is the case.\u001b[39;00m\n\u001b[1;32m    439\u001b[0m     \u001b[39mfor\u001b[39;00m checkpoint_key, slice_and_tensor \u001b[39min\u001b[39;00m restored_tensor_dict\u001b[39m.\u001b[39mitems():\n",
                        "File \u001b[0;32m~/workspace/oodeel/oodeel_dev_env/lib/python3.10/site-packages/tensorflow/python/checkpoint/functional_saver.py:114\u001b[0m, in \u001b[0;36m_SingleDeviceSaver.restore\u001b[0;34m(self, file_prefix, options)\u001b[0m\n\u001b[1;32m    112\u001b[0m restore_device \u001b[39m=\u001b[39m options\u001b[39m.\u001b[39mexperimental_io_device \u001b[39mor\u001b[39;00m \u001b[39m\"\u001b[39m\u001b[39mcpu:0\u001b[39m\u001b[39m\"\u001b[39m\n\u001b[1;32m    113\u001b[0m \u001b[39mwith\u001b[39;00m ops\u001b[39m.\u001b[39mdevice(restore_device):\n\u001b[0;32m--> 114\u001b[0m   restored_tensors \u001b[39m=\u001b[39m io_ops\u001b[39m.\u001b[39;49mrestore_v2(\n\u001b[1;32m    115\u001b[0m       file_prefix, tensor_names, slice_specs, tensor_dtypes)\n\u001b[1;32m    117\u001b[0m restored_tensor_dict \u001b[39m=\u001b[39m {}\n\u001b[1;32m    118\u001b[0m \u001b[39mfor\u001b[39;00m checkpoint_key, tensor_slices \u001b[39min\u001b[39;00m \u001b[39mself\u001b[39m\u001b[39m.\u001b[39m_tensor_slice_dict\u001b[39m.\u001b[39mitems():\n",
                        "File \u001b[0;32m~/workspace/oodeel/oodeel_dev_env/lib/python3.10/site-packages/tensorflow/python/ops/gen_io_ops.py:1506\u001b[0m, in \u001b[0;36mrestore_v2\u001b[0;34m(prefix, tensor_names, shape_and_slices, dtypes, name)\u001b[0m\n\u001b[1;32m   1504\u001b[0m   \u001b[39mpass\u001b[39;00m\n\u001b[1;32m   1505\u001b[0m \u001b[39mtry\u001b[39;00m:\n\u001b[0;32m-> 1506\u001b[0m   \u001b[39mreturn\u001b[39;00m restore_v2_eager_fallback(\n\u001b[1;32m   1507\u001b[0m       prefix, tensor_names, shape_and_slices, dtypes\u001b[39m=\u001b[39;49mdtypes, name\u001b[39m=\u001b[39;49mname,\n\u001b[1;32m   1508\u001b[0m       ctx\u001b[39m=\u001b[39;49m_ctx)\n\u001b[1;32m   1509\u001b[0m \u001b[39mexcept\u001b[39;00m _core\u001b[39m.\u001b[39m_SymbolicException:\n\u001b[1;32m   1510\u001b[0m   \u001b[39mpass\u001b[39;00m  \u001b[39m# Add nodes to the TensorFlow graph.\u001b[39;00m\n",
                        "File \u001b[0;32m~/workspace/oodeel/oodeel_dev_env/lib/python3.10/site-packages/tensorflow/python/ops/gen_io_ops.py:1545\u001b[0m, in \u001b[0;36mrestore_v2_eager_fallback\u001b[0;34m(prefix, tensor_names, shape_and_slices, dtypes, name, ctx)\u001b[0m\n\u001b[1;32m   1543\u001b[0m _inputs_flat \u001b[39m=\u001b[39m [prefix, tensor_names, shape_and_slices]\n\u001b[1;32m   1544\u001b[0m _attrs \u001b[39m=\u001b[39m (\u001b[39m\"\u001b[39m\u001b[39mdtypes\u001b[39m\u001b[39m\"\u001b[39m, dtypes)\n\u001b[0;32m-> 1545\u001b[0m _result \u001b[39m=\u001b[39m _execute\u001b[39m.\u001b[39;49mexecute(\u001b[39mb\u001b[39;49m\u001b[39m\"\u001b[39;49m\u001b[39mRestoreV2\u001b[39;49m\u001b[39m\"\u001b[39;49m, \u001b[39mlen\u001b[39;49m(dtypes), inputs\u001b[39m=\u001b[39;49m_inputs_flat,\n\u001b[1;32m   1546\u001b[0m                            attrs\u001b[39m=\u001b[39;49m_attrs, ctx\u001b[39m=\u001b[39;49mctx, name\u001b[39m=\u001b[39;49mname)\n\u001b[1;32m   1547\u001b[0m \u001b[39mif\u001b[39;00m _execute\u001b[39m.\u001b[39mmust_record_gradient():\n\u001b[1;32m   1548\u001b[0m   _execute\u001b[39m.\u001b[39mrecord_gradient(\n\u001b[1;32m   1549\u001b[0m       \u001b[39m\"\u001b[39m\u001b[39mRestoreV2\u001b[39m\u001b[39m\"\u001b[39m, _inputs_flat, _attrs, _result)\n",
                        "File \u001b[0;32m~/workspace/oodeel/oodeel_dev_env/lib/python3.10/site-packages/tensorflow/python/eager/execute.py:52\u001b[0m, in \u001b[0;36mquick_execute\u001b[0;34m(op_name, num_outputs, inputs, attrs, ctx, name)\u001b[0m\n\u001b[1;32m     50\u001b[0m \u001b[39mtry\u001b[39;00m:\n\u001b[1;32m     51\u001b[0m   ctx\u001b[39m.\u001b[39mensure_initialized()\n\u001b[0;32m---> 52\u001b[0m   tensors \u001b[39m=\u001b[39m pywrap_tfe\u001b[39m.\u001b[39;49mTFE_Py_Execute(ctx\u001b[39m.\u001b[39;49m_handle, device_name, op_name,\n\u001b[1;32m     53\u001b[0m                                       inputs, attrs, num_outputs)\n\u001b[1;32m     54\u001b[0m \u001b[39mexcept\u001b[39;00m core\u001b[39m.\u001b[39m_NotOkStatusException \u001b[39mas\u001b[39;00m e:\n\u001b[1;32m     55\u001b[0m   \u001b[39mif\u001b[39;00m name \u001b[39mis\u001b[39;00m \u001b[39mnot\u001b[39;00m \u001b[39mNone\u001b[39;00m:\n",
                        "\u001b[0;31mKeyboardInterrupt\u001b[0m: "
                    ]
                }
            ],
            "source": [
                "from oodeel.models.training_funs import train_keras_app\n",
                "\n",
                "try:\n",
                "    model = tf.keras.models.load_model(\"./saved_models/cifar10/\")\n",
                "    \n",
                "except OSError:\n",
                "    train_config = {\n",
                "        \"input_shape\": (32, 32, 3),\n",
                "        \"num_classes\": 10,\n",
                "        \"batch_size\": 128,\n",
                "        \"epochs\": 60,\n",
                "        \"learning_rate\": 1e-1,\n",
                "        #\"optimizer\": \"adam\",\n",
                "        \"save_dir\": \"./saved_models/cifar10/\",\n",
                "        \"validation_data\": oods_in.get_dataset() #ds_in is actually the test set of MNIST\n",
                "    }\n",
                "\n",
                "    model = train_keras_app(oods_fit.get_dataset(), \"resnet18\", **train_config) "
            ]
        },
        {
            "attachments": {},
            "cell_type": "markdown",
            "metadata": {},
            "source": [
                "### OOD data: SVHN\n",
                "ID data: CIFAR-10, OOD data: SVHN"
            ]
        },
        {
            "cell_type": "code",
            "execution_count": null,
            "metadata": {},
            "outputs": [
                {
                    "name": "stderr",
                    "output_type": "stream",
                    "text": [
                        "2023-03-10 08:43:38.144135: I tensorflow/core/grappler/optimizers/custom_graph_optimizer_registry.cc:114] Plugin optimizer for device_type GPU is enabled.\n",
                        "2023-03-10 08:43:47.414853: I tensorflow/core/grappler/optimizers/custom_graph_optimizer_registry.cc:114] Plugin optimizer for device_type GPU is enabled.\n",
                        "2023-03-10 08:43:52.570620: I tensorflow/core/grappler/optimizers/custom_graph_optimizer_registry.cc:114] Plugin optimizer for device_type GPU is enabled.\n"
                    ]
                }
            ],
            "source": [
                "# ood dataset\n",
                "oodmodel = DKNN(nearest=50, output_layers_id=[-3])\n",
                "oodmodel.fit(model, ds_fit.take(10000))\n",
                "scores_in = oodmodel.score(ds_in.take(1000))\n"
            ]
        },
        {
            "cell_type": "code",
            "execution_count": null,
            "metadata": {},
            "outputs": [
                {
                    "name": "stderr",
                    "output_type": "stream",
                    "text": [
                        "2023-03-10 08:40:21.380501: I tensorflow/core/grappler/optimizers/custom_graph_optimizer_registry.cc:114] Plugin optimizer for device_type GPU is enabled.\n"
                    ]
                },
                {
                    "name": "stdout",
                    "output_type": "stream",
                    "text": [
                        "auroc       0.405367\n",
                        "fpr95tpr    0.937200\n",
                        "Name: cifar-vs-svhn, dtype: float64\n"
                    ]
                },
                {
                    "data": {
                        "image/png": "[encoded data removed]",
                        "text/plain": [
                            "<Figure size 900x300 with 1 Axes>"
                        ]
                    },
                    "metadata": {},
                    "output_type": "display_data"
                }
            ],
            "source": [
                "# In tensorflow_datasets, SVHN has an \"extra\" split of 500000 samples, so we use keras.datasets loader\n",
                "oods_out = OODDataset('svhn_cropped', split=\"test\", input_key=\"image\")\n",
                "ds_out = oods_out.prepare(batch_size=batch_size, preprocess_fn=preprocess_fn)\n",
                "\n",
                "scores_out = oodmodel.score(ds_out.take(1000))\n",
                "\n",
                "# auroc / fpr95\n",
                "metrics = bench_metrics(\n",
                "    (scores_in, scores_out),\n",
                "    metrics=[\"auroc\", \"fpr95tpr\"]\n",
                ")\n",
                "metrics_cifar_svhn = pd.Series(metrics, name='cifar-vs-svhn')\n",
                "print(metrics_cifar_svhn)\n",
                "\n",
                "# plot hists / roc\n",
                "plt.figure(figsize=(9,3))\n",
                "plt.hist((scores_out, scores_in), bins=30, color=(\"blue\", \"orange\"), label=(\"ood\", \"id\"), density=True)\n",
                "plt.legend()\n",
                "plt.show()"
            ]
        },
        {
            "attachments": {},
            "cell_type": "markdown",
            "metadata": {},
            "source": [
                "### OOD data: LSUN\n",
                "ID data: CIFAR-10, OOD data: LSUN"
            ]
        },
        {
            "cell_type": "code",
            "execution_count": null,
            "metadata": {},
            "outputs": [
                {
                    "name": "stdout",
                    "output_type": "stream",
                    "text": [
                        "Found 10000 files belonging to 1 classes.\n"
                    ]
                },
                {
                    "name": "stderr",
                    "output_type": "stream",
                    "text": [
                        "2023-02-04 01:04:43.879091: W tensorflow/core/kernels/data/cache_dataset_ops.cc:856] The calling iterator did not fully read the dataset being cached. In order to avoid unexpected truncation of the dataset, the partially cached contents of the dataset  will be discarded. This can happen if you have an input pipeline similar to `dataset.cache().take(k).repeat()`. You should use `dataset.take(k).cache().repeat()` instead.\n"
                    ]
                },
                {
                    "name": "stdout",
                    "output_type": "stream",
                    "text": [
                        "auroc       0.998942\n",
                        "fpr95tpr    0.002600\n",
                        "Name: cifar-vs-lsun, dtype: float64\n"
                    ]
                },
                {
                    "data": {
                        "image/png": "[encoded data removed]",
                        "text/plain": [
                            "<Figure size 900x300 with 2 Axes>"
                        ]
                    },
                    "metadata": {},
                    "output_type": "display_data"
                }
            ],
            "source": [
                "import tensorflow as tf\n",
                "LSUN_root = \"~/datasets/LSUN\"\n",
                "lsun_ds = tf.keras.utils.image_dataset_from_directory(\n",
                "    LSUN_root,\n",
                "    image_size=(32, 32),\n",
                "    shuffle=False,\n",
                "    batch_size=None\n",
                ")\n",
                "# ood dataset\n",
                "ds_out = OODDataset(lsun_ds).prepare(batch_size=batch_size, preprocess_fn=preprocess_fn)\n",
                "scores_out = oodmodel.score(ds_out.take(1000))\n",
                "\n",
                "# auroc / fpr95\n",
                "metrics = bench_metrics(\n",
                "    (scores_in, scores_out),\n",
                "    metrics=[\"auroc\", \"fpr95tpr\"]\n",
                ")\n",
                "metrics_cifar_lsun = pd.Series(metrics, name='cifar-vs-lsun')\n",
                "print(metrics_cifar_svhn)\n",
                "\n",
                "# plot hists / roc\n",
                "plt.figure(figsize=(9,3))\n",
                "plt.hist((scores_out, scores_in), bins=30, color=(\"blue\", \"orange\"), label=(\"ood\", \"id\"), density=True)\n",
                "plt.legend()\n",
                "plt.show()"
            ]
        },
        {
            "attachments": {},
            "cell_type": "markdown",
            "metadata": {},
            "source": [
                "### OOD data: iSUN\n",
                "ID data: CIFAR-10, OOD data: iSUN"
            ]
        },
        {
            "cell_type": "code",
            "execution_count": null,
            "metadata": {},
            "outputs": [
                {
                    "name": "stdout",
                    "output_type": "stream",
                    "text": [
                        "Found 8925 files belonging to 1 classes.\n"
                    ]
                },
                {
                    "name": "stderr",
                    "output_type": "stream",
                    "text": [
                        "2023-02-04 01:21:25.941738: W tensorflow/core/kernels/data/cache_dataset_ops.cc:856] The calling iterator did not fully read the dataset being cached. In order to avoid unexpected truncation of the dataset, the partially cached contents of the dataset  will be discarded. This can happen if you have an input pipeline similar to `dataset.cache().take(k).repeat()`. You should use `dataset.take(k).cache().repeat()` instead.\n"
                    ]
                },
                {
                    "name": "stdout",
                    "output_type": "stream",
                    "text": [
                        "auroc       0.997885\n",
                        "fpr95tpr    0.004600\n",
                        "Name: cifar-vs-isun, dtype: float64\n"
                    ]
                },
                {
                    "data": {
                        "image/png": "[encoded data removed]",
                        "text/plain": [
                            "<Figure size 900x300 with 2 Axes>"
                        ]
                    },
                    "metadata": {},
                    "output_type": "display_data"
                }
            ],
            "source": [
                "import tensorflow as tf\n",
                "iSUN_root = \"~/datasets/iSUN\"\n",
                "isun_ds = tf.keras.utils.image_dataset_from_directory(\n",
                "    iSUN_root,\n",
                "    image_size=(32, 32),\n",
                "    shuffle=False,\n",
                "    batch_size=None\n",
                ")\n",
                "# ood dataset\n",
                "x_ood = OODDataset(isun_ds).prepare(batch_size=batch_size, preprocess_fn=preprocess_fn)\n",
                "scores_out = oodmodel.score(ds_out.take(1000))\n",
                "\n",
                "# auroc / fpr95\n",
                "metrics = bench_metrics(\n",
                "    (scores_in, scores_out),\n",
                "    metrics=[\"auroc\", \"fpr95tpr\"]\n",
                ")\n",
                "metrics_cifar_isun = pd.Series(metrics, name='cifar-vs-isun')\n",
                "print(metrics_cifar_svhn)\n",
                "\n",
                "# plot hists / roc\n",
                "plt.figure(figsize=(9,3))\n",
                "plt.hist((scores_out, scores_in), bins=30, color=(\"blue\", \"orange\"), label=(\"ood\", \"id\"), density=True)\n",
                "plt.legend()\n",
                "plt.show()"
            ]
        },
        {
            "attachments": {},
            "cell_type": "markdown",
            "metadata": {},
            "source": [
                "### OOD data: Texture\n",
                "ID data: CIFAR-10, OOD data: Texture"
            ]
        },
        {
            "cell_type": "code",
            "execution_count": null,
            "metadata": {},
            "outputs": [
                {
                    "name": "stdout",
                    "output_type": "stream",
                    "text": [
                        "Found 5640 files belonging to 47 classes.\n"
                    ]
                },
                {
                    "name": "stderr",
                    "output_type": "stream",
                    "text": [
                        "2023-02-04 01:29:33.423863: W tensorflow/core/kernels/data/cache_dataset_ops.cc:856] The calling iterator did not fully read the dataset being cached. In order to avoid unexpected truncation of the dataset, the partially cached contents of the dataset  will be discarded. This can happen if you have an input pipeline similar to `dataset.cache().take(k).repeat()`. You should use `dataset.take(k).cache().repeat()` instead.\n"
                    ]
                },
                {
                    "name": "stdout",
                    "output_type": "stream",
                    "text": [
                        "auroc       0.997419\n",
                        "fpr95tpr    0.006700\n",
                        "Name: cifar-vs-texture, dtype: float64\n"
                    ]
                },
                {
                    "data": {
                        "image/png": "[encoded data removed]",
                        "text/plain": [
                            "<Figure size 900x300 with 2 Axes>"
                        ]
                    },
                    "metadata": {},
                    "output_type": "display_data"
                }
            ],
            "source": [
                "import tensorflow as tf\n",
                "texture_root = \"~/datasets/dtd\"\n",
                "texture_ds = tf.keras.utils.image_dataset_from_directory(\n",
                "    texture_root,\n",
                "    image_size=(32, 32),\n",
                "    shuffle=False,\n",
                "    batch_size=None,\n",
                ")\n",
                "# ood dataset\n",
                "x_ood = OODDataset(texture_ds).prepare(batch_size=batch_size, preprocess_fn=preprocess_fn)\n",
                "scores_out = oodmodel.score(ds_out.take(1000))\n",
                "\n",
                "# auroc / fpr95\n",
                "metrics = bench_metrics(\n",
                "    (scores_in, scores_out),\n",
                "    metrics=[\"auroc\", \"fpr95tpr\"]\n",
                ")\n",
                "metrics_cifar_texture = pd.Series(metrics, name='cifar-vs-texture')\n",
                "print(metrics_cifar_svhn)\n",
                "\n",
                "# plot hists / roc\n",
                "plt.figure(figsize=(9,3))\n",
                "plt.hist((scores_out, scores_in), bins=30, color=(\"blue\", \"orange\"), label=(\"ood\", \"id\"), density=True)\n",
                "plt.legend()\n",
                "plt.show()"
            ]
        },
        {
            "attachments": {},
            "cell_type": "markdown",
            "metadata": {},
            "source": [
                "## Results"
            ]
        },
        {
            "cell_type": "code",
            "execution_count": null,
            "metadata": {},
            "outputs": [
                {
                    "data": {
                        "text/html": [
                            "<div>\n",
                            "<style scoped>\n",
                            "    .dataframe tbody tr th:only-of-type {\n",
                            "        vertical-align: middle;\n",
                            "    }\n",
                            "\n",
                            "    .dataframe tbody tr th {\n",
                            "        vertical-align: top;\n",
                            "    }\n",
                            "\n",
                            "    .dataframe thead th {\n",
                            "        text-align: right;\n",
                            "    }\n",
                            "</style>\n",
                            "<table border=\"1\" class=\"dataframe\">\n",
                            "  <thead>\n",
                            "    <tr style=\"text-align: right;\">\n",
                            "      <th></th>\n",
                            "      <th>auroc</th>\n",
                            "      <th>fpr95tpr</th>\n",
                            "    </tr>\n",
                            "  </thead>\n",
                            "  <tbody>\n",
                            "    <tr>\n",
                            "      <th>mnist-0-4-vs-5-10</th>\n",
                            "      <td>0.975215</td>\n",
                            "      <td>0.107803</td>\n",
                            "    </tr>\n",
                            "    <tr>\n",
                            "      <th>mnist-10-vs-fashion</th>\n",
                            "      <td>0.997144</td>\n",
                            "      <td>0.010400</td>\n",
                            "    </tr>\n",
                            "    <tr>\n",
                            "      <th>cifar-vs-svhn</th>\n",
                            "      <td>0.865995</td>\n",
                            "      <td>0.370100</td>\n",
                            "    </tr>\n",
                            "    <tr>\n",
                            "      <th>cifar-vs-lsun</th>\n",
                            "      <td>0.998942</td>\n",
                            "      <td>0.002600</td>\n",
                            "    </tr>\n",
                            "    <tr>\n",
                            "      <th>cifar-vs-isun</th>\n",
                            "      <td>0.997885</td>\n",
                            "      <td>0.004600</td>\n",
                            "    </tr>\n",
                            "    <tr>\n",
                            "      <th>cifar-vs-texture</th>\n",
                            "      <td>0.997419</td>\n",
                            "      <td>0.006700</td>\n",
                            "    </tr>\n",
                            "  </tbody>\n",
                            "</table>\n",
                            "</div>"
                        ],
                        "text/plain": [
                            "                        auroc  fpr95tpr\n",
                            "mnist-0-4-vs-5-10    0.975215  0.107803\n",
                            "mnist-10-vs-fashion  0.997144  0.010400\n",
                            "cifar-vs-svhn        0.865995  0.370100\n",
                            "cifar-vs-lsun        0.998942  0.002600\n",
                            "cifar-vs-isun        0.997885  0.004600\n",
                            "cifar-vs-texture     0.997419  0.006700"
                        ]
                    },
                    "execution_count": 49,
                    "metadata": {},
                    "output_type": "execute_result"
                }
            ],
            "source": [
                "pd.concat([metrics_first_vs_last, metrics_fashion, metrics_cifar_svhn, metrics_cifar_lsun, metrics_cifar_isun, metrics_cifar_texture], axis=1).T"
            ]
        }
    ],
    "metadata": {
        "kernelspec": {
            "display_name": "tfmetal",
            "language": "python",
            "name": "python3"
        },
        "language_info": {
            "codemirror_mode": {
                "name": "ipython",
                "version": 3
            },
            "file_extension": ".py",
            "mimetype": "text/x-python",
            "name": "python",
            "nbconvert_exporter": "python",
            "pygments_lexer": "ipython3",
            "version": "3.10.10"
        },
        "orig_nbformat": 4,
        "vscode": {
            "interpreter": {
                "hash": "dada21ee7726b34311237058025d0293bf4743ff9612a3722201b24280433f0a"
            }
        }
    },
    "nbformat": 4,
    "nbformat_minor": 2
}
