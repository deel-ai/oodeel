{
    "cells": [
        {
            "attachments": {},
            "cell_type": "markdown",
            "metadata": {},
            "source": [
                "# Mahalanobis method\n",
                "\n",
                "This notebook aims at evaluating the **Mahalanobis method**.\n",
                "\n",
                "Here, we focus on a toy convolutional network trained on MNIST[0-4] and a ResNet20 model trained on CIFAR-10, respectively challenged on MNIST[5-9] and SVHN OOD datasets.\n",
                "\n",
                "**Reference**  \n",
                "*A Simple Unified Framework for Detecting Out-of-Distribution Samples and Adversarial\n",
                "Attacks*  \n",
                "LEE, Kimin, LEE, Kibok, LEE, Honglak, et al.\\\n",
                "Advances in neural information processing systems, 2018, vol. 31.\\\n",
                "<https://arxiv.org/abs/1807.03888>\n"
            ]
        },
        {
            "attachments": {},
            "cell_type": "markdown",
            "metadata": {},
            "source": [
                "### Imports"
            ]
        },
        {
            "cell_type": "code",
            "execution_count": 1,
            "metadata": {},
            "outputs": [],
            "source": [
                "%load_ext autoreload\n",
                "%autoreload 2\n",
                "\n",
                "import warnings\n",
                "warnings.filterwarnings(\"ignore\")\n",
                "import os\n",
                "os.environ[\"TF_CPP_MIN_LOG_LEVEL\"] = \"2\"\n",
                "\n",
                "from IPython.display import clear_output\n",
                "from sklearn.metrics import accuracy_score\n",
                "import matplotlib.pyplot as plt\n",
                "import numpy as np\n",
                "import torch\n",
                "from torchvision import transforms\n",
                "\n",
                "from oodeel.methods import Mahalanobis\n",
                "from oodeel.eval.metrics import bench_metrics, get_curve\n",
                "from oodeel.datasets import OODDataset\n",
                "from oodeel.utils.torch_training_tools import train_torch_model\n",
                "\n",
                "device = torch.device(\"cuda\" if torch.cuda.is_available() else \"cpu\")"
            ]
        },
        {
            "attachments": {},
            "cell_type": "markdown",
            "metadata": {},
            "source": [
                "Note that models are saved at *~/.oodeel/saved_models* and data is supposed to be found\n",
                "at *~/.oodeel/datasets* by default. Change the following cell for a custom path."
            ]
        },
        {
            "cell_type": "code",
            "execution_count": 2,
            "metadata": {},
            "outputs": [],
            "source": [
                "model_path = os.path.expanduser(\"~/\") + \".oodeel/saved_models\"\n",
                "data_path = os.path.expanduser(\"~/\") + \".oodeel/datasets\"\n",
                "os.makedirs(model_path, exist_ok=True)\n",
                "os.makedirs(data_path, exist_ok=True)"
            ]
        },
        {
            "attachments": {},
            "cell_type": "markdown",
            "metadata": {},
            "source": [
                "## First exp: MNIST[0-4] vs MNIST[5-9]\n",
                "\n",
                "For this first experiment, we train a toy convolutional network on the MNIST dataset restricted to digits 0 to 4. After fitting the train subset of this dataset to the Mahalanobis method, we will compare the scores returned for MNIST[0-4] (in-distrubtion) and MNIST[5-9] (out-of-distribution) test subsets."
            ]
        },
        {
            "attachments": {},
            "cell_type": "markdown",
            "metadata": {},
            "source": [
                "### Data loading\n",
                "\n",
                "* In-distribution data: MNIST[0-4]\n",
                "* Out-of-distribution data: MNIST[5-9]\n",
                "\n",
                "> **Note:** We denote In-Distribution (ID) data with `_in` and Out-Of-Distribution (OOD) data\n",
                "with `_out` to avoid confusion with OOD detection which is the name of the task, and is\n",
                "therefore used to denote core classes such as `OODDataset` and `OODBaseDetector`."
            ]
        },
        {
            "cell_type": "code",
            "execution_count": 3,
            "metadata": {},
            "outputs": [],
            "source": [
                "# === load ID and OOD data ===\n",
                "batch_size = 128\n",
                "in_labels = [0, 1, 2, 3, 4]\n",
                "\n",
                "# 1- load train/test MNIST dataset\n",
                "mnist_train = OODDataset(\n",
                "    dataset_id='MNIST', backend=\"torch\",\n",
                "    load_kwargs={\"root\": data_path, \"train\": True, \"download\": True}\n",
                ")\n",
                "mnist_test = OODDataset(\n",
                "    dataset_id='MNIST', backend=\"torch\",\n",
                "    load_kwargs={\"root\": data_path, \"train\": False, \"download\": True}\n",
                ")\n",
                "\n",
                "# 2- split ID / OOD data depending on label value:\n",
                "# in-distribution: MNIST[0-4] / out-of-distribution: MNIST[5-9]\n",
                "oods_fit, _ = mnist_train.assign_ood_labels_by_class(in_labels=in_labels)\n",
                "oods_in, oods_out = mnist_test.assign_ood_labels_by_class(in_labels=in_labels)\n",
                "\n",
                "# 3- prepare data (preprocess, shuffle, batch) => torch dataloaders\n",
                "def preprocess_fn(*inputs):\n",
                "    \"\"\"Simple preprocessing function to normalize images in [0, 1].\n",
                "    \"\"\"\n",
                "    x = inputs[0] / 255.0\n",
                "    return tuple([x] + list(inputs[1:]))\n",
                "\n",
                "ds_fit = oods_fit.prepare(batch_size=batch_size, preprocess_fn=preprocess_fn, shuffle=True)\n",
                "ds_in = oods_in.prepare(batch_size=batch_size, preprocess_fn=preprocess_fn)\n",
                "ds_out = oods_out.prepare(batch_size=batch_size, preprocess_fn=preprocess_fn)\n",
                "\n",
                "clear_output()"
            ]
        },
        {
            "attachments": {},
            "cell_type": "markdown",
            "metadata": {},
            "source": [
                "### Model training\n",
                "\n",
                "Now let's train a simple model on MNIST[0-4] using `train_torch_model` function."
            ]
        },
        {
            "cell_type": "code",
            "execution_count": 4,
            "metadata": {},
            "outputs": [
                {
                    "name": "stdout",
                    "output_type": "stream",
                    "text": [
                        "Test accuracy:\t0.995135\n"
                    ]
                }
            ],
            "source": [
                "# === Train / Load model ===\n",
                "# model path\n",
                "model_path_mnist_04 = os.path.join(model_path, \"mnist_model_0-4\")\n",
                "\n",
                "try:\n",
                "    # if the model exists, load it\n",
                "    model = torch.load(os.path.join(model_path_mnist_04, \"best.pt\")).to(device)\n",
                "except OSError:\n",
                "    # else, train a new model\n",
                "    train_config = {\n",
                "        \"model\": \"toy_convnet\",\n",
                "        \"num_classes\": 10,\n",
                "        \"epochs\": 5,\n",
                "        \"save_dir\": model_path_mnist_04,\n",
                "        \"validation_data\": ds_in\n",
                "    }\n",
                "    model = train_torch_model(ds_fit, **train_config).to(device)\n",
                "    clear_output()\n",
                "\n",
                "# evaluate model\n",
                "model.eval()\n",
                "labels, preds = [], []\n",
                "for (x, y) in ds_in:\n",
                "    x = x.to(device)\n",
                "    preds.append(torch.argmax(model(x), dim=-1).detach().cpu())\n",
                "    labels.append(y)\n",
                "print(f\"Test accuracy:\\t{accuracy_score(torch.cat(labels), torch.cat(preds)):.6f}\")"
            ]
        },
        {
            "attachments": {},
            "cell_type": "markdown",
            "metadata": {},
            "source": [
                "### Mahalanobis score\n",
                "\n",
                "We now fit a Mahalanobis detector with MNIST[0-4] train dataset, and compare OOD scores returned for MNIST[0-4] (ID) and MNIST[5-9] (OOD) test datasets.  "
            ]
        },
        {
            "cell_type": "code",
            "execution_count": 5,
            "metadata": {},
            "outputs": [
                {
                    "name": "stdout",
                    "output_type": "stream",
                    "text": [
                        "auroc      0.863975\n",
                        "fpr95tpr   0.525005\n"
                    ]
                },
                {
                    "data": {
                        "image/png": "[encoded data removed]",
                        "text/plain": [
                            "<Figure size 1000x350 with 2 Axes>"
                        ]
                    },
                    "metadata": {},
                    "output_type": "display_data"
                }
            ],
            "source": [
                "# === mahalanobis scores ===\n",
                "mahalanobis = Mahalanobis(eps=0.002)\n",
                "mahalanobis.fit(model, ds_fit)\n",
                "scores_in = mahalanobis.score(ds_in)\n",
                "scores_out = mahalanobis.score(ds_out)\n",
                "\n",
                "# === metrics ===\n",
                "# auroc / fpr95\n",
                "metrics = bench_metrics(\n",
                "    (scores_in, scores_out),  \n",
                "    metrics = [\"auroc\", \"fpr95tpr\"], \n",
                "    )\n",
                "for k, v in metrics.items():\n",
                "    print(f\"{k:<10} {v:.6f}\")\n",
                "\n",
                "# roc\n",
                "fpr, tpr, _, _, _ = get_curve(\n",
                "    scores=np.concatenate([scores_in, scores_out]), \n",
                "    labels=np.concatenate([scores_in * 0 + 0, scores_out * 0 + 1])\n",
                ")\n",
                "\n",
                "# plot hists / roc\n",
                "plt.figure(figsize=(10, 3.5))\n",
                "plt.subplot(121)\n",
                "plt.hist(x=(scores_out, scores_in), bins=30, color=(\"blue\", \"orange\"),\n",
                "         label=(\"OOD\", \"ID\"), density=True)\n",
                "plt.xlabel(\"score\")\n",
                "plt.legend()\n",
                "plt.subplot(122)\n",
                "plt.plot(fpr, tpr)\n",
                "plt.xlabel(\"fpr\")\n",
                "plt.ylabel(\"tpr\")\n",
                "plt.show()"
            ]
        },
        {
            "attachments": {},
            "cell_type": "markdown",
            "metadata": {},
            "source": [
                "## Second exp: CIFAR-10 vs SVHN\n",
                "\n",
                "For this second experiment, we oppose **CIFAR-10** (in-distribution dataset) to **SVHN** (out-of-distribution dataset).\n"
            ]
        },
        {
            "attachments": {},
            "cell_type": "markdown",
            "metadata": {},
            "source": [
                "### Data loading\n",
                "\n",
                "* In-distribution data: CIFAR-10 \n",
                "* Out-of-distribution data: SVHN"
            ]
        },
        {
            "cell_type": "code",
            "execution_count": 6,
            "metadata": {},
            "outputs": [],
            "source": [
                "# === load ID and OOD data ===\n",
                "batch_size = 128\n",
                "\n",
                "# 1a- load in-distribution dataset: CIFAR-10\n",
                "oods_fit = OODDataset(\n",
                "    dataset_id='CIFAR10', backend=\"torch\",\n",
                "    load_kwargs={\"root\": data_path, \"train\": True, \"download\": True}\n",
                ")\n",
                "oods_in = OODDataset(\n",
                "    dataset_id='CIFAR10', backend=\"torch\",\n",
                "    load_kwargs={\"root\": data_path, \"train\": False, \"download\": True}\n",
                ")\n",
                "# 1b- load out-of-distribution dataset: SVHN\n",
                "oods_out = OODDataset(\n",
                "    dataset_id='SVHN', backend=\"torch\",\n",
                "    load_kwargs={\"root\": data_path, \"split\": \"test\", \"download\": True})\n",
                "\n",
                "\n",
                "# 2- prepare data (preprocess, shuffle, batch) => torch dataloaders\n",
                "\n",
                "def preprocess_fn(*inputs):\n",
                "    \"\"\"Preprocessing function from\n",
                "    https://github.com/chenyaofo/pytorch-cifar-models\n",
                "    \"\"\"\n",
                "    x = inputs[0] / 255.0\n",
                "    x = transforms.Normalize(\n",
                "        (0.4914, 0.4822, 0.4465),\n",
                "        (0.2023, 0.1994, 0.2010)\n",
                "    )(x)\n",
                "    return tuple([x] + list(inputs[1:]))\n",
                "\n",
                "ds_fit = oods_fit.prepare(batch_size=batch_size, shuffle=True, preprocess_fn=preprocess_fn)\n",
                "ds_in = oods_in.prepare(batch_size=batch_size, preprocess_fn=preprocess_fn)\n",
                "ds_out = oods_out.prepare(batch_size=batch_size, preprocess_fn=preprocess_fn)\n",
                "\n",
                "clear_output()"
            ]
        },
        {
            "attachments": {},
            "cell_type": "markdown",
            "metadata": {},
            "source": [
                "### Model loading\n",
                "\n",
                "The model is a **ResNet20** pretrained on CIFAR-10 and getting an accuracy score of 92.60%, loaded from [pytorch-cifar-models](https://github.com/chenyaofo/pytorch-cifar-models) repository. "
            ]
        },
        {
            "cell_type": "code",
            "execution_count": 7,
            "metadata": {},
            "outputs": [
                {
                    "name": "stdout",
                    "output_type": "stream",
                    "text": [
                        "Test accuracy:\t0.926000\n"
                    ]
                }
            ],
            "source": [
                "# === load model ===\n",
                "# resnet20 pretrained on CIFAR-10\n",
                "model = torch.hub.load(\n",
                "    repo_or_dir=\"chenyaofo/pytorch-cifar-models\", model=\"cifar10_resnet20\",\n",
                "    pretrained=True, verbose=False).to(device)\n",
                "model.eval();\n",
                "\n",
                "# evaluate model\n",
                "labels, preds = [], []\n",
                "for (x, y) in ds_in:\n",
                "    x = x.to(device)\n",
                "    preds.append(torch.argmax(model(x), dim=-1).detach().cpu())\n",
                "    labels.append(y)\n",
                "print(f\"Test accuracy:\\t{accuracy_score(torch.cat(labels), torch.cat(preds)):.6f}\")"
            ]
        },
        {
            "attachments": {},
            "cell_type": "markdown",
            "metadata": {},
            "source": [
                "### Mahalanobis score\n",
                "\n",
                "We now fit a Mahalanobis detector with CIFAR-10 train dataset, and compare OOD scores returned for CIFAR-10 (ID) and SVHN (OOD) test datasets.  "
            ]
        },
        {
            "cell_type": "code",
            "execution_count": 8,
            "metadata": {},
            "outputs": [
                {
                    "name": "stdout",
                    "output_type": "stream",
                    "text": [
                        "auroc      0.926790\n",
                        "fpr95tpr   0.335000\n"
                    ]
                },
                {
                    "data": {
                        "image/png": "[encoded data removed]",
                        "text/plain": [
                            "<Figure size 1000x350 with 2 Axes>"
                        ]
                    },
                    "metadata": {},
                    "output_type": "display_data"
                }
            ],
            "source": [
                "# === mahalanobis scores ===\n",
                "mahalanobis = Mahalanobis(eps=0.002)\n",
                "mahalanobis.fit(model, ds_fit)\n",
                "scores_in = mahalanobis.score(ds_in)\n",
                "scores_out = mahalanobis.score(ds_out)\n",
                "\n",
                "# === metrics ===\n",
                "# auroc / fpr95\n",
                "metrics = bench_metrics(\n",
                "    (scores_in, scores_out),  \n",
                "    metrics = [\"auroc\", \"fpr95tpr\"], \n",
                "    )\n",
                "for k, v in metrics.items():\n",
                "    print(f\"{k:<10} {v:.6f}\")\n",
                "\n",
                "# roc\n",
                "fpr, tpr, _, _, _ = get_curve(\n",
                "    scores=np.concatenate([scores_in, scores_out]), \n",
                "    labels=np.concatenate([scores_in * 0 + 0, scores_out * 0 + 1])\n",
                ")\n",
                "\n",
                "# plot hists / roc\n",
                "plt.figure(figsize=(10, 3.5))\n",
                "plt.subplot(121)\n",
                "plt.hist(x=(scores_out, scores_in), bins=30, color=(\"blue\", \"orange\"),\n",
                "         label=(\"OOD\", \"ID\"), density=True)\n",
                "plt.xlabel(\"score\")\n",
                "plt.legend()\n",
                "plt.subplot(122)\n",
                "plt.plot(fpr, tpr)\n",
                "plt.xlabel(\"fpr\")\n",
                "plt.ylabel(\"tpr\")\n",
                "plt.show()"
            ]
        }
    ],
    "metadata": {
        "kernelspec": {
            "display_name": "tfmetal",
            "language": "python",
            "name": "python3"
        },
        "language_info": {
            "codemirror_mode": {
                "name": "ipython",
                "version": 3
            },
            "file_extension": ".py",
            "mimetype": "text/x-python",
            "name": "python",
            "nbconvert_exporter": "python",
            "pygments_lexer": "ipython3",
            "version": "3.8.16"
        },
        "orig_nbformat": 4,
        "vscode": {
            "interpreter": {
                "hash": "dada21ee7726b34311237058025d0293bf4743ff9612a3722201b24280433f0a"
            }
        }
    },
    "nbformat": 4,
    "nbformat_minor": 2
}
