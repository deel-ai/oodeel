{
 "cells": [
  {
   "cell_type": "code",
   "execution_count": 1,
   "metadata": {},
   "outputs": [
    {
     "name": "stderr",
     "output_type": "stream",
     "text": [
      "/Users/paul/workspace/oodeel/oodeel_dev_env/lib/python3.10/site-packages/tqdm/auto.py:21: TqdmWarning: IProgress not found. Please update jupyter and ipywidgets. See https://ipywidgets.readthedocs.io/en/stable/user_install.html\n",
      "  from .autonotebook import tqdm as notebook_tqdm\n"
     ]
    }
   ],
   "source": [
    "%load_ext autoreload\n",
    "\n",
    "import os\n",
    "os.environ['TF_CPP_MIN_LOG_LEVEL'] = '2' \n",
    "\n",
    "import numpy as np\n",
    "from tensorflow import keras\n",
    "from oodeel.methods import MLS, DKNN, ODIN\n",
    "from oodeel.methods import DKNN\n",
    "import tensorflow as tf\n",
    "import pandas as pd\n",
    "import matplotlib.pyplot as plt\n",
    "import tensorflow_datasets as tfds\n",
    "\n",
    "from oodeel.eval.metrics import bench_metrics, get_curve\n",
    "from oodeel.datasets import OODDataset\n",
    "from oodeel.models.training_funs import train_convnet_classifier\n",
    "\n",
    "from sklearn.metrics import *\n",
    "\n",
    "import warnings\n",
    "warnings.filterwarnings(\"ignore\")\n",
    "\n",
    "model_path = os.path.expanduser(\"~/\") + \".oodeel/saved_models\"\n",
    "os.makedirs(model_path, exist_ok=True)"
   ]
  },
  {
   "cell_type": "markdown",
   "metadata": {},
   "source": [
    "## Two datasets experiment"
   ]
  },
  {
   "cell_type": "code",
   "execution_count": 2,
   "metadata": {},
   "outputs": [
    {
     "name": "stdout",
     "output_type": "stream",
     "text": [
      "Metal device set to: AMD Radeon Pro 5500M\n",
      "\n",
      "systemMemory: 64.00 GB\n",
      "maxCacheSize: 3.99 GB\n",
      "\n",
      "WARNING:tensorflow:From /Users/paul/workspace/oodeel/oodeel_dev_env/lib/python3.10/site-packages/tensorflow/python/autograph/pyct/static_analysis/liveness.py:83: Analyzer.lamba_check (from tensorflow.python.autograph.pyct.static_analysis.liveness) is deprecated and will be removed after 2023-09-23.\n",
      "Instructions for updating:\n",
      "Lambda fuctions will be no more assumed to be used in the statement where they are used, or at least in the same block. https://github.com/tensorflow/tensorflow/issues/56089\n"
     ]
    },
    {
     "name": "stderr",
     "output_type": "stream",
     "text": [
      "WARNING:tensorflow:From /Users/paul/workspace/oodeel/oodeel_dev_env/lib/python3.10/site-packages/tensorflow/python/autograph/pyct/static_analysis/liveness.py:83: Analyzer.lamba_check (from tensorflow.python.autograph.pyct.static_analysis.liveness) is deprecated and will be removed after 2023-09-23.\n",
      "Instructions for updating:\n",
      "Lambda fuctions will be no more assumed to be used in the statement where they are used, or at least in the same block. https://github.com/tensorflow/tensorflow/issues/56089\n"
     ]
    }
   ],
   "source": [
    "%autoreload 2\n",
    "\n",
    "oods_in = OODDataset('mnist', split=\"test\")\n",
    "oods_out = OODDataset('fashion_mnist', split=\"test\")\n",
    "oods_fit = OODDataset('mnist', split=\"train\")\n",
    "\n",
    "def preprocess_fn(*inputs):\n",
    "    x = inputs[0] / 255\n",
    "    return tuple([x] + list(inputs[1:]))\n",
    "\n",
    "\n",
    "batch_size = 128\n",
    "ds_in = oods_in.prepare(batch_size=batch_size, preprocess_fn=preprocess_fn)\n",
    "ds_out = oods_out.prepare(batch_size=batch_size, preprocess_fn=preprocess_fn)\n",
    "ds_fit = oods_fit.prepare(batch_size=batch_size, preprocess_fn=preprocess_fn, shuffle=True)"
   ]
  },
  {
   "cell_type": "code",
   "execution_count": 3,
   "metadata": {},
   "outputs": [
    {
     "name": "stdout",
     "output_type": "stream",
     "text": [
      "Epoch 1/5\n",
      "469/469 [==============================] - ETA: 0s - loss: 0.3286 - accuracy: 0.9001"
     ]
    },
    {
     "name": "stderr",
     "output_type": "stream",
     "text": [
      "WARNING:absl:Found untraced functions such as conv2d_layer_call_and_return_conditional_losses, conv2d_layer_call_fn, conv2d_1_layer_call_and_return_conditional_losses, conv2d_1_layer_call_fn, flatten_layer_call_and_return_conditional_losses while saving (showing 5 of 10). These functions will not be directly callable after loading.\n"
     ]
    },
    {
     "name": "stdout",
     "output_type": "stream",
     "text": [
      "INFO:tensorflow:Assets written to: /Users/paul/.oodeel/saved_models/mnist_model/assets\n"
     ]
    },
    {
     "name": "stderr",
     "output_type": "stream",
     "text": [
      "INFO:tensorflow:Assets written to: /Users/paul/.oodeel/saved_models/mnist_model/assets\n"
     ]
    },
    {
     "name": "stdout",
     "output_type": "stream",
     "text": [
      "469/469 [==============================] - 18s 29ms/step - loss: 0.3286 - accuracy: 0.9001 - val_loss: 0.0920 - val_accuracy: 0.9722\n",
      "Epoch 2/5\n",
      "469/469 [==============================] - ETA: 0s - loss: 0.1048 - accuracy: 0.9687"
     ]
    },
    {
     "name": "stderr",
     "output_type": "stream",
     "text": [
      "WARNING:absl:Found untraced functions such as conv2d_layer_call_and_return_conditional_losses, conv2d_layer_call_fn, conv2d_1_layer_call_and_return_conditional_losses, conv2d_1_layer_call_fn, flatten_layer_call_and_return_conditional_losses while saving (showing 5 of 10). These functions will not be directly callable after loading.\n"
     ]
    },
    {
     "name": "stdout",
     "output_type": "stream",
     "text": [
      "INFO:tensorflow:Assets written to: /Users/paul/.oodeel/saved_models/mnist_model/assets\n"
     ]
    },
    {
     "name": "stderr",
     "output_type": "stream",
     "text": [
      "INFO:tensorflow:Assets written to: /Users/paul/.oodeel/saved_models/mnist_model/assets\n"
     ]
    },
    {
     "name": "stdout",
     "output_type": "stream",
     "text": [
      "469/469 [==============================] - 13s 27ms/step - loss: 0.1048 - accuracy: 0.9687 - val_loss: 0.0616 - val_accuracy: 0.9803\n",
      "Epoch 3/5\n",
      "468/469 [============================>.] - ETA: 0s - loss: 0.0830 - accuracy: 0.9758"
     ]
    },
    {
     "name": "stderr",
     "output_type": "stream",
     "text": [
      "WARNING:absl:Found untraced functions such as conv2d_layer_call_and_return_conditional_losses, conv2d_layer_call_fn, conv2d_1_layer_call_and_return_conditional_losses, conv2d_1_layer_call_fn, flatten_layer_call_and_return_conditional_losses while saving (showing 5 of 10). These functions will not be directly callable after loading.\n"
     ]
    },
    {
     "name": "stdout",
     "output_type": "stream",
     "text": [
      "INFO:tensorflow:Assets written to: /Users/paul/.oodeel/saved_models/mnist_model/assets\n"
     ]
    },
    {
     "name": "stderr",
     "output_type": "stream",
     "text": [
      "INFO:tensorflow:Assets written to: /Users/paul/.oodeel/saved_models/mnist_model/assets\n"
     ]
    },
    {
     "name": "stdout",
     "output_type": "stream",
     "text": [
      "469/469 [==============================] - 12s 25ms/step - loss: 0.0830 - accuracy: 0.9758 - val_loss: 0.0580 - val_accuracy: 0.9822\n",
      "Epoch 4/5\n",
      "469/469 [==============================] - 9s 20ms/step - loss: 0.0794 - accuracy: 0.9757 - val_loss: 0.0574 - val_accuracy: 0.9820\n",
      "Epoch 5/5\n",
      "469/469 [==============================] - 10s 20ms/step - loss: 0.0791 - accuracy: 0.9758 - val_loss: 0.0572 - val_accuracy: 0.9820\n"
     ]
    }
   ],
   "source": [
    "model_path_mnist = os.path.join(model_path, \"mnist_model\")\n",
    "\n",
    "try:\n",
    "    model = tf.keras.models.load_model(model_path_mnist)\n",
    "    \n",
    "except OSError:\n",
    "    train_config = {\n",
    "        \"input_shape\": (28, 28, 1),\n",
    "        \"num_classes\": 10,\n",
    "        \"batch_size\": 128,\n",
    "        \"is_prepared\": True,\n",
    "        \"epochs\": 5,\n",
    "        \"save_dir\": model_path_mnist,\n",
    "        \"validation_data\": ds_in#.get_dataset() #ds_in is actually the test set of MNIST\n",
    "    }\n",
    "\n",
    "    model = train_convnet_classifier(ds_fit, **train_config) #ds_fit is actually the train set of MNIST"
   ]
  },
  {
   "cell_type": "markdown",
   "metadata": {},
   "source": [
    "### MLS"
   ]
  },
  {
   "cell_type": "code",
   "execution_count": 4,
   "metadata": {
    "tags": [
     "MLS two datasets"
    ]
   },
   "outputs": [
    {
     "name": "stdout",
     "output_type": "stream",
     "text": [
      "auroc             0.9694\n",
      "fpr95tpr          0.1093\n",
      "accuracy_score    0.5000\n",
      "roc_auc_score     0.9694\n",
      "dtype: float64\n"
     ]
    }
   ],
   "source": [
    "oodmodel = MLS()\n",
    "oodmodel.fit(model)\n",
    "scores_in = oodmodel.score(ds_in)\n",
    "scores_out = oodmodel.score(ds_out)\n",
    "\n",
    "\n",
    "metrics = bench_metrics(\n",
    "    (scores_in, scores_out),  \n",
    "    metrics = [\"auroc\", \"fpr95tpr\", accuracy_score, roc_auc_score], \n",
    "    threshold = -5\n",
    "    )\n",
    "\n",
    "metrics = pd.Series(metrics)\n",
    "print(metrics)\n"
   ]
  },
  {
   "cell_type": "markdown",
   "metadata": {},
   "source": [
    "### DKNN"
   ]
  },
  {
   "cell_type": "code",
   "execution_count": 5,
   "metadata": {},
   "outputs": [
    {
     "name": "stdout",
     "output_type": "stream",
     "text": [
      "auroc             0.998736\n",
      "fpr95tpr          0.005200\n",
      "accuracy_score    0.500000\n",
      "roc_auc_score     0.998736\n",
      "dtype: float64\n"
     ]
    }
   ],
   "source": [
    "%autoreload 2\n",
    "\n",
    "\n",
    "oodmodel = DKNN()\n",
    "oodmodel.fit(model, ds_fit.take(10000))\n",
    "scores_in = oodmodel.score(ds_in.take(1000))\n",
    "scores_out = oodmodel.score(ds_out.take(1000))\n",
    "\n",
    "\n",
    "metrics = bench_metrics(\n",
    "    (scores_in, scores_out),  \n",
    "    metrics = [\"auroc\", \"fpr95tpr\", accuracy_score, roc_auc_score], \n",
    "    threshold = -5\n",
    "    )\n",
    "\n",
    "metrics = pd.Series(metrics)\n",
    "print(metrics)"
   ]
  },
  {
   "cell_type": "markdown",
   "metadata": {},
   "source": [
    "### ODIN"
   ]
  },
  {
   "cell_type": "code",
   "execution_count": 6,
   "metadata": {},
   "outputs": [
    {
     "name": "stdout",
     "output_type": "stream",
     "text": [
      "auroc             0.970709\n",
      "fpr95tpr          0.107900\n",
      "accuracy_score    0.500000\n",
      "roc_auc_score     0.970709\n",
      "dtype: float64\n"
     ]
    }
   ],
   "source": [
    "\n",
    "%autoreload 2\n",
    "from oodeel.methods import ODIN\n",
    "\n",
    "oodmodel = ODIN()\n",
    "oodmodel.fit(model)\n",
    "scores_in = oodmodel.score(ds_in)\n",
    "scores_out = oodmodel.score(ds_out)\n",
    "\n",
    "\n",
    "metrics = bench_metrics(\n",
    "    (scores_in, scores_out),  \n",
    "    metrics = [\"auroc\", \"fpr95tpr\", accuracy_score, roc_auc_score], \n",
    "    threshold = -5\n",
    "    )\n",
    "\n",
    "metrics = pd.Series(metrics)\n",
    "print(metrics)"
   ]
  },
  {
   "attachments": {},
   "cell_type": "markdown",
   "metadata": {},
   "source": [
    "## Single dataset experiment\n",
    "\n",
    "(Leave-$k$-classes-out training).\n",
    "First, we need to define a training function"
   ]
  },
  {
   "cell_type": "code",
   "execution_count": 7,
   "metadata": {},
   "outputs": [],
   "source": [
    "\n",
    "%autoreload 2\n",
    "\n",
    "oods_test = OODDataset('mnist', split=\"test\")\n",
    "oods_train = OODDataset('mnist', split=\"train\")\n",
    "\n",
    "batch_size = 128\n",
    "inc_labels = [0, 1, 2, 3, 4]\n",
    "oods_train, _ = oods_train.assign_ood_labels_by_class(in_labels=inc_labels)\n",
    "oods_in, oods_out = oods_test.assign_ood_labels_by_class(in_labels=inc_labels)\n",
    "\n",
    "\n",
    "def preprocess_fn(*inputs):\n",
    "    x = inputs[0] / 255\n",
    "    return tuple([x] + list(inputs[1:]))\n",
    "\n",
    "ds_train = oods_train.prepare(batch_size=batch_size, preprocess_fn=preprocess_fn, shuffle=True)\n",
    "ds_in = oods_in.prepare(batch_size=batch_size, with_ood_labels=False, preprocess_fn=preprocess_fn)\n",
    "ds_out = oods_out.prepare(batch_size=batch_size, with_ood_labels=False, preprocess_fn=preprocess_fn)\n"
   ]
  },
  {
   "cell_type": "code",
   "execution_count": 8,
   "metadata": {},
   "outputs": [
    {
     "name": "stdout",
     "output_type": "stream",
     "text": [
      "Epoch 1/5\n",
      "469/469 [==============================] - ETA: 0s - loss: 0.3411 - accuracy: 0.8960"
     ]
    },
    {
     "name": "stderr",
     "output_type": "stream",
     "text": [
      "WARNING:absl:Found untraced functions such as conv2d_2_layer_call_and_return_conditional_losses, conv2d_2_layer_call_fn, conv2d_3_layer_call_and_return_conditional_losses, conv2d_3_layer_call_fn, flatten_1_layer_call_and_return_conditional_losses while saving (showing 5 of 10). These functions will not be directly callable after loading.\n"
     ]
    },
    {
     "name": "stdout",
     "output_type": "stream",
     "text": [
      "INFO:tensorflow:Assets written to: /Users/paul/.oodeel/saved_models/saved_models/mnist_model_0-4/assets\n"
     ]
    },
    {
     "name": "stderr",
     "output_type": "stream",
     "text": [
      "INFO:tensorflow:Assets written to: /Users/paul/.oodeel/saved_models/saved_models/mnist_model_0-4/assets\n"
     ]
    },
    {
     "name": "stdout",
     "output_type": "stream",
     "text": [
      "469/469 [==============================] - 22s 45ms/step - loss: 0.3411 - accuracy: 0.8960 - val_loss: 0.0694 - val_accuracy: 0.9799\n",
      "Epoch 2/5\n",
      "469/469 [==============================] - ETA: 0s - loss: 0.1053 - accuracy: 0.9679"
     ]
    },
    {
     "name": "stderr",
     "output_type": "stream",
     "text": [
      "WARNING:absl:Found untraced functions such as conv2d_2_layer_call_and_return_conditional_losses, conv2d_2_layer_call_fn, conv2d_3_layer_call_and_return_conditional_losses, conv2d_3_layer_call_fn, flatten_1_layer_call_and_return_conditional_losses while saving (showing 5 of 10). These functions will not be directly callable after loading.\n"
     ]
    },
    {
     "name": "stdout",
     "output_type": "stream",
     "text": [
      "INFO:tensorflow:Assets written to: /Users/paul/.oodeel/saved_models/saved_models/mnist_model_0-4/assets\n"
     ]
    },
    {
     "name": "stderr",
     "output_type": "stream",
     "text": [
      "INFO:tensorflow:Assets written to: /Users/paul/.oodeel/saved_models/saved_models/mnist_model_0-4/assets\n"
     ]
    },
    {
     "name": "stdout",
     "output_type": "stream",
     "text": [
      "469/469 [==============================] - 14s 30ms/step - loss: 0.1053 - accuracy: 0.9679 - val_loss: 0.0550 - val_accuracy: 0.9836\n",
      "Epoch 3/5\n",
      "469/469 [==============================] - ETA: 0s - loss: 0.0836 - accuracy: 0.9751"
     ]
    },
    {
     "name": "stderr",
     "output_type": "stream",
     "text": [
      "WARNING:absl:Found untraced functions such as conv2d_2_layer_call_and_return_conditional_losses, conv2d_2_layer_call_fn, conv2d_3_layer_call_and_return_conditional_losses, conv2d_3_layer_call_fn, flatten_1_layer_call_and_return_conditional_losses while saving (showing 5 of 10). These functions will not be directly callable after loading.\n"
     ]
    },
    {
     "name": "stdout",
     "output_type": "stream",
     "text": [
      "INFO:tensorflow:Assets written to: /Users/paul/.oodeel/saved_models/saved_models/mnist_model_0-4/assets\n"
     ]
    },
    {
     "name": "stderr",
     "output_type": "stream",
     "text": [
      "INFO:tensorflow:Assets written to: /Users/paul/.oodeel/saved_models/saved_models/mnist_model_0-4/assets\n"
     ]
    },
    {
     "name": "stdout",
     "output_type": "stream",
     "text": [
      "469/469 [==============================] - 14s 29ms/step - loss: 0.0836 - accuracy: 0.9751 - val_loss: 0.0513 - val_accuracy: 0.9848\n",
      "Epoch 4/5\n",
      "469/469 [==============================] - 13s 27ms/step - loss: 0.0814 - accuracy: 0.9750 - val_loss: 0.0513 - val_accuracy: 0.9848\n",
      "Epoch 5/5\n",
      "469/469 [==============================] - 11s 24ms/step - loss: 0.0792 - accuracy: 0.9754 - val_loss: 0.0513 - val_accuracy: 0.9848\n"
     ]
    }
   ],
   "source": [
    "model_path_mnist_04 = os.path.join(model_path, \"mnist_model_0-4/\")\n",
    "\n",
    "try:\n",
    "    model = tf.keras.models.load_model(model_path_mnist_04)\n",
    "    \n",
    "except OSError:\n",
    "    train_config = {\n",
    "        \"input_shape\": (28, 28, 1),\n",
    "        \"num_classes\": 10,\n",
    "        \"is_prepared\": True,\n",
    "        \"batch_size\": 128,\n",
    "        \"epochs\": 5,\n",
    "        \"save_dir\": model_path_mnist_04,\n",
    "        \"validation_data\": ds_in #ds_in is actually the test set of MNIST\n",
    "    }\n",
    "\n",
    "    model = train_convnet_classifier(ds_train, **train_config) #ds_fit is actually the train set of MNIST"
   ]
  },
  {
   "cell_type": "markdown",
   "metadata": {},
   "source": [
    "## MLS"
   ]
  },
  {
   "cell_type": "code",
   "execution_count": 9,
   "metadata": {},
   "outputs": [
    {
     "name": "stdout",
     "output_type": "stream",
     "text": [
      "auroc             0.564756\n",
      "fpr95tpr          0.931893\n",
      "accuracy_score    0.486100\n",
      "roc_auc_score     0.564755\n",
      "dtype: float64\n"
     ]
    }
   ],
   "source": [
    "%autoreload 2\n",
    "\n",
    "oodmodel = MLS()\n",
    "oodmodel.fit(model)\n",
    "scores_in = oodmodel.score(ds_in)\n",
    "scores_out = oodmodel.score(ds_out)\n",
    "\n",
    "\n",
    "metrics = bench_metrics(\n",
    "    (scores_in, scores_out),  \n",
    "    metrics = [\"auroc\", \"fpr95tpr\", accuracy_score, roc_auc_score], \n",
    "    threshold = -5\n",
    "    )\n",
    "\n",
    "metrics = pd.Series(metrics)\n",
    "print(metrics)"
   ]
  },
  {
   "cell_type": "markdown",
   "metadata": {},
   "source": [
    "### DKNN"
   ]
  },
  {
   "cell_type": "code",
   "execution_count": 10,
   "metadata": {},
   "outputs": [
    {
     "name": "stdout",
     "output_type": "stream",
     "text": [
      "auroc             0.975972\n",
      "fpr95tpr          0.107803\n",
      "accuracy_score    0.486100\n",
      "roc_auc_score     0.975973\n",
      "dtype: float64\n"
     ]
    }
   ],
   "source": [
    "%autoreload 2\n",
    "\n",
    "oodmodel = DKNN()\n",
    "oodmodel.fit(model, ds_train.take(10000))\n",
    "scores_in = oodmodel.score(ds_in.take(1000))\n",
    "scores_out = oodmodel.score(ds_out.take(1000))\n",
    "\n",
    "\n",
    "metrics = bench_metrics(\n",
    "    (scores_in, scores_out),  \n",
    "    metrics = [\"auroc\", \"fpr95tpr\", accuracy_score, roc_auc_score], \n",
    "    threshold = -5\n",
    "    )\n",
    "\n",
    "metrics = pd.Series(metrics)\n",
    "print(metrics)"
   ]
  },
  {
   "attachments": {},
   "cell_type": "markdown",
   "metadata": {},
   "source": [
    "### ODIN"
   ]
  },
  {
   "cell_type": "code",
   "execution_count": 11,
   "metadata": {},
   "outputs": [
    {
     "name": "stdout",
     "output_type": "stream",
     "text": [
      "auroc             0.558197\n",
      "fpr95tpr          0.615100\n",
      "accuracy_score    0.486100\n",
      "roc_auc_score     0.558197\n",
      "dtype: float64\n"
     ]
    }
   ],
   "source": [
    "%autoreload 2\n",
    "\n",
    "#x_test, y_id = data_handler.convert_to_numpy(x_id)\n",
    "\n",
    "oodmodel = ODIN()\n",
    "oodmodel.fit(model)\n",
    "scores_in = oodmodel.score(ds_in)\n",
    "scores_out = oodmodel.score(ds_out)\n",
    "\n",
    "\n",
    "metrics = bench_metrics(\n",
    "    (scores_in, scores_out),  \n",
    "    metrics = [\"auroc\", \"fpr95tpr\", accuracy_score, roc_auc_score], \n",
    "    threshold = -5\n",
    "    )\n",
    "\n",
    "metrics = pd.Series(metrics)\n",
    "print(metrics)"
   ]
  }
 ],
 "metadata": {
  "kernelspec": {
   "display_name": "oodeel_dev_env",
   "language": "python",
   "name": "python3"
  },
  "language_info": {
   "codemirror_mode": {
    "name": "ipython",
    "version": 3
   },
   "file_extension": ".py",
   "mimetype": "text/x-python",
   "name": "python",
   "nbconvert_exporter": "python",
   "pygments_lexer": "ipython3",
   "version": "3.10.10"
  },
  "orig_nbformat": 4,
  "vscode": {
   "interpreter": {
    "hash": "40d80a18d61e6ad16acc6e8a5ef082fbd0a65400a097e8fba89bb5761bc6bbc9"
   }
  }
 },
 "nbformat": 4,
 "nbformat_minor": 2
}
