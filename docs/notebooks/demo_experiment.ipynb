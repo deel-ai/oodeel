{
 "cells": [
  {
   "cell_type": "code",
   "execution_count": null,
   "metadata": {},
   "outputs": [],
   "source": [
    "import os\n",
    "os.environ['TF_CPP_MIN_LOG_LEVEL'] = '2' \n",
    "\n",
    "import numpy as np\n",
    "from tensorflow import keras\n",
    "from oodeel.methods import MLS, DKNN, ODIN\n",
    "from oodeel.methods import DKNN\n",
    "import tensorflow as tf\n",
    "import pandas as pd\n",
    "import matplotlib.pyplot as plt\n",
    "import tensorflow_datasets as tfds\n",
    "\n",
    "from oodeel.eval.metrics import bench_metrics, get_curve\n",
    "from oodeel.datasets import OODDataset\n",
    "from oodeel.models.training_funs import train_convnet_classifier\n",
    "\n",
    "from sklearn.metrics import *\n",
    "\n",
    "import warnings\n",
    "warnings.filterwarnings(\"ignore\")\n",
    "\n",
    "model_path = os.path.expanduser(\"~/\") + \".oodeel/saved_models\"\n",
    "os.makedirs(model_path, exist_ok=True)"
   ]
  },
  {
   "cell_type": "markdown",
   "metadata": {},
   "source": [
    "## Two datasets experiment"
   ]
  },
  {
   "cell_type": "code",
   "execution_count": null,
   "metadata": {},
   "outputs": [],
   "source": [
    "oods_in = OODDataset('mnist', split=\"test\")\n",
    "oods_out = OODDataset('fashion_mnist', split=\"test\")\n",
    "oods_fit = OODDataset('mnist', split=\"train\")\n",
    "\n",
    "def preprocess_fn(*inputs):\n",
    "    x = inputs[0] / 255\n",
    "    return tuple([x] + list(inputs[1:]))\n",
    "\n",
    "\n",
    "batch_size = 128\n",
    "ds_in = oods_in.prepare(batch_size=batch_size, preprocess_fn=preprocess_fn)\n",
    "ds_out = oods_out.prepare(batch_size=batch_size, preprocess_fn=preprocess_fn)\n",
    "ds_fit = oods_fit.prepare(batch_size=batch_size, preprocess_fn=preprocess_fn, shuffle=True)"
   ]
  },
  {
   "cell_type": "code",
   "execution_count": null,
   "metadata": {},
   "outputs": [],
   "source": [
    "model_path_mnist = os.path.join(model_path, \"mnist_model\")\n",
    "\n",
    "try:\n",
    "    model = tf.keras.models.load_model(model_path_mnist)\n",
    "    \n",
    "except OSError:\n",
    "    train_config = {\n",
    "        \"input_shape\": (28, 28, 1),\n",
    "        \"num_classes\": 10,\n",
    "        \"batch_size\": 128,\n",
    "        \"is_prepared\": True,\n",
    "        \"epochs\": 5,\n",
    "        \"save_dir\": model_path_mnist,\n",
    "        \"validation_data\": ds_in#.get_dataset() #ds_in is actually the test set of MNIST\n",
    "    }\n",
    "\n",
    "    model = train_convnet_classifier(ds_fit, **train_config) #ds_fit is actually the train set of MNIST"
   ]
  },
  {
   "cell_type": "markdown",
   "metadata": {},
   "source": [
    "### MLS"
   ]
  },
  {
   "cell_type": "code",
   "execution_count": null,
   "metadata": {
    "tags": [
     "MLS two datasets"
    ]
   },
   "outputs": [],
   "source": [
    "oodmodel = MLS()\n",
    "oodmodel.fit(model)\n",
    "scores_in = oodmodel.score(ds_in)\n",
    "scores_out = oodmodel.score(ds_out)\n",
    "\n",
    "\n",
    "metrics = bench_metrics(\n",
    "    (scores_in, scores_out),  \n",
    "    metrics = [\"auroc\", \"fpr95tpr\", accuracy_score, roc_auc_score], \n",
    "    threshold = -5\n",
    "    )\n",
    "\n",
    "plt.figure(figsize=(13, 5))\n",
    "plt.hist((scores_out, scores_in), bins=100, color=(\"blue\", \"orange\"), label=(\"ood\", \"id\"), density=True)\n",
    "plt.xlabel(\"score\")\n",
    "plt.legend()\n",
    "plt.show()\n",
    "\n",
    "metrics = pd.Series(metrics)\n",
    "print(metrics)\n"
   ]
  },
  {
   "cell_type": "markdown",
   "metadata": {},
   "source": [
    "### ODIN"
   ]
  },
  {
   "cell_type": "code",
   "execution_count": null,
   "metadata": {},
   "outputs": [],
   "source": [
    "from oodeel.methods import ODIN\n",
    "\n",
    "oodmodel = ODIN()\n",
    "oodmodel.fit(model)\n",
    "scores_in = oodmodel.score(ds_in)\n",
    "scores_out = oodmodel.score(ds_out)\n",
    "\n",
    "\n",
    "metrics = bench_metrics(\n",
    "    (scores_in, scores_out),  \n",
    "    metrics = [\"auroc\", \"fpr95tpr\", accuracy_score, roc_auc_score], \n",
    "    threshold = -5\n",
    "    )\n",
    "\n",
    "plt.figure(figsize=(13, 5))\n",
    "plt.hist((scores_out, scores_in), bins=100, color=(\"blue\", \"orange\"), label=(\"ood\", \"id\"), density=True)\n",
    "plt.xlabel(\"score\")\n",
    "plt.legend()\n",
    "plt.show()\n",
    "\n",
    "metrics = pd.Series(metrics)\n",
    "print(metrics)"
   ]
  },
  {
   "attachments": {},
   "cell_type": "markdown",
   "metadata": {},
   "source": [
    "## Single dataset experiment\n",
    "\n",
    "(Leave-$k$-classes-out training).\n",
    "First, we need to define a training function"
   ]
  },
  {
   "cell_type": "code",
   "execution_count": null,
   "metadata": {},
   "outputs": [],
   "source": [
    "oods_fit = OODDataset('mnist', split=\"train\")\n",
    "oods_test = OODDataset('mnist', split=\"test\")\n",
    "\n",
    "batch_size = 128\n",
    "inc_labels = [0, 1, 2, 3, 4]\n",
    "oods_fit, _ = oods_fit.assign_ood_labels_by_class(in_labels=inc_labels)\n",
    "oods_in, oods_out = oods_test.assign_ood_labels_by_class(in_labels=inc_labels)\n",
    "\n",
    "\n",
    "def preprocess_fn(*inputs):\n",
    "    x = inputs[0] / 255\n",
    "    return tuple([x] + list(inputs[1:]))\n",
    "\n",
    "ds_fit = oods_fit.prepare(batch_size=batch_size, preprocess_fn=preprocess_fn, shuffle=True)\n",
    "ds_in = oods_in.prepare(batch_size=batch_size, with_ood_labels=False, preprocess_fn=preprocess_fn)\n",
    "ds_out = oods_out.prepare(batch_size=batch_size, with_ood_labels=False, preprocess_fn=preprocess_fn)\n"
   ]
  },
  {
   "cell_type": "code",
   "execution_count": null,
   "metadata": {},
   "outputs": [],
   "source": [
    "model_path_mnist_04 = os.path.join(model_path, \"mnist_model_0-4/\")\n",
    "\n",
    "try:\n",
    "    model = tf.keras.models.load_model(model_path_mnist_04)\n",
    "    \n",
    "except OSError:\n",
    "    train_config = {\n",
    "        \"input_shape\": (28, 28, 1),\n",
    "        \"num_classes\": 10,\n",
    "        \"is_prepared\": True,\n",
    "        \"batch_size\": 128,\n",
    "        \"epochs\": 5,\n",
    "        \"save_dir\": model_path_mnist_04,\n",
    "        \"validation_data\": ds_in #ds_in is actually the test set of MNIST\n",
    "    }\n",
    "\n",
    "    model = train_convnet_classifier(ds_fit, **train_config) #ds_fit is actually the train set of MNIST"
   ]
  },
  {
   "cell_type": "markdown",
   "metadata": {},
   "source": [
    "## MLS"
   ]
  },
  {
   "cell_type": "code",
   "execution_count": null,
   "metadata": {},
   "outputs": [],
   "source": [
    "oodmodel = MLS()\n",
    "oodmodel.fit(model)\n",
    "scores_in = oodmodel.score(ds_in)\n",
    "scores_out = oodmodel.score(ds_out)\n",
    "\n",
    "\n",
    "metrics = bench_metrics(\n",
    "    (scores_in, scores_out),  \n",
    "    metrics = [\"auroc\", \"fpr95tpr\", accuracy_score, roc_auc_score], \n",
    "    threshold = -5\n",
    "    )\n",
    "\n",
    "plt.figure(figsize=(13, 5))\n",
    "plt.hist((scores_out, scores_in), bins=100, color=(\"blue\", \"orange\"), label=(\"ood\", \"id\"), density=True)\n",
    "plt.xlabel(\"score\")\n",
    "plt.legend()\n",
    "plt.show()\n",
    "\n",
    "metrics = pd.Series(metrics)\n",
    "print(metrics)"
   ]
  },
  {
   "attachments": {},
   "cell_type": "markdown",
   "metadata": {},
   "source": [
    "### ODIN"
   ]
  },
  {
   "cell_type": "code",
   "execution_count": null,
   "metadata": {},
   "outputs": [],
   "source": [
    "oodmodel = ODIN()\n",
    "oodmodel.fit(model)\n",
    "scores_in = oodmodel.score(ds_in)\n",
    "scores_out = oodmodel.score(ds_out)\n",
    "\n",
    "\n",
    "metrics = bench_metrics(\n",
    "    (scores_in, scores_out),  \n",
    "    metrics = [\"auroc\", \"fpr95tpr\", accuracy_score, roc_auc_score], \n",
    "    threshold = -5\n",
    "    )\n",
    "\n",
    "plt.figure(figsize=(13, 5))\n",
    "plt.hist((scores_out, scores_in), bins=100, color=(\"blue\", \"orange\"), label=(\"ood\", \"id\"), density=True)\n",
    "plt.xlabel(\"score\")\n",
    "plt.legend()\n",
    "plt.show()\n",
    "\n",
    "metrics = pd.Series(metrics)\n",
    "print(metrics)"
   ]
  }
 ],
 "metadata": {
  "kernelspec": {
   "display_name": "oodeel_dev_env",
   "language": "python",
   "name": "python3"
  },
  "language_info": {
   "codemirror_mode": {
    "name": "ipython",
    "version": 3
   },
   "file_extension": ".py",
   "mimetype": "text/x-python",
   "name": "python",
   "nbconvert_exporter": "python",
   "pygments_lexer": "ipython3",
   "version": "3.10.10"
  },
  "orig_nbformat": 4,
  "vscode": {
   "interpreter": {
    "hash": "40d80a18d61e6ad16acc6e8a5ef082fbd0a65400a097e8fba89bb5761bc6bbc9"
   }
  }
 },
 "nbformat": 4,
 "nbformat_minor": 2
}
