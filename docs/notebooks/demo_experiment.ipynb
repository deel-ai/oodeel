{
 "cells": [
  {
   "cell_type": "code",
   "execution_count": 1,
   "metadata": {},
   "outputs": [
    {
     "name": "stdout",
     "output_type": "stream",
     "text": [
      "env: PYTHONPATH=../\n"
     ]
    },
    {
     "name": "stderr",
     "output_type": "stream",
     "text": [
      "/Users/paul/workspace/oodeel/oodeel_dev_env/lib/python3.10/site-packages/tqdm/auto.py:22: TqdmWarning: IProgress not found. Please update jupyter and ipywidgets. See https://ipywidgets.readthedocs.io/en/stable/user_install.html\n",
      "  from .autonotebook import tqdm as notebook_tqdm\n"
     ]
    }
   ],
   "source": [
    "%load_ext autoreload\n",
    "%env PYTHONPATH=../\n",
    "\n",
    "import sys\n",
    "sys.path.append(\"../\")\n",
    "import pprint\n",
    "import os\n",
    "os.environ['TF_CPP_MIN_LOG_LEVEL'] = '2' \n",
    "\n",
    "import numpy as np\n",
    "from tensorflow import keras\n",
    "from oodeel.methods import MLS, DKNN, ODIN\n",
    "from oodeel.methods import DKNN\n",
    "import tensorflow as tf\n",
    "import matplotlib.pyplot as plt\n",
    "import tensorflow_datasets as tfds\n",
    "\n",
    "from oodeel.eval.metrics import bench_metrics, get_curve\n",
    "from oodeel.datasets import OODDataset\n",
    "\n",
    "from sklearn.metrics import *\n",
    "\n",
    "import warnings\n",
    "warnings.filterwarnings(\"ignore\")\n",
    "\n",
    "pp = pprint.PrettyPrinter()"
   ]
  },
  {
   "cell_type": "markdown",
   "metadata": {},
   "source": [
    "## Two datasets experiment"
   ]
  },
  {
   "cell_type": "code",
   "execution_count": 2,
   "metadata": {},
   "outputs": [
    {
     "name": "stdout",
     "output_type": "stream",
     "text": [
      "Metal device set to: AMD Radeon Pro 5500M\n",
      "\n",
      "systemMemory: 64.00 GB\n",
      "maxCacheSize: 3.99 GB\n",
      "\n",
      "WARNING:tensorflow:From /Users/paul/workspace/oodeel/oodeel_dev_env/lib/python3.10/site-packages/tensorflow/python/autograph/pyct/static_analysis/liveness.py:83: Analyzer.lamba_check (from tensorflow.python.autograph.pyct.static_analysis.liveness) is deprecated and will be removed after 2023-09-23.\n",
      "Instructions for updating:\n",
      "Lambda fuctions will be no more assumed to be used in the statement where they are used, or at least in the same block. https://github.com/tensorflow/tensorflow/issues/56089\n"
     ]
    },
    {
     "name": "stderr",
     "output_type": "stream",
     "text": [
      "WARNING:tensorflow:From /Users/paul/workspace/oodeel/oodeel_dev_env/lib/python3.10/site-packages/tensorflow/python/autograph/pyct/static_analysis/liveness.py:83: Analyzer.lamba_check (from tensorflow.python.autograph.pyct.static_analysis.liveness) is deprecated and will be removed after 2023-09-23.\n",
      "Instructions for updating:\n",
      "Lambda fuctions will be no more assumed to be used in the statement where they are used, or at least in the same block. https://github.com/tensorflow/tensorflow/issues/56089\n"
     ]
    }
   ],
   "source": [
    "%autoreload 2\n",
    "\n",
    "oods_in = OODDataset('mnist', split=\"test\")\n",
    "oods_out = OODDataset('fashion_mnist', split=\"test\")\n",
    "oods_fit = OODDataset('mnist', split=\"train\")\n",
    "\n",
    "def preprocess_fn(*inputs):\n",
    "    x = inputs[0] / 255\n",
    "    return tuple([x] + list(inputs[1:]))\n",
    "\n",
    "\n",
    "batch_size = 128\n",
    "ds_in = oods_in.prepare(batch_size=batch_size, preprocess_fn=preprocess_fn)\n",
    "ds_out = oods_out.prepare(batch_size=batch_size, preprocess_fn=preprocess_fn)\n",
    "ds_fit = oods_fit.prepare(batch_size=batch_size, preprocess_fn=preprocess_fn, shuffle=True)"
   ]
  },
  {
   "cell_type": "code",
   "execution_count": 5,
   "metadata": {},
   "outputs": [
    {
     "name": "stdout",
     "output_type": "stream",
     "text": [
      "Epoch 1/5\n",
      "469/469 [==============================] - ETA: 0s - loss: 0.3287 - accuracy: 0.9023"
     ]
    },
    {
     "name": "stderr",
     "output_type": "stream",
     "text": [
      "WARNING:absl:Found untraced functions such as _jit_compiled_convolution_op, _jit_compiled_convolution_op while saving (showing 2 of 2). These functions will not be directly callable after loading.\n"
     ]
    },
    {
     "name": "stdout",
     "output_type": "stream",
     "text": [
      "INFO:tensorflow:Assets written to: ../saved_models/mnist_model/assets\n"
     ]
    },
    {
     "name": "stderr",
     "output_type": "stream",
     "text": [
      "INFO:tensorflow:Assets written to: ../saved_models/mnist_model/assets\n"
     ]
    },
    {
     "name": "stdout",
     "output_type": "stream",
     "text": [
      "469/469 [==============================] - 16s 32ms/step - loss: 0.3287 - accuracy: 0.9023 - val_loss: 0.0865 - val_accuracy: 0.9729\n",
      "Epoch 2/5\n",
      "469/469 [==============================] - ETA: 0s - loss: 0.0977 - accuracy: 0.9705"
     ]
    },
    {
     "name": "stderr",
     "output_type": "stream",
     "text": [
      "WARNING:absl:Found untraced functions such as _jit_compiled_convolution_op, _jit_compiled_convolution_op while saving (showing 2 of 2). These functions will not be directly callable after loading.\n"
     ]
    },
    {
     "name": "stdout",
     "output_type": "stream",
     "text": [
      "INFO:tensorflow:Assets written to: ../saved_models/mnist_model/assets\n"
     ]
    },
    {
     "name": "stderr",
     "output_type": "stream",
     "text": [
      "INFO:tensorflow:Assets written to: ../saved_models/mnist_model/assets\n"
     ]
    },
    {
     "name": "stdout",
     "output_type": "stream",
     "text": [
      "469/469 [==============================] - 13s 28ms/step - loss: 0.0977 - accuracy: 0.9705 - val_loss: 0.0555 - val_accuracy: 0.9828\n",
      "Epoch 3/5\n",
      "469/469 [==============================] - ETA: 0s - loss: 0.0783 - accuracy: 0.9766"
     ]
    },
    {
     "name": "stderr",
     "output_type": "stream",
     "text": [
      "WARNING:absl:Found untraced functions such as _jit_compiled_convolution_op, _jit_compiled_convolution_op while saving (showing 2 of 2). These functions will not be directly callable after loading.\n"
     ]
    },
    {
     "name": "stdout",
     "output_type": "stream",
     "text": [
      "INFO:tensorflow:Assets written to: ../saved_models/mnist_model/assets\n"
     ]
    },
    {
     "name": "stderr",
     "output_type": "stream",
     "text": [
      "INFO:tensorflow:Assets written to: ../saved_models/mnist_model/assets\n"
     ]
    },
    {
     "name": "stdout",
     "output_type": "stream",
     "text": [
      "469/469 [==============================] - 14s 30ms/step - loss: 0.0783 - accuracy: 0.9766 - val_loss: 0.0513 - val_accuracy: 0.9843\n",
      "Epoch 4/5\n",
      "469/469 [==============================] - 10s 22ms/step - loss: 0.0747 - accuracy: 0.9778 - val_loss: 0.0510 - val_accuracy: 0.9839\n",
      "Epoch 5/5\n",
      "469/469 [==============================] - 11s 24ms/step - loss: 0.0734 - accuracy: 0.9776 - val_loss: 0.0509 - val_accuracy: 0.9835\n"
     ]
    }
   ],
   "source": [
    "\n",
    "from oodeel.models.training_funs import train_convnet_classifier\n",
    "\n",
    "try:\n",
    "    model = tf.keras.models.load_model(\"../saved_models/mnist_model\")\n",
    "except OSError:\n",
    "    \n",
    "\n",
    "    train_config = {\n",
    "        \"input_shape\": (28, 28, 1),\n",
    "        \"num_classes\": 10,\n",
    "        \"is_prepared\": True,\n",
    "        \"batch_size\": 128,\n",
    "        \"epochs\": 5,\n",
    "        \"save_dir\": \"../saved_models/mnist_model\",\n",
    "        \"validation_data\": ds_in #ds_in is actually the test set of MNIST\n",
    "    }\n",
    "\n",
    "    model = train_convnet_classifier(ds_fit, **train_config) #ds_fit is actually the train set of MNIST"
   ]
  },
  {
   "cell_type": "markdown",
   "metadata": {},
   "source": [
    "### MLS"
   ]
  },
  {
   "cell_type": "code",
   "execution_count": 6,
   "metadata": {
    "tags": [
     "MLS two datasets"
    ]
   },
   "outputs": [
    {
     "name": "stdout",
     "output_type": "stream",
     "text": [
      "{'accuracy_score': 0.92835,\n",
      " 'auroc': 0.9792125049999999,\n",
      " 'fpr95tpr': 0.0613,\n",
      " 'roc_auc_score': 0.97921253}\n"
     ]
    }
   ],
   "source": [
    "\n",
    "%autoreload 2\n",
    "\n",
    "\n",
    "oodmodel = MLS()\n",
    "oodmodel.fit(model)\n",
    "scores_in = oodmodel.score(ds_in)\n",
    "scores_out = oodmodel.score(ds_out)\n",
    "\n",
    "\n",
    "metrics = bench_metrics(\n",
    "    (scores_in, scores_out),  \n",
    "    metrics = [\"auroc\", \"fpr95tpr\", accuracy_score, roc_auc_score], \n",
    "    threshold = -5\n",
    "    )\n",
    "\n",
    "pp.pprint(metrics)\n"
   ]
  },
  {
   "cell_type": "markdown",
   "metadata": {},
   "source": [
    "### DKNN"
   ]
  },
  {
   "cell_type": "code",
   "execution_count": 7,
   "metadata": {},
   "outputs": [
    {
     "name": "stdout",
     "output_type": "stream",
     "text": [
      "{'accuracy_score': 0.5,\n",
      " 'auroc': 0.9984382249999999,\n",
      " 'fpr95tpr': 0.0061,\n",
      " 'roc_auc_score': 0.998438245}\n"
     ]
    }
   ],
   "source": [
    "%autoreload 2\n",
    "\n",
    "\n",
    "oodmodel = DKNN()\n",
    "oodmodel.fit(model, ds_fit.take(10000))\n",
    "scores_in = oodmodel.score(ds_in.take(1000))\n",
    "scores_out = oodmodel.score(ds_out.take(1000))\n",
    "\n",
    "\n",
    "metrics = bench_metrics(\n",
    "    (scores_in, scores_out),  \n",
    "    metrics = [\"auroc\", \"fpr95tpr\", accuracy_score, roc_auc_score], \n",
    "    threshold = -5\n",
    "    )\n",
    "\n",
    "pp.pprint(metrics)"
   ]
  },
  {
   "cell_type": "markdown",
   "metadata": {},
   "source": [
    "### ODIN"
   ]
  },
  {
   "cell_type": "code",
   "execution_count": 8,
   "metadata": {},
   "outputs": [
    {
     "name": "stdout",
     "output_type": "stream",
     "text": [
      "{'accuracy_score': 0.5,\n",
      " 'auroc': 0.9909027650000001,\n",
      " 'fpr95tpr': 0.0372,\n",
      " 'roc_auc_score': 0.990903005}\n"
     ]
    }
   ],
   "source": [
    "\n",
    "%autoreload 2\n",
    "from oodeel.methods import ODIN\n",
    "\n",
    "oodmodel = ODIN()\n",
    "oodmodel.fit(model)\n",
    "scores_in = oodmodel.score(ds_in)\n",
    "scores_out = oodmodel.score(ds_out)\n",
    "\n",
    "\n",
    "metrics = bench_metrics(\n",
    "    (scores_in, scores_out),  \n",
    "    metrics = [\"auroc\", \"fpr95tpr\", accuracy_score, roc_auc_score], \n",
    "    threshold = -5\n",
    "    )\n",
    "\n",
    "pp.pprint(metrics)"
   ]
  },
  {
   "attachments": {},
   "cell_type": "markdown",
   "metadata": {},
   "source": [
    "## Single dataset experiment\n",
    "\n",
    "(Leave-$k$-classes-out training).\n",
    "First, we need to define a training function"
   ]
  },
  {
   "cell_type": "code",
   "execution_count": 9,
   "metadata": {},
   "outputs": [],
   "source": [
    "\n",
    "%autoreload 2\n",
    "\n",
    "oods_test = OODDataset('mnist', split=\"test\")\n",
    "oods_train = OODDataset('mnist', split=\"train\")\n",
    "\n",
    "batch_size = 128\n",
    "inc_labels = [0, 1, 2, 3, 4]\n",
    "oods_train, _ = oods_train.assign_ood_labels_by_class(in_labels=inc_labels)\n",
    "oods_in, oods_out = oods_test.assign_ood_labels_by_class(in_labels=inc_labels)\n",
    "\n",
    "\n",
    "def preprocess_fn(*inputs):\n",
    "    x = inputs[0] / 255\n",
    "    return tuple([x] + list(inputs[1:]))\n",
    "\n",
    "ds_train = oods_train.prepare(batch_size=batch_size, preprocess_fn=preprocess_fn, shuffle=True)\n",
    "ds_in = oods_in.prepare(batch_size=batch_size, with_ood_labels=False, preprocess_fn=preprocess_fn)\n",
    "ds_out = oods_out.prepare(batch_size=batch_size, with_ood_labels=False, preprocess_fn=preprocess_fn)\n"
   ]
  },
  {
   "cell_type": "code",
   "execution_count": 10,
   "metadata": {},
   "outputs": [
    {
     "name": "stdout",
     "output_type": "stream",
     "text": [
      "Epoch 1/5\n",
      "240/240 [==============================] - 9s 32ms/step - loss: 0.2136 - accuracy: 0.9347\n",
      "Epoch 2/5\n",
      "240/240 [==============================] - 6s 24ms/step - loss: 0.0500 - accuracy: 0.9850\n",
      "Epoch 3/5\n",
      "240/240 [==============================] - 7s 29ms/step - loss: 0.0411 - accuracy: 0.9874\n",
      "Epoch 4/5\n",
      "240/240 [==============================] - 5s 20ms/step - loss: 0.0391 - accuracy: 0.9874\n",
      "Epoch 5/5\n",
      "240/240 [==============================] - 6s 23ms/step - loss: 0.0386 - accuracy: 0.9883\n"
     ]
    }
   ],
   "source": [
    "%autoreload 2\n",
    "from oodeel.models.training_funs import train_convnet_classifier\n",
    "\n",
    "train_config = {\n",
    "    \"input_shape\": (28, 28, 1),\n",
    "    \"num_classes\": len(inc_labels),\n",
    "    \"is_prepared\": True,\n",
    "    \"batch_size\": 128,\n",
    "    \"epochs\": 5\n",
    "}\n",
    "\n",
    "model = train_convnet_classifier(ds_train, **train_config)"
   ]
  },
  {
   "cell_type": "markdown",
   "metadata": {},
   "source": [
    "## MLS"
   ]
  },
  {
   "cell_type": "code",
   "execution_count": 11,
   "metadata": {},
   "outputs": [
    {
     "name": "stdout",
     "output_type": "stream",
     "text": [
      "{'accuracy_score': 0.8827,\n",
      " 'auroc': 0.9456968323399055,\n",
      " 'fpr95tpr': 0.25179996108192254,\n",
      " 'roc_auc_score': 0.9456956314117804}\n"
     ]
    }
   ],
   "source": [
    "%autoreload 2\n",
    "\n",
    "oodmodel = MLS()\n",
    "oodmodel.fit(model)\n",
    "scores_in = oodmodel.score(ds_in)\n",
    "scores_out = oodmodel.score(ds_out)\n",
    "\n",
    "\n",
    "metrics = bench_metrics(\n",
    "    (scores_in, scores_out),  \n",
    "    metrics = [\"auroc\", \"fpr95tpr\", accuracy_score, roc_auc_score], \n",
    "    threshold = -5\n",
    "    )\n",
    "\n",
    "pp.pprint(metrics)"
   ]
  },
  {
   "cell_type": "markdown",
   "metadata": {},
   "source": [
    "### DKNN"
   ]
  },
  {
   "cell_type": "code",
   "execution_count": 12,
   "metadata": {},
   "outputs": [
    {
     "name": "stdout",
     "output_type": "stream",
     "text": [
      "{'accuracy_score': 0.4861,\n",
      " 'auroc': 0.967651319645875,\n",
      " 'fpr95tpr': 0.14127262113251604,\n",
      " 'roc_auc_score': 0.9676495582846246}\n"
     ]
    }
   ],
   "source": [
    "%autoreload 2\n",
    "\n",
    "oodmodel = DKNN()\n",
    "oodmodel.fit(model, ds_train.take(10000))\n",
    "scores_in = oodmodel.score(ds_in.take(1000))\n",
    "scores_out = oodmodel.score(ds_out.take(1000))\n",
    "\n",
    "\n",
    "metrics = bench_metrics(\n",
    "    (scores_in, scores_out),  \n",
    "    metrics = [\"auroc\", \"fpr95tpr\", accuracy_score, roc_auc_score], \n",
    "    threshold = -5\n",
    "    )\n",
    "\n",
    "pp.pprint(metrics)"
   ]
  },
  {
   "attachments": {},
   "cell_type": "markdown",
   "metadata": {},
   "source": [
    "### ODIN"
   ]
  },
  {
   "cell_type": "code",
   "execution_count": 13,
   "metadata": {},
   "outputs": [
    {
     "name": "stdout",
     "output_type": "stream",
     "text": [
      "{'accuracy_score': 0.4861,\n",
      " 'auroc': 0.9244589988927043,\n",
      " 'fpr95tpr': 0.3957968476357268,\n",
      " 'roc_auc_score': 0.9244590589391105}\n"
     ]
    }
   ],
   "source": [
    "%autoreload 2\n",
    "\n",
    "#x_test, y_id = data_handler.convert_to_numpy(x_id)\n",
    "\n",
    "oodmodel = ODIN()\n",
    "oodmodel.fit(model)\n",
    "scores_in = oodmodel.score(ds_in)\n",
    "scores_out = oodmodel.score(ds_out)\n",
    "\n",
    "\n",
    "metrics = bench_metrics(\n",
    "    (scores_in, scores_out),  \n",
    "    metrics = [\"auroc\", \"fpr95tpr\", accuracy_score, roc_auc_score], \n",
    "    threshold = -5\n",
    "    )\n",
    "\n",
    "pp.pprint(metrics)"
   ]
  }
 ],
 "metadata": {
  "kernelspec": {
   "display_name": "oodeel_dev_env",
   "language": "python",
   "name": "python3"
  },
  "language_info": {
   "codemirror_mode": {
    "name": "ipython",
    "version": 3
   },
   "file_extension": ".py",
   "mimetype": "text/x-python",
   "name": "python",
   "nbconvert_exporter": "python",
   "pygments_lexer": "ipython3",
   "version": "3.10.10"
  },
  "orig_nbformat": 4,
  "vscode": {
   "interpreter": {
    "hash": "40d80a18d61e6ad16acc6e8a5ef082fbd0a65400a097e8fba89bb5761bc6bbc9"
   }
  }
 },
 "nbformat": 4,
 "nbformat_minor": 2
}
