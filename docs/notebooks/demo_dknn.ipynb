{
    "cells": [
        {
            "attachments": {},
            "cell_type": "markdown",
            "metadata": {},
            "source": [
                "## Imports"
            ]
        },
        {
            "cell_type": "code",
            "execution_count": null,
            "metadata": {},
            "outputs": [],
            "source": [
                "%load_ext autoreload\n",
                "\n",
                "import warnings\n",
                "warnings.filterwarnings(\"ignore\")\n",
                "\n",
                "import sys\n",
                "import os\n",
                "os.environ[\"TF_CPP_MIN_LOG_LEVEL\"] = \"2\" \n",
                "\n",
                "import numpy as np\n",
                "from oodeel.methods import DKNN\n",
                "import tensorflow as tf\n",
                "import matplotlib.pyplot as plt\n",
                "import pandas as pd\n",
                "from sklearn.metrics import *\n",
                "\n",
                "from oodeel.eval.metrics import bench_metrics, get_curve\n",
                "from oodeel.datasets import OODDataset\n",
                "from oodeel.models.training_funs import train_convnet_classifier\n",
                "\n",
                "model_path = os.path.expanduser(\"~/\") + \".oodeel/saved_models\"\n",
                "data_path = os.path.expanduser(\"~/\") + \".oodeel/datasets\"\n",
                "os.makedirs(model_path, exist_ok=True)\n",
                "os.makedirs(data_path, exist_ok=True)"
            ]
        },
        {
            "attachments": {},
            "cell_type": "markdown",
            "metadata": {},
            "source": [
                "## MNIST (0-4) vs MNIST (5-9)"
            ]
        },
        {
            "attachments": {},
            "cell_type": "markdown",
            "metadata": {},
            "source": [
                "### Data and model loading\n",
                "ID data: MNIST (0-4), OOD data: MNIST (5-9)"
            ]
        },
        {
            "cell_type": "code",
            "execution_count": null,
            "metadata": {},
            "outputs": [],
            "source": [
                "oods_fit = OODDataset('mnist', split=\"train\")\n",
                "oods_test = OODDataset('mnist', split=\"test\")\n",
                "\n",
                "batch_size = 128\n",
                "inc_labels = [0, 1, 2, 3, 4]\n",
                "oods_fit, _ = oods_fit.assign_ood_labels_by_class(in_labels=inc_labels)\n",
                "oods_in, oods_out = oods_test.assign_ood_labels_by_class(in_labels=inc_labels)\n",
                "\n",
                "\n",
                "def preprocess_fn(*inputs):\n",
                "    x = inputs[0] / 255\n",
                "    return tuple([x] + list(inputs[1:]))\n",
                "\n",
                "ds_fit = oods_fit.prepare(batch_size=batch_size, preprocess_fn=preprocess_fn, shuffle=True)\n",
                "ds_in = oods_in.prepare(batch_size=batch_size, with_ood_labels=False, preprocess_fn=preprocess_fn)\n",
                "ds_out = oods_out.prepare(batch_size=batch_size, with_ood_labels=False, preprocess_fn=preprocess_fn)"
            ]
        },
        {
            "cell_type": "code",
            "execution_count": null,
            "metadata": {},
            "outputs": [],
            "source": [
                "\n",
                "model_path_mnist_04 = os.path.join(model_path, \"mnist_model_0-4/\")\n",
                "\n",
                "try:\n",
                "    model = tf.keras.models.load_model(model_path_mnist_04)\n",
                "    \n",
                "except OSError:\n",
                "    train_config = {\n",
                "        \"input_shape\": (28, 28, 1),\n",
                "        \"num_classes\": 10,\n",
                "        \"batch_size\": 128,\n",
                "        \"is_prepared\": True,\n",
                "        \"epochs\": 5,\n",
                "        \"save_dir\": model_path_mnist_04,\n",
                "        \"validation_data\": ds_in #ds_in is actually the test set of MNIST\n",
                "    }\n",
                "\n",
                "    model = train_convnet_classifier(ds_fit, **train_config) #ds_fit is actually the train set of MNIST"
            ]
        },
        {
            "attachments": {},
            "cell_type": "markdown",
            "metadata": {},
            "source": [
                "### DKNN score"
            ]
        },
        {
            "cell_type": "code",
            "execution_count": null,
            "metadata": {},
            "outputs": [],
            "source": [
                "batch_size = 128\n",
                "\n",
                "oodmodel = DKNN(nearest=50)\n",
                "oodmodel.fit(model, ds_fit.take(10000))\n",
                "scores_in = oodmodel.score(ds_in.take(1000))\n",
                "scores_out = oodmodel.score(ds_out.take(1000))\n",
                "\n",
                "# auroc / fpr95\n",
                "metrics = bench_metrics(\n",
                "    (scores_in, scores_out),  \n",
                "    metrics = [\"auroc\", \"fpr95tpr\"], \n",
                "    )\n",
                "\n",
                "metrics_first_vs_last = pd.Series(metrics, name='mnist-0-4-vs-5-10')\n",
                "print(metrics_first_vs_last)\n",
                "\n",
                "# plot hists / roc\n",
                "plt.figure(figsize=(13, 5))\n",
                "plt.hist((scores_out, scores_in), bins=30, color=(\"blue\", \"orange\"), label=(\"OOD\", \"ID\"), density=True)\n",
                "plt.xlabel(\"score\")\n",
                "plt.legend()\n",
                "plt.show()"
            ]
        },
        {
            "attachments": {},
            "cell_type": "markdown",
            "metadata": {},
            "source": [
                "## MNIST vs Fashion MNIST"
            ]
        },
        {
            "attachments": {},
            "cell_type": "markdown",
            "metadata": {},
            "source": [
                "\n",
                "### Data and model loading\n",
                "ID data: MNIST, OOD data: Fashion MNIST"
            ]
        },
        {
            "cell_type": "code",
            "execution_count": null,
            "metadata": {},
            "outputs": [],
            "source": [
                "oods_in = OODDataset('mnist', split=\"test\")\n",
                "oods_out = OODDataset('fashion_mnist', split=\"test\")\n",
                "oods_fit = OODDataset('mnist', split=\"train\")\n",
                "\n",
                "def preprocess_fn(*inputs):\n",
                "    x = inputs[0] / 255\n",
                "    return tuple([x] + list(inputs[1:]))\n",
                "\n",
                "\n",
                "batch_size = 128\n",
                "ds_in = oods_in.prepare(batch_size=batch_size, preprocess_fn=preprocess_fn)\n",
                "ds_out = oods_out.prepare(batch_size=batch_size, preprocess_fn=preprocess_fn)\n",
                "ds_fit = oods_fit.prepare(batch_size=batch_size, preprocess_fn=preprocess_fn, shuffle=True)"
            ]
        },
        {
            "cell_type": "code",
            "execution_count": null,
            "metadata": {},
            "outputs": [],
            "source": [
                "model_path_mnist = os.path.join(model_path, \"mnist_model\")\n",
                "\n",
                "try:\n",
                "    model = tf.keras.models.load_model(model_path_mnist)\n",
                "    \n",
                "except OSError:\n",
                "    train_config = {\n",
                "        \"input_shape\": (28, 28, 1),\n",
                "        \"num_classes\": 10,\n",
                "        \"batch_size\": 128,\n",
                "        \"optimizer\": \"adam\",\n",
                "        \"epochs\": 5,\n",
                "        \"save_dir\": model_path_mnist,\n",
                "        \"validation_data\": oods_in.get_dataset() #ds_in is actually the test set of MNIST\n",
                "    }\n",
                "\n",
                "    model = train_convnet_classifier(oods_fit.get_dataset(), **train_config) #"
            ]
        },
        {
            "attachments": {},
            "cell_type": "markdown",
            "metadata": {},
            "source": [
                "### DKNN score"
            ]
        },
        {
            "cell_type": "code",
            "execution_count": null,
            "metadata": {},
            "outputs": [],
            "source": [
                "oodmodel = DKNN(nearest=50)\n",
                "oodmodel.fit(model, ds_fit.take(10000))\n",
                "scores_in = oodmodel.score(ds_in.take(1000))\n",
                "scores_out = oodmodel.score(ds_out.take(1000))\n",
                "\n",
                "\n",
                "metrics = bench_metrics(\n",
                "    (scores_in, scores_out),  \n",
                "    metrics = [\"auroc\", \"fpr95tpr\",], \n",
                "    )\n",
                "metrics_fashion = pd.Series(metrics, name='mnist-10-vs-fashion')\n",
                "print(metrics_fashion)\n",
                "\n",
                "# plot hists / roc\n",
                "plt.figure(figsize=(13, 5))\n",
                "plt.hist((scores_out, scores_in), bins=30, color=(\"blue\", \"orange\"), label=(\"ood\", \"id\"), density=True)\n",
                "plt.xlabel(\"score\")\n",
                "plt.legend()\n",
                "plt.show()"
            ]
        },
        {
            "attachments": {},
            "cell_type": "markdown",
            "metadata": {},
            "source": [
                "## CIFAR-10 vs [SVHN, LSUN, iSUN, Texture]"
            ]
        },
        {
            "attachments": {},
            "cell_type": "markdown",
            "metadata": {},
            "source": [
                "### ID Data and model loading"
            ]
        },
        {
            "cell_type": "code",
            "execution_count": null,
            "metadata": {},
            "outputs": [],
            "source": [
                "%autoreload 2\n",
                "\n",
                "oods_in = OODDataset('cifar10', split=\"test\", input_key=\"image\")\n",
                "oods_fit = OODDataset('cifar10', split=\"train\", input_key=\"image\")\n",
                "\n",
                "def preprocess_fn(*inputs):\n",
                "    x = inputs[0] / 255\n",
                "    return tuple([x] + list(inputs[1:]))\n",
                "\n",
                "batch_size = 128\n",
                "ds_in = oods_in.prepare(batch_size=batch_size, preprocess_fn=preprocess_fn)\n",
                "ds_fit = oods_fit.prepare(batch_size=batch_size, preprocess_fn=preprocess_fn, shuffle=True)\n"
            ]
        },
        {
            "cell_type": "code",
            "execution_count": null,
            "metadata": {},
            "outputs": [],
            "source": [
                "from oodeel.models.training_funs import train_keras_app\n",
                "\n",
                "model_path_cifar = os.path.join(model_path, \"cifar10\")\n",
                "try:\n",
                "    model = tf.keras.models.load_model(model_path_cifar)\n",
                "    \n",
                "except OSError:\n",
                "    train_config = {\n",
                "        \"input_shape\": (32, 32, 3),\n",
                "        \"num_classes\": 10,\n",
                "        \"batch_size\": 128,\n",
                "        \"epochs\": 200,\n",
                "        \"save_dir\": model_path_cifar,\n",
                "        \"validation_data\": oods_in.get_dataset() #ds_in is actually the test set of MNIST\n",
                "    }\n",
                "\n",
                "    model = train_keras_app(oods_fit.get_dataset(), \"resnet18\", **train_config) "
            ]
        },
        {
            "cell_type": "code",
            "execution_count": null,
            "metadata": {},
            "outputs": [],
            "source": [
                "# ood dataset\n",
                "oodmodel = DKNN(nearest=50, output_layers_id=[\"pool1\"])\n",
                "oodmodel.fit(model, ds_fit.take(100))\n",
                "scores_in = oodmodel.score(ds_in.take(100))\n"
            ]
        },
        {
            "attachments": {},
            "cell_type": "markdown",
            "metadata": {},
            "source": [
                "### OOD data: SVHN\n",
                "ID data: CIFAR-10, OOD data: SVHN"
            ]
        },
        {
            "cell_type": "code",
            "execution_count": null,
            "metadata": {},
            "outputs": [],
            "source": [
                "\n",
                "oods_out = OODDataset('svhn_cropped', split=\"test\", input_key=\"image\")\n",
                "ds_out = oods_out.prepare(batch_size=batch_size, preprocess_fn=preprocess_fn)\n",
                "\n",
                "scores_out = oodmodel.score(ds_out.take(100))\n",
                "\n",
                "# auroc / fpr95\n",
                "metrics = bench_metrics(\n",
                "    (scores_in, scores_out),\n",
                "    metrics=[\"auroc\", \"fpr95tpr\"]\n",
                ")\n",
                "metrics_cifar_svhn = pd.Series(metrics, name='cifar-vs-svhn')\n",
                "print(metrics_cifar_svhn)\n",
                "\n",
                "# plot hists / roc\n",
                "plt.figure(figsize=(13, 5))\n",
                "plt.hist((scores_out, scores_in), bins=30, color=(\"blue\", \"orange\"), label=(\"ood\", \"id\"), density=True)\n",
                "plt.xlabel(\"score\")\n",
                "plt.legend()\n",
                "plt.show()"
            ]
        },
        {
            "attachments": {},
            "cell_type": "markdown",
            "metadata": {},
            "source": [
                "### OOD data: LSUN\n",
                "ID data: CIFAR-10, OOD data: LSUN"
            ]
        },
        {
            "cell_type": "code",
            "execution_count": null,
            "metadata": {},
            "outputs": [],
            "source": [
                "import tensorflow as tf\n",
                "import os\n",
                "LSUN_root = os.path.join(data_path, \"LSUN\")\n",
                "lsun_ds = tf.keras.utils.image_dataset_from_directory(\n",
                "    LSUN_root,\n",
                "    image_size=(32, 32),\n",
                "    shuffle=False,\n",
                "    batch_size=None\n",
                ")\n",
                "# ood dataset\n",
                "ds_out = OODDataset(lsun_ds).prepare(batch_size=batch_size, preprocess_fn=preprocess_fn)\n",
                "scores_out = oodmodel.score(ds_out.take(100))\n",
                "\n",
                "# auroc / fpr95\n",
                "metrics = bench_metrics(\n",
                "    (scores_in, scores_out),\n",
                "    metrics=[\"auroc\", \"fpr95tpr\"]\n",
                ")\n",
                "metrics_cifar_lsun = pd.Series(metrics, name='cifar-vs-lsun')\n",
                "print(metrics_cifar_lsun)\n",
                "\n",
                "# plot hists / roc\n",
                "plt.figure(figsize=(13, 5))\n",
                "plt.hist((scores_out, scores_in), bins=30, color=(\"blue\", \"orange\"), label=(\"ood\", \"id\"), density=True)\n",
                "plt.xlabel(\"score\")\n",
                "plt.legend()\n",
                "plt.show()"
            ]
        },
        {
            "attachments": {},
            "cell_type": "markdown",
            "metadata": {},
            "source": [
                "### OOD data: iSUN\n",
                "ID data: CIFAR-10, OOD data: iSUN"
            ]
        },
        {
            "cell_type": "code",
            "execution_count": null,
            "metadata": {},
            "outputs": [],
            "source": [
                "import tensorflow as tf\n",
                "iSUN_root = os.path.join(data_path, \"iSUN\")\n",
                "isun_ds = tf.keras.utils.image_dataset_from_directory(\n",
                "    iSUN_root,\n",
                "    image_size=(32, 32),\n",
                "    shuffle=False,\n",
                "    batch_size=None\n",
                ")\n",
                "# ood dataset\n",
                "x_ood = OODDataset(isun_ds).prepare(batch_size=batch_size, preprocess_fn=preprocess_fn)\n",
                "scores_out = oodmodel.score(ds_out.take(1000))\n",
                "\n",
                "# auroc / fpr95\n",
                "metrics = bench_metrics(\n",
                "    (scores_in, scores_out),\n",
                "    metrics=[\"auroc\", \"fpr95tpr\"]\n",
                ")\n",
                "metrics_cifar_isun = pd.Series(metrics, name='cifar-vs-isun')\n",
                "print(metrics_cifar_isun)\n",
                "\n",
                "# plot hists / roc\n",
                "plt.figure(figsize=(13, 5))\n",
                "plt.hist((scores_out, scores_in), bins=30, color=(\"blue\", \"orange\"), label=(\"ood\", \"id\"), density=True)\n",
                "plt.xlabel(\"score\")\n",
                "plt.legend()\n",
                "plt.show()"
            ]
        },
        {
            "attachments": {},
            "cell_type": "markdown",
            "metadata": {},
            "source": [
                "### OOD data: Texture\n",
                "ID data: CIFAR-10, OOD data: Texture"
            ]
        },
        {
            "cell_type": "code",
            "execution_count": null,
            "metadata": {},
            "outputs": [],
            "source": [
                "import tensorflow as tf\n",
                "texture_root = os.path.join(data_path, \"dtd\")\n",
                "texture_ds = tf.keras.utils.image_dataset_from_directory(\n",
                "    texture_root,\n",
                "    image_size=(32, 32),\n",
                "    shuffle=False,\n",
                "    batch_size=None,\n",
                ")\n",
                "# ood dataset\n",
                "x_ood = OODDataset(texture_ds).prepare(batch_size=batch_size, preprocess_fn=preprocess_fn)\n",
                "scores_out = oodmodel.score(ds_out.take(1000))\n",
                "\n",
                "# auroc / fpr95\n",
                "metrics = bench_metrics(\n",
                "    (scores_in, scores_out),\n",
                "    metrics=[\"auroc\", \"fpr95tpr\"]\n",
                ")\n",
                "metrics_cifar_texture = pd.Series(metrics, name='cifar-vs-texture')\n",
                "print(metrics_cifar_texture)\n",
                "\n",
                "# plot hists / roc\n",
                "plt.figure(figsize=(13, 5))\n",
                "plt.hist((scores_out, scores_in), bins=30, color=(\"blue\", \"orange\"), label=(\"ood\", \"id\"), density=True)\n",
                "plt.xlabel(\"score\")\n",
                "plt.legend()\n",
                "plt.show()"
            ]
        },
        {
            "attachments": {},
            "cell_type": "markdown",
            "metadata": {},
            "source": [
                "## Results"
            ]
        },
        {
            "cell_type": "code",
            "execution_count": null,
            "metadata": {},
            "outputs": [],
            "source": [
                "pd.concat([metrics_first_vs_last, metrics_fashion, metrics_cifar_svhn, metrics_cifar_lsun, metrics_cifar_isun, metrics_cifar_texture], axis=1).T"
            ]
        }
    ],
    "metadata": {
        "kernelspec": {
            "display_name": "tfmetal",
            "language": "python",
            "name": "python3"
        },
        "language_info": {
            "codemirror_mode": {
                "name": "ipython",
                "version": 3
            },
            "file_extension": ".py",
            "mimetype": "text/x-python",
            "name": "python",
            "nbconvert_exporter": "python",
            "pygments_lexer": "ipython3",
            "version": "3.10.10"
        },
        "orig_nbformat": 4,
        "vscode": {
            "interpreter": {
                "hash": "dada21ee7726b34311237058025d0293bf4743ff9612a3722201b24280433f0a"
            }
        }
    },
    "nbformat": 4,
    "nbformat_minor": 2
}
