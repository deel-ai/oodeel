{
 "cells": [
  {
   "attachments": {},
   "cell_type": "markdown",
   "metadata": {},
   "source": [
    "# Getting started: Maximum Logit Score on MNIST\n",
    "\n",
    "This notebook aims at introducing the core features of `oodeel`, including :\n",
    "* Instanciation of `OODDataset` to load a dataset from `tensorflow_datasets` catalog and to organize in-distribution and out-of-distribution data.\n",
    "* Preparation of a `tf.data.Dataset` ready for scoring and training.\n",
    "* A simple utils to train neural nets (adapted when in-distribution is not a standard dataset, such as a subset of class from a dataset)\n",
    "* Instanciation of `OODModel` based on an already trained model, that is used for scoring data.\n",
    "* Some evaluation metrics to assess the quality of OOD detection.\n",
    "\n",
    "First, some required imports."
   ]
  },
  {
   "cell_type": "code",
   "execution_count": 1,
   "metadata": {},
   "outputs": [],
   "source": [
    "import os\n",
    "os.environ[\"TF_CPP_MIN_LOG_LEVEL\"] = \"2\" \n",
    "import tensorflow as tf\n",
    "tf.compat.v1.logging.set_verbosity(tf.compat.v1.logging.ERROR)\n",
    "import pandas as pd\n",
    "import numpy as np\n",
    "import matplotlib.pyplot as plt\n",
    "import torch \n",
    "\n",
    "from oodeel.methods import MLS\n",
    "from oodeel.eval.metrics import bench_metrics\n",
    "from oodeel.datasets import OODDataset\n",
    "from oodeel.models.training_funs import train_convnet_classifier_tf, train_convnet_classifier_torch\n",
    "\n",
    "from sklearn.metrics import accuracy_score, roc_auc_score\n",
    "\n",
    "import warnings\n",
    "warnings.filterwarnings(\"ignore\")"
   ]
  },
  {
   "attachments": {},
   "cell_type": "markdown",
   "metadata": {},
   "source": [
    "Note that models are saved at *~/.oodeel/saved_models* by default. Change the following cell for a custom path."
   ]
  },
  {
   "cell_type": "code",
   "execution_count": 2,
   "metadata": {},
   "outputs": [],
   "source": [
    "\n",
    "model_path = os.path.expanduser(\"~/\") + \".oodeel/saved_models\"\n",
    "os.makedirs(model_path, exist_ok=True)"
   ]
  },
  {
   "attachments": {},
   "cell_type": "markdown",
   "metadata": {},
   "source": [
    "## MNIST vs Fashion MNIST\n",
    "\n",
    "* In-distribution data: MNIST \n",
    "* Out-of-distribution data: Fashion MNIST\n",
    "\n",
    "### Load and prepare the datasets\n",
    "\n",
    "This is performed using the class `OODDataset`. First, load the datasets.\n",
    "\n",
    "/!\\ We denote In-Distribution (ID) data with `_in` and Out-Of-Distribution (OOD) data with `_out` to avoid confusion with OOD detection which is the name of the task, and is therefore used to denote core classes such as `OODDataset` and `OODModel`.\n",
    "\n",
    "Before loading, choose your backend (tensorflow or torch). You only have to give it as input to OODDataset and that's it. The rest of the code will be exactely the same regardless of the library (except for model loading - **for now**).\n",
    "\n",
    "Here, we load our datasets from tensorflow_dataset. When backend is \"torch\", the datasets are conerted on the fly and loaded on VRAM as torch tensors."
   ]
  },
  {
   "cell_type": "code",
   "execution_count": 3,
   "metadata": {},
   "outputs": [],
   "source": [
    "backend = \"torch\"\n",
    "\n",
    "oods_in = OODDataset(\n",
    "    'mnist', \n",
    "    split=\"test\", \n",
    "    backend=backend, \n",
    "    load_from_tensorflow_datasets=True\n",
    ")\n",
    "oods_out = OODDataset(\n",
    "    'fashion_mnist', \n",
    "    split=\"test\", \n",
    "    backend=backend, \n",
    "    load_from_tensorflow_datasets=True\n",
    ")\n",
    "oods_train = OODDataset(\n",
    "    'mnist', \n",
    "    split=\"train\", \n",
    "    backend=backend, \n",
    "    load_from_tensorflow_datasets=True\n",
    ")"
   ]
  },
  {
   "attachments": {},
   "cell_type": "markdown",
   "metadata": {},
   "source": [
    "Then, prepare the dataset for scoring and/or training using `.prepare` method."
   ]
  },
  {
   "cell_type": "code",
   "execution_count": 4,
   "metadata": {},
   "outputs": [],
   "source": [
    "def preprocess_fn(*inputs):\n",
    "    x = inputs[0] / 255\n",
    "    return tuple([x] + list(inputs[1:]))\n",
    "\n",
    "batch_size = 128\n",
    "\n",
    "ds_in = oods_in.prepare(batch_size=batch_size, preprocess_fn=preprocess_fn)\n",
    "ds_out = oods_out.prepare(batch_size=batch_size, preprocess_fn=preprocess_fn)\n",
    "ds_train = oods_train.prepare(batch_size=batch_size, preprocess_fn=preprocess_fn, shuffle=True)"
   ]
  },
  {
   "attachments": {},
   "cell_type": "markdown",
   "metadata": {},
   "source": [
    "Train or load a model on in-distribution data (MNIST).\n",
    "\n",
    "... a keras model ..."
   ]
  },
  {
   "cell_type": "code",
   "execution_count": 5,
   "metadata": {},
   "outputs": [],
   "source": [
    "model_path_mnist = os.path.join(model_path, \"mnist_model.h5\")\n",
    "\n",
    "try:\n",
    "    model = tf.keras.models.load_model(model_path_mnist)\n",
    "    \n",
    "except OSError:\n",
    "    train_config = {\n",
    "        \"input_shape\": (28, 28, 1),\n",
    "        \"num_classes\": 10,\n",
    "        \"batch_size\": 128,\n",
    "        \"is_prepared\": True,\n",
    "        \"epochs\": 5,\n",
    "        \"save_dir\": model_path_mnist,\n",
    "        \"validation_data\": ds_in#.get_dataset() #ds_in is actually the test set of MNIST\n",
    "    }\n",
    "\n",
    "    model = train_convnet_classifier_tf(ds_train, **train_config) #ds_train is actually the train set of MNIST\n",
    "    model.summary()"
   ]
  },
  {
   "attachments": {},
   "cell_type": "markdown",
   "metadata": {},
   "source": [
    "... or a pytorch one."
   ]
  },
  {
   "cell_type": "code",
   "execution_count": 5,
   "metadata": {},
   "outputs": [],
   "source": [
    "model_path_mnist = os.path.join(model_path, \"mnist_model_torch/best.pt\")\n",
    "try:\n",
    "    model = torch.load(model_path_mnist)\n",
    "    \n",
    "except OSError:\n",
    "    train_config = {\n",
    "        \"input_shape\": (1, 28, 28),\n",
    "        \"num_classes\": 10,\n",
    "        \"batch_size\": 128,\n",
    "        \"is_prepared\": True,\n",
    "        \"epochs\": 5,\n",
    "        \"save_dir\": model_path_mnist,\n",
    "        \"validation_data\": ds_in#.get_dataset() #ds_in is actually the test set of MNIST\n",
    "    }\n",
    "\n",
    "    model = train_convnet_classifier_torch(ds_train, **train_config) #ds_train is actually the train set of MNIST"
   ]
  },
  {
   "attachments": {},
   "cell_type": "markdown",
   "metadata": {},
   "source": [
    "### Maximum Logit Score (MLS)\n",
    "\n",
    "Return an OOD score based on the maximum value of the output logits. Introduced in [Open-Set Recognition: a Good Closed-Set Classifier is All You Need?](http://arxiv.org/abs/2110.06207), ICLR 2022."
   ]
  },
  {
   "cell_type": "code",
   "execution_count": 6,
   "metadata": {},
   "outputs": [],
   "source": [
    "%load_ext autoreload\n",
    "%autoreload 2\n",
    "oodmodel = MLS()\n",
    "\n",
    "oodmodel.fit(model)\n",
    "scores_in = oodmodel.score(ds_in)\n",
    "scores_out = oodmodel.score(ds_out)"
   ]
  },
  {
   "attachments": {},
   "cell_type": "markdown",
   "metadata": {},
   "source": [
    "Compute the evaluation metrics based on the scores of the test data, and visualize the scores histogram."
   ]
  },
  {
   "cell_type": "code",
   "execution_count": 7,
   "metadata": {},
   "outputs": [
    {
     "data": {
      "image/png": "[encoded data removed]",
      "text/plain": [
       "<Figure size 1300x500 with 1 Axes>"
      ]
     },
     "metadata": {},
     "output_type": "display_data"
    },
    {
     "name": "stdout",
     "output_type": "stream",
     "text": [
      "auroc             0.995777\n",
      "fpr95tpr          0.021700\n",
      "accuracy_score    0.970000\n",
      "roc_auc_score     0.995777\n",
      "dtype: float64\n"
     ]
    }
   ],
   "source": [
    "metrics = bench_metrics(\n",
    "    (scores_in, scores_out),  \n",
    "    metrics = [\"auroc\", \"fpr95tpr\", accuracy_score, roc_auc_score], \n",
    "    threshold = -7.5 # visually chosen based on the plot\n",
    "    )\n",
    "\n",
    "def plot_hist(scores_in, scores_out, bins, log=False):\n",
    "    if log:\n",
    "        minim = np.min([np.min(scores_in), np.min(scores_out)])\n",
    "        scores_in_ = scores_in - 2 * minim + np.min(scores_in[np.where(scores_in != minim)])\n",
    "        scores_out_ = scores_out - 2 * minim + np.min(scores_in[np.where(scores_in != minim)])\n",
    "        _, bins = np.histogram(np.concatenate([scores_in_, scores_out_]), bins=30)\n",
    "        logbins = np.logspace(np.log10(bins[0]),np.log10(bins[-1]),len(bins))\n",
    "        plt.xscale('log')\n",
    "        plt.xlabel(\"score (normalized log axis)\")\n",
    "    else:\n",
    "        logbins=bins\n",
    "        scores_in_ = scores_in \n",
    "        scores_out_ = scores_out\n",
    "        plt.xlabel(\"score\")\n",
    "    plt.hist((scores_out_, scores_in_), bins=logbins, color=(\"blue\", \"orange\"), label=(\"ood\", \"id\"))\n",
    "    plt.legend()\n",
    "    plt.show()\n",
    "\n",
    "plt.figure(figsize=(13, 5))\n",
    "plot_hist(scores_in, scores_out, 30)\n",
    "metrics = pd.Series(metrics)\n",
    "print(metrics)\n"
   ]
  },
  {
   "attachments": {},
   "cell_type": "markdown",
   "metadata": {},
   "source": [
    "### Maximum Softmax Probability (MSP)\n",
    "\n",
    "It is possible to do the same after the softmax activation. Introduced in [A Baseline for Detecting Misclassified and Out-of-Distribution Examples in Neural Networks](http://arxiv.org/abs/1610.02136), ICLR 2017."
   ]
  },
  {
   "cell_type": "code",
   "execution_count": 11,
   "metadata": {},
   "outputs": [
    {
     "data": {
      "image/png": "[encoded data removed]",
      "text/plain": [
       "<Figure size 1300x500 with 1 Axes>"
      ]
     },
     "metadata": {},
     "output_type": "display_data"
    },
    {
     "name": "stdout",
     "output_type": "stream",
     "text": [
      "auroc             0.985409\n",
      "fpr95tpr          0.060900\n",
      "accuracy_score    0.946550\n",
      "roc_auc_score     0.985409\n",
      "dtype: float64\n"
     ]
    }
   ],
   "source": [
    "oodmodel = MLS(output_activation=\"softmax\")\n",
    "oodmodel.fit(model)\n",
    "scores_in = oodmodel.score(ds_in)\n",
    "scores_out = oodmodel.score(ds_out)\n",
    "\n",
    "metrics = bench_metrics(\n",
    "    (scores_in, scores_out),  \n",
    "    metrics = [\"auroc\", \"fpr95tpr\", accuracy_score, roc_auc_score], \n",
    "    threshold = -0.95 # visually chosen based on the plot\n",
    "    )\n",
    "\n",
    "plt.figure(figsize=(13, 5))\n",
    "plot_hist(scores_in, scores_out, 30, log=True)\n",
    "metrics = pd.Series(metrics)\n",
    "print(metrics)"
   ]
  },
  {
   "attachments": {},
   "cell_type": "markdown",
   "metadata": {},
   "source": [
    "## MNIST (0-4) vs MNIST (5-9)\n",
    "\n",
    "* In-distribution data: MNIST (0-4)\n",
    "* Out-of-distribution data: MNIST (5-9)\n",
    "\n",
    "We can repeat the procedure in an open-set-recognition or semantic OOD setting by considering a subset of MNIST classes as in-distribution and another subset as out-of-distribution. The datasets are constructed using the `OODDataset` method `.assign_ood_labels_by_class`. First load and split the dataset."
   ]
  },
  {
   "cell_type": "code",
   "execution_count": 8,
   "metadata": {},
   "outputs": [
    {
     "ename": "UnboundLocalError",
     "evalue": "local variable 'dataset' referenced before assignment",
     "output_type": "error",
     "traceback": [
      "\u001b[0;31m---------------------------------------------------------------------------\u001b[0m",
      "\u001b[0;31mUnboundLocalError\u001b[0m                         Traceback (most recent call last)",
      "Cell \u001b[0;32mIn[8], line 16\u001b[0m\n\u001b[1;32m     14\u001b[0m batch_size \u001b[39m=\u001b[39m \u001b[39m128\u001b[39m\n\u001b[1;32m     15\u001b[0m inc_labels \u001b[39m=\u001b[39m [\u001b[39m0\u001b[39m, \u001b[39m1\u001b[39m, \u001b[39m2\u001b[39m, \u001b[39m3\u001b[39m, \u001b[39m4\u001b[39m]\n\u001b[0;32m---> 16\u001b[0m oods_train, _ \u001b[39m=\u001b[39m oods_train\u001b[39m.\u001b[39;49massign_ood_labels_by_class(in_labels\u001b[39m=\u001b[39;49minc_labels)\n\u001b[1;32m     17\u001b[0m oods_in, oods_out \u001b[39m=\u001b[39m oods_test\u001b[39m.\u001b[39massign_ood_labels_by_class(in_labels\u001b[39m=\u001b[39minc_labels)\n",
      "File \u001b[0;32m~/workspace/oodeel/oodeel/datasets/ooddataset.py:268\u001b[0m, in \u001b[0;36mOODDataset.assign_ood_labels_by_class\u001b[0;34m(self, in_labels, out_labels)\u001b[0m\n\u001b[1;32m    262\u001b[0m     out_data \u001b[39m=\u001b[39m \u001b[39mself\u001b[39m\u001b[39m.\u001b[39m_data_handler\u001b[39m.\u001b[39mfilter_by_feature_value(\n\u001b[1;32m    263\u001b[0m         \u001b[39mself\u001b[39m\u001b[39m.\u001b[39mdata, \u001b[39m\"\u001b[39m\u001b[39mlabel\u001b[39m\u001b[39m\"\u001b[39m, out_labels\n\u001b[1;32m    264\u001b[0m     )\n\u001b[1;32m    266\u001b[0m \u001b[39m# Return the filtered OODDatasets\u001b[39;00m\n\u001b[1;32m    267\u001b[0m \u001b[39mreturn\u001b[39;00m (\n\u001b[0;32m--> 268\u001b[0m     OODDataset(in_data, backend\u001b[39m=\u001b[39;49m\u001b[39mself\u001b[39;49m\u001b[39m.\u001b[39;49mbackend),\n\u001b[1;32m    269\u001b[0m     OODDataset(out_data, backend\u001b[39m=\u001b[39m\u001b[39mself\u001b[39m\u001b[39m.\u001b[39mbackend),\n\u001b[1;32m    270\u001b[0m )\n",
      "File \u001b[0;32m~/workspace/oodeel/oodeel/datasets/ooddataset.py:108\u001b[0m, in \u001b[0;36mOODDataset.__init__\u001b[0;34m(self, dataset_id, backend, split, keys, load_kwargs, load_from_tensorflow_datasets, input_key)\u001b[0m\n\u001b[1;32m    105\u001b[0m     \u001b[39mself\u001b[39m\u001b[39m.\u001b[39mchannel_order \u001b[39m=\u001b[39m \u001b[39m\"\u001b[39m\u001b[39mchannels_last\u001b[39m\u001b[39m\"\u001b[39m\n\u001b[1;32m    107\u001b[0m \u001b[39m# Load the dataset depending on the type of dataset_id\u001b[39;00m\n\u001b[0;32m--> 108\u001b[0m \u001b[39mself\u001b[39m\u001b[39m.\u001b[39mdata \u001b[39m=\u001b[39m \u001b[39mself\u001b[39;49m\u001b[39m.\u001b[39;49m_data_handler\u001b[39m.\u001b[39;49mload_dataset(dataset_id, keys, load_kwargs)\n\u001b[1;32m    110\u001b[0m \u001b[39m# Get the length of the elements/items in the dataset\u001b[39;00m\n\u001b[1;32m    111\u001b[0m \u001b[39mself\u001b[39m\u001b[39m.\u001b[39mlen_item \u001b[39m=\u001b[39m \u001b[39mself\u001b[39m\u001b[39m.\u001b[39m_data_handler\u001b[39m.\u001b[39mget_item_length(\u001b[39mself\u001b[39m\u001b[39m.\u001b[39mdata)\n",
      "File \u001b[0;32m~/workspace/oodeel/oodeel/datasets/torch_data_handler.py:263\u001b[0m, in \u001b[0;36mTorchDataHandler.load_dataset\u001b[0;34m(cls, dataset_id, keys, load_kwargs)\u001b[0m\n\u001b[1;32m    261\u001b[0m \u001b[39melif\u001b[39;00m \u001b[39misinstance\u001b[39m(dataset_id, (np\u001b[39m.\u001b[39mndarray, torch\u001b[39m.\u001b[39mTensor, \u001b[39mtuple\u001b[39m, \u001b[39mdict\u001b[39m)):\n\u001b[1;32m    262\u001b[0m     dataset \u001b[39m=\u001b[39m \u001b[39mcls\u001b[39m\u001b[39m.\u001b[39mload_dataset_from_arrays(dataset_id, keys)\n\u001b[0;32m--> 263\u001b[0m \u001b[39mreturn\u001b[39;00m dataset\n",
      "\u001b[0;31mUnboundLocalError\u001b[0m: local variable 'dataset' referenced before assignment"
     ]
    }
   ],
   "source": [
    "oods_train = OODDataset(\n",
    "    'mnist', \n",
    "    split=\"train\", \n",
    "    backend=backend, \n",
    "    load_from_tensorflow_datasets=True\n",
    ")\n",
    "oods_test = OODDataset(\n",
    "    'mnist', \n",
    "    split=\"test\", \n",
    "    backend=backend, \n",
    "    load_from_tensorflow_datasets=True\n",
    ")\n",
    "\n",
    "batch_size = 128\n",
    "inc_labels = [0, 1, 2, 3, 4]\n",
    "oods_train, _ = oods_train.assign_ood_labels_by_class(in_labels=inc_labels)\n",
    "oods_in, oods_out = oods_test.assign_ood_labels_by_class(in_labels=inc_labels)"
   ]
  },
  {
   "attachments": {},
   "cell_type": "markdown",
   "metadata": {},
   "source": [
    "Then prepare the datasets for scoring and/or training."
   ]
  },
  {
   "cell_type": "code",
   "execution_count": 9,
   "metadata": {},
   "outputs": [],
   "source": [
    "\n",
    "def preprocess_fn(*inputs):\n",
    "    x = inputs[0] / 255\n",
    "    return tuple([x] + list(inputs[1:]))\n",
    "\n",
    "ds_train = oods_train.prepare(batch_size=batch_size, preprocess_fn=preprocess_fn, shuffle=True)\n",
    "ds_in = oods_in.prepare(batch_size=batch_size, with_ood_labels=False, preprocess_fn=preprocess_fn)\n",
    "ds_out = oods_out.prepare(batch_size=batch_size, with_ood_labels=False, preprocess_fn=preprocess_fn)\n"
   ]
  },
  {
   "attachments": {},
   "cell_type": "markdown",
   "metadata": {},
   "source": [
    "Train or load the model.\n",
    "\n",
    "keras"
   ]
  },
  {
   "cell_type": "code",
   "execution_count": 11,
   "metadata": {},
   "outputs": [],
   "source": [
    "model_path_mnist_04 = os.path.join(model_path, \"mnist_model_0-4.h5\")\n",
    "\n",
    "try:\n",
    "    model = tf.keras.models.load_model(model_path_mnist_04)\n",
    "    \n",
    "except OSError:\n",
    "    train_config = {\n",
    "        \"input_shape\": (28, 28, 1),\n",
    "        \"num_classes\": 10,\n",
    "        \"is_prepared\": True,\n",
    "        \"batch_size\": 128,\n",
    "        \"epochs\": 5,\n",
    "        \"save_dir\": model_path_mnist_04,\n",
    "        \"validation_data\": ds_in #ds_in is actually the test set of MNIST\n",
    "    }\n",
    "\n",
    "    model = train_convnet_classifier_tf(ds_train, **train_config) #ds_train is actually the train set of MNIST"
   ]
  },
  {
   "attachments": {},
   "cell_type": "markdown",
   "metadata": {},
   "source": [
    "pytorch"
   ]
  },
  {
   "cell_type": "code",
   "execution_count": 10,
   "metadata": {},
   "outputs": [
    {
     "name": "stderr",
     "output_type": "stream",
     "text": [
      "Epoch 1/5 [Train]: 100%|██████████| 469/469 [00:01<00:00, 259.31it/s, Loss=0.343, Acc=0.901]\n",
      "Epoch 1/5 [Val]: 100%|██████████| 79/79 [00:00<00:00, 637.56it/s, Loss=0.100, Acc=0.969]\n",
      "Epoch 2/5 [Train]: 100%|██████████| 469/469 [00:01<00:00, 430.10it/s, Loss=0.098, Acc=0.970]\n",
      "Epoch 2/5 [Val]: 100%|██████████| 79/79 [00:00<00:00, 876.03it/s, Loss=0.064, Acc=0.980]\n",
      "Epoch 3/5 [Train]: 100%|██████████| 469/469 [00:01<00:00, 430.72it/s, Loss=0.072, Acc=0.978]\n",
      "Epoch 3/5 [Val]: 100%|██████████| 79/79 [00:00<00:00, 888.01it/s, Loss=0.057, Acc=0.982]\n",
      "Epoch 4/5 [Train]: 100%|██████████| 469/469 [00:01<00:00, 450.30it/s, Loss=0.060, Acc=0.982]\n",
      "Epoch 4/5 [Val]: 100%|██████████| 79/79 [00:00<00:00, 897.44it/s, Loss=0.052, Acc=0.982]\n",
      "Epoch 5/5 [Train]: 100%|██████████| 469/469 [00:01<00:00, 442.38it/s, Loss=0.050, Acc=0.984]\n",
      "Epoch 5/5 [Val]: 100%|██████████| 79/79 [00:00<00:00, 878.71it/s, Loss=0.048, Acc=0.984]\n"
     ]
    }
   ],
   "source": [
    "model_path_mnist = os.path.join(model_path, \"mnist_model_torch_0-4/best.pt\")\n",
    "try:\n",
    "    model = torch.load(model_path_mnist)\n",
    "    \n",
    "except OSError:\n",
    "    train_config = {\n",
    "        \"input_shape\": (1, 28, 28),\n",
    "        \"num_classes\": 10,\n",
    "        \"batch_size\": 128,\n",
    "        \"is_prepared\": True,\n",
    "        \"epochs\": 5,\n",
    "        \"save_dir\": model_path_mnist,\n",
    "        \"validation_data\": ds_in#.get_dataset() #ds_in is actually the test set of MNIST\n",
    "    }\n",
    "\n",
    "    model = train_convnet_classifier_torch(ds_train, **train_config) #ds_train is actually the train set of MNIST"
   ]
  },
  {
   "attachments": {},
   "cell_type": "markdown",
   "metadata": {},
   "source": [
    "### Maximum Logit Score (MLS)"
   ]
  },
  {
   "cell_type": "code",
   "execution_count": 11,
   "metadata": {},
   "outputs": [
    {
     "data": {
      "image/png": "[encoded data removed]",
      "text/plain": [
       "<Figure size 1300x500 with 1 Axes>"
      ]
     },
     "metadata": {},
     "output_type": "display_data"
    },
    {
     "name": "stdout",
     "output_type": "stream",
     "text": [
      "auroc             0.995296\n",
      "fpr95tpr          0.022800\n",
      "accuracy_score    0.967400\n",
      "roc_auc_score     0.995296\n",
      "dtype: float64\n"
     ]
    }
   ],
   "source": [
    "oodmodel = MLS()\n",
    "oodmodel.fit(model)\n",
    "scores_in = oodmodel.score(ds_in)\n",
    "scores_out = oodmodel.score(ds_out)\n",
    "\n",
    "\n",
    "metrics = bench_metrics(\n",
    "    (scores_in, scores_out),  \n",
    "    metrics = [\"auroc\", \"fpr95tpr\", accuracy_score, roc_auc_score], \n",
    "    threshold = -7.5 # visually chosen based on the plot\n",
    "    )\n",
    "\n",
    "plt.figure(figsize=(13, 5))\n",
    "plot_hist(scores_in, scores_out, 30)\n",
    "metrics = pd.Series(metrics)\n",
    "print(metrics)"
   ]
  },
  {
   "attachments": {},
   "cell_type": "markdown",
   "metadata": {},
   "source": [
    "### Maximum Softmax Probability (MSP)"
   ]
  },
  {
   "cell_type": "code",
   "execution_count": 12,
   "metadata": {},
   "outputs": [
    {
     "data": {
      "image/png": "[encoded data removed]",
      "text/plain": [
       "<Figure size 1300x500 with 1 Axes>"
      ]
     },
     "metadata": {},
     "output_type": "display_data"
    },
    {
     "name": "stdout",
     "output_type": "stream",
     "text": [
      "auroc             0.982762\n",
      "fpr95tpr          0.057600\n",
      "accuracy_score    0.949200\n",
      "roc_auc_score     0.982762\n",
      "dtype: float64\n"
     ]
    }
   ],
   "source": [
    "oodmodel = MLS(output_activation=\"softmax\")\n",
    "oodmodel.fit(model)\n",
    "scores_in = oodmodel.score(ds_in)\n",
    "scores_out = oodmodel.score(ds_out)\n",
    "\n",
    "\n",
    "metrics = bench_metrics(\n",
    "    (scores_in, scores_out),  \n",
    "    metrics = [\"auroc\", \"fpr95tpr\", accuracy_score, roc_auc_score], \n",
    "    threshold = -0.95 # visually chosen based on the plot\n",
    "    )\n",
    "\n",
    "plt.figure(figsize=(13, 5))\n",
    "plot_hist(scores_in, scores_out, 30, log=True)\n",
    "metrics = pd.Series(metrics)\n",
    "print(metrics)"
   ]
  }
 ],
 "metadata": {
  "kernelspec": {
   "display_name": "oodeel_dev_env",
   "language": "python",
   "name": "python3"
  },
  "language_info": {
   "codemirror_mode": {
    "name": "ipython",
    "version": 3
   },
   "file_extension": ".py",
   "mimetype": "text/x-python",
   "name": "python",
   "nbconvert_exporter": "python",
   "pygments_lexer": "ipython3",
   "version": "3.10.10"
  },
  "orig_nbformat": 4,
  "vscode": {
   "interpreter": {
    "hash": "40d80a18d61e6ad16acc6e8a5ef082fbd0a65400a097e8fba89bb5761bc6bbc9"
   }
  }
 },
 "nbformat": 4,
 "nbformat_minor": 2
}
