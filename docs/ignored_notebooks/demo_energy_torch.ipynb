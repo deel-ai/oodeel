{
    "cells": [
        {
            "attachments": {},
            "cell_type": "markdown",
            "metadata": {},
            "source": [
                "# Energy method\n",
                "\n",
                "This notebook aims at evaluating the **Energy method**.\n",
                "\n",
                "The method consists in using the energy of the input data computed using the energy\n",
                "\n",
                "$$ \n",
                "-\\log \\sum_{c=0}^C \\exp(l_c)\n",
                "$$\n",
                "\n",
                "computed using the logits $l_c$ such that $model(x)=(l_{c})_{c=1}^{C}$.\n",
                "\n",
                "This notebook quickly showcase Energy on MNIST vs Fashion MNIST.\n",
                "\n",
                "**Reference**\n",
                "[Energy-based Out-of-distribution Detection](http://arxiv.org/abs/2010.03759), Neurips 2020. "
            ]
        },
        {
            "cell_type": "code",
            "execution_count": 1,
            "metadata": {},
            "outputs": [],
            "source": [
                "%load_ext autoreload\n",
                "%autoreload 2\n",
                "\n",
                "import os\n",
                "os.environ[\"TF_CPP_MIN_LOG_LEVEL\"] = \"2\" \n",
                "\n",
                "import torch\n",
                "import numpy as np\n",
                "import pandas as pd\n",
                "import matplotlib.pyplot as plt\n",
                "\n",
                "from oodeel.methods import Energy\n",
                "from oodeel.eval.metrics import bench_metrics\n",
                "from oodeel.datasets import OODDataset\n",
                "from oodeel.models.training_tools import train_torch_model\n",
                "\n",
                "from sklearn.metrics import *\n",
                "\n",
                "import warnings\n",
                "warnings.filterwarnings(\"ignore\")\n"
            ]
        },
        {
            "attachments": {},
            "cell_type": "markdown",
            "metadata": {},
            "source": [
                "Note that models are saved at *~/.oodeel/saved_models* by default. Change the following cell for a custom path."
            ]
        },
        {
            "cell_type": "code",
            "execution_count": 2,
            "metadata": {},
            "outputs": [],
            "source": [
                "device = torch.device(\"cuda\" if torch.cuda.is_available() else \"cpu\")\n",
                "\n",
                "model_path = os.path.expanduser(\"~/\") + \".oodeel/saved_models\"\n",
                "data_path = os.path.expanduser(\"~/\") + \".oodeel/datasets\"\n",
                "os.makedirs(model_path, exist_ok=True)\n",
                "os.makedirs(data_path, exist_ok=True)"
            ]
        },
        {
            "attachments": {},
            "cell_type": "markdown",
            "metadata": {},
            "source": [
                "/!\\ We denote In-Distribution (ID) data with `_in` and Out-Of-Distribution (OOD) data with `_out` to avoid confusion with OOD detection which is the name of the task, and is therefore used to denote core classes such as `OODDataset` and `OODModel`."
            ]
        },
        {
            "cell_type": "code",
            "execution_count": 3,
            "metadata": {},
            "outputs": [],
            "source": [
                "oods_in = OODDataset('MNIST', backend=\"torch\", load_kwargs={\"root\": data_path, \"train\": False, \"download\": True})\n",
                "oods_out = OODDataset('FashionMNIST', backend=\"torch\", load_kwargs={\"root\": data_path, \"train\": False, \"download\": True})\n",
                "oods_train = OODDataset('MNIST', backend=\"torch\", load_kwargs={\"root\": data_path, \"train\": True, \"download\": True})\n",
                "\n",
                "def preprocess_fn(inputs):\n",
                "    x = inputs[0] / 255.0\n",
                "    return tuple([x] + list(inputs[1:]))\n",
                "\n",
                "batch_size = 128\n",
                "ds_in = oods_in.prepare(batch_size=batch_size, preprocess_fn=preprocess_fn)\n",
                "ds_out = oods_out.prepare(batch_size=batch_size, preprocess_fn=preprocess_fn)\n",
                "ds_train = oods_train.prepare(batch_size=batch_size, preprocess_fn=preprocess_fn, shuffle=True)"
            ]
        },
        {
            "attachments": {},
            "cell_type": "markdown",
            "metadata": {},
            "source": [
                "Train or load a model on in-distribution data (MNIST)."
            ]
        },
        {
            "cell_type": "code",
            "execution_count": 4,
            "metadata": {},
            "outputs": [],
            "source": [
                "model_path_mnist = os.path.join(model_path, \"mnist_model\")\n",
                "\n",
                "try:\n",
                "    model = torch.load(os.path.join(model_path_mnist, \"best.pt\"))\n",
                "    \n",
                "except OSError:\n",
                "    train_config = {\n",
                "        \"model_name\": \"toy_convnet\",\n",
                "        \"num_classes\": 10,\n",
                "        \"epochs\": 5,\n",
                "        \"lr_scheduler\": \"steps\",\n",
                "        \"save_dir\": model_path_mnist,\n",
                "        \"validation_data\": ds_in  # ds_in is actually the test set of MNIST\n",
                "    }\n",
                "\n",
                "    model = train_torch_model(ds_train, **train_config) #ds_train is actually the train set of MNIST\n",
                "\n",
                "model.eval()\n",
                "model = model.to(device)"
            ]
        },
        {
            "attachments": {},
            "cell_type": "markdown",
            "metadata": {},
            "source": [
                "Fit `OODModel` to the model at hand"
            ]
        },
        {
            "cell_type": "code",
            "execution_count": 5,
            "metadata": {},
            "outputs": [],
            "source": [
                "oodmodel = Energy()\n",
                "oodmodel.fit(model)"
            ]
        },
        {
            "attachments": {},
            "cell_type": "markdown",
            "metadata": {},
            "source": [
                "Then compute the scores for in-distribution and out-of-distribution data. Also display some visualizations."
            ]
        },
        {
            "cell_type": "code",
            "execution_count": 6,
            "metadata": {},
            "outputs": [
                {
                    "data": {
                        "image/png": "[encoded data removed]",
                        "text/plain": [
                            "<Figure size 1300x500 with 1 Axes>"
                        ]
                    },
                    "metadata": {},
                    "output_type": "display_data"
                },
                {
                    "name": "stdout",
                    "output_type": "stream",
                    "text": [
                        "auroc       0.990392\n",
                        "fpr95tpr    0.034200\n",
                        "Name: mnist-10-vs-fashion, dtype: float64\n"
                    ]
                }
            ],
            "source": [
                "scores_in = oodmodel.score(ds_in)\n",
                "scores_out = oodmodel.score(ds_out)\n",
                "\n",
                "\n",
                "metrics = bench_metrics(\n",
                "    (scores_in, scores_out),  \n",
                "    metrics = [\"auroc\", \"fpr95tpr\"], \n",
                "    )\n",
                "\n",
                "\n",
                "# plot hists / roc\n",
                "def plot_hist(scores_in, scores_out, bins, log=False):\n",
                "    if log:\n",
                "        minim = np.min([np.min(scores_in), np.min(scores_out)])\n",
                "        scores_in_ = scores_in - 2 * minim + np.min(scores_in[np.where(scores_in != minim)])\n",
                "        scores_out_ = scores_out - 2 * minim + np.min(scores_in[np.where(scores_in != minim)])\n",
                "        _, bins = np.histogram(np.concatenate([scores_in_, scores_out_]), bins=30)\n",
                "        logbins = np.logspace(np.log10(bins[0]),np.log10(bins[-1]),len(bins))\n",
                "        plt.xscale('log')\n",
                "        plt.xlabel(\"score (normalized log axis)\")\n",
                "    else:\n",
                "        logbins=bins\n",
                "        scores_in_ = scores_in \n",
                "        scores_out_ = scores_out\n",
                "        plt.xlabel(\"score\")\n",
                "    plt.hist((scores_out_, scores_in_), bins=logbins, color=(\"blue\", \"orange\"), label=(\"ood\", \"id\"))\n",
                "    plt.legend()\n",
                "    plt.show()\n",
                "\n",
                "plt.figure(figsize=(13, 5))\n",
                "plot_hist(scores_in, scores_out, 30)\n",
                "metrics_fashion = pd.Series(metrics, name='mnist-10-vs-fashion')\n",
                "print(metrics_fashion)"
            ]
        }
    ],
    "metadata": {
        "kernelspec": {
            "display_name": "oodeel_dev_env",
            "language": "python",
            "name": "python3"
        },
        "language_info": {
            "codemirror_mode": {
                "name": "ipython",
                "version": 3
            },
            "file_extension": ".py",
            "mimetype": "text/x-python",
            "name": "python",
            "nbconvert_exporter": "python",
            "pygments_lexer": "ipython3",
            "version": "3.8.16"
        },
        "orig_nbformat": 4
    },
    "nbformat": 4,
    "nbformat_minor": 2
}
