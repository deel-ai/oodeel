{
    "cells": [
        {
            "attachments": {},
            "cell_type": "markdown",
            "metadata": {},
            "source": [
                "# Deep KNN method\n",
                "\n",
                "This notebook aims at evaluating the **DKNN method**.\n",
                "\n",
                "The method consists in performing K-Nearest-Neighbors in the feature space of a neural network trained on the in-distribution dataset.\n",
                "\n",
                "Here, we focus on a ResNet18 network trained on MNIST, MNIST(0-4) and CIFAR-10. This model is challenged on\n",
                "Fashion MNIST, MNIST (5-9), SVHN, LSUN, iSUN, and Texture OOD dataset.\n",
                "\n",
                "**Reference**\n",
                "[Out-of-Distribution Detection with Deep Nearest Neighbors](http://arxiv.org/abs/2204.06507), ICML 2022."
            ]
        },
        {
            "attachments": {},
            "cell_type": "markdown",
            "metadata": {},
            "source": [
                "Some imports"
            ]
        },
        {
            "cell_type": "code",
            "execution_count": 1,
            "metadata": {},
            "outputs": [],
            "source": [
                "%load_ext autoreload\n",
                "\n",
                "import warnings\n",
                "warnings.filterwarnings(\"ignore\")\n",
                "\n",
                "import os\n",
                "os.environ[\"TF_CPP_MIN_LOG_LEVEL\"] = \"2\" \n",
                "os.environ[\"CUDA_VISIBLE_DEVICES\"] = \"1\" \n",
                "import tensorflow as tf\n",
                "tf.compat.v1.logging.set_verbosity(tf.compat.v1.logging.ERROR)\n",
                "import matplotlib.pyplot as plt\n",
                "import pandas as pd\n",
                "\n",
                "from oodeel.methods import DKNN\n",
                "from oodeel.eval.metrics import bench_metrics\n",
                "from oodeel.datasets import OODDataset\n",
                "from oodeel.models.training_funs import train_convnet_classifier_tf"
            ]
        },
        {
            "attachments": {},
            "cell_type": "markdown",
            "metadata": {},
            "source": [
                "Note that models are saved at *~/.oodeel/saved_models* and data is supposed to be found at *~/.oodeel/datasets* by default. Change the following cell for a custom path."
            ]
        },
        {
            "cell_type": "code",
            "execution_count": 2,
            "metadata": {},
            "outputs": [],
            "source": [
                "\n",
                "model_path = os.path.expanduser(\"~/\") + \".oodeel/saved_models\"\n",
                "data_path = os.path.expanduser(\"~/\") + \".oodeel/datasets\"\n",
                "os.makedirs(model_path, exist_ok=True)\n",
                "os.makedirs(data_path, exist_ok=True)"
            ]
        },
        {
            "attachments": {},
            "cell_type": "markdown",
            "metadata": {},
            "source": [
                "## MNIST (0-4) vs MNIST (5-9)"
            ]
        },
        {
            "attachments": {},
            "cell_type": "markdown",
            "metadata": {},
            "source": [
                "### Data and model loading\n",
                "\n",
                "* in-distribution data: MNIST (0-4), \n",
                "* out-of-distribution data: MNIST (5-9)\n",
                "\n",
                "/!\\ We denote In-Distribution (ID) data with `_in` and Out-Of-Distribution (OOD) data with `_out` to avoid confusion with OOD detection which is the name of the task, and is therefore used to denote core classes such as `OODDataset` and `OODModel`."
            ]
        },
        {
            "cell_type": "code",
            "execution_count": 3,
            "metadata": {},
            "outputs": [
                {
                    "name": "stdout",
                    "output_type": "stream",
                    "text": [
                        "Metal device set to: AMD Radeon Pro 5500M\n",
                        "\n",
                        "systemMemory: 64.00 GB\n",
                        "maxCacheSize: 3.99 GB\n",
                        "\n"
                    ]
                }
            ],
            "source": [
                "oods_train = OODDataset('mnist', split=\"train\")\n",
                "oods_test = OODDataset('mnist', split=\"test\")\n",
                "\n",
                "batch_size = 128\n",
                "inc_labels = [0, 1, 2, 3, 4]\n",
                "oods_train, _ = oods_train.assign_ood_labels_by_class(in_labels=inc_labels)\n",
                "oods_in, oods_out = oods_test.assign_ood_labels_by_class(in_labels=inc_labels)\n",
                "\n",
                "\n",
                "def preprocess_fn(*inputs):\n",
                "    x = inputs[0] / 255\n",
                "    return tuple([x] + list(inputs[1:]))\n",
                "\n",
                "ds_train = oods_train.prepare(batch_size=batch_size, preprocess_fn=preprocess_fn, shuffle=True)\n",
                "ds_in = oods_in.prepare(batch_size=batch_size, with_ood_labels=False, preprocess_fn=preprocess_fn)\n",
                "ds_out = oods_out.prepare(batch_size=batch_size, with_ood_labels=False, preprocess_fn=preprocess_fn)"
            ]
        },
        {
            "cell_type": "code",
            "execution_count": 4,
            "metadata": {},
            "outputs": [],
            "source": [
                "\n",
                "model_path_mnist_04 = os.path.join(model_path, \"mnist_model_0-4.h5\")\n",
                "\n",
                "try:\n",
                "    model = tf.keras.models.load_model(model_path_mnist_04)\n",
                "    \n",
                "except OSError:\n",
                "    train_config = {\n",
                "        \"input_shape\": (28, 28, 1),\n",
                "        \"num_classes\": 10,\n",
                "        \"batch_size\": 128,\n",
                "        \"is_prepared\": True,\n",
                "        \"epochs\": 5,\n",
                "        \"save_dir\": model_path_mnist_04,\n",
                "        \"validation_data\": ds_in #ds_in is actually the test set of MNIST\n",
                "    }\n",
                "\n",
                "    model = train_convnet_classifier_tf(ds_train, **train_config) #ds_train is actually the train set of MNIST"
            ]
        },
        {
            "attachments": {},
            "cell_type": "markdown",
            "metadata": {},
            "source": [
                "### DKNN score"
            ]
        },
        {
            "cell_type": "code",
            "execution_count": 5,
            "metadata": {},
            "outputs": [
                {
                    "name": "stdout",
                    "output_type": "stream",
                    "text": [
                        "auroc       0.969201\n",
                        "fpr95tpr    0.134462\n",
                        "Name: mnist-0-4-vs-5-10, dtype: float64\n"
                    ]
                },
                {
                    "data": {
                        "image/png": "[encoded data removed]",
                        "text/plain": [
                            "<Figure size 1300x500 with 1 Axes>"
                        ]
                    },
                    "metadata": {},
                    "output_type": "display_data"
                }
            ],
            "source": [
                "batch_size = 128\n",
                "\n",
                "oodmodel = DKNN(nearest=50)\n",
                "oodmodel.fit(model, ds_train)\n",
                "scores_in = oodmodel.score(ds_in)\n",
                "scores_out = oodmodel.score(ds_out)\n",
                "\n",
                "# auroc / fpr95\n",
                "metrics = bench_metrics(\n",
                "    (scores_in, scores_out),  \n",
                "    metrics = [\"auroc\", \"fpr95tpr\"], \n",
                "    )\n",
                "\n",
                "metrics_first_vs_last = pd.Series(metrics, name='mnist-0-4-vs-5-10')\n",
                "print(metrics_first_vs_last)\n",
                "\n",
                "# plot hists / roc\n",
                "plt.figure(figsize=(13, 5))\n",
                "plt.hist((scores_out, scores_in), bins=30, color=(\"blue\", \"orange\"), label=(\"OOD\", \"ID\"), density=True)\n",
                "plt.xlabel(\"score\")\n",
                "plt.legend()\n",
                "plt.show()"
            ]
        },
        {
            "attachments": {},
            "cell_type": "markdown",
            "metadata": {},
            "source": [
                "## MNIST vs Fashion MNIST"
            ]
        },
        {
            "attachments": {},
            "cell_type": "markdown",
            "metadata": {},
            "source": [
                "\n",
                "### Data and model loading\n",
                "ID data: MNIST, OOD data: Fashion MNIST"
            ]
        },
        {
            "cell_type": "code",
            "execution_count": 6,
            "metadata": {},
            "outputs": [],
            "source": [
                "oods_in = OODDataset('mnist', split=\"test\")\n",
                "oods_out = OODDataset('fashion_mnist', split=\"test\")\n",
                "oods_train = OODDataset('mnist', split=\"train\")\n",
                "\n",
                "def preprocess_fn(*inputs):\n",
                "    x = inputs[0] / 255\n",
                "    return tuple([x] + list(inputs[1:]))\n",
                "\n",
                "\n",
                "batch_size = 128\n",
                "ds_in = oods_in.prepare(batch_size=batch_size, preprocess_fn=preprocess_fn)\n",
                "ds_out = oods_out.prepare(batch_size=batch_size, preprocess_fn=preprocess_fn)\n",
                "ds_train = oods_train.prepare(batch_size=batch_size, preprocess_fn=preprocess_fn, shuffle=True)"
            ]
        },
        {
            "cell_type": "code",
            "execution_count": 7,
            "metadata": {},
            "outputs": [],
            "source": [
                "model_path_mnist = os.path.join(model_path, \"mnist_model.h5\")\n",
                "\n",
                "try:\n",
                "    model = tf.keras.models.load_model(model_path_mnist)\n",
                "    \n",
                "except OSError:\n",
                "    train_config = {\n",
                "        \"input_shape\": (28, 28, 1),\n",
                "        \"num_classes\": 10,\n",
                "        \"batch_size\": 128,\n",
                "        \"optimizer\": \"adam\",\n",
                "        \"epochs\": 5,\n",
                "        \"save_dir\": model_path_mnist,\n",
                "        \"validation_data\": oods_in.get_dataset() #ds_in is actually the test set of MNIST\n",
                "    }\n",
                "\n",
                "    model = train_convnet_classifier_tf(oods_train.get_dataset(), **train_config) #"
            ]
        },
        {
            "attachments": {},
            "cell_type": "markdown",
            "metadata": {},
            "source": [
                "### DKNN score"
            ]
        },
        {
            "cell_type": "code",
            "execution_count": 8,
            "metadata": {},
            "outputs": [
                {
                    "name": "stdout",
                    "output_type": "stream",
                    "text": [
                        "auroc       0.998838\n",
                        "fpr95tpr    0.004000\n",
                        "Name: mnist-10-vs-fashion, dtype: float64\n"
                    ]
                },
                {
                    "data": {
                        "image/png": "[encoded data removed]",
                        "text/plain": [
                            "<Figure size 1300x500 with 1 Axes>"
                        ]
                    },
                    "metadata": {},
                    "output_type": "display_data"
                }
            ],
            "source": [
                "oodmodel = DKNN(nearest=50)\n",
                "oodmodel.fit(model, ds_train)\n",
                "scores_in = oodmodel.score(ds_in)\n",
                "scores_out = oodmodel.score(ds_out)\n",
                "\n",
                "\n",
                "metrics = bench_metrics(\n",
                "    (scores_in, scores_out),  \n",
                "    metrics = [\"auroc\", \"fpr95tpr\",], \n",
                "    )\n",
                "metrics_fashion = pd.Series(metrics, name='mnist-10-vs-fashion')\n",
                "print(metrics_fashion)\n",
                "\n",
                "# plot hists / roc\n",
                "plt.figure(figsize=(13, 5))\n",
                "plt.hist((scores_out, scores_in), bins=30, color=(\"blue\", \"orange\"), label=(\"ood\", \"id\"), density=True)\n",
                "plt.xlabel(\"score\")\n",
                "plt.legend()\n",
                "plt.show()"
            ]
        },
        {
            "attachments": {},
            "cell_type": "markdown",
            "metadata": {},
            "source": [
                "## CIFAR-10 vs [SVHN, LSUN, iSUN, Texture]"
            ]
        },
        {
            "attachments": {},
            "cell_type": "markdown",
            "metadata": {},
            "source": [
                "### ID Data and model loading"
            ]
        },
        {
            "cell_type": "code",
            "execution_count": 3,
            "metadata": {},
            "outputs": [],
            "source": [
                "oods_in = OODDataset('cifar10', split=\"test\", input_key=\"image\", backend=\"torch\", load_from_tensorflow_datasets=True)\n",
                "oods_train = OODDataset('cifar10', split=\"train\", input_key=\"image\", backend=\"torch\", load_from_tensorflow_datasets=True)\n",
                "\n",
                "def preprocess_fn(*inputs):\n",
                "    x = inputs[0] / 255\n",
                "    return tuple([x] + list(inputs[1:]))\n",
                "\n",
                "batch_size = 128\n",
                "ds_in = oods_in.prepare(batch_size=batch_size, preprocess_fn=preprocess_fn)\n",
                "ds_train = oods_train.prepare(batch_size=batch_size, preprocess_fn=preprocess_fn, shuffle=True)\n"
            ]
        },
        {
            "cell_type": "code",
            "execution_count": 10,
            "metadata": {},
            "outputs": [],
            "source": [
                "from oodeel.models.training_funs import train_keras_app\n",
                "\n",
                "model_path_cifar = os.path.join(model_path, \"cifar10.h5\")\n",
                "try:\n",
                "    model = tf.keras.models.load_model(model_path_cifar)\n",
                "    \n",
                "except OSError:\n",
                "    train_config = {\n",
                "        \"input_shape\": (32, 32, 3),\n",
                "        \"num_classes\": 10,\n",
                "        \"batch_size\": 128,\n",
                "        \"epochs\": 200,\n",
                "        \"save_dir\": model_path_cifar,\n",
                "        \"validation_data\": oods_in.get_dataset() #ds_in is actually the test set of MNIST\n",
                "    }\n",
                "\n",
                "    model = train_keras_app(oods_train.get_dataset(), \"resnet18\", **train_config) "
            ]
        },
        {
            "cell_type": "code",
            "execution_count": 4,
            "metadata": {},
            "outputs": [],
            "source": [
                "model_path_cifar = os.path.join(model_path, \"cifar_torch.pt\")\n",
                "import torch\n",
                "model = torch.load(model_path_cifar) \n",
                "\n"
            ]
        },
        {
            "cell_type": "code",
            "execution_count": 5,
            "metadata": {},
            "outputs": [],
            "source": [
                "# ood dataset\n",
                "oodmodel = DKNN(nearest=50, output_layers_id=['layer4'])\n",
                "oodmodel.fit(model, ds_train)\n",
                "scores_in = oodmodel.score(ds_in.take(100))\n"
            ]
        },
        {
            "attachments": {},
            "cell_type": "markdown",
            "metadata": {},
            "source": [
                "### OOD data: SVHN\n",
                "ID data: CIFAR-10, OOD data: SVHN"
            ]
        },
        {
            "cell_type": "code",
            "execution_count": 6,
            "metadata": {},
            "outputs": [
                {
                    "name": "stdout",
                    "output_type": "stream",
                    "text": [
                        "auroc       0.99411\n",
                        "fpr95tpr    0.03050\n",
                        "Name: cifar-vs-svhn, dtype: float64\n"
                    ]
                },
                {
                    "data": {
                        "image/png": "[encoded data removed]",
                        "text/plain": [
                            "<Figure size 1300x500 with 1 Axes>"
                        ]
                    },
                    "metadata": {},
                    "output_type": "display_data"
                }
            ],
            "source": [
                "\n",
                "oods_out = OODDataset('svhn_cropped', split=\"test\", input_key=\"image\", backend=\"torch\", load_from_tensorflow_datasets=True)\n",
                "ds_out = oods_out.prepare(batch_size=batch_size, preprocess_fn=preprocess_fn)\n",
                "\n",
                "scores_out = oodmodel.score(ds_out.take(100))\n",
                "\n",
                "# auroc / fpr95\n",
                "metrics = bench_metrics(\n",
                "    (scores_in, scores_out),\n",
                "    metrics=[\"auroc\", \"fpr95tpr\"]\n",
                ")\n",
                "metrics_cifar_svhn = pd.Series(metrics, name='cifar-vs-svhn')\n",
                "print(metrics_cifar_svhn)\n",
                "\n",
                "# plot hists / roc\n",
                "plt.figure(figsize=(13, 5))\n",
                "plt.hist((scores_out, scores_in), bins=30, color=(\"blue\", \"orange\"), label=(\"ood\", \"id\"), density=True)\n",
                "plt.xlabel(\"score\")\n",
                "plt.legend()\n",
                "plt.show()"
            ]
        },
        {
            "attachments": {},
            "cell_type": "markdown",
            "metadata": {},
            "source": [
                "### OOD data: LSUN\n",
                "ID data: CIFAR-10, OOD data: LSUN"
            ]
        },
        {
            "cell_type": "code",
            "execution_count": 13,
            "metadata": {},
            "outputs": [
                {
                    "ename": "Error",
                    "evalue": "/home/paul.novello/.oodeel/datasets/LSUN_tvs/test_lmdb: No such file or directory",
                    "output_type": "error",
                    "traceback": [
                        "\u001b[0;31m---------------------------------------------------------------------------\u001b[0m",
                        "\u001b[0;31mError\u001b[0m                                     Traceback (most recent call last)",
                        "Cell \u001b[0;32mIn[13], line 16\u001b[0m\n\u001b[1;32m     14\u001b[0m load_kwargs \u001b[39m=\u001b[39m {\u001b[39m\"\u001b[39m\u001b[39mroot\u001b[39m\u001b[39m\"\u001b[39m: os\u001b[39m.\u001b[39mpath\u001b[39m.\u001b[39mjoin(data_path, \u001b[39m\"\u001b[39m\u001b[39mLSUN_tvs\u001b[39m\u001b[39m\"\u001b[39m)}\n\u001b[1;32m     15\u001b[0m \u001b[39m# ood dataset\u001b[39;00m\n\u001b[0;32m---> 16\u001b[0m ds_out \u001b[39m=\u001b[39m OODDataset(\u001b[39m\"\u001b[39;49m\u001b[39mLSUN\u001b[39;49m\u001b[39m\"\u001b[39;49m, split\u001b[39m=\u001b[39;49m\u001b[39m\"\u001b[39;49m\u001b[39mtest\u001b[39;49m\u001b[39m\"\u001b[39;49m, backend\u001b[39m=\u001b[39;49m\u001b[39m\"\u001b[39;49m\u001b[39mtorch\u001b[39;49m\u001b[39m\"\u001b[39;49m, load_kwargs\u001b[39m=\u001b[39;49mload_kwargs)\u001b[39m.\u001b[39mprepare(batch_size\u001b[39m=\u001b[39mbatch_size, preprocess_fn\u001b[39m=\u001b[39mpreprocess_fn)\n\u001b[1;32m     17\u001b[0m scores_out \u001b[39m=\u001b[39m oodmodel\u001b[39m.\u001b[39mscore(ds_out\u001b[39m.\u001b[39mtake(\u001b[39m100\u001b[39m))\n\u001b[1;32m     19\u001b[0m \u001b[39m# auroc / fpr95\u001b[39;00m\n",
                        "File \u001b[0;32m~/workspace/oodeel/oodeel/datasets/ooddataset.py:108\u001b[0m, in \u001b[0;36mOODDataset.__init__\u001b[0;34m(self, dataset_id, backend, split, keys, load_kwargs, load_from_tensorflow_datasets, input_key)\u001b[0m\n\u001b[1;32m    105\u001b[0m     \u001b[39mself\u001b[39m\u001b[39m.\u001b[39mchannel_order \u001b[39m=\u001b[39m \u001b[39m\"\u001b[39m\u001b[39mchannels_last\u001b[39m\u001b[39m\"\u001b[39m\n\u001b[1;32m    107\u001b[0m \u001b[39m# Load the dataset depending on the type of dataset_id\u001b[39;00m\n\u001b[0;32m--> 108\u001b[0m \u001b[39mself\u001b[39m\u001b[39m.\u001b[39mdata \u001b[39m=\u001b[39m \u001b[39mself\u001b[39;49m\u001b[39m.\u001b[39;49m_data_handler\u001b[39m.\u001b[39;49mload_dataset(dataset_id, keys, load_kwargs)\n\u001b[1;32m    110\u001b[0m \u001b[39m# Get the length of the elements/items in the dataset\u001b[39;00m\n\u001b[1;32m    111\u001b[0m \u001b[39mself\u001b[39m\u001b[39m.\u001b[39mlen_item \u001b[39m=\u001b[39m \u001b[39mself\u001b[39m\u001b[39m.\u001b[39m_data_handler\u001b[39m.\u001b[39mget_item_length(\u001b[39mself\u001b[39m\u001b[39m.\u001b[39mdata)\n",
                        "File \u001b[0;32m~/workspace/oodeel/oodeel/datasets/torch_data_handler.py:260\u001b[0m, in \u001b[0;36mTorchDataHandler.load_dataset\u001b[0;34m(cls, dataset_id, keys, load_kwargs)\u001b[0m\n\u001b[1;32m    258\u001b[0m \u001b[39mif\u001b[39;00m \u001b[39misinstance\u001b[39m(dataset_id, \u001b[39mstr\u001b[39m):\n\u001b[1;32m    259\u001b[0m     \u001b[39massert\u001b[39;00m \u001b[39m\"\u001b[39m\u001b[39mroot\u001b[39m\u001b[39m\"\u001b[39m \u001b[39min\u001b[39;00m load_kwargs\u001b[39m.\u001b[39mkeys()\n\u001b[0;32m--> 260\u001b[0m     dataset \u001b[39m=\u001b[39m \u001b[39mcls\u001b[39;49m\u001b[39m.\u001b[39;49mload_from_torchvision(dataset_id, \u001b[39m*\u001b[39;49m\u001b[39m*\u001b[39;49mload_kwargs)\n\u001b[1;32m    261\u001b[0m \u001b[39melif\u001b[39;00m \u001b[39misinstance\u001b[39m(dataset_id, get_args(DatasetType)):\n\u001b[1;32m    262\u001b[0m     dataset \u001b[39m=\u001b[39m \u001b[39mcls\u001b[39m\u001b[39m.\u001b[39mload_custom_dataset(dataset_id, keys)\n",
                        "File \u001b[0;32m~/workspace/oodeel/oodeel/datasets/torch_data_handler.py:386\u001b[0m, in \u001b[0;36mTorchDataHandler.load_from_torchvision\u001b[0;34m(cls, dataset_id, root, transform, target_transform, download, **load_kwargs)\u001b[0m\n\u001b[1;32m    365\u001b[0m \u001b[39m\u001b[39m\u001b[39m\"\"\"Load a Dataset from the torchvision datasets catalog\u001b[39;00m\n\u001b[1;32m    366\u001b[0m \n\u001b[1;32m    367\u001b[0m \u001b[39mArgs:\u001b[39;00m\n\u001b[0;32m   (...)\u001b[0m\n\u001b[1;32m    381\u001b[0m \u001b[39m    DictDataset\u001b[39;00m\n\u001b[1;32m    382\u001b[0m \u001b[39m\"\"\"\u001b[39;00m\n\u001b[1;32m    383\u001b[0m \u001b[39massert\u001b[39;00m (\n\u001b[1;32m    384\u001b[0m     dataset_id \u001b[39min\u001b[39;00m torchvision\u001b[39m.\u001b[39mdatasets\u001b[39m.\u001b[39m__all__\n\u001b[1;32m    385\u001b[0m ), \u001b[39m\"\u001b[39m\u001b[39mDataset not available on torchvision datasets catalog\u001b[39m\u001b[39m\"\u001b[39m\n\u001b[0;32m--> 386\u001b[0m dataset \u001b[39m=\u001b[39m \u001b[39mgetattr\u001b[39;49m(torchvision\u001b[39m.\u001b[39;49mdatasets, dataset_id)(\n\u001b[1;32m    387\u001b[0m     root\u001b[39m=\u001b[39;49mroot,\n\u001b[1;32m    388\u001b[0m     transform\u001b[39m=\u001b[39;49mtransform,\n\u001b[1;32m    389\u001b[0m     target_transform\u001b[39m=\u001b[39;49mtarget_transform,\n\u001b[1;32m    390\u001b[0m     \u001b[39m*\u001b[39;49m\u001b[39m*\u001b[39;49mload_kwargs,\n\u001b[1;32m    391\u001b[0m )\n\u001b[1;32m    392\u001b[0m \u001b[39mreturn\u001b[39;00m \u001b[39mcls\u001b[39m\u001b[39m.\u001b[39mload_custom_dataset(dataset)\n",
                        "File \u001b[0;32m~/workspace/oodeel/oodeel_dev_env/lib/python3.9/site-packages/torchvision/datasets/lsun.py:85\u001b[0m, in \u001b[0;36mLSUN.__init__\u001b[0;34m(self, root, classes, transform, target_transform)\u001b[0m\n\u001b[1;32m     83\u001b[0m \u001b[39mself\u001b[39m\u001b[39m.\u001b[39mdbs \u001b[39m=\u001b[39m []\n\u001b[1;32m     84\u001b[0m \u001b[39mfor\u001b[39;00m c \u001b[39min\u001b[39;00m \u001b[39mself\u001b[39m\u001b[39m.\u001b[39mclasses:\n\u001b[0;32m---> 85\u001b[0m     \u001b[39mself\u001b[39m\u001b[39m.\u001b[39mdbs\u001b[39m.\u001b[39mappend(LSUNClass(root\u001b[39m=\u001b[39;49mos\u001b[39m.\u001b[39;49mpath\u001b[39m.\u001b[39;49mjoin(root, \u001b[39mf\u001b[39;49m\u001b[39m\"\u001b[39;49m\u001b[39m{\u001b[39;49;00mc\u001b[39m}\u001b[39;49;00m\u001b[39m_lmdb\u001b[39;49m\u001b[39m\"\u001b[39;49m), transform\u001b[39m=\u001b[39;49mtransform))\n\u001b[1;32m     87\u001b[0m \u001b[39mself\u001b[39m\u001b[39m.\u001b[39mindices \u001b[39m=\u001b[39m []\n\u001b[1;32m     88\u001b[0m count \u001b[39m=\u001b[39m \u001b[39m0\u001b[39m\n",
                        "File \u001b[0;32m~/workspace/oodeel/oodeel_dev_env/lib/python3.9/site-packages/torchvision/datasets/lsun.py:22\u001b[0m, in \u001b[0;36mLSUNClass.__init__\u001b[0;34m(self, root, transform, target_transform)\u001b[0m\n\u001b[1;32m     18\u001b[0m \u001b[39mimport\u001b[39;00m \u001b[39mlmdb\u001b[39;00m\n\u001b[1;32m     20\u001b[0m \u001b[39msuper\u001b[39m()\u001b[39m.\u001b[39m\u001b[39m__init__\u001b[39m(root, transform\u001b[39m=\u001b[39mtransform, target_transform\u001b[39m=\u001b[39mtarget_transform)\n\u001b[0;32m---> 22\u001b[0m \u001b[39mself\u001b[39m\u001b[39m.\u001b[39menv \u001b[39m=\u001b[39m lmdb\u001b[39m.\u001b[39;49mopen(root, max_readers\u001b[39m=\u001b[39;49m\u001b[39m1\u001b[39;49m, readonly\u001b[39m=\u001b[39;49m\u001b[39mTrue\u001b[39;49;00m, lock\u001b[39m=\u001b[39;49m\u001b[39mFalse\u001b[39;49;00m, readahead\u001b[39m=\u001b[39;49m\u001b[39mFalse\u001b[39;49;00m, meminit\u001b[39m=\u001b[39;49m\u001b[39mFalse\u001b[39;49;00m)\n\u001b[1;32m     23\u001b[0m \u001b[39mwith\u001b[39;00m \u001b[39mself\u001b[39m\u001b[39m.\u001b[39menv\u001b[39m.\u001b[39mbegin(write\u001b[39m=\u001b[39m\u001b[39mFalse\u001b[39;00m) \u001b[39mas\u001b[39;00m txn:\n\u001b[1;32m     24\u001b[0m     \u001b[39mself\u001b[39m\u001b[39m.\u001b[39mlength \u001b[39m=\u001b[39m txn\u001b[39m.\u001b[39mstat()[\u001b[39m\"\u001b[39m\u001b[39mentries\u001b[39m\u001b[39m\"\u001b[39m]\n",
                        "\u001b[0;31mError\u001b[0m: /home/paul.novello/.oodeel/datasets/LSUN_tvs/test_lmdb: No such file or directory"
                    ]
                }
            ],
            "source": [
                "\n",
                "%autoreload 2\n",
                "\n",
                "import tensorflow as tf\n",
                "import os\n",
                "\"\"\"\n",
                "LSUN_root = os.path.join(data_path, \"LSUN\")\n",
                "lsun_ds = tf.keras.utils.image_dataset_from_directory(\n",
                "    LSUN_root,\n",
                "    image_size=(32, 32),\n",
                "    shuffle=False,\n",
                "    batch_size=None\n",
                ")\n",
                "\"\"\"\n",
                "load_kwargs = {\"root\": os.path.join(data_path, \"LSUN_tvs\")}\n",
                "# ood dataset\n",
                "ds_out = OODDataset(\"LSUN\", split=\"test\", backend=\"torch\", load_kwargs=load_kwargs).prepare(batch_size=batch_size, preprocess_fn=preprocess_fn)\n",
                "scores_out = oodmodel.score(ds_out.take(100))\n",
                "\n",
                "# auroc / fpr95\n",
                "metrics = bench_metrics(\n",
                "    (scores_in, scores_out),\n",
                "    metrics=[\"auroc\", \"fpr95tpr\"]\n",
                ")\n",
                "metrics_cifar_lsun = pd.Series(metrics, name='cifar-vs-lsun')\n",
                "print(metrics_cifar_lsun)\n",
                "\n",
                "# plot hists / roc\n",
                "plt.figure(figsize=(13, 5))\n",
                "plt.hist((scores_out, scores_in), bins=30, color=(\"blue\", \"orange\"), label=(\"ood\", \"id\"), density=True)\n",
                "plt.xlabel(\"score\")\n",
                "plt.legend()\n",
                "plt.show()"
            ]
        },
        {
            "attachments": {},
            "cell_type": "markdown",
            "metadata": {},
            "source": [
                "### OOD data: iSUN\n",
                "ID data: CIFAR-10, OOD data: iSUN"
            ]
        },
        {
            "cell_type": "code",
            "execution_count": 8,
            "metadata": {},
            "outputs": [
                {
                    "name": "stdout",
                    "output_type": "stream",
                    "text": [
                        "Found 8925 files belonging to 1 classes.\n",
                        "Feature name not found, assigning 'input_i' key to the i-th tensor and 'label' key to the last\n",
                        "auroc       0.928848\n",
                        "fpr95tpr    0.226400\n",
                        "Name: cifar-vs-isun, dtype: float64\n"
                    ]
                },
                {
                    "data": {
                        "image/png": "[encoded data removed]",
                        "text/plain": [
                            "<Figure size 1300x500 with 1 Axes>"
                        ]
                    },
                    "metadata": {},
                    "output_type": "display_data"
                }
            ],
            "source": [
                "import tensorflow as tf\n",
                "iSUN_root = os.path.join(data_path, \"iSUN\")\n",
                "isun_ds = tf.keras.utils.image_dataset_from_directory(\n",
                "    iSUN_root,\n",
                "    image_size=(32, 32),\n",
                "    shuffle=False,\n",
                "    batch_size=None\n",
                ")\n",
                "# ood dataset\n",
                "ds_out = OODDataset(isun_ds, backend=\"torch\", load_from_tensorflow_datasets=True).prepare(batch_size=batch_size, preprocess_fn=preprocess_fn)\n",
                "scores_out = oodmodel.score(ds_out)\n",
                "\n",
                "# auroc / fpr95\n",
                "metrics = bench_metrics(\n",
                "    (scores_in, scores_out),\n",
                "    metrics=[\"auroc\", \"fpr95tpr\"]\n",
                ")\n",
                "metrics_cifar_isun = pd.Series(metrics, name='cifar-vs-isun')\n",
                "print(metrics_cifar_isun)\n",
                "\n",
                "# plot hists / roc\n",
                "plt.figure(figsize=(13, 5))\n",
                "plt.hist((scores_out, scores_in), bins=30, color=(\"blue\", \"orange\"), label=(\"ood\", \"id\"), density=True)\n",
                "plt.xlabel(\"score\")\n",
                "plt.legend()\n",
                "plt.show()"
            ]
        },
        {
            "attachments": {},
            "cell_type": "markdown",
            "metadata": {},
            "source": [
                "### OOD data: Texture\n",
                "ID data: CIFAR-10, OOD data: Texture"
            ]
        },
        {
            "cell_type": "code",
            "execution_count": 18,
            "metadata": {},
            "outputs": [
                {
                    "name": "stdout",
                    "output_type": "stream",
                    "text": [
                        "Found 5640 files belonging to 3 classes.\n",
                        "Downloading https://thor.robots.ox.ac.uk/datasets/dtd/dtd-r1.0.1.tar.gz to /home/paul.novello/.oodeel/datasets/DTD/dtd/dtd-r1.0.1.tar.gz\n"
                    ]
                },
                {
                    "data": {
                        "application/vnd.jupyter.widget-view+json": {
                            "model_id": "13f01dc255b94345a27048ad3b037a9a",
                            "version_major": 2,
                            "version_minor": 0
                        },
                        "text/plain": [
                            "  0%|          | 0/625239812 [00:00<?, ?it/s]"
                        ]
                    },
                    "metadata": {},
                    "output_type": "display_data"
                },
                {
                    "name": "stdout",
                    "output_type": "stream",
                    "text": [
                        "Failed download. Trying https -> http instead. Downloading http://thor.robots.ox.ac.uk/datasets/dtd/dtd-r1.0.1.tar.gz to /home/paul.novello/.oodeel/datasets/DTD/dtd/dtd-r1.0.1.tar.gz\n"
                    ]
                },
                {
                    "data": {
                        "application/vnd.jupyter.widget-view+json": {
                            "model_id": "99866985d97c4806bcf63bc97e2f4f62",
                            "version_major": 2,
                            "version_minor": 0
                        },
                        "text/plain": [
                            "  0%|          | 0/625239812 [00:00<?, ?it/s]"
                        ]
                    },
                    "metadata": {},
                    "output_type": "display_data"
                },
                {
                    "ename": "OSError",
                    "evalue": "[Errno 122] Disk quota exceeded",
                    "output_type": "error",
                    "traceback": [
                        "\u001b[0;31m---------------------------------------------------------------------------\u001b[0m",
                        "\u001b[0;31mOSError\u001b[0m                                   Traceback (most recent call last)",
                        "File \u001b[0;32m~/workspace/oodeel/oodeel_dev_env/lib/python3.9/site-packages/torchvision/datasets/utils.py:42\u001b[0m, in \u001b[0;36m_save_response_content\u001b[0;34m(content, destination, length)\u001b[0m\n\u001b[1;32m     40\u001b[0m     \u001b[39mcontinue\u001b[39;00m\n\u001b[0;32m---> 42\u001b[0m fh\u001b[39m.\u001b[39;49mwrite(chunk)\n\u001b[1;32m     43\u001b[0m pbar\u001b[39m.\u001b[39mupdate(\u001b[39mlen\u001b[39m(chunk))\n",
                        "\u001b[0;31mOSError\u001b[0m: [Errno 122] Disk quota exceeded",
                        "\nDuring handling of the above exception, another exception occurred:\n",
                        "\u001b[0;31mOSError\u001b[0m                                   Traceback (most recent call last)",
                        "File \u001b[0;32m~/workspace/oodeel/oodeel_dev_env/lib/python3.9/site-packages/torchvision/datasets/utils.py:157\u001b[0m, in \u001b[0;36mdownload_url\u001b[0;34m(url, root, filename, md5, max_redirect_hops)\u001b[0m\n\u001b[1;32m    156\u001b[0m     \u001b[39mprint\u001b[39m(\u001b[39m\"\u001b[39m\u001b[39mDownloading \u001b[39m\u001b[39m\"\u001b[39m \u001b[39m+\u001b[39m url \u001b[39m+\u001b[39m \u001b[39m\"\u001b[39m\u001b[39m to \u001b[39m\u001b[39m\"\u001b[39m \u001b[39m+\u001b[39m fpath)\n\u001b[0;32m--> 157\u001b[0m     _urlretrieve(url, fpath)\n\u001b[1;32m    158\u001b[0m \u001b[39mexcept\u001b[39;00m (urllib\u001b[39m.\u001b[39merror\u001b[39m.\u001b[39mURLError, \u001b[39mOSError\u001b[39;00m) \u001b[39mas\u001b[39;00m e:  \u001b[39m# type: ignore[attr-defined]\u001b[39;00m\n",
                        "File \u001b[0;32m~/workspace/oodeel/oodeel_dev_env/lib/python3.9/site-packages/torchvision/datasets/utils.py:48\u001b[0m, in \u001b[0;36m_urlretrieve\u001b[0;34m(url, filename, chunk_size)\u001b[0m\n\u001b[1;32m     47\u001b[0m \u001b[39mwith\u001b[39;00m urllib\u001b[39m.\u001b[39mrequest\u001b[39m.\u001b[39murlopen(urllib\u001b[39m.\u001b[39mrequest\u001b[39m.\u001b[39mRequest(url, headers\u001b[39m=\u001b[39m{\u001b[39m\"\u001b[39m\u001b[39mUser-Agent\u001b[39m\u001b[39m\"\u001b[39m: USER_AGENT})) \u001b[39mas\u001b[39;00m response:\n\u001b[0;32m---> 48\u001b[0m     _save_response_content(\u001b[39miter\u001b[39;49m(\u001b[39mlambda\u001b[39;49;00m: response\u001b[39m.\u001b[39;49mread(chunk_size), \u001b[39mb\u001b[39;49m\u001b[39m\"\u001b[39;49m\u001b[39m\"\u001b[39;49m), filename, length\u001b[39m=\u001b[39;49mresponse\u001b[39m.\u001b[39;49mlength)\n",
                        "File \u001b[0;32m~/workspace/oodeel/oodeel_dev_env/lib/python3.9/site-packages/torchvision/datasets/utils.py:43\u001b[0m, in \u001b[0;36m_save_response_content\u001b[0;34m(content, destination, length)\u001b[0m\n\u001b[1;32m     42\u001b[0m fh\u001b[39m.\u001b[39mwrite(chunk)\n\u001b[0;32m---> 43\u001b[0m pbar\u001b[39m.\u001b[39mupdate(\u001b[39mlen\u001b[39m(chunk))\n",
                        "\u001b[0;31mOSError\u001b[0m: [Errno 122] Disk quota exceeded",
                        "\nDuring handling of the above exception, another exception occurred:\n",
                        "\u001b[0;31mOSError\u001b[0m                                   Traceback (most recent call last)",
                        "Cell \u001b[0;32mIn[18], line 32\u001b[0m\n\u001b[1;32m     29\u001b[0m dataset \u001b[39m=\u001b[39m torchvision\u001b[39m.\u001b[39mdatasets\u001b[39m.\u001b[39mImageFolder(root\u001b[39m=\u001b[39mtexture_root)     \n\u001b[1;32m     31\u001b[0m \u001b[39m# ood dataset\u001b[39;00m\n\u001b[0;32m---> 32\u001b[0m ds_out \u001b[39m=\u001b[39m OODDataset(\u001b[39m\"\u001b[39;49m\u001b[39mDTD\u001b[39;49m\u001b[39m\"\u001b[39;49m, split\u001b[39m=\u001b[39;49m\u001b[39m\"\u001b[39;49m\u001b[39mtest\u001b[39;49m\u001b[39m\"\u001b[39;49m, backend\u001b[39m=\u001b[39;49m\u001b[39m\"\u001b[39;49m\u001b[39mtorch\u001b[39;49m\u001b[39m\"\u001b[39;49m, load_kwargs\u001b[39m=\u001b[39;49mload_kwargs)\u001b[39m.\u001b[39mprepare(batch_size\u001b[39m=\u001b[39mbatch_size, preprocess_fn\u001b[39m=\u001b[39mpreprocess_fn)\n",
                        "File \u001b[0;32m~/workspace/oodeel/oodeel/datasets/ooddataset.py:108\u001b[0m, in \u001b[0;36mOODDataset.__init__\u001b[0;34m(self, dataset_id, backend, split, keys, load_kwargs, load_from_tensorflow_datasets, input_key)\u001b[0m\n\u001b[1;32m    105\u001b[0m     \u001b[39mself\u001b[39m\u001b[39m.\u001b[39mchannel_order \u001b[39m=\u001b[39m \u001b[39m\"\u001b[39m\u001b[39mchannels_last\u001b[39m\u001b[39m\"\u001b[39m\n\u001b[1;32m    107\u001b[0m \u001b[39m# Load the dataset depending on the type of dataset_id\u001b[39;00m\n\u001b[0;32m--> 108\u001b[0m \u001b[39mself\u001b[39m\u001b[39m.\u001b[39mdata \u001b[39m=\u001b[39m \u001b[39mself\u001b[39;49m\u001b[39m.\u001b[39;49m_data_handler\u001b[39m.\u001b[39;49mload_dataset(dataset_id, keys, load_kwargs)\n\u001b[1;32m    110\u001b[0m \u001b[39m# Get the length of the elements/items in the dataset\u001b[39;00m\n\u001b[1;32m    111\u001b[0m \u001b[39mself\u001b[39m\u001b[39m.\u001b[39mlen_item \u001b[39m=\u001b[39m \u001b[39mself\u001b[39m\u001b[39m.\u001b[39m_data_handler\u001b[39m.\u001b[39mget_item_length(\u001b[39mself\u001b[39m\u001b[39m.\u001b[39mdata)\n",
                        "File \u001b[0;32m~/workspace/oodeel/oodeel/datasets/torch_data_handler.py:260\u001b[0m, in \u001b[0;36mTorchDataHandler.load_dataset\u001b[0;34m(cls, dataset_id, keys, load_kwargs)\u001b[0m\n\u001b[1;32m    258\u001b[0m \u001b[39mif\u001b[39;00m \u001b[39misinstance\u001b[39m(dataset_id, \u001b[39mstr\u001b[39m):\n\u001b[1;32m    259\u001b[0m     \u001b[39massert\u001b[39;00m \u001b[39m\"\u001b[39m\u001b[39mroot\u001b[39m\u001b[39m\"\u001b[39m \u001b[39min\u001b[39;00m load_kwargs\u001b[39m.\u001b[39mkeys()\n\u001b[0;32m--> 260\u001b[0m     dataset \u001b[39m=\u001b[39m \u001b[39mcls\u001b[39;49m\u001b[39m.\u001b[39;49mload_from_torchvision(dataset_id, \u001b[39m*\u001b[39;49m\u001b[39m*\u001b[39;49mload_kwargs)\n\u001b[1;32m    261\u001b[0m \u001b[39melif\u001b[39;00m \u001b[39misinstance\u001b[39m(dataset_id, Dataset):\n\u001b[1;32m    262\u001b[0m     dataset \u001b[39m=\u001b[39m \u001b[39mcls\u001b[39m\u001b[39m.\u001b[39mload_custom_dataset(dataset_id, keys)\n",
                        "File \u001b[0;32m~/workspace/oodeel/oodeel/datasets/torch_data_handler.py:386\u001b[0m, in \u001b[0;36mTorchDataHandler.load_from_torchvision\u001b[0;34m(cls, dataset_id, root, transform, target_transform, download, **load_kwargs)\u001b[0m\n\u001b[1;32m    365\u001b[0m \u001b[39m\u001b[39m\u001b[39m\"\"\"Load a Dataset from the torchvision datasets catalog\u001b[39;00m\n\u001b[1;32m    366\u001b[0m \n\u001b[1;32m    367\u001b[0m \u001b[39mArgs:\u001b[39;00m\n\u001b[0;32m   (...)\u001b[0m\n\u001b[1;32m    381\u001b[0m \u001b[39m    DictDataset\u001b[39;00m\n\u001b[1;32m    382\u001b[0m \u001b[39m\"\"\"\u001b[39;00m\n\u001b[1;32m    383\u001b[0m \u001b[39massert\u001b[39;00m (\n\u001b[1;32m    384\u001b[0m     dataset_id \u001b[39min\u001b[39;00m torchvision\u001b[39m.\u001b[39mdatasets\u001b[39m.\u001b[39m__all__\n\u001b[1;32m    385\u001b[0m ), \u001b[39m\"\u001b[39m\u001b[39mDataset not available on torchvision datasets catalog\u001b[39m\u001b[39m\"\u001b[39m\n\u001b[0;32m--> 386\u001b[0m dataset \u001b[39m=\u001b[39m \u001b[39mgetattr\u001b[39;49m(torchvision\u001b[39m.\u001b[39;49mdatasets, dataset_id)(\n\u001b[1;32m    387\u001b[0m     root\u001b[39m=\u001b[39;49mroot,\n\u001b[1;32m    388\u001b[0m     download\u001b[39m=\u001b[39;49mdownload,\n\u001b[1;32m    389\u001b[0m     transform\u001b[39m=\u001b[39;49mtransform,\n\u001b[1;32m    390\u001b[0m     target_transform\u001b[39m=\u001b[39;49mtarget_transform,\n\u001b[1;32m    391\u001b[0m     \u001b[39m*\u001b[39;49m\u001b[39m*\u001b[39;49mload_kwargs,\n\u001b[1;32m    392\u001b[0m )\n\u001b[1;32m    393\u001b[0m \u001b[39mreturn\u001b[39;00m \u001b[39mcls\u001b[39m\u001b[39m.\u001b[39mload_custom_dataset(dataset)\n",
                        "File \u001b[0;32m~/workspace/oodeel/oodeel_dev_env/lib/python3.9/site-packages/torchvision/datasets/dtd.py:59\u001b[0m, in \u001b[0;36mDTD.__init__\u001b[0;34m(self, root, split, partition, transform, target_transform, download)\u001b[0m\n\u001b[1;32m     56\u001b[0m \u001b[39mself\u001b[39m\u001b[39m.\u001b[39m_images_folder \u001b[39m=\u001b[39m \u001b[39mself\u001b[39m\u001b[39m.\u001b[39m_data_folder \u001b[39m/\u001b[39m \u001b[39m\"\u001b[39m\u001b[39mimages\u001b[39m\u001b[39m\"\u001b[39m\n\u001b[1;32m     58\u001b[0m \u001b[39mif\u001b[39;00m download:\n\u001b[0;32m---> 59\u001b[0m     \u001b[39mself\u001b[39;49m\u001b[39m.\u001b[39;49m_download()\n\u001b[1;32m     61\u001b[0m \u001b[39mif\u001b[39;00m \u001b[39mnot\u001b[39;00m \u001b[39mself\u001b[39m\u001b[39m.\u001b[39m_check_exists():\n\u001b[1;32m     62\u001b[0m     \u001b[39mraise\u001b[39;00m \u001b[39mRuntimeError\u001b[39;00m(\u001b[39m\"\u001b[39m\u001b[39mDataset not found. You can use download=True to download it\u001b[39m\u001b[39m\"\u001b[39m)\n",
                        "File \u001b[0;32m~/workspace/oodeel/oodeel_dev_env/lib/python3.9/site-packages/torchvision/datasets/dtd.py:100\u001b[0m, in \u001b[0;36mDTD._download\u001b[0;34m(self)\u001b[0m\n\u001b[1;32m     98\u001b[0m \u001b[39mif\u001b[39;00m \u001b[39mself\u001b[39m\u001b[39m.\u001b[39m_check_exists():\n\u001b[1;32m     99\u001b[0m     \u001b[39mreturn\u001b[39;00m\n\u001b[0;32m--> 100\u001b[0m download_and_extract_archive(\u001b[39mself\u001b[39;49m\u001b[39m.\u001b[39;49m_URL, download_root\u001b[39m=\u001b[39;49m\u001b[39mstr\u001b[39;49m(\u001b[39mself\u001b[39;49m\u001b[39m.\u001b[39;49m_base_folder), md5\u001b[39m=\u001b[39;49m\u001b[39mself\u001b[39;49m\u001b[39m.\u001b[39;49m_MD5)\n",
                        "File \u001b[0;32m~/workspace/oodeel/oodeel_dev_env/lib/python3.9/site-packages/torchvision/datasets/utils.py:447\u001b[0m, in \u001b[0;36mdownload_and_extract_archive\u001b[0;34m(url, download_root, extract_root, filename, md5, remove_finished)\u001b[0m\n\u001b[1;32m    444\u001b[0m \u001b[39mif\u001b[39;00m \u001b[39mnot\u001b[39;00m filename:\n\u001b[1;32m    445\u001b[0m     filename \u001b[39m=\u001b[39m os\u001b[39m.\u001b[39mpath\u001b[39m.\u001b[39mbasename(url)\n\u001b[0;32m--> 447\u001b[0m download_url(url, download_root, filename, md5)\n\u001b[1;32m    449\u001b[0m archive \u001b[39m=\u001b[39m os\u001b[39m.\u001b[39mpath\u001b[39m.\u001b[39mjoin(download_root, filename)\n\u001b[1;32m    450\u001b[0m \u001b[39mprint\u001b[39m(\u001b[39mf\u001b[39m\u001b[39m\"\u001b[39m\u001b[39mExtracting \u001b[39m\u001b[39m{\u001b[39;00marchive\u001b[39m}\u001b[39;00m\u001b[39m to \u001b[39m\u001b[39m{\u001b[39;00mextract_root\u001b[39m}\u001b[39;00m\u001b[39m\"\u001b[39m)\n",
                        "File \u001b[0;32m~/workspace/oodeel/oodeel_dev_env/lib/python3.9/site-packages/torchvision/datasets/utils.py:162\u001b[0m, in \u001b[0;36mdownload_url\u001b[0;34m(url, root, filename, md5, max_redirect_hops)\u001b[0m\n\u001b[1;32m    160\u001b[0m     url \u001b[39m=\u001b[39m url\u001b[39m.\u001b[39mreplace(\u001b[39m\"\u001b[39m\u001b[39mhttps:\u001b[39m\u001b[39m\"\u001b[39m, \u001b[39m\"\u001b[39m\u001b[39mhttp:\u001b[39m\u001b[39m\"\u001b[39m)\n\u001b[1;32m    161\u001b[0m     \u001b[39mprint\u001b[39m(\u001b[39m\"\u001b[39m\u001b[39mFailed download. Trying https -> http instead. Downloading \u001b[39m\u001b[39m\"\u001b[39m \u001b[39m+\u001b[39m url \u001b[39m+\u001b[39m \u001b[39m\"\u001b[39m\u001b[39m to \u001b[39m\u001b[39m\"\u001b[39m \u001b[39m+\u001b[39m fpath)\n\u001b[0;32m--> 162\u001b[0m     _urlretrieve(url, fpath)\n\u001b[1;32m    163\u001b[0m \u001b[39melse\u001b[39;00m:\n\u001b[1;32m    164\u001b[0m     \u001b[39mraise\u001b[39;00m e\n",
                        "File \u001b[0;32m~/workspace/oodeel/oodeel_dev_env/lib/python3.9/site-packages/torchvision/datasets/utils.py:48\u001b[0m, in \u001b[0;36m_urlretrieve\u001b[0;34m(url, filename, chunk_size)\u001b[0m\n\u001b[1;32m     46\u001b[0m \u001b[39mdef\u001b[39;00m \u001b[39m_urlretrieve\u001b[39m(url: \u001b[39mstr\u001b[39m, filename: \u001b[39mstr\u001b[39m, chunk_size: \u001b[39mint\u001b[39m \u001b[39m=\u001b[39m \u001b[39m1024\u001b[39m \u001b[39m*\u001b[39m \u001b[39m32\u001b[39m) \u001b[39m-\u001b[39m\u001b[39m>\u001b[39m \u001b[39mNone\u001b[39;00m:\n\u001b[1;32m     47\u001b[0m     \u001b[39mwith\u001b[39;00m urllib\u001b[39m.\u001b[39mrequest\u001b[39m.\u001b[39murlopen(urllib\u001b[39m.\u001b[39mrequest\u001b[39m.\u001b[39mRequest(url, headers\u001b[39m=\u001b[39m{\u001b[39m\"\u001b[39m\u001b[39mUser-Agent\u001b[39m\u001b[39m\"\u001b[39m: USER_AGENT})) \u001b[39mas\u001b[39;00m response:\n\u001b[0;32m---> 48\u001b[0m         _save_response_content(\u001b[39miter\u001b[39;49m(\u001b[39mlambda\u001b[39;49;00m: response\u001b[39m.\u001b[39;49mread(chunk_size), \u001b[39mb\u001b[39;49m\u001b[39m\"\u001b[39;49m\u001b[39m\"\u001b[39;49m), filename, length\u001b[39m=\u001b[39;49mresponse\u001b[39m.\u001b[39;49mlength)\n",
                        "File \u001b[0;32m~/workspace/oodeel/oodeel_dev_env/lib/python3.9/site-packages/torchvision/datasets/utils.py:42\u001b[0m, in \u001b[0;36m_save_response_content\u001b[0;34m(content, destination, length)\u001b[0m\n\u001b[1;32m     39\u001b[0m \u001b[39mif\u001b[39;00m \u001b[39mnot\u001b[39;00m chunk:\n\u001b[1;32m     40\u001b[0m     \u001b[39mcontinue\u001b[39;00m\n\u001b[0;32m---> 42\u001b[0m fh\u001b[39m.\u001b[39;49mwrite(chunk)\n\u001b[1;32m     43\u001b[0m pbar\u001b[39m.\u001b[39mupdate(\u001b[39mlen\u001b[39m(chunk))\n",
                        "\u001b[0;31mOSError\u001b[0m: [Errno 122] Disk quota exceeded"
                    ]
                }
            ],
            "source": [
                "%autoreload 2\n",
                "\n",
                "import tensorflow as tf\n",
                "texture_root = os.path.join(data_path, \"dtd\")\n",
                "texture_ds = tf.keras.utils.image_dataset_from_directory(\n",
                "    texture_root,\n",
                "    image_size=(32, 32),\n",
                "    shuffle=False,\n",
                "    batch_size=None,\n",
                ")\n",
                "import torchvision\n",
                "from torch.utils.data import Dataset\n",
                "from torchvision import transforms\n",
                "imagesize = 32\n",
                "\n",
                "transform_test = transforms.Compose([\n",
                "    transforms.Resize((imagesize, imagesize)),\n",
                "    transforms.CenterCrop(imagesize),\n",
                "    transforms.ToTensor(),\n",
                "    transforms.Normalize((0.4914, 0.4822, 0.4465),\n",
                "                         (0.2023, 0.1994, 0.2010)),\n",
                "    # transforms.Normalize([x/255.0 for x in [125.3, 123.0, 113.9]],\n",
                "    #                     [x/255.0 for x in [63.0, 62.1, 66.7]]),\n",
                "])\n",
                "\n",
                "load_kwargs = {\"root\": os.path.join(data_path, \"DTD\"), \"download\": True}\n",
                "\n",
                "texture_root = os.path.join(data_path, \"dtd/images\")\n",
                "dataset = torchvision.datasets.ImageFolder(root=texture_root)     \n",
                "\n",
                "# ood dataset\n",
                "ds_out = OODDataset(\"DTD\", split=\"test\", backend=\"torch\", load_kwargs=load_kwargs).prepare(batch_size=batch_size, preprocess_fn=preprocess_fn)\n"
            ]
        },
        {
            "cell_type": "code",
            "execution_count": 17,
            "metadata": {},
            "outputs": [
                {
                    "ename": "TypeError",
                    "evalue": "Unexpected type <class 'tuple'>",
                    "output_type": "error",
                    "traceback": [
                        "\u001b[0;31m---------------------------------------------------------------------------\u001b[0m",
                        "\u001b[0;31mTypeError\u001b[0m                                 Traceback (most recent call last)",
                        "Cell \u001b[0;32mIn[17], line 1\u001b[0m\n\u001b[0;32m----> 1\u001b[0m \u001b[39mfor\u001b[39;00m img \u001b[39min\u001b[39;00m ds_out:\n\u001b[1;32m      2\u001b[0m     \u001b[39mprint\u001b[39m(img)\n",
                        "File \u001b[0;32m~/workspace/oodeel/oodeel_dev_env/lib/python3.9/site-packages/torch/utils/data/dataloader.py:628\u001b[0m, in \u001b[0;36m_BaseDataLoaderIter.__next__\u001b[0;34m(self)\u001b[0m\n\u001b[1;32m    625\u001b[0m \u001b[39mif\u001b[39;00m \u001b[39mself\u001b[39m\u001b[39m.\u001b[39m_sampler_iter \u001b[39mis\u001b[39;00m \u001b[39mNone\u001b[39;00m:\n\u001b[1;32m    626\u001b[0m     \u001b[39m# TODO(https://github.com/pytorch/pytorch/issues/76750)\u001b[39;00m\n\u001b[1;32m    627\u001b[0m     \u001b[39mself\u001b[39m\u001b[39m.\u001b[39m_reset()  \u001b[39m# type: ignore[call-arg]\u001b[39;00m\n\u001b[0;32m--> 628\u001b[0m data \u001b[39m=\u001b[39m \u001b[39mself\u001b[39;49m\u001b[39m.\u001b[39;49m_next_data()\n\u001b[1;32m    629\u001b[0m \u001b[39mself\u001b[39m\u001b[39m.\u001b[39m_num_yielded \u001b[39m+\u001b[39m\u001b[39m=\u001b[39m \u001b[39m1\u001b[39m\n\u001b[1;32m    630\u001b[0m \u001b[39mif\u001b[39;00m \u001b[39mself\u001b[39m\u001b[39m.\u001b[39m_dataset_kind \u001b[39m==\u001b[39m _DatasetKind\u001b[39m.\u001b[39mIterable \u001b[39mand\u001b[39;00m \\\n\u001b[1;32m    631\u001b[0m         \u001b[39mself\u001b[39m\u001b[39m.\u001b[39m_IterableDataset_len_called \u001b[39mis\u001b[39;00m \u001b[39mnot\u001b[39;00m \u001b[39mNone\u001b[39;00m \u001b[39mand\u001b[39;00m \\\n\u001b[1;32m    632\u001b[0m         \u001b[39mself\u001b[39m\u001b[39m.\u001b[39m_num_yielded \u001b[39m>\u001b[39m \u001b[39mself\u001b[39m\u001b[39m.\u001b[39m_IterableDataset_len_called:\n",
                        "File \u001b[0;32m~/workspace/oodeel/oodeel_dev_env/lib/python3.9/site-packages/torch/utils/data/dataloader.py:671\u001b[0m, in \u001b[0;36m_SingleProcessDataLoaderIter._next_data\u001b[0;34m(self)\u001b[0m\n\u001b[1;32m    669\u001b[0m \u001b[39mdef\u001b[39;00m \u001b[39m_next_data\u001b[39m(\u001b[39mself\u001b[39m):\n\u001b[1;32m    670\u001b[0m     index \u001b[39m=\u001b[39m \u001b[39mself\u001b[39m\u001b[39m.\u001b[39m_next_index()  \u001b[39m# may raise StopIteration\u001b[39;00m\n\u001b[0;32m--> 671\u001b[0m     data \u001b[39m=\u001b[39m \u001b[39mself\u001b[39;49m\u001b[39m.\u001b[39;49m_dataset_fetcher\u001b[39m.\u001b[39;49mfetch(index)  \u001b[39m# may raise StopIteration\u001b[39;00m\n\u001b[1;32m    672\u001b[0m     \u001b[39mif\u001b[39;00m \u001b[39mself\u001b[39m\u001b[39m.\u001b[39m_pin_memory:\n\u001b[1;32m    673\u001b[0m         data \u001b[39m=\u001b[39m _utils\u001b[39m.\u001b[39mpin_memory\u001b[39m.\u001b[39mpin_memory(data, \u001b[39mself\u001b[39m\u001b[39m.\u001b[39m_pin_memory_device)\n",
                        "File \u001b[0;32m~/workspace/oodeel/oodeel_dev_env/lib/python3.9/site-packages/torch/utils/data/_utils/fetch.py:61\u001b[0m, in \u001b[0;36m_MapDatasetFetcher.fetch\u001b[0;34m(self, possibly_batched_index)\u001b[0m\n\u001b[1;32m     59\u001b[0m \u001b[39melse\u001b[39;00m:\n\u001b[1;32m     60\u001b[0m     data \u001b[39m=\u001b[39m \u001b[39mself\u001b[39m\u001b[39m.\u001b[39mdataset[possibly_batched_index]\n\u001b[0;32m---> 61\u001b[0m \u001b[39mreturn\u001b[39;00m \u001b[39mself\u001b[39;49m\u001b[39m.\u001b[39;49mcollate_fn(data)\n",
                        "File \u001b[0;32m~/workspace/oodeel/oodeel/datasets/torch_data_handler.py:577\u001b[0m, in \u001b[0;36mTorchDataHandler.prepare_for_training.<locals>.collate_fn\u001b[0;34m(batch)\u001b[0m\n\u001b[1;32m    572\u001b[0m     \u001b[39mreturn\u001b[39;00m \u001b[39mtuple\u001b[39m(\n\u001b[1;32m    573\u001b[0m         default_collate([d[key] \u001b[39mfor\u001b[39;00m d \u001b[39min\u001b[39;00m batch]) \u001b[39mfor\u001b[39;00m key \u001b[39min\u001b[39;00m output_keys\n\u001b[1;32m    574\u001b[0m     )\n\u001b[1;32m    575\u001b[0m \u001b[39melse\u001b[39;00m:\n\u001b[1;32m    576\u001b[0m     \u001b[39m# preprocess + DA: List[dict] -> List[tuple]\u001b[39;00m\n\u001b[0;32m--> 577\u001b[0m     batch \u001b[39m=\u001b[39m [\n\u001b[1;32m    578\u001b[0m         augment_fn(preprocess_fn(\u001b[39mtuple\u001b[39m(d[key] \u001b[39mfor\u001b[39;00m key \u001b[39min\u001b[39;00m output_keys)))\n\u001b[1;32m    579\u001b[0m         \u001b[39mfor\u001b[39;00m d \u001b[39min\u001b[39;00m batch\n\u001b[1;32m    580\u001b[0m     ]\n\u001b[1;32m    581\u001b[0m     \u001b[39m# to tuple of batchs\u001b[39;00m\n\u001b[1;32m    582\u001b[0m     \u001b[39mreturn\u001b[39;00m default_collate(batch)\n",
                        "File \u001b[0;32m~/workspace/oodeel/oodeel/datasets/torch_data_handler.py:578\u001b[0m, in \u001b[0;36m<listcomp>\u001b[0;34m(.0)\u001b[0m\n\u001b[1;32m    572\u001b[0m     \u001b[39mreturn\u001b[39;00m \u001b[39mtuple\u001b[39m(\n\u001b[1;32m    573\u001b[0m         default_collate([d[key] \u001b[39mfor\u001b[39;00m d \u001b[39min\u001b[39;00m batch]) \u001b[39mfor\u001b[39;00m key \u001b[39min\u001b[39;00m output_keys\n\u001b[1;32m    574\u001b[0m     )\n\u001b[1;32m    575\u001b[0m \u001b[39melse\u001b[39;00m:\n\u001b[1;32m    576\u001b[0m     \u001b[39m# preprocess + DA: List[dict] -> List[tuple]\u001b[39;00m\n\u001b[1;32m    577\u001b[0m     batch \u001b[39m=\u001b[39m [\n\u001b[0;32m--> 578\u001b[0m         augment_fn(preprocess_fn(\u001b[39mtuple\u001b[39;49m(d[key] \u001b[39mfor\u001b[39;49;00m key \u001b[39min\u001b[39;49;00m output_keys)))\n\u001b[1;32m    579\u001b[0m         \u001b[39mfor\u001b[39;00m d \u001b[39min\u001b[39;00m batch\n\u001b[1;32m    580\u001b[0m     ]\n\u001b[1;32m    581\u001b[0m     \u001b[39m# to tuple of batchs\u001b[39;00m\n\u001b[1;32m    582\u001b[0m     \u001b[39mreturn\u001b[39;00m default_collate(batch)\n",
                        "File \u001b[0;32m~/workspace/oodeel/oodeel_dev_env/lib/python3.9/site-packages/torchvision/transforms/transforms.py:95\u001b[0m, in \u001b[0;36mCompose.__call__\u001b[0;34m(self, img)\u001b[0m\n\u001b[1;32m     93\u001b[0m \u001b[39mdef\u001b[39;00m \u001b[39m__call__\u001b[39m(\u001b[39mself\u001b[39m, img):\n\u001b[1;32m     94\u001b[0m     \u001b[39mfor\u001b[39;00m t \u001b[39min\u001b[39;00m \u001b[39mself\u001b[39m\u001b[39m.\u001b[39mtransforms:\n\u001b[0;32m---> 95\u001b[0m         img \u001b[39m=\u001b[39m t(img)\n\u001b[1;32m     96\u001b[0m     \u001b[39mreturn\u001b[39;00m img\n",
                        "File \u001b[0;32m~/workspace/oodeel/oodeel_dev_env/lib/python3.9/site-packages/torch/nn/modules/module.py:1194\u001b[0m, in \u001b[0;36mModule._call_impl\u001b[0;34m(self, *input, **kwargs)\u001b[0m\n\u001b[1;32m   1190\u001b[0m \u001b[39m# If we don't have any hooks, we want to skip the rest of the logic in\u001b[39;00m\n\u001b[1;32m   1191\u001b[0m \u001b[39m# this function, and just call forward.\u001b[39;00m\n\u001b[1;32m   1192\u001b[0m \u001b[39mif\u001b[39;00m \u001b[39mnot\u001b[39;00m (\u001b[39mself\u001b[39m\u001b[39m.\u001b[39m_backward_hooks \u001b[39mor\u001b[39;00m \u001b[39mself\u001b[39m\u001b[39m.\u001b[39m_forward_hooks \u001b[39mor\u001b[39;00m \u001b[39mself\u001b[39m\u001b[39m.\u001b[39m_forward_pre_hooks \u001b[39mor\u001b[39;00m _global_backward_hooks\n\u001b[1;32m   1193\u001b[0m         \u001b[39mor\u001b[39;00m _global_forward_hooks \u001b[39mor\u001b[39;00m _global_forward_pre_hooks):\n\u001b[0;32m-> 1194\u001b[0m     \u001b[39mreturn\u001b[39;00m forward_call(\u001b[39m*\u001b[39;49m\u001b[39minput\u001b[39;49m, \u001b[39m*\u001b[39;49m\u001b[39m*\u001b[39;49mkwargs)\n\u001b[1;32m   1195\u001b[0m \u001b[39m# Do not call functions when jit is used\u001b[39;00m\n\u001b[1;32m   1196\u001b[0m full_backward_hooks, non_full_backward_hooks \u001b[39m=\u001b[39m [], []\n",
                        "File \u001b[0;32m~/workspace/oodeel/oodeel_dev_env/lib/python3.9/site-packages/torchvision/transforms/transforms.py:346\u001b[0m, in \u001b[0;36mResize.forward\u001b[0;34m(self, img)\u001b[0m\n\u001b[1;32m    338\u001b[0m \u001b[39mdef\u001b[39;00m \u001b[39mforward\u001b[39m(\u001b[39mself\u001b[39m, img):\n\u001b[1;32m    339\u001b[0m \u001b[39m    \u001b[39m\u001b[39m\"\"\"\u001b[39;00m\n\u001b[1;32m    340\u001b[0m \u001b[39m    Args:\u001b[39;00m\n\u001b[1;32m    341\u001b[0m \u001b[39m        img (PIL Image or Tensor): Image to be scaled.\u001b[39;00m\n\u001b[0;32m   (...)\u001b[0m\n\u001b[1;32m    344\u001b[0m \u001b[39m        PIL Image or Tensor: Rescaled image.\u001b[39;00m\n\u001b[1;32m    345\u001b[0m \u001b[39m    \"\"\"\u001b[39;00m\n\u001b[0;32m--> 346\u001b[0m     \u001b[39mreturn\u001b[39;00m F\u001b[39m.\u001b[39;49mresize(img, \u001b[39mself\u001b[39;49m\u001b[39m.\u001b[39;49msize, \u001b[39mself\u001b[39;49m\u001b[39m.\u001b[39;49minterpolation, \u001b[39mself\u001b[39;49m\u001b[39m.\u001b[39;49mmax_size, \u001b[39mself\u001b[39;49m\u001b[39m.\u001b[39;49mantialias)\n",
                        "File \u001b[0;32m~/workspace/oodeel/oodeel_dev_env/lib/python3.9/site-packages/torchvision/transforms/functional.py:462\u001b[0m, in \u001b[0;36mresize\u001b[0;34m(img, size, interpolation, max_size, antialias)\u001b[0m\n\u001b[1;32m    456\u001b[0m     \u001b[39mif\u001b[39;00m max_size \u001b[39mis\u001b[39;00m \u001b[39mnot\u001b[39;00m \u001b[39mNone\u001b[39;00m \u001b[39mand\u001b[39;00m \u001b[39mlen\u001b[39m(size) \u001b[39m!=\u001b[39m \u001b[39m1\u001b[39m:\n\u001b[1;32m    457\u001b[0m         \u001b[39mraise\u001b[39;00m \u001b[39mValueError\u001b[39;00m(\n\u001b[1;32m    458\u001b[0m             \u001b[39m\"\u001b[39m\u001b[39mmax_size should only be passed if size specifies the length of the smaller edge, \u001b[39m\u001b[39m\"\u001b[39m\n\u001b[1;32m    459\u001b[0m             \u001b[39m\"\u001b[39m\u001b[39mi.e. size should be an int or a sequence of length 1 in torchscript mode.\u001b[39m\u001b[39m\"\u001b[39m\n\u001b[1;32m    460\u001b[0m         )\n\u001b[0;32m--> 462\u001b[0m _, image_height, image_width \u001b[39m=\u001b[39m get_dimensions(img)\n\u001b[1;32m    463\u001b[0m \u001b[39mif\u001b[39;00m \u001b[39misinstance\u001b[39m(size, \u001b[39mint\u001b[39m):\n\u001b[1;32m    464\u001b[0m     size \u001b[39m=\u001b[39m [size]\n",
                        "File \u001b[0;32m~/workspace/oodeel/oodeel_dev_env/lib/python3.9/site-packages/torchvision/transforms/functional.py:75\u001b[0m, in \u001b[0;36mget_dimensions\u001b[0;34m(img)\u001b[0m\n\u001b[1;32m     72\u001b[0m \u001b[39mif\u001b[39;00m \u001b[39misinstance\u001b[39m(img, torch\u001b[39m.\u001b[39mTensor):\n\u001b[1;32m     73\u001b[0m     \u001b[39mreturn\u001b[39;00m F_t\u001b[39m.\u001b[39mget_dimensions(img)\n\u001b[0;32m---> 75\u001b[0m \u001b[39mreturn\u001b[39;00m F_pil\u001b[39m.\u001b[39;49mget_dimensions(img)\n",
                        "File \u001b[0;32m~/workspace/oodeel/oodeel_dev_env/lib/python3.9/site-packages/torchvision/transforms/functional_pil.py:33\u001b[0m, in \u001b[0;36mget_dimensions\u001b[0;34m(img)\u001b[0m\n\u001b[1;32m     31\u001b[0m     width, height \u001b[39m=\u001b[39m img\u001b[39m.\u001b[39msize\n\u001b[1;32m     32\u001b[0m     \u001b[39mreturn\u001b[39;00m [channels, height, width]\n\u001b[0;32m---> 33\u001b[0m \u001b[39mraise\u001b[39;00m \u001b[39mTypeError\u001b[39;00m(\u001b[39mf\u001b[39m\u001b[39m\"\u001b[39m\u001b[39mUnexpected type \u001b[39m\u001b[39m{\u001b[39;00m\u001b[39mtype\u001b[39m(img)\u001b[39m}\u001b[39;00m\u001b[39m\"\u001b[39m)\n",
                        "\u001b[0;31mTypeError\u001b[0m: Unexpected type <class 'tuple'>"
                    ]
                }
            ],
            "source": [
                "for img in ds_out:\n",
                "    print(img)"
            ]
        },
        {
            "cell_type": "code",
            "execution_count": null,
            "metadata": {},
            "outputs": [],
            "source": [
                "\n",
                "scores_out = oodmodel.score(ds_out)\n",
                "\n",
                "# auroc / fpr95\n",
                "metrics = bench_metrics(\n",
                "    (scores_in, scores_out),\n",
                "    metrics=[\"auroc\", \"fpr95tpr\"]\n",
                ")\n",
                "metrics_cifar_texture = pd.Series(metrics, name='cifar-vs-texture')\n",
                "print(metrics_cifar_texture)\n",
                "\n",
                "# plot hists / roc\n",
                "plt.figure(figsize=(13, 5))\n",
                "plt.hist((scores_out, scores_in), bins=30, color=(\"blue\", \"orange\"), label=(\"ood\", \"id\"), density=True)\n",
                "plt.xlabel(\"score\")\n",
                "plt.legend()\n",
                "plt.show()"
            ]
        },
        {
            "attachments": {},
            "cell_type": "markdown",
            "metadata": {},
            "source": [
                "## Results"
            ]
        },
        {
            "cell_type": "code",
            "execution_count": 10,
            "metadata": {},
            "outputs": [
                {
                    "ename": "NameError",
                    "evalue": "name 'metrics_first_vs_last' is not defined",
                    "output_type": "error",
                    "traceback": [
                        "\u001b[0;31m---------------------------------------------------------------------------\u001b[0m",
                        "\u001b[0;31mNameError\u001b[0m                                 Traceback (most recent call last)",
                        "Cell \u001b[0;32mIn[10], line 1\u001b[0m\n\u001b[0;32m----> 1\u001b[0m pd\u001b[39m.\u001b[39mconcat([metrics_first_vs_last, metrics_fashion, metrics_cifar_svhn, metrics_cifar_lsun, metrics_cifar_isun, metrics_cifar_texture], axis\u001b[39m=\u001b[39m\u001b[39m1\u001b[39m)\u001b[39m.\u001b[39mT\n",
                        "\u001b[0;31mNameError\u001b[0m: name 'metrics_first_vs_last' is not defined"
                    ]
                }
            ],
            "source": [
                "pd.concat([metrics_first_vs_last, metrics_fashion, metrics_cifar_svhn, metrics_cifar_lsun, metrics_cifar_isun, metrics_cifar_texture], axis=1).T"
            ]
        },
        {
            "cell_type": "code",
            "execution_count": 10,
            "metadata": {},
            "outputs": [
                {
                    "data": {
                        "text/html": [
                            "<div>\n",
                            "<style scoped>\n",
                            "    .dataframe tbody tr th:only-of-type {\n",
                            "        vertical-align: middle;\n",
                            "    }\n",
                            "\n",
                            "    .dataframe tbody tr th {\n",
                            "        vertical-align: top;\n",
                            "    }\n",
                            "\n",
                            "    .dataframe thead th {\n",
                            "        text-align: right;\n",
                            "    }\n",
                            "</style>\n",
                            "<table border=\"1\" class=\"dataframe\">\n",
                            "  <thead>\n",
                            "    <tr style=\"text-align: right;\">\n",
                            "      <th></th>\n",
                            "      <th>auroc</th>\n",
                            "      <th>fpr95tpr</th>\n",
                            "    </tr>\n",
                            "  </thead>\n",
                            "  <tbody>\n",
                            "    <tr>\n",
                            "      <th>cifar-vs-svhn</th>\n",
                            "      <td>0.994285</td>\n",
                            "      <td>0.0277</td>\n",
                            "    </tr>\n",
                            "    <tr>\n",
                            "      <th>cifar-vs-lsun</th>\n",
                            "      <td>0.949663</td>\n",
                            "      <td>0.1672</td>\n",
                            "    </tr>\n",
                            "    <tr>\n",
                            "      <th>cifar-vs-isun</th>\n",
                            "      <td>0.928848</td>\n",
                            "      <td>0.2264</td>\n",
                            "    </tr>\n",
                            "    <tr>\n",
                            "      <th>cifar-vs-texture</th>\n",
                            "      <td>0.968243</td>\n",
                            "      <td>0.1439</td>\n",
                            "    </tr>\n",
                            "  </tbody>\n",
                            "</table>\n",
                            "</div>"
                        ],
                        "text/plain": [
                            "                     auroc  fpr95tpr\n",
                            "cifar-vs-svhn     0.994285    0.0277\n",
                            "cifar-vs-lsun     0.949663    0.1672\n",
                            "cifar-vs-isun     0.928848    0.2264\n",
                            "cifar-vs-texture  0.968243    0.1439"
                        ]
                    },
                    "execution_count": 10,
                    "metadata": {},
                    "output_type": "execute_result"
                }
            ],
            "source": [
                "pd.concat([metrics_cifar_svhn, metrics_cifar_lsun, metrics_cifar_isun, metrics_cifar_texture], axis=1).T"
            ]
        },
        {
            "cell_type": "code",
            "execution_count": null,
            "metadata": {},
            "outputs": [],
            "source": []
        }
    ],
    "metadata": {
        "kernelspec": {
            "display_name": "tfmetal",
            "language": "python",
            "name": "python3"
        },
        "language_info": {
            "codemirror_mode": {
                "name": "ipython",
                "version": 3
            },
            "file_extension": ".py",
            "mimetype": "text/x-python",
            "name": "python",
            "nbconvert_exporter": "python",
            "pygments_lexer": "ipython3",
            "version": "3.9.5"
        },
        "orig_nbformat": 4,
        "vscode": {
            "interpreter": {
                "hash": "dada21ee7726b34311237058025d0293bf4743ff9612a3722201b24280433f0a"
            }
        }
    },
    "nbformat": 4,
    "nbformat_minor": 2
}
