{
    "cells": [
        {
            "attachments": {},
            "cell_type": "markdown",
            "metadata": {},
            "source": [
                "# Deep KNN method\n",
                "\n",
                "This notebook aims at evaluating the **DKNN method**.\n",
                "\n",
                "The method consists in performing K-Nearest-Neighbors in the feature space of a neural network trained on the in-distribution dataset.\n",
                "\n",
                "Here, we focus on a ResNet18 network trained on MNIST, MNIST(0-4) and CIFAR-10. This model is challenged on\n",
                "Fashion MNIST, MNIST (5-9), SVHN, LSUN, iSUN, and Texture OOD dataset.\n",
                "\n",
                "**Reference**\n",
                "[Out-of-Distribution Detection with Deep Nearest Neighbors](http://arxiv.org/abs/2204.06507), ICML 2022."
            ]
        },
        {
            "attachments": {},
            "cell_type": "markdown",
            "metadata": {},
            "source": [
                "Some imports"
            ]
        },
        {
            "cell_type": "code",
            "execution_count": 1,
            "metadata": {},
            "outputs": [],
            "source": [
                "%load_ext autoreload\n",
                "%autoreload 2\n",
                "\n",
                "import warnings\n",
                "warnings.filterwarnings(\"ignore\")\n",
                "\n",
                "import os\n",
                "os.environ[\"TF_CPP_MIN_LOG_LEVEL\"] = \"2\"\n",
                "import matplotlib.pyplot as plt\n",
                "import pandas as pd\n",
                "import torch\n",
                "from torchvision import transforms\n",
                "from torchvision.datasets import ImageFolder\n",
                "from torchvision.transforms import Compose, PILToTensor, Resize\n",
                "\n",
                "from oodeel.methods import DKNN\n",
                "from oodeel.eval.metrics import bench_metrics\n",
                "from oodeel.datasets import OODDataset\n",
                "from oodeel.models.training_tools import train_torch_model"
            ]
        },
        {
            "attachments": {},
            "cell_type": "markdown",
            "metadata": {},
            "source": [
                "Note that models are saved at *~/.oodeel/saved_models* and data is supposed to be found at *~/.oodeel/datasets* by default. Change the following cell for a custom path."
            ]
        },
        {
            "cell_type": "code",
            "execution_count": 2,
            "metadata": {},
            "outputs": [],
            "source": [
                "device = torch.device(\"cuda\" if torch.cuda.is_available() else \"cpu\")\n",
                "\n",
                "model_path = os.path.expanduser(\"~/\") + \".oodeel/saved_models\"\n",
                "data_path = os.path.expanduser(\"~/\") + \".oodeel/datasets\"\n",
                "os.makedirs(model_path, exist_ok=True)\n",
                "os.makedirs(data_path, exist_ok=True)"
            ]
        },
        {
            "attachments": {},
            "cell_type": "markdown",
            "metadata": {},
            "source": [
                "## MNIST (0-4) vs MNIST (5-9)"
            ]
        },
        {
            "attachments": {},
            "cell_type": "markdown",
            "metadata": {},
            "source": [
                "### Data and model loading\n",
                "\n",
                "* in-distribution data: MNIST (0-4), \n",
                "* out-of-distribution data: MNIST (5-9)\n",
                "\n",
                "/!\\ We denote In-Distribution (ID) data with `_in` and Out-Of-Distribution (OOD) data with `_out` to avoid confusion with OOD detection which is the name of the task, and is therefore used to denote core classes such as `OODDataset` and `OODModel`."
            ]
        },
        {
            "cell_type": "code",
            "execution_count": 3,
            "metadata": {},
            "outputs": [
                {
                    "name": "stderr",
                    "output_type": "stream",
                    "text": [
                        "Filtering the dataset...: 100%|██████████| 60000/60000 [00:04<00:00, 12847.30it/s]\n",
                        "Filtering the dataset...: 100%|██████████| 60000/60000 [00:04<00:00, 12916.42it/s]\n",
                        "Filtering the dataset...: 100%|██████████| 10000/10000 [00:00<00:00, 12935.85it/s]\n",
                        "Filtering the dataset...: 100%|██████████| 10000/10000 [00:00<00:00, 12826.36it/s]\n"
                    ]
                }
            ],
            "source": [
                "oods_train = OODDataset('MNIST', backend=\"torch\", load_kwargs={\"root\": data_path, \"train\": True, \"download\": True})\n",
                "oods_test = OODDataset('MNIST', backend=\"torch\", load_kwargs={\"root\": data_path, \"train\": False, \"download\": True})\n",
                "\n",
                "batch_size = 128\n",
                "inc_labels = [0, 1, 2, 3, 4]\n",
                "oods_train, _ = oods_train.assign_ood_labels_by_class(in_labels=inc_labels)\n",
                "oods_in, oods_out = oods_test.assign_ood_labels_by_class(in_labels=inc_labels)\n",
                "\n",
                "def preprocess_fn(inputs):\n",
                "    x = inputs[0] / 255.0\n",
                "    return tuple([x] + list(inputs[1:]))\n",
                "\n",
                "ds_train = oods_train.prepare(batch_size=batch_size, preprocess_fn=preprocess_fn, shuffle=True)\n",
                "ds_in = oods_in.prepare(batch_size=batch_size, with_ood_labels=False, preprocess_fn=preprocess_fn)\n",
                "ds_out = oods_out.prepare(batch_size=batch_size, with_ood_labels=False, preprocess_fn=preprocess_fn)"
            ]
        },
        {
            "cell_type": "code",
            "execution_count": 4,
            "metadata": {},
            "outputs": [],
            "source": [
                "\n",
                "model_path_mnist_04 = os.path.join(model_path, \"mnist_model_0-4\")\n",
                "\n",
                "try:\n",
                "    model = torch.load(os.path.join(model_path_mnist_04, \"best.pt\"))\n",
                "except OSError:\n",
                "    train_config = {\n",
                "        \"model_name\": \"toy_convnet\",\n",
                "        \"num_classes\": 10,\n",
                "        \"epochs\": 5,\n",
                "        \"save_dir\": model_path_mnist_04,\n",
                "        \"validation_data\": ds_in  # ds_in is actually the test set of MNIST [0-4]\n",
                "    }\n",
                "\n",
                "    model = train_torch_model(ds_train, **train_config) #ds_train is actually the train set of MNIST [0-4]\n",
                "\n",
                "model.eval()\n",
                "model = model.to(device)"
            ]
        },
        {
            "attachments": {},
            "cell_type": "markdown",
            "metadata": {},
            "source": [
                "### DKNN score"
            ]
        },
        {
            "cell_type": "code",
            "execution_count": 5,
            "metadata": {},
            "outputs": [
                {
                    "name": "stderr",
                    "output_type": "stream",
                    "text": [
                        "Extracting the dataset features...: 100%|██████████| 240/240 [00:03<00:00, 72.91it/s] \n"
                    ]
                },
                {
                    "name": "stdout",
                    "output_type": "stream",
                    "text": [
                        "auroc       0.974725\n",
                        "fpr95tpr    0.100992\n",
                        "Name: mnist-0-4-vs-5-10, dtype: float64\n"
                    ]
                },
                {
                    "data": {
                        "image/png": "[encoded data removed]",
                        "text/plain": [
                            "<Figure size 1300x500 with 1 Axes>"
                        ]
                    },
                    "metadata": {},
                    "output_type": "display_data"
                }
            ],
            "source": [
                "batch_size = 128\n",
                "\n",
                "oodmodel = DKNN(nearest=50)\n",
                "oodmodel.fit(model, ds_train)\n",
                "scores_in = oodmodel.score(ds_in)\n",
                "scores_out = oodmodel.score(ds_out)\n",
                "\n",
                "# auroc / fpr95\n",
                "metrics = bench_metrics(\n",
                "    (scores_in, scores_out),  \n",
                "    metrics = [\"auroc\", \"fpr95tpr\"], \n",
                "    )\n",
                "\n",
                "metrics_first_vs_last = pd.Series(metrics, name='mnist-0-4-vs-5-10')\n",
                "print(metrics_first_vs_last)\n",
                "\n",
                "# plot hists / roc\n",
                "plt.figure(figsize=(13, 5))\n",
                "plt.hist((scores_out, scores_in), bins=30, color=(\"blue\", \"orange\"), label=(\"OOD\", \"ID\"), density=True)\n",
                "plt.xlabel(\"score\")\n",
                "plt.legend()\n",
                "plt.show()"
            ]
        },
        {
            "attachments": {},
            "cell_type": "markdown",
            "metadata": {},
            "source": [
                "## MNIST vs Fashion MNIST"
            ]
        },
        {
            "attachments": {},
            "cell_type": "markdown",
            "metadata": {},
            "source": [
                "\n",
                "### Data and model loading\n",
                "ID data: MNIST, OOD data: Fashion MNIST"
            ]
        },
        {
            "cell_type": "code",
            "execution_count": 6,
            "metadata": {},
            "outputs": [],
            "source": [
                "oods_in = OODDataset('MNIST', backend=\"torch\", load_kwargs={\"root\": data_path, \"train\": False, \"download\": True})\n",
                "oods_out = OODDataset('FashionMNIST', backend=\"torch\", load_kwargs={\"root\": data_path, \"train\": False, \"download\": True})\n",
                "oods_train = OODDataset('MNIST', backend=\"torch\", load_kwargs={\"root\": data_path, \"train\": True, \"download\": True})\n",
                "\n",
                "batch_size = 128\n",
                "ds_in = oods_in.prepare(batch_size=batch_size, preprocess_fn=preprocess_fn)\n",
                "ds_out = oods_out.prepare(batch_size=batch_size, preprocess_fn=preprocess_fn)\n",
                "ds_train = oods_train.prepare(batch_size=batch_size, preprocess_fn=preprocess_fn, shuffle=True)"
            ]
        },
        {
            "cell_type": "code",
            "execution_count": 7,
            "metadata": {},
            "outputs": [],
            "source": [
                "model_path_mnist = os.path.join(model_path, \"mnist_model\")\n",
                "\n",
                "try:\n",
                "    model = torch.load(os.path.join(model_path_mnist, \"best.pt\"))\n",
                "    \n",
                "except OSError:\n",
                "    train_config = {\n",
                "        \"model_name\": \"toy_convnet\",\n",
                "        \"num_classes\": 10,\n",
                "        \"epochs\": 5,\n",
                "        \"save_dir\": model_path_mnist,\n",
                "        \"validation_data\": ds_in  # ds_in is actually the test set of MNIST\n",
                "    }\n",
                "\n",
                "    model = train_torch_model(ds_train, **train_config) #ds_train is actually the train set of MNIST\n",
                "\n",
                "model.eval()\n",
                "model = model.to(device)"
            ]
        },
        {
            "attachments": {},
            "cell_type": "markdown",
            "metadata": {},
            "source": [
                "### DKNN score"
            ]
        },
        {
            "cell_type": "code",
            "execution_count": 8,
            "metadata": {},
            "outputs": [
                {
                    "name": "stderr",
                    "output_type": "stream",
                    "text": [
                        "Extracting the dataset features...: 100%|██████████| 469/469 [00:04<00:00, 116.53it/s]\n"
                    ]
                },
                {
                    "name": "stdout",
                    "output_type": "stream",
                    "text": [
                        "auroc       0.996817\n",
                        "fpr95tpr    0.007300\n",
                        "Name: mnist-10-vs-fashion, dtype: float64\n"
                    ]
                },
                {
                    "data": {
                        "image/png": "[encoded data removed]",
                        "text/plain": [
                            "<Figure size 1300x500 with 1 Axes>"
                        ]
                    },
                    "metadata": {},
                    "output_type": "display_data"
                }
            ],
            "source": [
                "oodmodel = DKNN(nearest=50)\n",
                "oodmodel.fit(model, ds_train)\n",
                "scores_in = oodmodel.score(ds_in)\n",
                "scores_out = oodmodel.score(ds_out)\n",
                "\n",
                "\n",
                "metrics = bench_metrics(\n",
                "    (scores_in, scores_out),  \n",
                "    metrics = [\"auroc\", \"fpr95tpr\",], \n",
                "    )\n",
                "metrics_fashion = pd.Series(metrics, name='mnist-10-vs-fashion')\n",
                "print(metrics_fashion)\n",
                "\n",
                "# plot hists / roc\n",
                "plt.figure(figsize=(13, 5))\n",
                "plt.hist((scores_out, scores_in), bins=30, color=(\"blue\", \"orange\"), label=(\"ood\", \"id\"), density=True)\n",
                "plt.xlabel(\"score\")\n",
                "plt.legend()\n",
                "plt.show()"
            ]
        },
        {
            "attachments": {},
            "cell_type": "markdown",
            "metadata": {},
            "source": [
                "## CIFAR-10 vs [SVHN, LSUN, iSUN, Texture]"
            ]
        },
        {
            "attachments": {},
            "cell_type": "markdown",
            "metadata": {},
            "source": [
                "### ID Data and model loading"
            ]
        },
        {
            "cell_type": "code",
            "execution_count": 9,
            "metadata": {},
            "outputs": [
                {
                    "name": "stdout",
                    "output_type": "stream",
                    "text": [
                        "Files already downloaded and verified\n",
                        "Files already downloaded and verified\n"
                    ]
                }
            ],
            "source": [
                "oods_in = OODDataset('CIFAR10', backend=\"torch\", load_kwargs={\"root\": data_path, \"train\": False, \"download\": True})\n",
                "oods_train = OODDataset('CIFAR10', backend=\"torch\", load_kwargs={\"root\": data_path, \"train\": False, \"download\": True})\n",
                "\n",
                "def preprocess_fn(inputs):\n",
                "    x = inputs[0] / 255.0\n",
                "    x = transforms.Normalize(\n",
                "        (0.4914, 0.4822, 0.4465),\n",
                "        (0.2023, 0.1994, 0.2010)\n",
                "    )(x)\n",
                "    return tuple([x] + list(inputs[1:]))\n",
                "\n",
                "batch_size = 128\n",
                "ds_in = oods_in.prepare(batch_size=batch_size, preprocess_fn=preprocess_fn)\n",
                "ds_train = oods_train.prepare(batch_size=batch_size, preprocess_fn=preprocess_fn, shuffle=True)\n"
            ]
        },
        {
            "cell_type": "code",
            "execution_count": 10,
            "metadata": {},
            "outputs": [],
            "source": [
                "model_path_cifar = os.path.join(model_path, \"cifar10\")\n",
                "try:\n",
                "    # model = torch.load(os.path.join(model_path_cifar, \"best.pt\"))\n",
                "    model = torch.load(os.path.join(model_path_cifar, \"dknn_cifar10.pt\"))  # pretrained resnet18\n",
                "\n",
                "except OSError:\n",
                "    train_config = {\n",
                "        \"num_classes\": 10,\n",
                "        \"epochs\": 200,\n",
                "        \"lr_scheduler\": \"steps\",\n",
                "        \"save_dir\": model_path_cifar,\n",
                "        \"validation_data\": ds_in  # ds_in is actually the test set of CIFAR10\n",
                "    }\n",
                "\n",
                "    model = train_torch_model(ds_train, \"resnet18\", **train_config)\n",
                "\n",
                "model.eval()\n",
                "model = model.to(device)"
            ]
        },
        {
            "cell_type": "code",
            "execution_count": 11,
            "metadata": {},
            "outputs": [
                {
                    "name": "stderr",
                    "output_type": "stream",
                    "text": [
                        "Extracting the dataset features...: 100%|██████████| 79/79 [00:01<00:00, 51.12it/s]\n"
                    ]
                }
            ],
            "source": [
                "# ood dataset\n",
                "oodmodel = DKNN(nearest=50, output_layers_id=['avgpool'])\n",
                "oodmodel.fit(model, ds_train)\n",
                "scores_in = oodmodel.score(ds_in)"
            ]
        },
        {
            "attachments": {},
            "cell_type": "markdown",
            "metadata": {},
            "source": [
                "### OOD data: SVHN\n",
                "ID data: CIFAR-10, OOD data: SVHN"
            ]
        },
        {
            "cell_type": "code",
            "execution_count": 12,
            "metadata": {},
            "outputs": [
                {
                    "name": "stdout",
                    "output_type": "stream",
                    "text": [
                        "Using downloaded and verified file: /home/yannick.prudent/.oodeel/datasets/test_32x32.mat\n",
                        "auroc       0.959801\n",
                        "fpr95tpr    0.166800\n",
                        "Name: cifar-vs-svhn, dtype: float64\n"
                    ]
                },
                {
                    "data": {
                        "image/png": "[encoded data removed]",
                        "text/plain": [
                            "<Figure size 1300x500 with 1 Axes>"
                        ]
                    },
                    "metadata": {},
                    "output_type": "display_data"
                }
            ],
            "source": [
                "oods_out = OODDataset('SVHN', backend=\"torch\", load_kwargs={\"root\": data_path, \"split\": \"test\", \"download\": True})\n",
                "\n",
                "ds_out = oods_out.prepare(batch_size=batch_size, preprocess_fn=preprocess_fn)\n",
                "\n",
                "scores_out = oodmodel.score(ds_out)\n",
                "\n",
                "# auroc / fpr95\n",
                "metrics = bench_metrics(\n",
                "    (scores_in, scores_out),\n",
                "    metrics=[\"auroc\", \"fpr95tpr\"]\n",
                ")\n",
                "metrics_cifar_svhn = pd.Series(metrics, name='cifar-vs-svhn')\n",
                "print(metrics_cifar_svhn)\n",
                "\n",
                "# plot hists / roc\n",
                "plt.figure(figsize=(13, 5))\n",
                "plt.hist((scores_out, scores_in), bins=30, color=(\"blue\", \"orange\"), label=(\"ood\", \"id\"), density=True)\n",
                "plt.xlabel(\"score\")\n",
                "plt.legend()\n",
                "plt.show()"
            ]
        },
        {
            "attachments": {},
            "cell_type": "markdown",
            "metadata": {},
            "source": [
                "### OOD data: LSUN\n",
                "ID data: CIFAR-10, OOD data: LSUN"
            ]
        },
        {
            "cell_type": "code",
            "execution_count": 13,
            "metadata": {},
            "outputs": [
                {
                    "name": "stdout",
                    "output_type": "stream",
                    "text": [
                        "auroc       0.972223\n",
                        "fpr95tpr    0.137600\n",
                        "Name: cifar-vs-lsun, dtype: float64\n"
                    ]
                },
                {
                    "data": {
                        "image/png": "[encoded data removed]",
                        "text/plain": [
                            "<Figure size 1300x500 with 1 Axes>"
                        ]
                    },
                    "metadata": {},
                    "output_type": "display_data"
                }
            ],
            "source": [
                "image_folder_transform = Compose([PILToTensor(), Resize((32, 32))])\n",
                "\n",
                "# LSUN\n",
                "lsun_kwargs = {\"root\": os.path.join(data_path, \"LSUN_tvs\"), \"transform\": image_folder_transform}\n",
                "\n",
                "# ood dataset\n",
                "ds_out = OODDataset(ImageFolder(**lsun_kwargs), backend=\"torch\").prepare(batch_size=batch_size, preprocess_fn=preprocess_fn)\n",
                "scores_out = oodmodel.score(ds_out)\n",
                "\n",
                "# auroc / fpr95\n",
                "metrics = bench_metrics(\n",
                "    (scores_in, scores_out),\n",
                "    metrics=[\"auroc\", \"fpr95tpr\"]\n",
                ")\n",
                "metrics_cifar_lsun = pd.Series(metrics, name='cifar-vs-lsun')\n",
                "print(metrics_cifar_lsun)\n",
                "\n",
                "# plot hists / roc\n",
                "plt.figure(figsize=(13, 5))\n",
                "plt.hist((scores_out, scores_in), bins=30, color=(\"blue\", \"orange\"), label=(\"ood\", \"id\"), density=True)\n",
                "plt.xlabel(\"score\")\n",
                "plt.legend()\n",
                "plt.show()"
            ]
        },
        {
            "attachments": {},
            "cell_type": "markdown",
            "metadata": {},
            "source": [
                "### OOD data: iSUN\n",
                "ID data: CIFAR-10, OOD data: iSUN"
            ]
        },
        {
            "cell_type": "code",
            "execution_count": 14,
            "metadata": {},
            "outputs": [
                {
                    "name": "stdout",
                    "output_type": "stream",
                    "text": [
                        "auroc       0.954009\n",
                        "fpr95tpr    0.205600\n",
                        "Name: cifar-vs-isun, dtype: float64\n"
                    ]
                },
                {
                    "data": {
                        "image/png": "[encoded data removed]",
                        "text/plain": [
                            "<Figure size 1300x500 with 1 Axes>"
                        ]
                    },
                    "metadata": {},
                    "output_type": "display_data"
                }
            ],
            "source": [
                "image_folder_transform = Compose([PILToTensor(), Resize((32, 32))])\n",
                "\n",
                "# iSUN\n",
                "isun_kwargs = {\"root\": os.path.join(data_path, \"iSUN\"), \"transform\": image_folder_transform}\n",
                "\n",
                "# ood dataset\n",
                "ds_out = OODDataset(ImageFolder(**isun_kwargs), backend=\"torch\").prepare(batch_size=batch_size, preprocess_fn=preprocess_fn)\n",
                "scores_out = oodmodel.score(ds_out)\n",
                "\n",
                "# auroc / fpr95\n",
                "metrics = bench_metrics(\n",
                "    (scores_in, scores_out),\n",
                "    metrics=[\"auroc\", \"fpr95tpr\"]\n",
                ")\n",
                "metrics_cifar_isun = pd.Series(metrics, name='cifar-vs-isun')\n",
                "print(metrics_cifar_isun)\n",
                "\n",
                "# plot hists / roc\n",
                "plt.figure(figsize=(13, 5))\n",
                "plt.hist((scores_out, scores_in), bins=30, color=(\"blue\", \"orange\"), label=(\"ood\", \"id\"), density=True)\n",
                "plt.xlabel(\"score\")\n",
                "plt.legend()\n",
                "plt.show()"
            ]
        },
        {
            "attachments": {},
            "cell_type": "markdown",
            "metadata": {},
            "source": [
                "### OOD data: Texture\n",
                "ID data: CIFAR-10, OOD data: Texture"
            ]
        },
        {
            "cell_type": "code",
            "execution_count": 15,
            "metadata": {},
            "outputs": [
                {
                    "name": "stdout",
                    "output_type": "stream",
                    "text": [
                        "auroc       0.948295\n",
                        "fpr95tpr    0.284600\n",
                        "Name: cifar-vs-texture, dtype: float64\n"
                    ]
                },
                {
                    "data": {
                        "image/png": "[encoded data removed]",
                        "text/plain": [
                            "<Figure size 1300x500 with 1 Axes>"
                        ]
                    },
                    "metadata": {},
                    "output_type": "display_data"
                }
            ],
            "source": [
                "image_folder_transform = Compose([PILToTensor(), Resize((32, 32))])\n",
                "\n",
                "# Texture\n",
                "texture_kwargs = {\"root\": os.path.join(data_path, \"dtd\", \"images\"), \"transform\": image_folder_transform}\n",
                "\n",
                "# ood dataset\n",
                "ds_out = OODDataset(ImageFolder(**texture_kwargs), backend=\"torch\").prepare(batch_size=batch_size, preprocess_fn=preprocess_fn)\n",
                "scores_out = oodmodel.score(ds_out)\n",
                "\n",
                "# auroc / fpr95\n",
                "metrics = bench_metrics(\n",
                "    (scores_in, scores_out),\n",
                "    metrics=[\"auroc\", \"fpr95tpr\"]\n",
                ")\n",
                "metrics_cifar_texture = pd.Series(metrics, name='cifar-vs-texture')\n",
                "print(metrics_cifar_texture)\n",
                "\n",
                "# plot hists / roc\n",
                "plt.figure(figsize=(13, 5))\n",
                "plt.hist((scores_out, scores_in), bins=30, color=(\"blue\", \"orange\"), label=(\"ood\", \"id\"), density=True)\n",
                "plt.xlabel(\"score\")\n",
                "plt.legend()\n",
                "plt.show()"
            ]
        },
        {
            "attachments": {},
            "cell_type": "markdown",
            "metadata": {},
            "source": [
                "## Results"
            ]
        },
        {
            "cell_type": "code",
            "execution_count": 16,
            "metadata": {},
            "outputs": [
                {
                    "data": {
                        "text/html": [
                            "<div>\n",
                            "<style scoped>\n",
                            "    .dataframe tbody tr th:only-of-type {\n",
                            "        vertical-align: middle;\n",
                            "    }\n",
                            "\n",
                            "    .dataframe tbody tr th {\n",
                            "        vertical-align: top;\n",
                            "    }\n",
                            "\n",
                            "    .dataframe thead th {\n",
                            "        text-align: right;\n",
                            "    }\n",
                            "</style>\n",
                            "<table border=\"1\" class=\"dataframe\">\n",
                            "  <thead>\n",
                            "    <tr style=\"text-align: right;\">\n",
                            "      <th></th>\n",
                            "      <th>auroc</th>\n",
                            "      <th>fpr95tpr</th>\n",
                            "    </tr>\n",
                            "  </thead>\n",
                            "  <tbody>\n",
                            "    <tr>\n",
                            "      <th>mnist-0-4-vs-5-10</th>\n",
                            "      <td>0.974725</td>\n",
                            "      <td>0.100992</td>\n",
                            "    </tr>\n",
                            "    <tr>\n",
                            "      <th>mnist-10-vs-fashion</th>\n",
                            "      <td>0.996817</td>\n",
                            "      <td>0.007300</td>\n",
                            "    </tr>\n",
                            "    <tr>\n",
                            "      <th>cifar-vs-svhn</th>\n",
                            "      <td>0.959801</td>\n",
                            "      <td>0.166800</td>\n",
                            "    </tr>\n",
                            "    <tr>\n",
                            "      <th>cifar-vs-lsun</th>\n",
                            "      <td>0.972223</td>\n",
                            "      <td>0.137600</td>\n",
                            "    </tr>\n",
                            "    <tr>\n",
                            "      <th>cifar-vs-isun</th>\n",
                            "      <td>0.954009</td>\n",
                            "      <td>0.205600</td>\n",
                            "    </tr>\n",
                            "    <tr>\n",
                            "      <th>cifar-vs-texture</th>\n",
                            "      <td>0.948295</td>\n",
                            "      <td>0.284600</td>\n",
                            "    </tr>\n",
                            "  </tbody>\n",
                            "</table>\n",
                            "</div>"
                        ],
                        "text/plain": [
                            "                        auroc  fpr95tpr\n",
                            "mnist-0-4-vs-5-10    0.974725  0.100992\n",
                            "mnist-10-vs-fashion  0.996817  0.007300\n",
                            "cifar-vs-svhn        0.959801  0.166800\n",
                            "cifar-vs-lsun        0.972223  0.137600\n",
                            "cifar-vs-isun        0.954009  0.205600\n",
                            "cifar-vs-texture     0.948295  0.284600"
                        ]
                    },
                    "execution_count": 16,
                    "metadata": {},
                    "output_type": "execute_result"
                }
            ],
            "source": [
                "pd.concat([metrics_first_vs_last, metrics_fashion, metrics_cifar_svhn, metrics_cifar_lsun, metrics_cifar_isun, metrics_cifar_texture], axis=1).T"
            ]
        }
    ],
    "metadata": {
        "kernelspec": {
            "display_name": "tfmetal",
            "language": "python",
            "name": "python3"
        },
        "language_info": {
            "codemirror_mode": {
                "name": "ipython",
                "version": 3
            },
            "file_extension": ".py",
            "mimetype": "text/x-python",
            "name": "python",
            "nbconvert_exporter": "python",
            "pygments_lexer": "ipython3",
            "version": "3.8.16"
        },
        "orig_nbformat": 4,
        "vscode": {
            "interpreter": {
                "hash": "dada21ee7726b34311237058025d0293bf4743ff9612a3722201b24280433f0a"
            }
        }
    },
    "nbformat": 4,
    "nbformat_minor": 2
}
